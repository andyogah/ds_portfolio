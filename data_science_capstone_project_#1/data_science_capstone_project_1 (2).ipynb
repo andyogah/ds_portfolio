{
 "cells": [
  {
   "cell_type": "markdown",
   "metadata": {},
   "source": [
    "### Analysis on the Global Terrorism Database (GTD) maintained by the University of Maryland to classify and predict if attacks are perpertrated by domestic or foreign nationals using Random Forest algorithm. "
   ]
  },
  {
   "cell_type": "markdown",
   "metadata": {
    "collapsed": true
   },
   "source": [
    "### Importing necessary modules"
   ]
  },
  {
   "cell_type": "code",
   "execution_count": 1,
   "metadata": {
    "collapsed": true
   },
   "outputs": [],
   "source": [
    "import pandas as pd\n",
    "import numpy as np\n",
    "import matplotlib\n",
    "import matplotlib.pyplot as plt\n",
    "import seaborn as sns\n",
    "sns.set(style=\"whitegrid\", color_codes=True)\n",
    "np.random.seed(sum(map(ord, \"categorical\")))\n",
    "matplotlib.style.use('ggplot')"
   ]
  },
  {
   "cell_type": "code",
   "execution_count": 2,
   "metadata": {
    "collapsed": true
   },
   "outputs": [],
   "source": [
    "%matplotlib inline"
   ]
  },
  {
   "cell_type": "code",
   "execution_count": null,
   "metadata": {
    "collapsed": true
   },
   "outputs": [],
   "source": []
  },
  {
   "cell_type": "markdown",
   "metadata": {},
   "source": [
    "### Data preparation and preprocessing"
   ]
  },
  {
   "cell_type": "markdown",
   "metadata": {},
   "source": [
    "The dataset was downloaded as an excel spreadsheet from the GTD website, uploaded into Pandas and then we carry out some data wrangling and preprocessing."
   ]
  },
  {
   "cell_type": "code",
   "execution_count": 3,
   "metadata": {
    "collapsed": true
   },
   "outputs": [],
   "source": [
    "file= r'globalterrorismdb_0617dist.xlsx'\n",
    "df= pd.read_excel(file)"
   ]
  },
  {
   "cell_type": "code",
   "execution_count": 4,
   "metadata": {},
   "outputs": [
    {
     "data": {
      "text/plain": [
       "(170350, 135)"
      ]
     },
     "execution_count": 4,
     "metadata": {},
     "output_type": "execute_result"
    }
   ],
   "source": [
    "df.shape"
   ]
  },
  {
   "cell_type": "code",
   "execution_count": 5,
   "metadata": {},
   "outputs": [
    {
     "data": {
      "text/html": [
       "<div>\n",
       "<style>\n",
       "    .dataframe thead tr:only-child th {\n",
       "        text-align: right;\n",
       "    }\n",
       "\n",
       "    .dataframe thead th {\n",
       "        text-align: left;\n",
       "    }\n",
       "\n",
       "    .dataframe tbody tr th {\n",
       "        vertical-align: top;\n",
       "    }\n",
       "</style>\n",
       "<table border=\"1\" class=\"dataframe\">\n",
       "  <thead>\n",
       "    <tr style=\"text-align: right;\">\n",
       "      <th></th>\n",
       "      <th>eventid</th>\n",
       "      <th>iyear</th>\n",
       "      <th>imonth</th>\n",
       "      <th>iday</th>\n",
       "      <th>approxdate</th>\n",
       "      <th>extended</th>\n",
       "      <th>resolution</th>\n",
       "      <th>country</th>\n",
       "      <th>country_txt</th>\n",
       "      <th>region</th>\n",
       "      <th>...</th>\n",
       "      <th>addnotes</th>\n",
       "      <th>scite1</th>\n",
       "      <th>scite2</th>\n",
       "      <th>scite3</th>\n",
       "      <th>dbsource</th>\n",
       "      <th>INT_LOG</th>\n",
       "      <th>INT_IDEO</th>\n",
       "      <th>INT_MISC</th>\n",
       "      <th>INT_ANY</th>\n",
       "      <th>related</th>\n",
       "    </tr>\n",
       "  </thead>\n",
       "  <tbody>\n",
       "    <tr>\n",
       "      <th>5</th>\n",
       "      <td>197001010002</td>\n",
       "      <td>1970</td>\n",
       "      <td>1</td>\n",
       "      <td>1</td>\n",
       "      <td>NaN</td>\n",
       "      <td>0</td>\n",
       "      <td>NaT</td>\n",
       "      <td>217</td>\n",
       "      <td>United States</td>\n",
       "      <td>1</td>\n",
       "      <td>...</td>\n",
       "      <td>The Cairo Chief of Police, William Petersen, r...</td>\n",
       "      <td>\"Police Chief Quits,\" Washington Post, January...</td>\n",
       "      <td>\"Cairo Police Chief Quits; Decries Local 'Mili...</td>\n",
       "      <td>Christopher Hewitt, \"Political Violence and Te...</td>\n",
       "      <td>Hewitt Project</td>\n",
       "      <td>-9</td>\n",
       "      <td>-9</td>\n",
       "      <td>0</td>\n",
       "      <td>-9</td>\n",
       "      <td>NaN</td>\n",
       "    </tr>\n",
       "    <tr>\n",
       "      <th>7</th>\n",
       "      <td>197001020002</td>\n",
       "      <td>1970</td>\n",
       "      <td>1</td>\n",
       "      <td>2</td>\n",
       "      <td>NaN</td>\n",
       "      <td>0</td>\n",
       "      <td>NaT</td>\n",
       "      <td>217</td>\n",
       "      <td>United States</td>\n",
       "      <td>1</td>\n",
       "      <td>...</td>\n",
       "      <td>Damages were estimated to be between $20,000-$...</td>\n",
       "      <td>Committee on Government Operations United Stat...</td>\n",
       "      <td>Christopher Hewitt, \"Political Violence and Te...</td>\n",
       "      <td>NaN</td>\n",
       "      <td>Hewitt Project</td>\n",
       "      <td>-9</td>\n",
       "      <td>-9</td>\n",
       "      <td>0</td>\n",
       "      <td>-9</td>\n",
       "      <td>NaN</td>\n",
       "    </tr>\n",
       "    <tr>\n",
       "      <th>8</th>\n",
       "      <td>197001020003</td>\n",
       "      <td>1970</td>\n",
       "      <td>1</td>\n",
       "      <td>2</td>\n",
       "      <td>NaN</td>\n",
       "      <td>0</td>\n",
       "      <td>NaT</td>\n",
       "      <td>217</td>\n",
       "      <td>United States</td>\n",
       "      <td>1</td>\n",
       "      <td>...</td>\n",
       "      <td>The New Years Gang issue a communiqué to a loc...</td>\n",
       "      <td>Tom Bates, \"Rads: The 1970 Bombing of the Army...</td>\n",
       "      <td>David Newman, Sandra Sutherland, and Jon Stewa...</td>\n",
       "      <td>The Wisconsin Cartographers' Guild, \"Wisconsin...</td>\n",
       "      <td>Hewitt Project</td>\n",
       "      <td>0</td>\n",
       "      <td>0</td>\n",
       "      <td>0</td>\n",
       "      <td>0</td>\n",
       "      <td>NaN</td>\n",
       "    </tr>\n",
       "  </tbody>\n",
       "</table>\n",
       "<p>3 rows × 135 columns</p>\n",
       "</div>"
      ],
      "text/plain": [
       "        eventid  iyear  imonth  iday approxdate  extended resolution  country  \\\n",
       "5  197001010002   1970       1     1        NaN         0        NaT      217   \n",
       "7  197001020002   1970       1     2        NaN         0        NaT      217   \n",
       "8  197001020003   1970       1     2        NaN         0        NaT      217   \n",
       "\n",
       "     country_txt  region   ...     \\\n",
       "5  United States       1   ...      \n",
       "7  United States       1   ...      \n",
       "8  United States       1   ...      \n",
       "\n",
       "                                            addnotes  \\\n",
       "5  The Cairo Chief of Police, William Petersen, r...   \n",
       "7  Damages were estimated to be between $20,000-$...   \n",
       "8  The New Years Gang issue a communiqué to a loc...   \n",
       "\n",
       "                                              scite1  \\\n",
       "5  \"Police Chief Quits,\" Washington Post, January...   \n",
       "7  Committee on Government Operations United Stat...   \n",
       "8  Tom Bates, \"Rads: The 1970 Bombing of the Army...   \n",
       "\n",
       "                                              scite2  \\\n",
       "5  \"Cairo Police Chief Quits; Decries Local 'Mili...   \n",
       "7  Christopher Hewitt, \"Political Violence and Te...   \n",
       "8  David Newman, Sandra Sutherland, and Jon Stewa...   \n",
       "\n",
       "                                              scite3        dbsource  INT_LOG  \\\n",
       "5  Christopher Hewitt, \"Political Violence and Te...  Hewitt Project       -9   \n",
       "7                                                NaN  Hewitt Project       -9   \n",
       "8  The Wisconsin Cartographers' Guild, \"Wisconsin...  Hewitt Project        0   \n",
       "\n",
       "   INT_IDEO INT_MISC INT_ANY  related  \n",
       "5        -9        0      -9      NaN  \n",
       "7        -9        0      -9      NaN  \n",
       "8         0        0       0      NaN  \n",
       "\n",
       "[3 rows x 135 columns]"
      ]
     },
     "execution_count": 5,
     "metadata": {},
     "output_type": "execute_result"
    }
   ],
   "source": [
    "#restrict this dataset to occurrences in the US.\n",
    "df1= df['country_txt'].str.contains('United States')\n",
    "df2= df[df1]\n",
    "df2.head(3)"
   ]
  },
  {
   "cell_type": "code",
   "execution_count": 6,
   "metadata": {},
   "outputs": [
    {
     "data": {
      "text/plain": [
       "(2758, 135)"
      ]
     },
     "execution_count": 6,
     "metadata": {},
     "output_type": "execute_result"
    }
   ],
   "source": [
    "df2.shape"
   ]
  },
  {
   "cell_type": "code",
   "execution_count": 7,
   "metadata": {},
   "outputs": [
    {
     "name": "stdout",
     "output_type": "stream",
     "text": [
      "<class 'pandas.core.frame.DataFrame'>\n",
      "Int64Index: 2758 entries, 5 to 169902\n",
      "Columns: 135 entries, eventid to related\n",
      "dtypes: datetime64[ns](1), float64(53), int64(24), object(57)\n",
      "memory usage: 2.9+ MB\n"
     ]
    }
   ],
   "source": [
    "df2.info()"
   ]
  },
  {
   "cell_type": "code",
   "execution_count": 8,
   "metadata": {},
   "outputs": [
    {
     "data": {
      "text/plain": [
       "eventid                  0\n",
       "iyear                    0\n",
       "imonth                   0\n",
       "iday                     0\n",
       "approxdate            2721\n",
       "extended                 0\n",
       "resolution            2746\n",
       "country                  0\n",
       "country_txt              0\n",
       "region                   0\n",
       "region_txt               0\n",
       "provstate                0\n",
       "city                     0\n",
       "latitude                 1\n",
       "longitude                1\n",
       "specificity              0\n",
       "vicinity                 0\n",
       "location              1852\n",
       "summary               1054\n",
       "crit1                    0\n",
       "crit2                    0\n",
       "crit3                    0\n",
       "doubtterr                0\n",
       "alternative           2364\n",
       "alternative_txt       2364\n",
       "multiple                 0\n",
       "success                  0\n",
       "suicide                  0\n",
       "attacktype1              0\n",
       "attacktype1_txt          0\n",
       "                      ... \n",
       "propextent            1191\n",
       "propextent_txt        1191\n",
       "propvalue             1840\n",
       "propcomment           1748\n",
       "ishostkid              176\n",
       "nhostkid              2696\n",
       "nhostkidus            2696\n",
       "nhours                2720\n",
       "ndays                 2736\n",
       "divert                2751\n",
       "kidhijcountry         2744\n",
       "ransom                 588\n",
       "ransomamt             2750\n",
       "ransomamtus           2757\n",
       "ransompaid            2757\n",
       "ransompaidus          2758\n",
       "ransomnote            2757\n",
       "hostkidoutcome        2720\n",
       "hostkidoutcome_txt    2720\n",
       "nreleased             2735\n",
       "addnotes              1550\n",
       "scite1                1054\n",
       "scite2                1214\n",
       "scite3                1629\n",
       "dbsource                 0\n",
       "INT_LOG                  0\n",
       "INT_IDEO                 0\n",
       "INT_MISC                 0\n",
       "INT_ANY                  0\n",
       "related               2300\n",
       "Length: 135, dtype: int64"
      ]
     },
     "execution_count": 8,
     "metadata": {},
     "output_type": "execute_result"
    }
   ],
   "source": [
    "df2.isnull().sum()"
   ]
  },
  {
   "cell_type": "markdown",
   "metadata": {},
   "source": [
    "What we have above shows we have some missing values for some variables. We will need to address later later before modeling our dataset. "
   ]
  },
  {
   "cell_type": "code",
   "execution_count": null,
   "metadata": {
    "collapsed": true
   },
   "outputs": [],
   "source": []
  },
  {
   "cell_type": "markdown",
   "metadata": {},
   "source": [
    "### Descriptive statistics and exploratory data analysis (EDA)"
   ]
  },
  {
   "cell_type": "markdown",
   "metadata": {},
   "source": [
    "** Descriptive Statistics **"
   ]
  },
  {
   "cell_type": "markdown",
   "metadata": {},
   "source": [
    "Descriptive statistics that summarize the central tendency, dispersion and shape of a dataset’s distribution."
   ]
  },
  {
   "cell_type": "code",
   "execution_count": 9,
   "metadata": {},
   "outputs": [
    {
     "data": {
      "text/html": [
       "<div>\n",
       "<style>\n",
       "    .dataframe thead tr:only-child th {\n",
       "        text-align: right;\n",
       "    }\n",
       "\n",
       "    .dataframe thead th {\n",
       "        text-align: left;\n",
       "    }\n",
       "\n",
       "    .dataframe tbody tr th {\n",
       "        vertical-align: top;\n",
       "    }\n",
       "</style>\n",
       "<table border=\"1\" class=\"dataframe\">\n",
       "  <thead>\n",
       "    <tr style=\"text-align: right;\">\n",
       "      <th></th>\n",
       "      <th>eventid</th>\n",
       "      <th>iyear</th>\n",
       "      <th>imonth</th>\n",
       "      <th>iday</th>\n",
       "      <th>extended</th>\n",
       "      <th>country</th>\n",
       "      <th>region</th>\n",
       "      <th>latitude</th>\n",
       "      <th>longitude</th>\n",
       "      <th>specificity</th>\n",
       "      <th>...</th>\n",
       "      <th>ransomamt</th>\n",
       "      <th>ransomamtus</th>\n",
       "      <th>ransompaid</th>\n",
       "      <th>ransompaidus</th>\n",
       "      <th>hostkidoutcome</th>\n",
       "      <th>nreleased</th>\n",
       "      <th>INT_LOG</th>\n",
       "      <th>INT_IDEO</th>\n",
       "      <th>INT_MISC</th>\n",
       "      <th>INT_ANY</th>\n",
       "    </tr>\n",
       "  </thead>\n",
       "  <tbody>\n",
       "    <tr>\n",
       "      <th>count</th>\n",
       "      <td>2.758000e+03</td>\n",
       "      <td>2758.000000</td>\n",
       "      <td>2758.000000</td>\n",
       "      <td>2758.000000</td>\n",
       "      <td>2758.000000</td>\n",
       "      <td>2758.0</td>\n",
       "      <td>2758.0</td>\n",
       "      <td>2757.000000</td>\n",
       "      <td>2757.000000</td>\n",
       "      <td>2758.000000</td>\n",
       "      <td>...</td>\n",
       "      <td>8.000000e+00</td>\n",
       "      <td>1.0</td>\n",
       "      <td>1.0</td>\n",
       "      <td>0.0</td>\n",
       "      <td>38.000000</td>\n",
       "      <td>23.000000</td>\n",
       "      <td>2758.000000</td>\n",
       "      <td>2758.000000</td>\n",
       "      <td>2758.000000</td>\n",
       "      <td>2758.000000</td>\n",
       "    </tr>\n",
       "    <tr>\n",
       "      <th>mean</th>\n",
       "      <td>1.983206e+11</td>\n",
       "      <td>1983.142132</td>\n",
       "      <td>6.235678</td>\n",
       "      <td>15.279913</td>\n",
       "      <td>0.004714</td>\n",
       "      <td>217.0</td>\n",
       "      <td>1.0</td>\n",
       "      <td>36.685013</td>\n",
       "      <td>-91.845078</td>\n",
       "      <td>1.020667</td>\n",
       "      <td>...</td>\n",
       "      <td>8.212500e+05</td>\n",
       "      <td>20000.0</td>\n",
       "      <td>0.0</td>\n",
       "      <td>NaN</td>\n",
       "      <td>3.131579</td>\n",
       "      <td>-2.826087</td>\n",
       "      <td>-4.360406</td>\n",
       "      <td>-4.305294</td>\n",
       "      <td>0.075780</td>\n",
       "      <td>-3.916969</td>\n",
       "    </tr>\n",
       "    <tr>\n",
       "      <th>std</th>\n",
       "      <td>1.335005e+09</td>\n",
       "      <td>13.347349</td>\n",
       "      <td>3.396045</td>\n",
       "      <td>9.151050</td>\n",
       "      <td>0.068506</td>\n",
       "      <td>0.0</td>\n",
       "      <td>0.0</td>\n",
       "      <td>7.375534</td>\n",
       "      <td>21.866017</td>\n",
       "      <td>0.245246</td>\n",
       "      <td>...</td>\n",
       "      <td>1.726155e+06</td>\n",
       "      <td>NaN</td>\n",
       "      <td>NaN</td>\n",
       "      <td>NaN</td>\n",
       "      <td>1.562587</td>\n",
       "      <td>43.352312</td>\n",
       "      <td>4.630165</td>\n",
       "      <td>4.690839</td>\n",
       "      <td>0.603208</td>\n",
       "      <td>4.755616</td>\n",
       "    </tr>\n",
       "    <tr>\n",
       "      <th>min</th>\n",
       "      <td>1.970010e+11</td>\n",
       "      <td>1970.000000</td>\n",
       "      <td>1.000000</td>\n",
       "      <td>0.000000</td>\n",
       "      <td>0.000000</td>\n",
       "      <td>217.0</td>\n",
       "      <td>1.0</td>\n",
       "      <td>17.966072</td>\n",
       "      <td>-157.858333</td>\n",
       "      <td>1.000000</td>\n",
       "      <td>...</td>\n",
       "      <td>0.000000e+00</td>\n",
       "      <td>20000.0</td>\n",
       "      <td>0.0</td>\n",
       "      <td>NaN</td>\n",
       "      <td>2.000000</td>\n",
       "      <td>-99.000000</td>\n",
       "      <td>-9.000000</td>\n",
       "      <td>-9.000000</td>\n",
       "      <td>-9.000000</td>\n",
       "      <td>-9.000000</td>\n",
       "    </tr>\n",
       "    <tr>\n",
       "      <th>25%</th>\n",
       "      <td>1.971101e+11</td>\n",
       "      <td>1971.000000</td>\n",
       "      <td>3.000000</td>\n",
       "      <td>7.000000</td>\n",
       "      <td>0.000000</td>\n",
       "      <td>217.0</td>\n",
       "      <td>1.0</td>\n",
       "      <td>34.053490</td>\n",
       "      <td>-117.867834</td>\n",
       "      <td>1.000000</td>\n",
       "      <td>...</td>\n",
       "      <td>0.000000e+00</td>\n",
       "      <td>20000.0</td>\n",
       "      <td>0.0</td>\n",
       "      <td>NaN</td>\n",
       "      <td>2.000000</td>\n",
       "      <td>0.000000</td>\n",
       "      <td>-9.000000</td>\n",
       "      <td>-9.000000</td>\n",
       "      <td>0.000000</td>\n",
       "      <td>-9.000000</td>\n",
       "    </tr>\n",
       "    <tr>\n",
       "      <th>50%</th>\n",
       "      <td>1.978100e+11</td>\n",
       "      <td>1978.000000</td>\n",
       "      <td>6.000000</td>\n",
       "      <td>15.000000</td>\n",
       "      <td>0.000000</td>\n",
       "      <td>217.0</td>\n",
       "      <td>1.0</td>\n",
       "      <td>38.890370</td>\n",
       "      <td>-84.511981</td>\n",
       "      <td>1.000000</td>\n",
       "      <td>...</td>\n",
       "      <td>3.500000e+04</td>\n",
       "      <td>20000.0</td>\n",
       "      <td>0.0</td>\n",
       "      <td>NaN</td>\n",
       "      <td>2.000000</td>\n",
       "      <td>1.000000</td>\n",
       "      <td>0.000000</td>\n",
       "      <td>0.000000</td>\n",
       "      <td>0.000000</td>\n",
       "      <td>0.000000</td>\n",
       "    </tr>\n",
       "    <tr>\n",
       "      <th>75%</th>\n",
       "      <td>1.992082e+11</td>\n",
       "      <td>1992.000000</td>\n",
       "      <td>9.000000</td>\n",
       "      <td>23.000000</td>\n",
       "      <td>0.000000</td>\n",
       "      <td>217.0</td>\n",
       "      <td>1.0</td>\n",
       "      <td>40.783060</td>\n",
       "      <td>-74.005941</td>\n",
       "      <td>1.000000</td>\n",
       "      <td>...</td>\n",
       "      <td>6.250000e+05</td>\n",
       "      <td>20000.0</td>\n",
       "      <td>0.0</td>\n",
       "      <td>NaN</td>\n",
       "      <td>4.000000</td>\n",
       "      <td>9.500000</td>\n",
       "      <td>0.000000</td>\n",
       "      <td>0.000000</td>\n",
       "      <td>0.000000</td>\n",
       "      <td>1.000000</td>\n",
       "    </tr>\n",
       "    <tr>\n",
       "      <th>max</th>\n",
       "      <td>2.016122e+11</td>\n",
       "      <td>2016.000000</td>\n",
       "      <td>12.000000</td>\n",
       "      <td>31.000000</td>\n",
       "      <td>1.000000</td>\n",
       "      <td>217.0</td>\n",
       "      <td>1.0</td>\n",
       "      <td>64.837778</td>\n",
       "      <td>105.270546</td>\n",
       "      <td>5.000000</td>\n",
       "      <td>...</td>\n",
       "      <td>5.000000e+06</td>\n",
       "      <td>20000.0</td>\n",
       "      <td>0.0</td>\n",
       "      <td>NaN</td>\n",
       "      <td>7.000000</td>\n",
       "      <td>92.000000</td>\n",
       "      <td>1.000000</td>\n",
       "      <td>1.000000</td>\n",
       "      <td>1.000000</td>\n",
       "      <td>1.000000</td>\n",
       "    </tr>\n",
       "  </tbody>\n",
       "</table>\n",
       "<p>8 rows × 77 columns</p>\n",
       "</div>"
      ],
      "text/plain": [
       "            eventid        iyear       imonth         iday     extended  \\\n",
       "count  2.758000e+03  2758.000000  2758.000000  2758.000000  2758.000000   \n",
       "mean   1.983206e+11  1983.142132     6.235678    15.279913     0.004714   \n",
       "std    1.335005e+09    13.347349     3.396045     9.151050     0.068506   \n",
       "min    1.970010e+11  1970.000000     1.000000     0.000000     0.000000   \n",
       "25%    1.971101e+11  1971.000000     3.000000     7.000000     0.000000   \n",
       "50%    1.978100e+11  1978.000000     6.000000    15.000000     0.000000   \n",
       "75%    1.992082e+11  1992.000000     9.000000    23.000000     0.000000   \n",
       "max    2.016122e+11  2016.000000    12.000000    31.000000     1.000000   \n",
       "\n",
       "       country  region     latitude    longitude  specificity     ...       \\\n",
       "count   2758.0  2758.0  2757.000000  2757.000000  2758.000000     ...        \n",
       "mean     217.0     1.0    36.685013   -91.845078     1.020667     ...        \n",
       "std        0.0     0.0     7.375534    21.866017     0.245246     ...        \n",
       "min      217.0     1.0    17.966072  -157.858333     1.000000     ...        \n",
       "25%      217.0     1.0    34.053490  -117.867834     1.000000     ...        \n",
       "50%      217.0     1.0    38.890370   -84.511981     1.000000     ...        \n",
       "75%      217.0     1.0    40.783060   -74.005941     1.000000     ...        \n",
       "max      217.0     1.0    64.837778   105.270546     5.000000     ...        \n",
       "\n",
       "          ransomamt  ransomamtus  ransompaid  ransompaidus  hostkidoutcome  \\\n",
       "count  8.000000e+00          1.0         1.0           0.0       38.000000   \n",
       "mean   8.212500e+05      20000.0         0.0           NaN        3.131579   \n",
       "std    1.726155e+06          NaN         NaN           NaN        1.562587   \n",
       "min    0.000000e+00      20000.0         0.0           NaN        2.000000   \n",
       "25%    0.000000e+00      20000.0         0.0           NaN        2.000000   \n",
       "50%    3.500000e+04      20000.0         0.0           NaN        2.000000   \n",
       "75%    6.250000e+05      20000.0         0.0           NaN        4.000000   \n",
       "max    5.000000e+06      20000.0         0.0           NaN        7.000000   \n",
       "\n",
       "       nreleased      INT_LOG     INT_IDEO     INT_MISC      INT_ANY  \n",
       "count  23.000000  2758.000000  2758.000000  2758.000000  2758.000000  \n",
       "mean   -2.826087    -4.360406    -4.305294     0.075780    -3.916969  \n",
       "std    43.352312     4.630165     4.690839     0.603208     4.755616  \n",
       "min   -99.000000    -9.000000    -9.000000    -9.000000    -9.000000  \n",
       "25%     0.000000    -9.000000    -9.000000     0.000000    -9.000000  \n",
       "50%     1.000000     0.000000     0.000000     0.000000     0.000000  \n",
       "75%     9.500000     0.000000     0.000000     0.000000     1.000000  \n",
       "max    92.000000     1.000000     1.000000     1.000000     1.000000  \n",
       "\n",
       "[8 rows x 77 columns]"
      ]
     },
     "execution_count": 9,
     "metadata": {},
     "output_type": "execute_result"
    }
   ],
   "source": [
    "df2.describe()"
   ]
  },
  {
   "cell_type": "markdown",
   "metadata": {},
   "source": [
    "From the descriptive statistics above, one can tell the following:\n",
    "1. the skewedness of each features by comparing the mean to the median (50% mark). Most of the variables, especially the dummy variables seem right skewed, but nothing really serious since variance is not overly high \n",
    "2. skewedness from #1 if any,  translate to some outliers in the distribution. This sometimes can affect results of the analysis, and may need further investigation.\n",
    "3. the distribution of the datapoints. The greater the standard deviation ('std'), the more dispersed the datapoints are.\n",
    "\n",
    "Note that the descriptive statistics above excludes the missing values and categorical variables. From the above we see that most of the variables are either slightly right or left skewed. This can also be seen in the plot of the histogram below.\n",
    "\n",
    "One can delve deeper into each feature using the plots depending on the algorithms being used. Considering high dimensionality of the dataset, this will be very time consuming.  Since this analysis is primarily based on Random Forest (RF) and the believe that they are robust enough to cater for such deficiencies, i wouldn't spend much time on this now. All issues would be revisited if outcomes of model is not as expected."
   ]
  },
  {
   "cell_type": "code",
   "execution_count": null,
   "metadata": {
    "collapsed": true
   },
   "outputs": [],
   "source": []
  },
  {
   "cell_type": "markdown",
   "metadata": {},
   "source": [
    "** Initial EDA on all variables **"
   ]
  },
  {
   "cell_type": "code",
   "execution_count": 10,
   "metadata": {},
   "outputs": [
    {
     "data": {
      "image/png": "[encoded data removed]",
      "text/plain": [
       "<matplotlib.figure.Figure at 0x1d1495feda0>"
      ]
     },
     "metadata": {},
     "output_type": "display_data"
    }
   ],
   "source": [
    "df2.hist(bins=5, figsize=(20,30))\n",
    "plt.show()"
   ]
  },
  {
   "cell_type": "markdown",
   "metadata": {},
   "source": [
    "Presence of skewness means that outliers are present in the variables affected as shown in the boxplots below. Outliers are not necessarily bad, but needs to be further investigating in relation to business objectives, required performance of the model and assumptions made about the dataset. Most times than not, this will need to be address if one is considering using a linear model to prevent negatively impacting outcomes of the model."
   ]
  },
  {
   "cell_type": "code",
   "execution_count": null,
   "metadata": {
    "collapsed": true
   },
   "outputs": [],
   "source": []
  },
  {
   "cell_type": "markdown",
   "metadata": {},
   "source": [
    "### Data Cleaning"
   ]
  },
  {
   "cell_type": "markdown",
   "metadata": {},
   "source": [
    "Here, a class was created to help remove noisy columns that are either comments explaining what is in other columns or have more than 80% missing values."
   ]
  },
  {
   "cell_type": "code",
   "execution_count": 11,
   "metadata": {
    "collapsed": true
   },
   "outputs": [],
   "source": [
    "class wr_ppro():\n",
    "    '''Used for data wrangling and some initial preprocessing'''\n",
    "    def __init__(self):\n",
    "        ''''''\n",
    "    def drop_col_nan(self, x, threshold):\n",
    "        for col in x.columns:\n",
    "            amt = sum(x[col].isnull())/float(len(x)) * 100\n",
    "            if amt > threshold:\n",
    "                x = x.drop(col,1)\n",
    "                pd.set_option('display.max_columns', None)\n",
    "        return x\n",
    "        \n",
    "    def drop_noisy_col(self, y, w=[]):\n",
    "        y=y.drop(w, 1)\n",
    "        return y\n",
    "                \n",
    "    def drop_col_txt(self, z):\n",
    "        for c in z.columns:\n",
    "            c = str(c)\n",
    "            if c[-3:] =='txt':\n",
    "                z = z.drop(c, 1)\n",
    "                pd.set_option('display.max_columns', None)\n",
    "        return z     \n",
    "       "
   ]
  },
  {
   "cell_type": "code",
   "execution_count": 12,
   "metadata": {
    "collapsed": true
   },
   "outputs": [],
   "source": [
    "df3=wr_ppro().drop_col_nan(df2, 80)"
   ]
  },
  {
   "cell_type": "code",
   "execution_count": 13,
   "metadata": {
    "collapsed": true
   },
   "outputs": [],
   "source": [
    "df3.index = range(len(df2))"
   ]
  },
  {
   "cell_type": "code",
   "execution_count": 14,
   "metadata": {
    "collapsed": true
   },
   "outputs": [],
   "source": [
    "df4=wr_ppro().drop_col_txt(df3)"
   ]
  },
  {
   "cell_type": "code",
   "execution_count": 15,
   "metadata": {
    "collapsed": true
   },
   "outputs": [],
   "source": [
    "df5=wr_ppro().drop_noisy_col(df4, ['corp1', 'motive', 'target1', 'weapdetail','country','addnotes', 'summary', 'scite1' , 'scite2' , 'scite3' , 'dbsource','longitude','specificity', 'eventid', 'location','region', 'propcomment', 'latitude'])"
   ]
  },
  {
   "cell_type": "code",
   "execution_count": 16,
   "metadata": {},
   "outputs": [
    {
     "data": {
      "text/plain": [
       "(2758, 41)"
      ]
     },
     "execution_count": 16,
     "metadata": {},
     "output_type": "execute_result"
    }
   ],
   "source": [
    "df5.shape"
   ]
  },
  {
   "cell_type": "code",
   "execution_count": 17,
   "metadata": {},
   "outputs": [
    {
     "data": {
      "text/plain": [
       "iyear              0\n",
       "imonth             0\n",
       "iday               0\n",
       "extended           0\n",
       "provstate          0\n",
       "city               0\n",
       "vicinity           0\n",
       "crit1              0\n",
       "crit2              0\n",
       "crit3              0\n",
       "doubtterr          0\n",
       "multiple           0\n",
       "success            0\n",
       "suicide            0\n",
       "attacktype1        0\n",
       "targtype1          0\n",
       "targsubtype1     120\n",
       "natlty1            9\n",
       "gname              0\n",
       "guncertain1        0\n",
       "individual         0\n",
       "nperps           982\n",
       "nperpcap        1055\n",
       "claimed         1051\n",
       "weaptype1          0\n",
       "weapsubtype1     259\n",
       "nkill             73\n",
       "nkillus          953\n",
       "nkillter        1004\n",
       "nwound            93\n",
       "nwoundus         973\n",
       "nwoundte        1018\n",
       "property           0\n",
       "propextent      1191\n",
       "propvalue       1840\n",
       "ishostkid        176\n",
       "ransom           588\n",
       "INT_LOG            0\n",
       "INT_IDEO           0\n",
       "INT_MISC           0\n",
       "INT_ANY            0\n",
       "dtype: int64"
      ]
     },
     "execution_count": 17,
     "metadata": {},
     "output_type": "execute_result"
    }
   ],
   "source": [
    "df5.isnull().sum()"
   ]
  },
  {
   "cell_type": "code",
   "execution_count": 18,
   "metadata": {},
   "outputs": [
    {
     "data": {
      "text/plain": [
       "iyear             int64\n",
       "imonth            int64\n",
       "iday              int64\n",
       "extended          int64\n",
       "provstate        object\n",
       "city             object\n",
       "vicinity          int64\n",
       "crit1             int64\n",
       "crit2             int64\n",
       "crit3             int64\n",
       "doubtterr         int64\n",
       "multiple          int64\n",
       "success           int64\n",
       "suicide           int64\n",
       "attacktype1       int64\n",
       "targtype1         int64\n",
       "targsubtype1    float64\n",
       "natlty1         float64\n",
       "gname            object\n",
       "guncertain1     float64\n",
       "individual        int64\n",
       "nperps          float64\n",
       "nperpcap        float64\n",
       "claimed         float64\n",
       "weaptype1         int64\n",
       "weapsubtype1    float64\n",
       "nkill           float64\n",
       "nkillus         float64\n",
       "nkillter        float64\n",
       "nwound          float64\n",
       "nwoundus        float64\n",
       "nwoundte        float64\n",
       "property          int64\n",
       "propextent      float64\n",
       "propvalue       float64\n",
       "ishostkid       float64\n",
       "ransom          float64\n",
       "INT_LOG           int64\n",
       "INT_IDEO          int64\n",
       "INT_MISC          int64\n",
       "INT_ANY           int64\n",
       "dtype: object"
      ]
     },
     "execution_count": 18,
     "metadata": {},
     "output_type": "execute_result"
    }
   ],
   "source": [
    "df5.dtypes"
   ]
  },
  {
   "cell_type": "code",
   "execution_count": null,
   "metadata": {
    "collapsed": true
   },
   "outputs": [],
   "source": []
  },
  {
   "cell_type": "markdown",
   "metadata": {},
   "source": [
    "** Checking for outliers **"
   ]
  },
  {
   "cell_type": "code",
   "execution_count": 19,
   "metadata": {},
   "outputs": [
    {
     "data": {
      "text/plain": [
       "Index(['iyear', 'imonth', 'iday', 'extended', 'provstate', 'city', 'vicinity',\n",
       "       'crit1', 'crit2', 'crit3', 'doubtterr', 'multiple', 'success',\n",
       "       'suicide', 'attacktype1', 'targtype1', 'targsubtype1', 'natlty1',\n",
       "       'gname', 'guncertain1', 'individual', 'nperps', 'nperpcap', 'claimed',\n",
       "       'weaptype1', 'weapsubtype1', 'nkill', 'nkillus', 'nkillter', 'nwound',\n",
       "       'nwoundus', 'nwoundte', 'property', 'propextent', 'propvalue',\n",
       "       'ishostkid', 'ransom', 'INT_LOG', 'INT_IDEO', 'INT_MISC', 'INT_ANY'],\n",
       "      dtype='object')"
      ]
     },
     "execution_count": 19,
     "metadata": {},
     "output_type": "execute_result"
    }
   ],
   "source": [
    "#df6.columns\n",
    "df5.columns\n"
   ]
  },
  {
   "cell_type": "code",
   "execution_count": 20,
   "metadata": {},
   "outputs": [
    {
     "data": {
      "text/plain": [
       "<matplotlib.axes._subplots.AxesSubplot at 0x1d149768978>"
      ]
     },
     "execution_count": 20,
     "metadata": {},
     "output_type": "execute_result"
    },
    {
     "data": {
      "image/png": "[encoded data removed]",
      "text/plain": [
       "<matplotlib.figure.Figure at 0x1d149768d68>"
      ]
     },
     "metadata": {},
     "output_type": "display_data"
    }
   ],
   "source": [
    "fig = plt.figure(figsize=(17, 7))\n",
    "fig.add_subplot(1,1,1)\n",
    "sns.boxplot(data= df5[['iyear', 'imonth', 'iday', 'extended', 'provstate', 'city', 'vicinity']])"
   ]
  },
  {
   "cell_type": "code",
   "execution_count": 21,
   "metadata": {},
   "outputs": [
    {
     "data": {
      "text/plain": [
       "<matplotlib.axes._subplots.AxesSubplot at 0x1d121e5dcf8>"
      ]
     },
     "execution_count": 21,
     "metadata": {},
     "output_type": "execute_result"
    },
    {
     "data": {
      "image/png": "[encoded data removed]",
      "text/plain": [
       "<matplotlib.figure.Figure at 0x1d121e5d9b0>"
      ]
     },
     "metadata": {},
     "output_type": "display_data"
    }
   ],
   "source": [
    "fig = plt.figure(figsize=(17, 7))\n",
    "fig.add_subplot(1,1,1)\n",
    "sns.boxplot(data= df5[['crit1', 'crit2', 'crit3', 'doubtterr', 'multiple', 'success']])"
   ]
  },
  {
   "cell_type": "code",
   "execution_count": 22,
   "metadata": {},
   "outputs": [
    {
     "data": {
      "text/plain": [
       "<matplotlib.axes._subplots.AxesSubplot at 0x1d120f41f60>"
      ]
     },
     "execution_count": 22,
     "metadata": {},
     "output_type": "execute_result"
    },
    {
     "data": {
      "image/png": "[encoded data removed]",
      "text/plain": [
       "<matplotlib.figure.Figure at 0x1d120f41e80>"
      ]
     },
     "metadata": {},
     "output_type": "display_data"
    }
   ],
   "source": [
    "fig = plt.figure(figsize=(17, 7))\n",
    "fig.add_subplot(1,1,1)\n",
    "sns.boxplot(data= df5[['suicide', 'attacktype1', 'targtype1', 'targsubtype1', 'natlty1']])"
   ]
  },
  {
   "cell_type": "code",
   "execution_count": 23,
   "metadata": {},
   "outputs": [
    {
     "data": {
      "text/plain": [
       "<matplotlib.axes._subplots.AxesSubplot at 0x1d11d0b6b00>"
      ]
     },
     "execution_count": 23,
     "metadata": {},
     "output_type": "execute_result"
    },
    {
     "data": {
      "image/png": "[encoded data removed]",
      "text/plain": [
       "<matplotlib.figure.Figure at 0x1d11d0b69e8>"
      ]
     },
     "metadata": {},
     "output_type": "display_data"
    }
   ],
   "source": [
    "fig = plt.figure(figsize=(17, 7))\n",
    "fig.add_subplot(1,1,1)\n",
    "sns.boxplot(data= df5[['gname', 'guncertain1', 'individual', 'nperps', 'nperpcap', 'claimed']])"
   ]
  },
  {
   "cell_type": "code",
   "execution_count": 24,
   "metadata": {},
   "outputs": [
    {
     "data": {
      "text/plain": [
       "<matplotlib.axes._subplots.AxesSubplot at 0x1d11e67c5f8>"
      ]
     },
     "execution_count": 24,
     "metadata": {},
     "output_type": "execute_result"
    },
    {
     "data": {
      "image/png": "[encoded data removed]",
      "text/plain": [
       "<matplotlib.figure.Figure at 0x1d11e67cd30>"
      ]
     },
     "metadata": {},
     "output_type": "display_data"
    }
   ],
   "source": [
    "fig = plt.figure(figsize=(17, 7))\n",
    "fig.add_subplot(1,1,1)\n",
    "sns.boxplot(data= df5[['weaptype1', 'weapsubtype1', 'nkill', 'nkillus', 'nkillter', 'nwound']])"
   ]
  },
  {
   "cell_type": "code",
   "execution_count": 25,
   "metadata": {},
   "outputs": [
    {
     "data": {
      "text/plain": [
       "<matplotlib.axes._subplots.AxesSubplot at 0x1d11c6f5e80>"
      ]
     },
     "execution_count": 25,
     "metadata": {},
     "output_type": "execute_result"
    },
    {
     "data": {
      "image/png": "[encoded data removed]",
      "text/plain": [
       "<matplotlib.figure.Figure at 0x1d11c6f5cf8>"
      ]
     },
     "metadata": {},
     "output_type": "display_data"
    }
   ],
   "source": [
    "fig = plt.figure(figsize=(17, 7))\n",
    "fig.add_subplot(1,1,1)\n",
    "sns.boxplot(data= df5[['nwoundus', 'nwoundte', 'property', 'propextent', 'propvalue']])"
   ]
  },
  {
   "cell_type": "code",
   "execution_count": 26,
   "metadata": {},
   "outputs": [
    {
     "data": {
      "text/plain": [
       "<matplotlib.axes._subplots.AxesSubplot at 0x1d11c56df28>"
      ]
     },
     "execution_count": 26,
     "metadata": {},
     "output_type": "execute_result"
    },
    {
     "data": {
      "image/png": "[encoded data removed]",
      "text/plain": [
       "<matplotlib.figure.Figure at 0x1d11f3b33c8>"
      ]
     },
     "metadata": {},
     "output_type": "display_data"
    }
   ],
   "source": [
    "fig = plt.figure(figsize=(17, 7))\n",
    "fig.add_subplot(1,1,1)\n",
    "sns.boxplot(data= df5[['ishostkid', 'ransom', 'INT_LOG', 'INT_IDEO', 'INT_MISC', 'INT_ANY']])"
   ]
  },
  {
   "cell_type": "markdown",
   "metadata": {},
   "source": [
    "The dataset contains outliers, most notable \"propvalue\", \"natlty1\", \"natlty1\", \"nperps\", \"nkill\", \"nkillus\"and \"nwound.\" Please refer to Codebook for meaning of the variables. And this causes skweness in the distribution of variables as seen in some of the plots above. These could have been an issue if we are considering linear models like Linear or Logistic Regression models. One would need to examine these issues closely and correct for such before building the model. Outliers are not necessarily bad. It depends on business needs and how much accuracy one is trying to achieve  Since I am considering non-linear models like the Random Forest, these issues are usually implicitly addressed. That is a big advantage of using such models. I decided to leave them in there to see how the model perform with an option of revisiting them if the outcome is not favorable. "
   ]
  },
  {
   "cell_type": "code",
   "execution_count": null,
   "metadata": {
    "collapsed": true
   },
   "outputs": [],
   "source": []
  },
  {
   "cell_type": "markdown",
   "metadata": {},
   "source": [
    "** Analyzing the Categorical Variables **"
   ]
  },
  {
   "cell_type": "markdown",
   "metadata": {},
   "source": [
    "What i am looking for here is checking if the feature can be readily used in machine learning algorithms or needs much rework. By that, i mean having either even or closely uniform class sizes in the feature to allow an equal representation chance of each class in the train and test dataset. I am also looking at the cardinality of the feature and a possibility of any of the classes dominating the analysis (overfitting)."
   ]
  },
  {
   "cell_type": "code",
   "execution_count": 27,
   "metadata": {},
   "outputs": [
    {
     "data": {
      "text/plain": [
       "California              586\n",
       "New York                504\n",
       "Puerto Rico             247\n",
       "Florida                 153\n",
       "Illinois                110\n",
       "Washington               98\n",
       "District of Columbia     83\n",
       "Oregon                   65\n",
       "Texas                    59\n",
       "Massachusetts            57\n",
       "Ohio                     51\n",
       "New Jersey               47\n",
       "Michigan                 44\n",
       "Colorado                 44\n",
       "Virginia                 39\n",
       "Wisconsin                37\n",
       "Missouri                 36\n",
       "Arizona                  34\n",
       "Maryland                 34\n",
       "Pennsylvania             31\n",
       "North Carolina           31\n",
       "Georgia                  29\n",
       "New Mexico               24\n",
       "Minnesota                24\n",
       "Iowa                     23\n",
       "Nebraska                 23\n",
       "Tennessee                22\n",
       "Indiana                  21\n",
       "Utah                     20\n",
       "Louisiana                18\n",
       "Connecticut              17\n",
       "Nevada                   16\n",
       "Alabama                  15\n",
       "Oklahoma                 15\n",
       "Idaho                    14\n",
       "Kansas                   13\n",
       "New Hampshire            10\n",
       "South Dakota              9\n",
       "Mississippi               8\n",
       "Montana                   6\n",
       "Arkansas                  5\n",
       "South Carolina            5\n",
       "Vermont                   5\n",
       "North Dakota              5\n",
       "Hawaii                    4\n",
       "Maine                     4\n",
       "Delaware                  3\n",
       "Kentucky                  2\n",
       "Wyoming                   2\n",
       "Rhode Island              2\n",
       "West Virginia             2\n",
       "Unknown                   1\n",
       "Alaska                    1\n",
       "Name: provstate, dtype: int64"
      ]
     },
     "execution_count": 27,
     "metadata": {},
     "output_type": "execute_result"
    }
   ],
   "source": [
    "#this shows high cardinality in the dataset with uneven classes, and is usually an issue when building machine learning models.\n",
    "#re-engineering of the feature is needed, else you are looking at cases of the model overfitting the dominant classes or having \n",
    "#somes examples in the train set missing in the test set depending on the size of the chosen sample after running the \n",
    "#train-test-split. the latter case also causes uneven features in the train set compared to the validation test after \n",
    "#categorical features are hotcoded, hence causing issues with for machine learning algorithms. So, i am dropping this for now \n",
    "#till the feature is re-engineered with probably some domain knowledge\n",
    "\n",
    "df5['provstate'].value_counts()"
   ]
  },
  {
   "cell_type": "code",
   "execution_count": 28,
   "metadata": {},
   "outputs": [
    {
     "data": {
      "text/plain": [
       "New York City            449\n",
       "San Juan                 115\n",
       "Los Angeles              109\n",
       "San Francisco             98\n",
       "Miami                     85\n",
       "Washington                84\n",
       "Chicago                   56\n",
       "Seattle                   39\n",
       "Berkeley                  33\n",
       "Denver                    22\n",
       "San Diego                 22\n",
       "Portland                  21\n",
       "Oakland                   20\n",
       "Boston                    18\n",
       "San Jose                  18\n",
       "Kansas City               17\n",
       "Houston                   17\n",
       "Rio Piedras               17\n",
       "Sacramento                16\n",
       "Albuquerque               16\n",
       "Unknown                   15\n",
       "Detroit                   15\n",
       "Phoenix                   14\n",
       "Cairo                     12\n",
       "Carolina                  12\n",
       "Eugene                    12\n",
       "Arlington                 12\n",
       "Atlanta                   12\n",
       "Columbus                  11\n",
       "Fresno                    11\n",
       "                        ... \n",
       "Des Plaines                1\n",
       "Los Altos Hills            1\n",
       "Laguna Gardens             1\n",
       "Casa Grande                1\n",
       "Burns                      1\n",
       "Laredo                     1\n",
       "Seboruco                   1\n",
       "Grand Canyon               1\n",
       "Fitchburg                  1\n",
       "Lathrup Village            1\n",
       "Reading                    1\n",
       "Barnegat                   1\n",
       "Oskaloosa                  1\n",
       "Aibonito                   1\n",
       "Milpitas                   1\n",
       "Rolling Hills Estates      1\n",
       "Roanoke                    1\n",
       "Ohiowa                     1\n",
       "Reisterstown               1\n",
       "Glen Burnie                1\n",
       "Kannapolis                 1\n",
       "Lake Los Angeles           1\n",
       "Dixon                      1\n",
       "Piperton                   1\n",
       "Langley Park               1\n",
       "Northbrook                 1\n",
       "Lowell                     1\n",
       "Bessemer                   1\n",
       "Garland                    1\n",
       "MIami                      1\n",
       "Name: city, Length: 705, dtype: int64"
      ]
     },
     "execution_count": 28,
     "metadata": {},
     "output_type": "execute_result"
    }
   ],
   "source": [
    "# with 705 classes, this is worse than what we had in the 'provstate' feature. Since city is already implied in state, and one \n",
    "#may not have large variance amongst cities in a state, I will drop the 'city' variable and see how our model performs.  \n",
    "df5['city'].value_counts()"
   ]
  },
  {
   "cell_type": "code",
   "execution_count": null,
   "metadata": {
    "collapsed": true
   },
   "outputs": [],
   "source": []
  },
  {
   "cell_type": "code",
   "execution_count": null,
   "metadata": {
    "collapsed": true
   },
   "outputs": [],
   "source": []
  },
  {
   "cell_type": "code",
   "execution_count": null,
   "metadata": {
    "collapsed": true
   },
   "outputs": [],
   "source": []
  },
  {
   "cell_type": "markdown",
   "metadata": {},
   "source": [
    "### Feature Engineering"
   ]
  },
  {
   "cell_type": "markdown",
   "metadata": {},
   "source": [
    "Here, i tried to address high cardinality issues for the 'provstate'. Taking a look at the 'provstate' and the 'city' feature we see of the 'Recipient_State' feature by re-engineering it into a regions. The new feature was called 'state_region,' and the original state feature dropped afterward"
   ]
  },
  {
   "cell_type": "code",
   "execution_count": 29,
   "metadata": {
    "collapsed": true
   },
   "outputs": [],
   "source": [
    "#created a dictionary of key-value pair mapping the regions to all the states\n",
    "region = {'Northeast': ['Connecticut', 'Maine', 'Massachusetts', 'New Hampshire', 'Rhode Island', 'Vermont', 'New Jersey', \n",
    "                        'New York', 'Pennsylvania'],\n",
    "          'Midwest': ['Illinois', 'Indiana', 'Michigan', 'Minnesota', 'Ohio', 'Wisconsin', 'Iowa', 'Kansas', 'Missouri', \n",
    "                    'Nebraska', 'North Dakota', 'South Dakota'],\n",
    "          'South': ['Louisiana', 'Oklahoma', 'Texas', 'Delaware', 'District of Columbia', 'Maryland', 'Virginia', \n",
    "                    'West Virginia', 'Alabama', 'Florida', 'Georgia', 'Kentucky', 'Mississippi', 'North Carolina', \n",
    "                    'South Carolina', 'Tennessee'],\n",
    "          'West':  ['Arkansas', 'Idaho', 'Oregon', 'Washington', 'Colorado', 'Montana', 'Utah', 'Wyoming', 'New Mexico',\n",
    "                    'Arizona', 'California', 'Hawaii', 'Nevada', 'Alaska', 'Arizona', ],\n",
    "          'Others': ['Puerto Rico', 'Unknown',]}"
   ]
  },
  {
   "cell_type": "code",
   "execution_count": 30,
   "metadata": {
    "collapsed": true
   },
   "outputs": [],
   "source": [
    "#for loop that did the job of the mapping\n",
    "new = []\n",
    "for state in df5.copy()['provstate']:\n",
    "    for k, y in region.items():\n",
    "        if state in y:\n",
    "            new.append(k)"
   ]
  },
  {
   "cell_type": "code",
   "execution_count": 31,
   "metadata": {
    "collapsed": true
   },
   "outputs": [],
   "source": [
    "#creation of the new feature\n",
    "df5['state_region'] = new"
   ]
  },
  {
   "cell_type": "code",
   "execution_count": 32,
   "metadata": {
    "collapsed": true
   },
   "outputs": [],
   "source": [
    "#dropping the old feature\n",
    "df6=df5.drop(['provstate',], axis=1)"
   ]
  },
  {
   "cell_type": "code",
   "execution_count": 33,
   "metadata": {},
   "outputs": [
    {
     "data": {
      "text/html": [
       "<div>\n",
       "<style>\n",
       "    .dataframe thead tr:only-child th {\n",
       "        text-align: right;\n",
       "    }\n",
       "\n",
       "    .dataframe thead th {\n",
       "        text-align: left;\n",
       "    }\n",
       "\n",
       "    .dataframe tbody tr th {\n",
       "        vertical-align: top;\n",
       "    }\n",
       "</style>\n",
       "<table border=\"1\" class=\"dataframe\">\n",
       "  <thead>\n",
       "    <tr style=\"text-align: right;\">\n",
       "      <th></th>\n",
       "      <th>iyear</th>\n",
       "      <th>imonth</th>\n",
       "      <th>iday</th>\n",
       "      <th>extended</th>\n",
       "      <th>city</th>\n",
       "      <th>vicinity</th>\n",
       "      <th>crit1</th>\n",
       "      <th>crit2</th>\n",
       "      <th>crit3</th>\n",
       "      <th>doubtterr</th>\n",
       "      <th>multiple</th>\n",
       "      <th>success</th>\n",
       "      <th>suicide</th>\n",
       "      <th>attacktype1</th>\n",
       "      <th>targtype1</th>\n",
       "      <th>targsubtype1</th>\n",
       "      <th>natlty1</th>\n",
       "      <th>gname</th>\n",
       "      <th>guncertain1</th>\n",
       "      <th>individual</th>\n",
       "      <th>nperps</th>\n",
       "      <th>nperpcap</th>\n",
       "      <th>claimed</th>\n",
       "      <th>weaptype1</th>\n",
       "      <th>weapsubtype1</th>\n",
       "      <th>nkill</th>\n",
       "      <th>nkillus</th>\n",
       "      <th>nkillter</th>\n",
       "      <th>nwound</th>\n",
       "      <th>nwoundus</th>\n",
       "      <th>nwoundte</th>\n",
       "      <th>property</th>\n",
       "      <th>propextent</th>\n",
       "      <th>propvalue</th>\n",
       "      <th>ishostkid</th>\n",
       "      <th>ransom</th>\n",
       "      <th>INT_LOG</th>\n",
       "      <th>INT_IDEO</th>\n",
       "      <th>INT_MISC</th>\n",
       "      <th>INT_ANY</th>\n",
       "      <th>state_region</th>\n",
       "    </tr>\n",
       "  </thead>\n",
       "  <tbody>\n",
       "    <tr>\n",
       "      <th>0</th>\n",
       "      <td>1970</td>\n",
       "      <td>1</td>\n",
       "      <td>1</td>\n",
       "      <td>0</td>\n",
       "      <td>Cairo</td>\n",
       "      <td>0</td>\n",
       "      <td>1</td>\n",
       "      <td>1</td>\n",
       "      <td>1</td>\n",
       "      <td>0</td>\n",
       "      <td>0</td>\n",
       "      <td>1</td>\n",
       "      <td>0</td>\n",
       "      <td>2</td>\n",
       "      <td>3</td>\n",
       "      <td>22.0</td>\n",
       "      <td>217.0</td>\n",
       "      <td>Black Nationalists</td>\n",
       "      <td>0.0</td>\n",
       "      <td>0</td>\n",
       "      <td>-99.0</td>\n",
       "      <td>-99.0</td>\n",
       "      <td>0.0</td>\n",
       "      <td>5</td>\n",
       "      <td>5.0</td>\n",
       "      <td>0.0</td>\n",
       "      <td>0.0</td>\n",
       "      <td>0.0</td>\n",
       "      <td>0.0</td>\n",
       "      <td>0.0</td>\n",
       "      <td>0.0</td>\n",
       "      <td>1</td>\n",
       "      <td>3.0</td>\n",
       "      <td>NaN</td>\n",
       "      <td>0.0</td>\n",
       "      <td>0.0</td>\n",
       "      <td>-9</td>\n",
       "      <td>-9</td>\n",
       "      <td>0</td>\n",
       "      <td>-9</td>\n",
       "      <td>Midwest</td>\n",
       "    </tr>\n",
       "    <tr>\n",
       "      <th>1</th>\n",
       "      <td>1970</td>\n",
       "      <td>1</td>\n",
       "      <td>2</td>\n",
       "      <td>0</td>\n",
       "      <td>Oakland</td>\n",
       "      <td>0</td>\n",
       "      <td>1</td>\n",
       "      <td>1</td>\n",
       "      <td>1</td>\n",
       "      <td>1</td>\n",
       "      <td>0</td>\n",
       "      <td>1</td>\n",
       "      <td>0</td>\n",
       "      <td>3</td>\n",
       "      <td>21</td>\n",
       "      <td>107.0</td>\n",
       "      <td>217.0</td>\n",
       "      <td>Unknown</td>\n",
       "      <td>0.0</td>\n",
       "      <td>0</td>\n",
       "      <td>-99.0</td>\n",
       "      <td>-99.0</td>\n",
       "      <td>0.0</td>\n",
       "      <td>6</td>\n",
       "      <td>16.0</td>\n",
       "      <td>0.0</td>\n",
       "      <td>0.0</td>\n",
       "      <td>0.0</td>\n",
       "      <td>0.0</td>\n",
       "      <td>0.0</td>\n",
       "      <td>0.0</td>\n",
       "      <td>1</td>\n",
       "      <td>3.0</td>\n",
       "      <td>22500.0</td>\n",
       "      <td>0.0</td>\n",
       "      <td>0.0</td>\n",
       "      <td>-9</td>\n",
       "      <td>-9</td>\n",
       "      <td>0</td>\n",
       "      <td>-9</td>\n",
       "      <td>West</td>\n",
       "    </tr>\n",
       "    <tr>\n",
       "      <th>2</th>\n",
       "      <td>1970</td>\n",
       "      <td>1</td>\n",
       "      <td>2</td>\n",
       "      <td>0</td>\n",
       "      <td>Madison</td>\n",
       "      <td>0</td>\n",
       "      <td>1</td>\n",
       "      <td>1</td>\n",
       "      <td>1</td>\n",
       "      <td>0</td>\n",
       "      <td>0</td>\n",
       "      <td>1</td>\n",
       "      <td>0</td>\n",
       "      <td>7</td>\n",
       "      <td>4</td>\n",
       "      <td>28.0</td>\n",
       "      <td>217.0</td>\n",
       "      <td>New Year's Gang</td>\n",
       "      <td>0.0</td>\n",
       "      <td>0</td>\n",
       "      <td>1.0</td>\n",
       "      <td>1.0</td>\n",
       "      <td>1.0</td>\n",
       "      <td>8</td>\n",
       "      <td>19.0</td>\n",
       "      <td>0.0</td>\n",
       "      <td>0.0</td>\n",
       "      <td>0.0</td>\n",
       "      <td>0.0</td>\n",
       "      <td>0.0</td>\n",
       "      <td>0.0</td>\n",
       "      <td>1</td>\n",
       "      <td>3.0</td>\n",
       "      <td>60000.0</td>\n",
       "      <td>0.0</td>\n",
       "      <td>0.0</td>\n",
       "      <td>0</td>\n",
       "      <td>0</td>\n",
       "      <td>0</td>\n",
       "      <td>0</td>\n",
       "      <td>Midwest</td>\n",
       "    </tr>\n",
       "    <tr>\n",
       "      <th>3</th>\n",
       "      <td>1970</td>\n",
       "      <td>1</td>\n",
       "      <td>3</td>\n",
       "      <td>0</td>\n",
       "      <td>Madison</td>\n",
       "      <td>0</td>\n",
       "      <td>1</td>\n",
       "      <td>1</td>\n",
       "      <td>1</td>\n",
       "      <td>0</td>\n",
       "      <td>0</td>\n",
       "      <td>1</td>\n",
       "      <td>0</td>\n",
       "      <td>7</td>\n",
       "      <td>2</td>\n",
       "      <td>21.0</td>\n",
       "      <td>217.0</td>\n",
       "      <td>New Year's Gang</td>\n",
       "      <td>0.0</td>\n",
       "      <td>0</td>\n",
       "      <td>1.0</td>\n",
       "      <td>1.0</td>\n",
       "      <td>0.0</td>\n",
       "      <td>8</td>\n",
       "      <td>20.0</td>\n",
       "      <td>0.0</td>\n",
       "      <td>0.0</td>\n",
       "      <td>0.0</td>\n",
       "      <td>0.0</td>\n",
       "      <td>0.0</td>\n",
       "      <td>0.0</td>\n",
       "      <td>1</td>\n",
       "      <td>3.0</td>\n",
       "      <td>NaN</td>\n",
       "      <td>0.0</td>\n",
       "      <td>0.0</td>\n",
       "      <td>0</td>\n",
       "      <td>0</td>\n",
       "      <td>0</td>\n",
       "      <td>0</td>\n",
       "      <td>Midwest</td>\n",
       "    </tr>\n",
       "    <tr>\n",
       "      <th>4</th>\n",
       "      <td>1970</td>\n",
       "      <td>1</td>\n",
       "      <td>1</td>\n",
       "      <td>0</td>\n",
       "      <td>Baraboo</td>\n",
       "      <td>0</td>\n",
       "      <td>1</td>\n",
       "      <td>1</td>\n",
       "      <td>0</td>\n",
       "      <td>1</td>\n",
       "      <td>0</td>\n",
       "      <td>0</td>\n",
       "      <td>0</td>\n",
       "      <td>3</td>\n",
       "      <td>4</td>\n",
       "      <td>27.0</td>\n",
       "      <td>217.0</td>\n",
       "      <td>Weather Underground, Weathermen</td>\n",
       "      <td>0.0</td>\n",
       "      <td>0</td>\n",
       "      <td>NaN</td>\n",
       "      <td>NaN</td>\n",
       "      <td>NaN</td>\n",
       "      <td>6</td>\n",
       "      <td>16.0</td>\n",
       "      <td>0.0</td>\n",
       "      <td>NaN</td>\n",
       "      <td>NaN</td>\n",
       "      <td>0.0</td>\n",
       "      <td>NaN</td>\n",
       "      <td>NaN</td>\n",
       "      <td>0</td>\n",
       "      <td>3.0</td>\n",
       "      <td>0.0</td>\n",
       "      <td>0.0</td>\n",
       "      <td>0.0</td>\n",
       "      <td>0</td>\n",
       "      <td>0</td>\n",
       "      <td>0</td>\n",
       "      <td>0</td>\n",
       "      <td>Midwest</td>\n",
       "    </tr>\n",
       "  </tbody>\n",
       "</table>\n",
       "</div>"
      ],
      "text/plain": [
       "   iyear  imonth  iday  extended     city  vicinity  crit1  crit2  crit3  \\\n",
       "0   1970       1     1         0    Cairo         0      1      1      1   \n",
       "1   1970       1     2         0  Oakland         0      1      1      1   \n",
       "2   1970       1     2         0  Madison         0      1      1      1   \n",
       "3   1970       1     3         0  Madison         0      1      1      1   \n",
       "4   1970       1     1         0  Baraboo         0      1      1      0   \n",
       "\n",
       "   doubtterr  multiple  success  suicide  attacktype1  targtype1  \\\n",
       "0          0         0        1        0            2          3   \n",
       "1          1         0        1        0            3         21   \n",
       "2          0         0        1        0            7          4   \n",
       "3          0         0        1        0            7          2   \n",
       "4          1         0        0        0            3          4   \n",
       "\n",
       "   targsubtype1  natlty1                            gname  guncertain1  \\\n",
       "0          22.0    217.0               Black Nationalists          0.0   \n",
       "1         107.0    217.0                          Unknown          0.0   \n",
       "2          28.0    217.0                  New Year's Gang          0.0   \n",
       "3          21.0    217.0                  New Year's Gang          0.0   \n",
       "4          27.0    217.0  Weather Underground, Weathermen          0.0   \n",
       "\n",
       "   individual  nperps  nperpcap  claimed  weaptype1  weapsubtype1  nkill  \\\n",
       "0           0   -99.0     -99.0      0.0          5           5.0    0.0   \n",
       "1           0   -99.0     -99.0      0.0          6          16.0    0.0   \n",
       "2           0     1.0       1.0      1.0          8          19.0    0.0   \n",
       "3           0     1.0       1.0      0.0          8          20.0    0.0   \n",
       "4           0     NaN       NaN      NaN          6          16.0    0.0   \n",
       "\n",
       "   nkillus  nkillter  nwound  nwoundus  nwoundte  property  propextent  \\\n",
       "0      0.0       0.0     0.0       0.0       0.0         1         3.0   \n",
       "1      0.0       0.0     0.0       0.0       0.0         1         3.0   \n",
       "2      0.0       0.0     0.0       0.0       0.0         1         3.0   \n",
       "3      0.0       0.0     0.0       0.0       0.0         1         3.0   \n",
       "4      NaN       NaN     0.0       NaN       NaN         0         3.0   \n",
       "\n",
       "   propvalue  ishostkid  ransom  INT_LOG  INT_IDEO  INT_MISC  INT_ANY  \\\n",
       "0        NaN        0.0     0.0       -9        -9         0       -9   \n",
       "1    22500.0        0.0     0.0       -9        -9         0       -9   \n",
       "2    60000.0        0.0     0.0        0         0         0        0   \n",
       "3        NaN        0.0     0.0        0         0         0        0   \n",
       "4        0.0        0.0     0.0        0         0         0        0   \n",
       "\n",
       "  state_region  \n",
       "0      Midwest  \n",
       "1         West  \n",
       "2      Midwest  \n",
       "3      Midwest  \n",
       "4      Midwest  "
      ]
     },
     "execution_count": 33,
     "metadata": {},
     "output_type": "execute_result"
    }
   ],
   "source": [
    "df6.head()"
   ]
  },
  {
   "cell_type": "code",
   "execution_count": 34,
   "metadata": {},
   "outputs": [
    {
     "data": {
      "text/plain": [
       "West         919\n",
       "Northeast    677\n",
       "South        518\n",
       "Midwest      396\n",
       "Others       248\n",
       "Name: state_region, dtype: int64"
      ]
     },
     "execution_count": 34,
     "metadata": {},
     "output_type": "execute_result"
    }
   ],
   "source": [
    "df6['state_region'].value_counts()"
   ]
  },
  {
   "cell_type": "code",
   "execution_count": null,
   "metadata": {
    "collapsed": true
   },
   "outputs": [],
   "source": []
  },
  {
   "cell_type": "code",
   "execution_count": null,
   "metadata": {
    "collapsed": true
   },
   "outputs": [],
   "source": []
  },
  {
   "cell_type": "code",
   "execution_count": null,
   "metadata": {
    "collapsed": true
   },
   "outputs": [],
   "source": []
  },
  {
   "cell_type": "markdown",
   "metadata": {},
   "source": [
    "### Creating a Test Set"
   ]
  },
  {
   "cell_type": "markdown",
   "metadata": {},
   "source": [
    "Since we already have a target variable, it is now advisable to create an out of sample test set data. It may sound strange to do that now, but this usually prevent what is called a data snooping bias. This is because the human brain is known to be an amazing pattern detection system, which means that it is highly prone to overfitting. So, we set the test set data aside that we will not touch at all, and continue with the training set data."
   ]
  },
  {
   "cell_type": "code",
   "execution_count": 35,
   "metadata": {
    "collapsed": true
   },
   "outputs": [],
   "source": [
    "#here we are saying that we want the test data to be 20% of the full dataset, and the random_state is just setting a \n",
    "#random number generator's seed before creating the test set so that it always generates the same shuffled indices.\n",
    "from sklearn.model_selection import train_test_split\n",
    "train_set, test_set = train_test_split(df6, test_size=0.20, random_state=42)"
   ]
  },
  {
   "cell_type": "code",
   "execution_count": 36,
   "metadata": {},
   "outputs": [
    {
     "data": {
      "text/plain": [
       "((2206, 41), (552, 41))"
      ]
     },
     "execution_count": 36,
     "metadata": {},
     "output_type": "execute_result"
    }
   ],
   "source": [
    "train_set.shape, test_set.shape"
   ]
  },
  {
   "cell_type": "code",
   "execution_count": 37,
   "metadata": {
    "collapsed": true
   },
   "outputs": [],
   "source": [
    "#we create a copy of the train data we will work with\n",
    "df6_copy = train_set.copy()"
   ]
  },
  {
   "cell_type": "code",
   "execution_count": null,
   "metadata": {
    "collapsed": true
   },
   "outputs": [],
   "source": []
  },
  {
   "cell_type": "code",
   "execution_count": null,
   "metadata": {
    "collapsed": true
   },
   "outputs": [],
   "source": []
  },
  {
   "cell_type": "markdown",
   "metadata": {},
   "source": [
    "### Inferential statistics on the training set data"
   ]
  },
  {
   "cell_type": "markdown",
   "metadata": {},
   "source": [
    "One way to infer relationships in a dataset is using the Pearson's r - correlation. This provides both a descriptive and inferential statistics. It describes the relationship between two paired variables in a given sample; it also provides a very\n",
    "good estimate for this relationship in the population from which the paired sample was taken. The correlation coefficient of all features with the target variables is as shown below."
   ]
  },
  {
   "cell_type": "code",
   "execution_count": 38,
   "metadata": {},
   "outputs": [
    {
     "data": {
      "text/plain": [
       "INT_IDEO        1.000000\n",
       "INT_LOG         0.995097\n",
       "INT_ANY         0.926308\n",
       "doubtterr       0.162708\n",
       "guncertain1     0.130487\n",
       "INT_MISC        0.124093\n",
       "nperps          0.099519\n",
       "imonth          0.093175\n",
       "ishostkid       0.089270\n",
       "crit1           0.082524\n",
       "iday            0.080582\n",
       "property        0.064731\n",
       "propextent      0.050864\n",
       "nkillus         0.050421\n",
       "nwound          0.035175\n",
       "nkill           0.034335\n",
       "success         0.030219\n",
       "nperpcap        0.028525\n",
       "ransom          0.028081\n",
       "nwoundte        0.020506\n",
       "vicinity        0.013300\n",
       "suicide         0.012432\n",
       "nwoundus        0.011933\n",
       "extended        0.011790\n",
       "multiple        0.011188\n",
       "nkillter        0.008645\n",
       "claimed        -0.011660\n",
       "natlty1        -0.024602\n",
       "propvalue      -0.028043\n",
       "weaptype1      -0.031902\n",
       "crit3          -0.033850\n",
       "weapsubtype1   -0.075121\n",
       "crit2          -0.128664\n",
       "attacktype1    -0.137612\n",
       "iyear          -0.153564\n",
       "targtype1      -0.154844\n",
       "targsubtype1   -0.192335\n",
       "individual     -0.293402\n",
       "Name: INT_IDEO, dtype: float64"
      ]
     },
     "execution_count": 38,
     "metadata": {},
     "output_type": "execute_result"
    }
   ],
   "source": [
    "#checking correlation of all features with the target variable - 'active_user'\n",
    "corr_matrix = df6_copy.corr()\n",
    "corr_matrix['INT_IDEO'].sort_values(ascending=False)"
   ]
  },
  {
   "cell_type": "markdown",
   "metadata": {},
   "source": [
    "We see that most predictors under consideration either have a weak positive or negative linear correlation with active user, except one. The closer the correlation values are to zero, the certainty it is that there is no linear correlation. When the values are closer to either 1 or -1, we have a strong positive linear correlation or strong negative linear correlation respectively. Further transformation of each variables, combining variables or use of a non-linear models may be needed. We can revisit this if model outcome is questionable for further tweaking."
   ]
  },
  {
   "cell_type": "markdown",
   "metadata": {},
   "source": [
    "*** A further look into the inferential statistics of this dataset can be found at https://github.com/andyogah/data_science_capstone_project_1/blob/master/data_science_capstone_project_1%20(2)%20inferential_statistics.ipynb***"
   ]
  },
  {
   "cell_type": "code",
   "execution_count": null,
   "metadata": {
    "collapsed": true
   },
   "outputs": [],
   "source": []
  },
  {
   "cell_type": "markdown",
   "metadata": {},
   "source": [
    "### Additional EDA to gain more insights into attack occurrences on the training set data"
   ]
  },
  {
   "cell_type": "markdown",
   "metadata": {},
   "source": [
    "Since the label or target variable is categorical, it wouldn't make sense to use a scatterplot to visualize relationship of such with other predictor variables. Scatterplot are better choice for visualizing association between continuous variables. Bar plots and/or boxplots are better choice for categorical variables. Both were used in the EDA below in this section."
   ]
  },
  {
   "cell_type": "markdown",
   "metadata": {},
   "source": [
    "*** Removing the unknowns from group name (gname) column ***"
   ]
  },
  {
   "cell_type": "code",
   "execution_count": 39,
   "metadata": {
    "collapsed": true
   },
   "outputs": [],
   "source": [
    "#df6 = df5_copy[df5_copy['gname'] != 'Unknown']\n",
    "#df6.shape"
   ]
  },
  {
   "cell_type": "code",
   "execution_count": 40,
   "metadata": {
    "collapsed": true
   },
   "outputs": [],
   "source": [
    "# this will be useful in future analysis as an out of sample dataset \n",
    "#df7 = df5_copy[df5_copy['gname'] == 'Unknown']\n",
    "#df7.shape"
   ]
  },
  {
   "cell_type": "code",
   "execution_count": null,
   "metadata": {
    "collapsed": true
   },
   "outputs": [],
   "source": []
  },
  {
   "cell_type": "markdown",
   "metadata": {},
   "source": [
    "*** Reseting the Index ***\n"
   ]
  },
  {
   "cell_type": "code",
   "execution_count": 41,
   "metadata": {},
   "outputs": [
    {
     "data": {
      "text/html": [
       "<div>\n",
       "<style>\n",
       "    .dataframe thead tr:only-child th {\n",
       "        text-align: right;\n",
       "    }\n",
       "\n",
       "    .dataframe thead th {\n",
       "        text-align: left;\n",
       "    }\n",
       "\n",
       "    .dataframe tbody tr th {\n",
       "        vertical-align: top;\n",
       "    }\n",
       "</style>\n",
       "<table border=\"1\" class=\"dataframe\">\n",
       "  <thead>\n",
       "    <tr style=\"text-align: right;\">\n",
       "      <th></th>\n",
       "      <th>iyear</th>\n",
       "      <th>imonth</th>\n",
       "      <th>iday</th>\n",
       "      <th>extended</th>\n",
       "      <th>city</th>\n",
       "      <th>vicinity</th>\n",
       "      <th>crit1</th>\n",
       "      <th>crit2</th>\n",
       "      <th>crit3</th>\n",
       "      <th>doubtterr</th>\n",
       "      <th>multiple</th>\n",
       "      <th>success</th>\n",
       "      <th>suicide</th>\n",
       "      <th>attacktype1</th>\n",
       "      <th>targtype1</th>\n",
       "      <th>targsubtype1</th>\n",
       "      <th>natlty1</th>\n",
       "      <th>gname</th>\n",
       "      <th>guncertain1</th>\n",
       "      <th>individual</th>\n",
       "      <th>nperps</th>\n",
       "      <th>nperpcap</th>\n",
       "      <th>claimed</th>\n",
       "      <th>weaptype1</th>\n",
       "      <th>weapsubtype1</th>\n",
       "      <th>nkill</th>\n",
       "      <th>nkillus</th>\n",
       "      <th>nkillter</th>\n",
       "      <th>nwound</th>\n",
       "      <th>nwoundus</th>\n",
       "      <th>nwoundte</th>\n",
       "      <th>property</th>\n",
       "      <th>propextent</th>\n",
       "      <th>propvalue</th>\n",
       "      <th>ishostkid</th>\n",
       "      <th>ransom</th>\n",
       "      <th>INT_LOG</th>\n",
       "      <th>INT_IDEO</th>\n",
       "      <th>INT_MISC</th>\n",
       "      <th>INT_ANY</th>\n",
       "      <th>state_region</th>\n",
       "    </tr>\n",
       "  </thead>\n",
       "  <tbody>\n",
       "    <tr>\n",
       "      <th>2649</th>\n",
       "      <td>2014</td>\n",
       "      <td>11</td>\n",
       "      <td>4</td>\n",
       "      <td>0</td>\n",
       "      <td>Roswell</td>\n",
       "      <td>0</td>\n",
       "      <td>1</td>\n",
       "      <td>1</td>\n",
       "      <td>1</td>\n",
       "      <td>0</td>\n",
       "      <td>0</td>\n",
       "      <td>0</td>\n",
       "      <td>0</td>\n",
       "      <td>3</td>\n",
       "      <td>14</td>\n",
       "      <td>79.0</td>\n",
       "      <td>217.0</td>\n",
       "      <td>Unknown</td>\n",
       "      <td>0.0</td>\n",
       "      <td>1</td>\n",
       "      <td>1.0</td>\n",
       "      <td>1.0</td>\n",
       "      <td>1.0</td>\n",
       "      <td>6</td>\n",
       "      <td>17.0</td>\n",
       "      <td>0.0</td>\n",
       "      <td>0.0</td>\n",
       "      <td>0.0</td>\n",
       "      <td>0.0</td>\n",
       "      <td>0.0</td>\n",
       "      <td>0.0</td>\n",
       "      <td>0</td>\n",
       "      <td>NaN</td>\n",
       "      <td>NaN</td>\n",
       "      <td>0.0</td>\n",
       "      <td>NaN</td>\n",
       "      <td>-9</td>\n",
       "      <td>-9</td>\n",
       "      <td>0</td>\n",
       "      <td>-9</td>\n",
       "      <td>South</td>\n",
       "    </tr>\n",
       "    <tr>\n",
       "      <th>261</th>\n",
       "      <td>1970</td>\n",
       "      <td>5</td>\n",
       "      <td>30</td>\n",
       "      <td>0</td>\n",
       "      <td>New York City</td>\n",
       "      <td>0</td>\n",
       "      <td>1</td>\n",
       "      <td>1</td>\n",
       "      <td>1</td>\n",
       "      <td>0</td>\n",
       "      <td>0</td>\n",
       "      <td>1</td>\n",
       "      <td>0</td>\n",
       "      <td>3</td>\n",
       "      <td>1</td>\n",
       "      <td>12.0</td>\n",
       "      <td>217.0</td>\n",
       "      <td>Left-Wing Militants</td>\n",
       "      <td>0.0</td>\n",
       "      <td>0</td>\n",
       "      <td>-99.0</td>\n",
       "      <td>-99.0</td>\n",
       "      <td>0.0</td>\n",
       "      <td>6</td>\n",
       "      <td>28.0</td>\n",
       "      <td>0.0</td>\n",
       "      <td>0.0</td>\n",
       "      <td>0.0</td>\n",
       "      <td>0.0</td>\n",
       "      <td>0.0</td>\n",
       "      <td>0.0</td>\n",
       "      <td>1</td>\n",
       "      <td>3.0</td>\n",
       "      <td>3000.0</td>\n",
       "      <td>0.0</td>\n",
       "      <td>0.0</td>\n",
       "      <td>-9</td>\n",
       "      <td>-9</td>\n",
       "      <td>0</td>\n",
       "      <td>-9</td>\n",
       "      <td>Northeast</td>\n",
       "    </tr>\n",
       "    <tr>\n",
       "      <th>1610</th>\n",
       "      <td>1981</td>\n",
       "      <td>12</td>\n",
       "      <td>24</td>\n",
       "      <td>0</td>\n",
       "      <td>New York City</td>\n",
       "      <td>0</td>\n",
       "      <td>1</td>\n",
       "      <td>1</td>\n",
       "      <td>1</td>\n",
       "      <td>0</td>\n",
       "      <td>0</td>\n",
       "      <td>0</td>\n",
       "      <td>0</td>\n",
       "      <td>3</td>\n",
       "      <td>7</td>\n",
       "      <td>47.0</td>\n",
       "      <td>359.0</td>\n",
       "      <td>Jewish Defense League (JDL)</td>\n",
       "      <td>0.0</td>\n",
       "      <td>0</td>\n",
       "      <td>NaN</td>\n",
       "      <td>NaN</td>\n",
       "      <td>NaN</td>\n",
       "      <td>6</td>\n",
       "      <td>14.0</td>\n",
       "      <td>0.0</td>\n",
       "      <td>0.0</td>\n",
       "      <td>NaN</td>\n",
       "      <td>0.0</td>\n",
       "      <td>0.0</td>\n",
       "      <td>NaN</td>\n",
       "      <td>1</td>\n",
       "      <td>NaN</td>\n",
       "      <td>NaN</td>\n",
       "      <td>0.0</td>\n",
       "      <td>0.0</td>\n",
       "      <td>0</td>\n",
       "      <td>1</td>\n",
       "      <td>1</td>\n",
       "      <td>1</td>\n",
       "      <td>Northeast</td>\n",
       "    </tr>\n",
       "    <tr>\n",
       "      <th>1407</th>\n",
       "      <td>1979</td>\n",
       "      <td>2</td>\n",
       "      <td>27</td>\n",
       "      <td>0</td>\n",
       "      <td>Eastchester</td>\n",
       "      <td>0</td>\n",
       "      <td>1</td>\n",
       "      <td>1</td>\n",
       "      <td>1</td>\n",
       "      <td>0</td>\n",
       "      <td>0</td>\n",
       "      <td>1</td>\n",
       "      <td>0</td>\n",
       "      <td>3</td>\n",
       "      <td>1</td>\n",
       "      <td>4.0</td>\n",
       "      <td>217.0</td>\n",
       "      <td>United Freedom Front (UFF)</td>\n",
       "      <td>0.0</td>\n",
       "      <td>0</td>\n",
       "      <td>NaN</td>\n",
       "      <td>NaN</td>\n",
       "      <td>NaN</td>\n",
       "      <td>6</td>\n",
       "      <td>16.0</td>\n",
       "      <td>0.0</td>\n",
       "      <td>NaN</td>\n",
       "      <td>NaN</td>\n",
       "      <td>0.0</td>\n",
       "      <td>NaN</td>\n",
       "      <td>NaN</td>\n",
       "      <td>1</td>\n",
       "      <td>4.0</td>\n",
       "      <td>NaN</td>\n",
       "      <td>0.0</td>\n",
       "      <td>0.0</td>\n",
       "      <td>0</td>\n",
       "      <td>0</td>\n",
       "      <td>0</td>\n",
       "      <td>0</td>\n",
       "      <td>Northeast</td>\n",
       "    </tr>\n",
       "    <tr>\n",
       "      <th>1789</th>\n",
       "      <td>1984</td>\n",
       "      <td>12</td>\n",
       "      <td>10</td>\n",
       "      <td>0</td>\n",
       "      <td>Cayey</td>\n",
       "      <td>0</td>\n",
       "      <td>1</td>\n",
       "      <td>1</td>\n",
       "      <td>1</td>\n",
       "      <td>0</td>\n",
       "      <td>1</td>\n",
       "      <td>0</td>\n",
       "      <td>0</td>\n",
       "      <td>3</td>\n",
       "      <td>4</td>\n",
       "      <td>28.0</td>\n",
       "      <td>217.0</td>\n",
       "      <td>Organization of Volunteers for the Puerto Rica...</td>\n",
       "      <td>0.0</td>\n",
       "      <td>0</td>\n",
       "      <td>-99.0</td>\n",
       "      <td>-99.0</td>\n",
       "      <td>0.0</td>\n",
       "      <td>6</td>\n",
       "      <td>17.0</td>\n",
       "      <td>0.0</td>\n",
       "      <td>0.0</td>\n",
       "      <td>0.0</td>\n",
       "      <td>0.0</td>\n",
       "      <td>0.0</td>\n",
       "      <td>0.0</td>\n",
       "      <td>1</td>\n",
       "      <td>3.0</td>\n",
       "      <td>-99.0</td>\n",
       "      <td>0.0</td>\n",
       "      <td>NaN</td>\n",
       "      <td>0</td>\n",
       "      <td>0</td>\n",
       "      <td>0</td>\n",
       "      <td>0</td>\n",
       "      <td>Others</td>\n",
       "    </tr>\n",
       "  </tbody>\n",
       "</table>\n",
       "</div>"
      ],
      "text/plain": [
       "      iyear  imonth  iday  extended           city  vicinity  crit1  crit2  \\\n",
       "2649   2014      11     4         0        Roswell         0      1      1   \n",
       "261    1970       5    30         0  New York City         0      1      1   \n",
       "1610   1981      12    24         0  New York City         0      1      1   \n",
       "1407   1979       2    27         0    Eastchester         0      1      1   \n",
       "1789   1984      12    10         0          Cayey         0      1      1   \n",
       "\n",
       "      crit3  doubtterr  multiple  success  suicide  attacktype1  targtype1  \\\n",
       "2649      1          0         0        0        0            3         14   \n",
       "261       1          0         0        1        0            3          1   \n",
       "1610      1          0         0        0        0            3          7   \n",
       "1407      1          0         0        1        0            3          1   \n",
       "1789      1          0         1        0        0            3          4   \n",
       "\n",
       "      targsubtype1  natlty1  \\\n",
       "2649          79.0    217.0   \n",
       "261           12.0    217.0   \n",
       "1610          47.0    359.0   \n",
       "1407           4.0    217.0   \n",
       "1789          28.0    217.0   \n",
       "\n",
       "                                                  gname  guncertain1  \\\n",
       "2649                                            Unknown          0.0   \n",
       "261                                 Left-Wing Militants          0.0   \n",
       "1610                        Jewish Defense League (JDL)          0.0   \n",
       "1407                         United Freedom Front (UFF)          0.0   \n",
       "1789  Organization of Volunteers for the Puerto Rica...          0.0   \n",
       "\n",
       "      individual  nperps  nperpcap  claimed  weaptype1  weapsubtype1  nkill  \\\n",
       "2649           1     1.0       1.0      1.0          6          17.0    0.0   \n",
       "261            0   -99.0     -99.0      0.0          6          28.0    0.0   \n",
       "1610           0     NaN       NaN      NaN          6          14.0    0.0   \n",
       "1407           0     NaN       NaN      NaN          6          16.0    0.0   \n",
       "1789           0   -99.0     -99.0      0.0          6          17.0    0.0   \n",
       "\n",
       "      nkillus  nkillter  nwound  nwoundus  nwoundte  property  propextent  \\\n",
       "2649      0.0       0.0     0.0       0.0       0.0         0         NaN   \n",
       "261       0.0       0.0     0.0       0.0       0.0         1         3.0   \n",
       "1610      0.0       NaN     0.0       0.0       NaN         1         NaN   \n",
       "1407      NaN       NaN     0.0       NaN       NaN         1         4.0   \n",
       "1789      0.0       0.0     0.0       0.0       0.0         1         3.0   \n",
       "\n",
       "      propvalue  ishostkid  ransom  INT_LOG  INT_IDEO  INT_MISC  INT_ANY  \\\n",
       "2649        NaN        0.0     NaN       -9        -9         0       -9   \n",
       "261      3000.0        0.0     0.0       -9        -9         0       -9   \n",
       "1610        NaN        0.0     0.0        0         1         1        1   \n",
       "1407        NaN        0.0     0.0        0         0         0        0   \n",
       "1789      -99.0        0.0     NaN        0         0         0        0   \n",
       "\n",
       "     state_region  \n",
       "2649        South  \n",
       "261     Northeast  \n",
       "1610    Northeast  \n",
       "1407    Northeast  \n",
       "1789       Others  "
      ]
     },
     "execution_count": 41,
     "metadata": {},
     "output_type": "execute_result"
    }
   ],
   "source": [
    "df6_copy.head()"
   ]
  },
  {
   "cell_type": "code",
   "execution_count": 42,
   "metadata": {},
   "outputs": [
    {
     "data": {
      "text/html": [
       "<div>\n",
       "<style>\n",
       "    .dataframe thead tr:only-child th {\n",
       "        text-align: right;\n",
       "    }\n",
       "\n",
       "    .dataframe thead th {\n",
       "        text-align: left;\n",
       "    }\n",
       "\n",
       "    .dataframe tbody tr th {\n",
       "        vertical-align: top;\n",
       "    }\n",
       "</style>\n",
       "<table border=\"1\" class=\"dataframe\">\n",
       "  <thead>\n",
       "    <tr style=\"text-align: right;\">\n",
       "      <th></th>\n",
       "      <th>iyear</th>\n",
       "      <th>imonth</th>\n",
       "      <th>iday</th>\n",
       "      <th>extended</th>\n",
       "      <th>city</th>\n",
       "      <th>vicinity</th>\n",
       "      <th>crit1</th>\n",
       "      <th>crit2</th>\n",
       "      <th>crit3</th>\n",
       "      <th>doubtterr</th>\n",
       "      <th>multiple</th>\n",
       "      <th>success</th>\n",
       "      <th>suicide</th>\n",
       "      <th>attacktype1</th>\n",
       "      <th>targtype1</th>\n",
       "      <th>targsubtype1</th>\n",
       "      <th>natlty1</th>\n",
       "      <th>gname</th>\n",
       "      <th>guncertain1</th>\n",
       "      <th>individual</th>\n",
       "      <th>nperps</th>\n",
       "      <th>nperpcap</th>\n",
       "      <th>claimed</th>\n",
       "      <th>weaptype1</th>\n",
       "      <th>weapsubtype1</th>\n",
       "      <th>nkill</th>\n",
       "      <th>nkillus</th>\n",
       "      <th>nkillter</th>\n",
       "      <th>nwound</th>\n",
       "      <th>nwoundus</th>\n",
       "      <th>nwoundte</th>\n",
       "      <th>property</th>\n",
       "      <th>propextent</th>\n",
       "      <th>propvalue</th>\n",
       "      <th>ishostkid</th>\n",
       "      <th>ransom</th>\n",
       "      <th>INT_LOG</th>\n",
       "      <th>INT_IDEO</th>\n",
       "      <th>INT_MISC</th>\n",
       "      <th>INT_ANY</th>\n",
       "      <th>state_region</th>\n",
       "    </tr>\n",
       "  </thead>\n",
       "  <tbody>\n",
       "    <tr>\n",
       "      <th>0</th>\n",
       "      <td>2014</td>\n",
       "      <td>11</td>\n",
       "      <td>4</td>\n",
       "      <td>0</td>\n",
       "      <td>Roswell</td>\n",
       "      <td>0</td>\n",
       "      <td>1</td>\n",
       "      <td>1</td>\n",
       "      <td>1</td>\n",
       "      <td>0</td>\n",
       "      <td>0</td>\n",
       "      <td>0</td>\n",
       "      <td>0</td>\n",
       "      <td>3</td>\n",
       "      <td>14</td>\n",
       "      <td>79.0</td>\n",
       "      <td>217.0</td>\n",
       "      <td>Unknown</td>\n",
       "      <td>0.0</td>\n",
       "      <td>1</td>\n",
       "      <td>1.0</td>\n",
       "      <td>1.0</td>\n",
       "      <td>1.0</td>\n",
       "      <td>6</td>\n",
       "      <td>17.0</td>\n",
       "      <td>0.0</td>\n",
       "      <td>0.0</td>\n",
       "      <td>0.0</td>\n",
       "      <td>0.0</td>\n",
       "      <td>0.0</td>\n",
       "      <td>0.0</td>\n",
       "      <td>0</td>\n",
       "      <td>NaN</td>\n",
       "      <td>NaN</td>\n",
       "      <td>0.0</td>\n",
       "      <td>NaN</td>\n",
       "      <td>-9</td>\n",
       "      <td>-9</td>\n",
       "      <td>0</td>\n",
       "      <td>-9</td>\n",
       "      <td>South</td>\n",
       "    </tr>\n",
       "    <tr>\n",
       "      <th>1</th>\n",
       "      <td>1970</td>\n",
       "      <td>5</td>\n",
       "      <td>30</td>\n",
       "      <td>0</td>\n",
       "      <td>New York City</td>\n",
       "      <td>0</td>\n",
       "      <td>1</td>\n",
       "      <td>1</td>\n",
       "      <td>1</td>\n",
       "      <td>0</td>\n",
       "      <td>0</td>\n",
       "      <td>1</td>\n",
       "      <td>0</td>\n",
       "      <td>3</td>\n",
       "      <td>1</td>\n",
       "      <td>12.0</td>\n",
       "      <td>217.0</td>\n",
       "      <td>Left-Wing Militants</td>\n",
       "      <td>0.0</td>\n",
       "      <td>0</td>\n",
       "      <td>-99.0</td>\n",
       "      <td>-99.0</td>\n",
       "      <td>0.0</td>\n",
       "      <td>6</td>\n",
       "      <td>28.0</td>\n",
       "      <td>0.0</td>\n",
       "      <td>0.0</td>\n",
       "      <td>0.0</td>\n",
       "      <td>0.0</td>\n",
       "      <td>0.0</td>\n",
       "      <td>0.0</td>\n",
       "      <td>1</td>\n",
       "      <td>3.0</td>\n",
       "      <td>3000.0</td>\n",
       "      <td>0.0</td>\n",
       "      <td>0.0</td>\n",
       "      <td>-9</td>\n",
       "      <td>-9</td>\n",
       "      <td>0</td>\n",
       "      <td>-9</td>\n",
       "      <td>Northeast</td>\n",
       "    </tr>\n",
       "    <tr>\n",
       "      <th>2</th>\n",
       "      <td>1981</td>\n",
       "      <td>12</td>\n",
       "      <td>24</td>\n",
       "      <td>0</td>\n",
       "      <td>New York City</td>\n",
       "      <td>0</td>\n",
       "      <td>1</td>\n",
       "      <td>1</td>\n",
       "      <td>1</td>\n",
       "      <td>0</td>\n",
       "      <td>0</td>\n",
       "      <td>0</td>\n",
       "      <td>0</td>\n",
       "      <td>3</td>\n",
       "      <td>7</td>\n",
       "      <td>47.0</td>\n",
       "      <td>359.0</td>\n",
       "      <td>Jewish Defense League (JDL)</td>\n",
       "      <td>0.0</td>\n",
       "      <td>0</td>\n",
       "      <td>NaN</td>\n",
       "      <td>NaN</td>\n",
       "      <td>NaN</td>\n",
       "      <td>6</td>\n",
       "      <td>14.0</td>\n",
       "      <td>0.0</td>\n",
       "      <td>0.0</td>\n",
       "      <td>NaN</td>\n",
       "      <td>0.0</td>\n",
       "      <td>0.0</td>\n",
       "      <td>NaN</td>\n",
       "      <td>1</td>\n",
       "      <td>NaN</td>\n",
       "      <td>NaN</td>\n",
       "      <td>0.0</td>\n",
       "      <td>0.0</td>\n",
       "      <td>0</td>\n",
       "      <td>1</td>\n",
       "      <td>1</td>\n",
       "      <td>1</td>\n",
       "      <td>Northeast</td>\n",
       "    </tr>\n",
       "    <tr>\n",
       "      <th>3</th>\n",
       "      <td>1979</td>\n",
       "      <td>2</td>\n",
       "      <td>27</td>\n",
       "      <td>0</td>\n",
       "      <td>Eastchester</td>\n",
       "      <td>0</td>\n",
       "      <td>1</td>\n",
       "      <td>1</td>\n",
       "      <td>1</td>\n",
       "      <td>0</td>\n",
       "      <td>0</td>\n",
       "      <td>1</td>\n",
       "      <td>0</td>\n",
       "      <td>3</td>\n",
       "      <td>1</td>\n",
       "      <td>4.0</td>\n",
       "      <td>217.0</td>\n",
       "      <td>United Freedom Front (UFF)</td>\n",
       "      <td>0.0</td>\n",
       "      <td>0</td>\n",
       "      <td>NaN</td>\n",
       "      <td>NaN</td>\n",
       "      <td>NaN</td>\n",
       "      <td>6</td>\n",
       "      <td>16.0</td>\n",
       "      <td>0.0</td>\n",
       "      <td>NaN</td>\n",
       "      <td>NaN</td>\n",
       "      <td>0.0</td>\n",
       "      <td>NaN</td>\n",
       "      <td>NaN</td>\n",
       "      <td>1</td>\n",
       "      <td>4.0</td>\n",
       "      <td>NaN</td>\n",
       "      <td>0.0</td>\n",
       "      <td>0.0</td>\n",
       "      <td>0</td>\n",
       "      <td>0</td>\n",
       "      <td>0</td>\n",
       "      <td>0</td>\n",
       "      <td>Northeast</td>\n",
       "    </tr>\n",
       "    <tr>\n",
       "      <th>4</th>\n",
       "      <td>1984</td>\n",
       "      <td>12</td>\n",
       "      <td>10</td>\n",
       "      <td>0</td>\n",
       "      <td>Cayey</td>\n",
       "      <td>0</td>\n",
       "      <td>1</td>\n",
       "      <td>1</td>\n",
       "      <td>1</td>\n",
       "      <td>0</td>\n",
       "      <td>1</td>\n",
       "      <td>0</td>\n",
       "      <td>0</td>\n",
       "      <td>3</td>\n",
       "      <td>4</td>\n",
       "      <td>28.0</td>\n",
       "      <td>217.0</td>\n",
       "      <td>Organization of Volunteers for the Puerto Rica...</td>\n",
       "      <td>0.0</td>\n",
       "      <td>0</td>\n",
       "      <td>-99.0</td>\n",
       "      <td>-99.0</td>\n",
       "      <td>0.0</td>\n",
       "      <td>6</td>\n",
       "      <td>17.0</td>\n",
       "      <td>0.0</td>\n",
       "      <td>0.0</td>\n",
       "      <td>0.0</td>\n",
       "      <td>0.0</td>\n",
       "      <td>0.0</td>\n",
       "      <td>0.0</td>\n",
       "      <td>1</td>\n",
       "      <td>3.0</td>\n",
       "      <td>-99.0</td>\n",
       "      <td>0.0</td>\n",
       "      <td>NaN</td>\n",
       "      <td>0</td>\n",
       "      <td>0</td>\n",
       "      <td>0</td>\n",
       "      <td>0</td>\n",
       "      <td>Others</td>\n",
       "    </tr>\n",
       "  </tbody>\n",
       "</table>\n",
       "</div>"
      ],
      "text/plain": [
       "   iyear  imonth  iday  extended           city  vicinity  crit1  crit2  \\\n",
       "0   2014      11     4         0        Roswell         0      1      1   \n",
       "1   1970       5    30         0  New York City         0      1      1   \n",
       "2   1981      12    24         0  New York City         0      1      1   \n",
       "3   1979       2    27         0    Eastchester         0      1      1   \n",
       "4   1984      12    10         0          Cayey         0      1      1   \n",
       "\n",
       "   crit3  doubtterr  multiple  success  suicide  attacktype1  targtype1  \\\n",
       "0      1          0         0        0        0            3         14   \n",
       "1      1          0         0        1        0            3          1   \n",
       "2      1          0         0        0        0            3          7   \n",
       "3      1          0         0        1        0            3          1   \n",
       "4      1          0         1        0        0            3          4   \n",
       "\n",
       "   targsubtype1  natlty1                                              gname  \\\n",
       "0          79.0    217.0                                            Unknown   \n",
       "1          12.0    217.0                                Left-Wing Militants   \n",
       "2          47.0    359.0                        Jewish Defense League (JDL)   \n",
       "3           4.0    217.0                         United Freedom Front (UFF)   \n",
       "4          28.0    217.0  Organization of Volunteers for the Puerto Rica...   \n",
       "\n",
       "   guncertain1  individual  nperps  nperpcap  claimed  weaptype1  \\\n",
       "0          0.0           1     1.0       1.0      1.0          6   \n",
       "1          0.0           0   -99.0     -99.0      0.0          6   \n",
       "2          0.0           0     NaN       NaN      NaN          6   \n",
       "3          0.0           0     NaN       NaN      NaN          6   \n",
       "4          0.0           0   -99.0     -99.0      0.0          6   \n",
       "\n",
       "   weapsubtype1  nkill  nkillus  nkillter  nwound  nwoundus  nwoundte  \\\n",
       "0          17.0    0.0      0.0       0.0     0.0       0.0       0.0   \n",
       "1          28.0    0.0      0.0       0.0     0.0       0.0       0.0   \n",
       "2          14.0    0.0      0.0       NaN     0.0       0.0       NaN   \n",
       "3          16.0    0.0      NaN       NaN     0.0       NaN       NaN   \n",
       "4          17.0    0.0      0.0       0.0     0.0       0.0       0.0   \n",
       "\n",
       "   property  propextent  propvalue  ishostkid  ransom  INT_LOG  INT_IDEO  \\\n",
       "0         0         NaN        NaN        0.0     NaN       -9        -9   \n",
       "1         1         3.0     3000.0        0.0     0.0       -9        -9   \n",
       "2         1         NaN        NaN        0.0     0.0        0         1   \n",
       "3         1         4.0        NaN        0.0     0.0        0         0   \n",
       "4         1         3.0      -99.0        0.0     NaN        0         0   \n",
       "\n",
       "   INT_MISC  INT_ANY state_region  \n",
       "0         0       -9        South  \n",
       "1         0       -9    Northeast  \n",
       "2         1        1    Northeast  \n",
       "3         0        0    Northeast  \n",
       "4         0        0       Others  "
      ]
     },
     "execution_count": 42,
     "metadata": {},
     "output_type": "execute_result"
    }
   ],
   "source": [
    "#df8 = df6.reset_index(drop=True)\n",
    "df7 = df6_copy.reset_index(drop=True)\n",
    "df7.head()"
   ]
  },
  {
   "cell_type": "code",
   "execution_count": 43,
   "metadata": {},
   "outputs": [
    {
     "data": {
      "text/plain": [
       "(2206, 41)"
      ]
     },
     "execution_count": 43,
     "metadata": {},
     "output_type": "execute_result"
    }
   ],
   "source": [
    "df7.shape"
   ]
  },
  {
   "cell_type": "code",
   "execution_count": 44,
   "metadata": {},
   "outputs": [
    {
     "data": {
      "image/png": "[encoded data removed]",
      "text/plain": [
       "<matplotlib.figure.Figure at 0x1d121f06630>"
      ]
     },
     "metadata": {},
     "output_type": "display_data"
    }
   ],
   "source": [
    "# i chose to do vi\n",
    "fig = plt.figure(figsize=(30, 20))\n",
    "fig.add_subplot(1,1,1)\n",
    "sns.countplot(x=\"iyear\", hue=\"INT_IDEO\", data=df7)\n",
    "plt.show()"
   ]
  },
  {
   "cell_type": "markdown",
   "metadata": {},
   "source": [
    "The 2-dimensional chart above shows the overall trend of attacks in the US, with zero (0) representing americans and a one(1) being a foreign citizen. This plot shows overall attack trend were much higher 30 to 40 years compared to what we have now, probably because of social awareness and technological advancement in curbing such occurrences. The unknown class in this variable will probably cause a lot of uncertainities because according to data owners at the Uniuversity of Maryland, these are people whose citizenship could not identified. This could tilt analysis and judgement in either ways of each of the other classes, if indeed they were identified. \n"
   ]
  },
  {
   "cell_type": "markdown",
   "metadata": {
    "collapsed": true
   },
   "source": [
    "A good and probably the best way to represent a categorical variable is the bar or pie chart because we are looking at the comparison between proportions. So, I will be using both in this analysis.\n",
    "\n",
    "The first question we need to ask of the data is, since 1970 - when the collection of terrorism data started, till date, which is more than a period of over forty-five years, can we say the proportion of known attacks perpetrated by foreigners is same as those of citizens of the US?"
   ]
  },
  {
   "cell_type": "code",
   "execution_count": 45,
   "metadata": {},
   "outputs": [
    {
     "data": {
      "text/plain": [
       "-9    1104\n",
       " 0     697\n",
       " 1     405\n",
       "Name: INT_IDEO, dtype: int64"
      ]
     },
     "execution_count": 45,
     "metadata": {},
     "output_type": "execute_result"
    }
   ],
   "source": [
    "df7['INT_IDEO'].value_counts()"
   ]
  },
  {
   "cell_type": "code",
   "execution_count": null,
   "metadata": {
    "collapsed": true
   },
   "outputs": [],
   "source": []
  },
  {
   "cell_type": "code",
   "execution_count": null,
   "metadata": {
    "collapsed": true
   },
   "outputs": [],
   "source": []
  },
  {
   "cell_type": "code",
   "execution_count": 46,
   "metadata": {},
   "outputs": [
    {
     "data": {
      "text/html": [
       "<div>\n",
       "<style>\n",
       "    .dataframe thead tr:only-child th {\n",
       "        text-align: right;\n",
       "    }\n",
       "\n",
       "    .dataframe thead th {\n",
       "        text-align: left;\n",
       "    }\n",
       "\n",
       "    .dataframe tbody tr th {\n",
       "        vertical-align: top;\n",
       "    }\n",
       "</style>\n",
       "<table border=\"1\" class=\"dataframe\">\n",
       "  <thead>\n",
       "    <tr style=\"text-align: right;\">\n",
       "      <th></th>\n",
       "      <th>iyear</th>\n",
       "      <th>imonth</th>\n",
       "      <th>iday</th>\n",
       "      <th>extended</th>\n",
       "      <th>city</th>\n",
       "      <th>vicinity</th>\n",
       "      <th>crit1</th>\n",
       "      <th>crit2</th>\n",
       "      <th>crit3</th>\n",
       "      <th>doubtterr</th>\n",
       "      <th>multiple</th>\n",
       "      <th>success</th>\n",
       "      <th>suicide</th>\n",
       "      <th>attacktype1</th>\n",
       "      <th>targtype1</th>\n",
       "      <th>targsubtype1</th>\n",
       "      <th>natlty1</th>\n",
       "      <th>gname</th>\n",
       "      <th>guncertain1</th>\n",
       "      <th>individual</th>\n",
       "      <th>nperps</th>\n",
       "      <th>nperpcap</th>\n",
       "      <th>claimed</th>\n",
       "      <th>weaptype1</th>\n",
       "      <th>weapsubtype1</th>\n",
       "      <th>nkill</th>\n",
       "      <th>nkillus</th>\n",
       "      <th>nkillter</th>\n",
       "      <th>nwound</th>\n",
       "      <th>nwoundus</th>\n",
       "      <th>nwoundte</th>\n",
       "      <th>property</th>\n",
       "      <th>propextent</th>\n",
       "      <th>propvalue</th>\n",
       "      <th>ishostkid</th>\n",
       "      <th>ransom</th>\n",
       "      <th>INT_LOG</th>\n",
       "      <th>INT_IDEO</th>\n",
       "      <th>INT_MISC</th>\n",
       "      <th>INT_ANY</th>\n",
       "      <th>state_region</th>\n",
       "    </tr>\n",
       "  </thead>\n",
       "  <tbody>\n",
       "    <tr>\n",
       "      <th>0</th>\n",
       "      <td>1981</td>\n",
       "      <td>12</td>\n",
       "      <td>24</td>\n",
       "      <td>0</td>\n",
       "      <td>New York City</td>\n",
       "      <td>0</td>\n",
       "      <td>1</td>\n",
       "      <td>1</td>\n",
       "      <td>1</td>\n",
       "      <td>0</td>\n",
       "      <td>0</td>\n",
       "      <td>0</td>\n",
       "      <td>0</td>\n",
       "      <td>3</td>\n",
       "      <td>7</td>\n",
       "      <td>47.0</td>\n",
       "      <td>359.0</td>\n",
       "      <td>Jewish Defense League (JDL)</td>\n",
       "      <td>0.0</td>\n",
       "      <td>0</td>\n",
       "      <td>NaN</td>\n",
       "      <td>NaN</td>\n",
       "      <td>NaN</td>\n",
       "      <td>6</td>\n",
       "      <td>14.0</td>\n",
       "      <td>0.0</td>\n",
       "      <td>0.0</td>\n",
       "      <td>NaN</td>\n",
       "      <td>0.0</td>\n",
       "      <td>0.0</td>\n",
       "      <td>NaN</td>\n",
       "      <td>1</td>\n",
       "      <td>NaN</td>\n",
       "      <td>NaN</td>\n",
       "      <td>0.0</td>\n",
       "      <td>0.0</td>\n",
       "      <td>0</td>\n",
       "      <td>1</td>\n",
       "      <td>1</td>\n",
       "      <td>1</td>\n",
       "      <td>Northeast</td>\n",
       "    </tr>\n",
       "    <tr>\n",
       "      <th>1</th>\n",
       "      <td>1979</td>\n",
       "      <td>2</td>\n",
       "      <td>27</td>\n",
       "      <td>0</td>\n",
       "      <td>Eastchester</td>\n",
       "      <td>0</td>\n",
       "      <td>1</td>\n",
       "      <td>1</td>\n",
       "      <td>1</td>\n",
       "      <td>0</td>\n",
       "      <td>0</td>\n",
       "      <td>1</td>\n",
       "      <td>0</td>\n",
       "      <td>3</td>\n",
       "      <td>1</td>\n",
       "      <td>4.0</td>\n",
       "      <td>217.0</td>\n",
       "      <td>United Freedom Front (UFF)</td>\n",
       "      <td>0.0</td>\n",
       "      <td>0</td>\n",
       "      <td>NaN</td>\n",
       "      <td>NaN</td>\n",
       "      <td>NaN</td>\n",
       "      <td>6</td>\n",
       "      <td>16.0</td>\n",
       "      <td>0.0</td>\n",
       "      <td>NaN</td>\n",
       "      <td>NaN</td>\n",
       "      <td>0.0</td>\n",
       "      <td>NaN</td>\n",
       "      <td>NaN</td>\n",
       "      <td>1</td>\n",
       "      <td>4.0</td>\n",
       "      <td>NaN</td>\n",
       "      <td>0.0</td>\n",
       "      <td>0.0</td>\n",
       "      <td>0</td>\n",
       "      <td>0</td>\n",
       "      <td>0</td>\n",
       "      <td>0</td>\n",
       "      <td>Northeast</td>\n",
       "    </tr>\n",
       "    <tr>\n",
       "      <th>2</th>\n",
       "      <td>1984</td>\n",
       "      <td>12</td>\n",
       "      <td>10</td>\n",
       "      <td>0</td>\n",
       "      <td>Cayey</td>\n",
       "      <td>0</td>\n",
       "      <td>1</td>\n",
       "      <td>1</td>\n",
       "      <td>1</td>\n",
       "      <td>0</td>\n",
       "      <td>1</td>\n",
       "      <td>0</td>\n",
       "      <td>0</td>\n",
       "      <td>3</td>\n",
       "      <td>4</td>\n",
       "      <td>28.0</td>\n",
       "      <td>217.0</td>\n",
       "      <td>Organization of Volunteers for the Puerto Rica...</td>\n",
       "      <td>0.0</td>\n",
       "      <td>0</td>\n",
       "      <td>-99.0</td>\n",
       "      <td>-99.0</td>\n",
       "      <td>0.0</td>\n",
       "      <td>6</td>\n",
       "      <td>17.0</td>\n",
       "      <td>0.0</td>\n",
       "      <td>0.0</td>\n",
       "      <td>0.0</td>\n",
       "      <td>0.0</td>\n",
       "      <td>0.0</td>\n",
       "      <td>0.0</td>\n",
       "      <td>1</td>\n",
       "      <td>3.0</td>\n",
       "      <td>-99.0</td>\n",
       "      <td>0.0</td>\n",
       "      <td>NaN</td>\n",
       "      <td>0</td>\n",
       "      <td>0</td>\n",
       "      <td>0</td>\n",
       "      <td>0</td>\n",
       "      <td>Others</td>\n",
       "    </tr>\n",
       "    <tr>\n",
       "      <th>3</th>\n",
       "      <td>1970</td>\n",
       "      <td>4</td>\n",
       "      <td>23</td>\n",
       "      <td>0</td>\n",
       "      <td>Aguada</td>\n",
       "      <td>0</td>\n",
       "      <td>1</td>\n",
       "      <td>1</td>\n",
       "      <td>1</td>\n",
       "      <td>0</td>\n",
       "      <td>1</td>\n",
       "      <td>0</td>\n",
       "      <td>0</td>\n",
       "      <td>3</td>\n",
       "      <td>3</td>\n",
       "      <td>22.0</td>\n",
       "      <td>163.0</td>\n",
       "      <td>Armed Commandos of Liberation</td>\n",
       "      <td>0.0</td>\n",
       "      <td>0</td>\n",
       "      <td>-99.0</td>\n",
       "      <td>-99.0</td>\n",
       "      <td>1.0</td>\n",
       "      <td>6</td>\n",
       "      <td>14.0</td>\n",
       "      <td>0.0</td>\n",
       "      <td>0.0</td>\n",
       "      <td>0.0</td>\n",
       "      <td>0.0</td>\n",
       "      <td>0.0</td>\n",
       "      <td>0.0</td>\n",
       "      <td>0</td>\n",
       "      <td>NaN</td>\n",
       "      <td>NaN</td>\n",
       "      <td>0.0</td>\n",
       "      <td>0.0</td>\n",
       "      <td>0</td>\n",
       "      <td>0</td>\n",
       "      <td>0</td>\n",
       "      <td>0</td>\n",
       "      <td>Others</td>\n",
       "    </tr>\n",
       "    <tr>\n",
       "      <th>4</th>\n",
       "      <td>1987</td>\n",
       "      <td>11</td>\n",
       "      <td>25</td>\n",
       "      <td>0</td>\n",
       "      <td>Santa Clara</td>\n",
       "      <td>0</td>\n",
       "      <td>1</td>\n",
       "      <td>1</td>\n",
       "      <td>1</td>\n",
       "      <td>0</td>\n",
       "      <td>0</td>\n",
       "      <td>1</td>\n",
       "      <td>0</td>\n",
       "      <td>7</td>\n",
       "      <td>1</td>\n",
       "      <td>5.0</td>\n",
       "      <td>217.0</td>\n",
       "      <td>Animal Liberation Front (ALF)</td>\n",
       "      <td>0.0</td>\n",
       "      <td>0</td>\n",
       "      <td>-99.0</td>\n",
       "      <td>-99.0</td>\n",
       "      <td>1.0</td>\n",
       "      <td>8</td>\n",
       "      <td>18.0</td>\n",
       "      <td>0.0</td>\n",
       "      <td>0.0</td>\n",
       "      <td>0.0</td>\n",
       "      <td>0.0</td>\n",
       "      <td>0.0</td>\n",
       "      <td>0.0</td>\n",
       "      <td>1</td>\n",
       "      <td>3.0</td>\n",
       "      <td>-99.0</td>\n",
       "      <td>0.0</td>\n",
       "      <td>0.0</td>\n",
       "      <td>0</td>\n",
       "      <td>1</td>\n",
       "      <td>0</td>\n",
       "      <td>1</td>\n",
       "      <td>West</td>\n",
       "    </tr>\n",
       "  </tbody>\n",
       "</table>\n",
       "</div>"
      ],
      "text/plain": [
       "   iyear  imonth  iday  extended           city  vicinity  crit1  crit2  \\\n",
       "0   1981      12    24         0  New York City         0      1      1   \n",
       "1   1979       2    27         0    Eastchester         0      1      1   \n",
       "2   1984      12    10         0          Cayey         0      1      1   \n",
       "3   1970       4    23         0         Aguada         0      1      1   \n",
       "4   1987      11    25         0    Santa Clara         0      1      1   \n",
       "\n",
       "   crit3  doubtterr  multiple  success  suicide  attacktype1  targtype1  \\\n",
       "0      1          0         0        0        0            3          7   \n",
       "1      1          0         0        1        0            3          1   \n",
       "2      1          0         1        0        0            3          4   \n",
       "3      1          0         1        0        0            3          3   \n",
       "4      1          0         0        1        0            7          1   \n",
       "\n",
       "   targsubtype1  natlty1                                              gname  \\\n",
       "0          47.0    359.0                        Jewish Defense League (JDL)   \n",
       "1           4.0    217.0                         United Freedom Front (UFF)   \n",
       "2          28.0    217.0  Organization of Volunteers for the Puerto Rica...   \n",
       "3          22.0    163.0                      Armed Commandos of Liberation   \n",
       "4           5.0    217.0                      Animal Liberation Front (ALF)   \n",
       "\n",
       "   guncertain1  individual  nperps  nperpcap  claimed  weaptype1  \\\n",
       "0          0.0           0     NaN       NaN      NaN          6   \n",
       "1          0.0           0     NaN       NaN      NaN          6   \n",
       "2          0.0           0   -99.0     -99.0      0.0          6   \n",
       "3          0.0           0   -99.0     -99.0      1.0          6   \n",
       "4          0.0           0   -99.0     -99.0      1.0          8   \n",
       "\n",
       "   weapsubtype1  nkill  nkillus  nkillter  nwound  nwoundus  nwoundte  \\\n",
       "0          14.0    0.0      0.0       NaN     0.0       0.0       NaN   \n",
       "1          16.0    0.0      NaN       NaN     0.0       NaN       NaN   \n",
       "2          17.0    0.0      0.0       0.0     0.0       0.0       0.0   \n",
       "3          14.0    0.0      0.0       0.0     0.0       0.0       0.0   \n",
       "4          18.0    0.0      0.0       0.0     0.0       0.0       0.0   \n",
       "\n",
       "   property  propextent  propvalue  ishostkid  ransom  INT_LOG  INT_IDEO  \\\n",
       "0         1         NaN        NaN        0.0     0.0        0         1   \n",
       "1         1         4.0        NaN        0.0     0.0        0         0   \n",
       "2         1         3.0      -99.0        0.0     NaN        0         0   \n",
       "3         0         NaN        NaN        0.0     0.0        0         0   \n",
       "4         1         3.0      -99.0        0.0     0.0        0         1   \n",
       "\n",
       "   INT_MISC  INT_ANY state_region  \n",
       "0         1        1    Northeast  \n",
       "1         0        0    Northeast  \n",
       "2         0        0       Others  \n",
       "3         0        0       Others  \n",
       "4         0        1         West  "
      ]
     },
     "execution_count": 46,
     "metadata": {},
     "output_type": "execute_result"
    }
   ],
   "source": [
    "df8 = df7[(df7['INT_LOG'] != -9) & (df7['INT_MISC'] !=-9) & (df7['INT_ANY'] != -9) & (df7['INT_IDEO'] != -9)]\n",
    "df9= df8.reset_index(drop=True)\n",
    "df9.head()"
   ]
  },
  {
   "cell_type": "code",
   "execution_count": 47,
   "metadata": {},
   "outputs": [
    {
     "data": {
      "text/plain": [
       "(1102, 41)"
      ]
     },
     "execution_count": 47,
     "metadata": {},
     "output_type": "execute_result"
    }
   ],
   "source": [
    "df9.shape"
   ]
  },
  {
   "cell_type": "code",
   "execution_count": 48,
   "metadata": {},
   "outputs": [
    {
     "data": {
      "text/html": [
       "<div>\n",
       "<style>\n",
       "    .dataframe thead tr:only-child th {\n",
       "        text-align: right;\n",
       "    }\n",
       "\n",
       "    .dataframe thead th {\n",
       "        text-align: left;\n",
       "    }\n",
       "\n",
       "    .dataframe tbody tr th {\n",
       "        vertical-align: top;\n",
       "    }\n",
       "</style>\n",
       "<table border=\"1\" class=\"dataframe\">\n",
       "  <thead>\n",
       "    <tr style=\"text-align: right;\">\n",
       "      <th></th>\n",
       "      <th>iyear</th>\n",
       "      <th>INT_IDEO</th>\n",
       "    </tr>\n",
       "  </thead>\n",
       "  <tbody>\n",
       "    <tr>\n",
       "      <th>0</th>\n",
       "      <td>1981</td>\n",
       "      <td>1</td>\n",
       "    </tr>\n",
       "    <tr>\n",
       "      <th>1</th>\n",
       "      <td>1979</td>\n",
       "      <td>0</td>\n",
       "    </tr>\n",
       "    <tr>\n",
       "      <th>2</th>\n",
       "      <td>1984</td>\n",
       "      <td>0</td>\n",
       "    </tr>\n",
       "    <tr>\n",
       "      <th>3</th>\n",
       "      <td>1970</td>\n",
       "      <td>0</td>\n",
       "    </tr>\n",
       "    <tr>\n",
       "      <th>4</th>\n",
       "      <td>1987</td>\n",
       "      <td>1</td>\n",
       "    </tr>\n",
       "  </tbody>\n",
       "</table>\n",
       "</div>"
      ],
      "text/plain": [
       "   iyear  INT_IDEO\n",
       "0   1981         1\n",
       "1   1979         0\n",
       "2   1984         0\n",
       "3   1970         0\n",
       "4   1987         1"
      ]
     },
     "execution_count": 48,
     "metadata": {},
     "output_type": "execute_result"
    }
   ],
   "source": [
    "df10 = df9[[\"iyear\", \"INT_IDEO\"]]\n",
    "df10.head()"
   ]
  },
  {
   "cell_type": "code",
   "execution_count": 49,
   "metadata": {
    "collapsed": true
   },
   "outputs": [],
   "source": [
    "citizenship = []\n",
    "for x in df10['INT_IDEO']:\n",
    "    if x == 0:\n",
    "        x = 'american'\n",
    "    else: \n",
    "        x = 'foreigner'\n",
    "    citizenship.append(x)"
   ]
  },
  {
   "cell_type": "code",
   "execution_count": 50,
   "metadata": {},
   "outputs": [
    {
     "name": "stderr",
     "output_type": "stream",
     "text": [
      "C:\\Users\\dejavu\\Anaconda3\\lib\\site-packages\\ipykernel_launcher.py:1: SettingWithCopyWarning: \n",
      "A value is trying to be set on a copy of a slice from a DataFrame.\n",
      "Try using .loc[row_indexer,col_indexer] = value instead\n",
      "\n",
      "See the caveats in the documentation: http://pandas.pydata.org/pandas-docs/stable/indexing.html#indexing-view-versus-copy\n",
      "  \"\"\"Entry point for launching an IPython kernel.\n"
     ]
    }
   ],
   "source": [
    "df10['citizenship'] = citizenship"
   ]
  },
  {
   "cell_type": "code",
   "execution_count": 51,
   "metadata": {},
   "outputs": [
    {
     "data": {
      "text/html": [
       "<div>\n",
       "<style>\n",
       "    .dataframe thead tr:only-child th {\n",
       "        text-align: right;\n",
       "    }\n",
       "\n",
       "    .dataframe thead th {\n",
       "        text-align: left;\n",
       "    }\n",
       "\n",
       "    .dataframe tbody tr th {\n",
       "        vertical-align: top;\n",
       "    }\n",
       "</style>\n",
       "<table border=\"1\" class=\"dataframe\">\n",
       "  <thead>\n",
       "    <tr style=\"text-align: right;\">\n",
       "      <th></th>\n",
       "      <th>iyear</th>\n",
       "      <th>INT_IDEO</th>\n",
       "      <th>citizenship</th>\n",
       "    </tr>\n",
       "  </thead>\n",
       "  <tbody>\n",
       "    <tr>\n",
       "      <th>0</th>\n",
       "      <td>1981</td>\n",
       "      <td>1</td>\n",
       "      <td>foreigner</td>\n",
       "    </tr>\n",
       "    <tr>\n",
       "      <th>1</th>\n",
       "      <td>1979</td>\n",
       "      <td>0</td>\n",
       "      <td>american</td>\n",
       "    </tr>\n",
       "    <tr>\n",
       "      <th>2</th>\n",
       "      <td>1984</td>\n",
       "      <td>0</td>\n",
       "      <td>american</td>\n",
       "    </tr>\n",
       "    <tr>\n",
       "      <th>3</th>\n",
       "      <td>1970</td>\n",
       "      <td>0</td>\n",
       "      <td>american</td>\n",
       "    </tr>\n",
       "    <tr>\n",
       "      <th>4</th>\n",
       "      <td>1987</td>\n",
       "      <td>1</td>\n",
       "      <td>foreigner</td>\n",
       "    </tr>\n",
       "  </tbody>\n",
       "</table>\n",
       "</div>"
      ],
      "text/plain": [
       "   iyear  INT_IDEO citizenship\n",
       "0   1981         1   foreigner\n",
       "1   1979         0    american\n",
       "2   1984         0    american\n",
       "3   1970         0    american\n",
       "4   1987         1   foreigner"
      ]
     },
     "execution_count": 51,
     "metadata": {},
     "output_type": "execute_result"
    }
   ],
   "source": [
    "df10.head()"
   ]
  },
  {
   "cell_type": "code",
   "execution_count": 52,
   "metadata": {},
   "outputs": [
    {
     "data": {
      "text/plain": [
       "(array([0, 1]), <a list of 2 Text xticklabel objects>)"
      ]
     },
     "execution_count": 52,
     "metadata": {},
     "output_type": "execute_result"
    },
    {
     "data": {
      "image/png": "[encoded data removed]",
      "text/plain": [
       "<matplotlib.figure.Figure at 0x1d121e75b38>"
      ]
     },
     "metadata": {},
     "output_type": "display_data"
    }
   ],
   "source": [
    "df10['citizenship'].value_counts().plot(kind='bar')\n",
    "plt.xticks(rotation=-360)   # Rotate x-labels"
   ]
  },
  {
   "cell_type": "code",
   "execution_count": 53,
   "metadata": {},
   "outputs": [
    {
     "data": {
      "text/plain": [
       "american     697\n",
       "foreigner    405\n",
       "Name: citizenship, dtype: int64"
      ]
     },
     "execution_count": 53,
     "metadata": {},
     "output_type": "execute_result"
    }
   ],
   "source": [
    "df10['citizenship'].value_counts()"
   ]
  },
  {
   "cell_type": "code",
   "execution_count": 54,
   "metadata": {},
   "outputs": [
    {
     "data": {
      "text/plain": [
       "0.36751361161524498"
      ]
     },
     "execution_count": 54,
     "metadata": {},
     "output_type": "execute_result"
    }
   ],
   "source": [
    "(df10[df10['citizenship']== 'foreigner']['citizenship'].count())/len(df10)"
   ]
  },
  {
   "cell_type": "code",
   "execution_count": 55,
   "metadata": {},
   "outputs": [
    {
     "data": {
      "text/plain": [
       "<matplotlib.axes._subplots.AxesSubplot at 0x1d1341101d0>"
      ]
     },
     "execution_count": 55,
     "metadata": {},
     "output_type": "execute_result"
    },
    {
     "data": {
      "image/png": "[encoded data removed]",
      "text/plain": [
       "<matplotlib.figure.Figure at 0x1d130d3edd8>"
      ]
     },
     "metadata": {},
     "output_type": "display_data"
    }
   ],
   "source": [
    "df10['citizenship'].value_counts().plot(kind='pie')"
   ]
  },
  {
   "cell_type": "markdown",
   "metadata": {},
   "source": [
    "The data stand to disagree. This plot shows attacks by foreigners is about 35% of known attacks in the USA. Please, note that I said \"known attacks.\" The whole dataset had cases for Americans, foreigners and those whose perpetrators are unknown. It is possible for the unknown instances to swing the pendulum either way. However, as I demonstrated in the inferential statistics part of the overall tasks, if we take the known cases as a sample of the whole population that comprises all instances, and ensuring we meet certain statistical conditions, we can generalize findings from the known to the unknowns"
   ]
  },
  {
   "cell_type": "code",
   "execution_count": null,
   "metadata": {
    "collapsed": true
   },
   "outputs": [],
   "source": []
  },
  {
   "cell_type": "markdown",
   "metadata": {},
   "source": [
    "The second question I would probably look at is that: are there trends associated with this finding?"
   ]
  },
  {
   "cell_type": "code",
   "execution_count": 56,
   "metadata": {},
   "outputs": [
    {
     "data": {
      "image/png": "[encoded data removed]",
      "text/plain": [
       "<matplotlib.figure.Figure at 0x1d130d27f60>"
      ]
     },
     "metadata": {},
     "output_type": "display_data"
    }
   ],
   "source": [
    "fig = plt.figure(figsize=(24, 10))\n",
    "fig.add_subplot(1,1,1)\n",
    "sns.countplot(x=\"iyear\", hue=\"INT_IDEO\", data=df10)\n",
    "plt.show()"
   ]
  },
  {
   "cell_type": "markdown",
   "metadata": {},
   "source": [
    "For cases that are known and well identified, we see Americans perpetrated more attacks against fellow citizens from 1970 up till about 1997. Around 1997, foreign attacks on home soil equaled and surpassed that of local attack. This alien attack on home soil peaked in 1999, went down a little around 2001 and then dropped significantly in 2004. After declining in 2004, it remained somewhat constant at that level till 2010 before falling dramatically again around 2011. After this drop, it has continued at this level to date. While attacks by fellow Americans remained at the same level as that of foreign nationals as of 2015, nothing is known yet about years after that. It suffices to say that going by recent occurrences after 2015; I guess that attacks by Americans on fellow citizens have surpassed that of foreigners on the home soil. This analysis will be updated with that information as soon as the University of Maryland updates the Global Terrorism Database.\n",
    "\n",
    "In conclusion, this analysis shows a correlation between terrorist attacks and nationalities of individuals. Correlation does not necessarily mean causation without a designed experiment. However, residents in the USA - both citizens and non-citizens, should change their mindset in that a terrorist attack is as likely to be perpetrated by an American as a foreigner. Even more so an American on home soil."
   ]
  },
  {
   "cell_type": "code",
   "execution_count": null,
   "metadata": {
    "collapsed": true
   },
   "outputs": [],
   "source": []
  },
  {
   "cell_type": "markdown",
   "metadata": {},
   "source": [
    "** Checking null values present in the training and test set**"
   ]
  },
  {
   "cell_type": "code",
   "execution_count": 57,
   "metadata": {},
   "outputs": [
    {
     "data": {
      "text/plain": [
       "(1102, 41)"
      ]
     },
     "execution_count": 57,
     "metadata": {},
     "output_type": "execute_result"
    }
   ],
   "source": [
    "df9.shape"
   ]
  },
  {
   "cell_type": "code",
   "execution_count": 58,
   "metadata": {},
   "outputs": [
    {
     "name": "stdout",
     "output_type": "stream",
     "text": [
      "<class 'pandas.core.frame.DataFrame'>\n",
      "RangeIndex: 1102 entries, 0 to 1101\n",
      "Data columns (total 41 columns):\n",
      "iyear           1102 non-null int64\n",
      "imonth          1102 non-null int64\n",
      "iday            1102 non-null int64\n",
      "extended        1102 non-null int64\n",
      "city            1102 non-null object\n",
      "vicinity        1102 non-null int64\n",
      "crit1           1102 non-null int64\n",
      "crit2           1102 non-null int64\n",
      "crit3           1102 non-null int64\n",
      "doubtterr       1102 non-null int64\n",
      "multiple        1102 non-null int64\n",
      "success         1102 non-null int64\n",
      "suicide         1102 non-null int64\n",
      "attacktype1     1102 non-null int64\n",
      "targtype1       1102 non-null int64\n",
      "targsubtype1    1032 non-null float64\n",
      "natlty1         1102 non-null float64\n",
      "gname           1102 non-null object\n",
      "guncertain1     1102 non-null float64\n",
      "individual      1102 non-null int64\n",
      "nperps          569 non-null float64\n",
      "nperpcap        531 non-null float64\n",
      "claimed         532 non-null float64\n",
      "weaptype1       1102 non-null int64\n",
      "weapsubtype1    994 non-null float64\n",
      "nkill           1070 non-null float64\n",
      "nkillus         584 non-null float64\n",
      "nkillter        559 non-null float64\n",
      "nwound          1055 non-null float64\n",
      "nwoundus        571 non-null float64\n",
      "nwoundte        549 non-null float64\n",
      "property        1102 non-null int64\n",
      "propextent      583 non-null float64\n",
      "propvalue       356 non-null float64\n",
      "ishostkid       1002 non-null float64\n",
      "ransom          893 non-null float64\n",
      "INT_LOG         1102 non-null int64\n",
      "INT_IDEO        1102 non-null int64\n",
      "INT_MISC        1102 non-null int64\n",
      "INT_ANY         1102 non-null int64\n",
      "state_region    1102 non-null object\n",
      "dtypes: float64(17), int64(21), object(3)\n",
      "memory usage: 353.1+ KB\n"
     ]
    }
   ],
   "source": [
    "#showing that some of the variables in the training set have missing values\n",
    "df9.info()"
   ]
  },
  {
   "cell_type": "code",
   "execution_count": 59,
   "metadata": {},
   "outputs": [
    {
     "name": "stdout",
     "output_type": "stream",
     "text": [
      "<class 'pandas.core.frame.DataFrame'>\n",
      "Int64Index: 552 entries, 367 to 1667\n",
      "Data columns (total 41 columns):\n",
      "iyear           552 non-null int64\n",
      "imonth          552 non-null int64\n",
      "iday            552 non-null int64\n",
      "extended        552 non-null int64\n",
      "city            552 non-null object\n",
      "vicinity        552 non-null int64\n",
      "crit1           552 non-null int64\n",
      "crit2           552 non-null int64\n",
      "crit3           552 non-null int64\n",
      "doubtterr       552 non-null int64\n",
      "multiple        552 non-null int64\n",
      "success         552 non-null int64\n",
      "suicide         552 non-null int64\n",
      "attacktype1     552 non-null int64\n",
      "targtype1       552 non-null int64\n",
      "targsubtype1    528 non-null float64\n",
      "natlty1         549 non-null float64\n",
      "gname           552 non-null object\n",
      "guncertain1     552 non-null float64\n",
      "individual      552 non-null int64\n",
      "nperps          355 non-null float64\n",
      "nperpcap        336 non-null float64\n",
      "claimed         339 non-null float64\n",
      "weaptype1       552 non-null int64\n",
      "weapsubtype1    500 non-null float64\n",
      "nkill           531 non-null float64\n",
      "nkillus         351 non-null float64\n",
      "nkillter        342 non-null float64\n",
      "nwound          528 non-null float64\n",
      "nwoundus        344 non-null float64\n",
      "nwoundte        339 non-null float64\n",
      "property        552 non-null int64\n",
      "propextent      312 non-null float64\n",
      "propvalue       180 non-null float64\n",
      "ishostkid       511 non-null float64\n",
      "ransom          432 non-null float64\n",
      "INT_LOG         552 non-null int64\n",
      "INT_IDEO        552 non-null int64\n",
      "INT_MISC        552 non-null int64\n",
      "INT_ANY         552 non-null int64\n",
      "state_region    552 non-null object\n",
      "dtypes: float64(17), int64(21), object(3)\n",
      "memory usage: 181.1+ KB\n"
     ]
    }
   ],
   "source": [
    "##showing that some of the variables in the test set have missing values\n",
    "test_set.info()"
   ]
  },
  {
   "cell_type": "code",
   "execution_count": null,
   "metadata": {
    "collapsed": true
   },
   "outputs": [],
   "source": []
  },
  {
   "cell_type": "markdown",
   "metadata": {},
   "source": [
    "***Creating a balanced training set***"
   ]
  },
  {
   "cell_type": "code",
   "execution_count": 60,
   "metadata": {},
   "outputs": [
    {
     "data": {
      "text/plain": [
       "(1102, 41)"
      ]
     },
     "execution_count": 60,
     "metadata": {},
     "output_type": "execute_result"
    }
   ],
   "source": [
    "df9.copy().shape"
   ]
  },
  {
   "cell_type": "code",
   "execution_count": 61,
   "metadata": {},
   "outputs": [
    {
     "data": {
      "text/plain": [
       "0    697\n",
       "1    405\n",
       "Name: INT_IDEO, dtype: int64"
      ]
     },
     "execution_count": 61,
     "metadata": {},
     "output_type": "execute_result"
    }
   ],
   "source": [
    "#this shows our training set is imbalanced, with more false than true\n",
    "df9.copy()['INT_IDEO'].value_counts()"
   ]
  },
  {
   "cell_type": "markdown",
   "metadata": {},
   "source": [
    "We need to balance this dataset so that our model doesn't overfit to the dominant class in the labels."
   ]
  },
  {
   "cell_type": "code",
   "execution_count": 62,
   "metadata": {
    "collapsed": true
   },
   "outputs": [],
   "source": [
    "df_majority = df9.copy()[df9.copy()['INT_IDEO'] == 0]\n",
    "df_minority = df9.copy()[df9.copy()['INT_IDEO'] == 1]"
   ]
  },
  {
   "cell_type": "code",
   "execution_count": 63,
   "metadata": {
    "collapsed": true
   },
   "outputs": [],
   "source": [
    "from sklearn.utils import resample\n",
    "df_minority_upsampled = resample(df_minority, \n",
    "                                 replace=True,     # sample with replacement\n",
    "                                 n_samples=697,    # to match majority class\n",
    "                                 random_state=123) # reproducible results"
   ]
  },
  {
   "cell_type": "code",
   "execution_count": 64,
   "metadata": {
    "collapsed": true
   },
   "outputs": [],
   "source": [
    "df_upsampled = pd.concat([df_majority, df_minority_upsampled])"
   ]
  },
  {
   "cell_type": "code",
   "execution_count": 65,
   "metadata": {},
   "outputs": [
    {
     "data": {
      "text/plain": [
       "1    697\n",
       "0    697\n",
       "Name: INT_IDEO, dtype: int64"
      ]
     },
     "execution_count": 65,
     "metadata": {},
     "output_type": "execute_result"
    }
   ],
   "source": [
    "df_upsampled['INT_IDEO'].value_counts()"
   ]
  },
  {
   "cell_type": "code",
   "execution_count": 66,
   "metadata": {},
   "outputs": [
    {
     "data": {
      "text/plain": [
       "(1394, 41)"
      ]
     },
     "execution_count": 66,
     "metadata": {},
     "output_type": "execute_result"
    }
   ],
   "source": [
    "df_upsampled.shape"
   ]
  },
  {
   "cell_type": "code",
   "execution_count": null,
   "metadata": {
    "collapsed": true
   },
   "outputs": [],
   "source": []
  },
  {
   "cell_type": "markdown",
   "metadata": {},
   "source": [
    "***Separating predictors from target variables***"
   ]
  },
  {
   "cell_type": "code",
   "execution_count": 67,
   "metadata": {
    "collapsed": true
   },
   "outputs": [],
   "source": [
    "#creating predictors and target variables for the train set\n",
    "X_train = df_upsampled.drop(['INT_IDEO', 'gname', 'city', ], axis=1)\n",
    "y_train = df_upsampled['INT_IDEO']\n",
    "\n",
    "##creating predictors and target variables for the test set\n",
    "test = test_set.copy()[(test_set.copy()['INT_LOG'] != -9) & (test_set.copy()['INT_MISC'] !=-9) &\n",
    "                       (test_set.copy()['INT_ANY'] != -9) & (test_set.copy()['INT_IDEO'] != -9)]\n",
    "test2= test.reset_index(drop=True)\n",
    "X_test = test2.drop(['INT_IDEO', 'gname', 'city', ], axis=1)\n",
    "y_test = test2['INT_IDEO']"
   ]
  },
  {
   "cell_type": "code",
   "execution_count": 68,
   "metadata": {},
   "outputs": [
    {
     "data": {
      "text/plain": [
       "((1394, 38), (1394,))"
      ]
     },
     "execution_count": 68,
     "metadata": {},
     "output_type": "execute_result"
    }
   ],
   "source": [
    "X_train.shape, y_train.shape"
   ]
  },
  {
   "cell_type": "code",
   "execution_count": 69,
   "metadata": {},
   "outputs": [
    {
     "data": {
      "text/plain": [
       "((282, 38), (282,))"
      ]
     },
     "execution_count": 69,
     "metadata": {},
     "output_type": "execute_result"
    }
   ],
   "source": [
    "X_test.shape, y_test.shape"
   ]
  },
  {
   "cell_type": "code",
   "execution_count": 70,
   "metadata": {},
   "outputs": [
    {
     "data": {
      "text/html": [
       "<div>\n",
       "<style>\n",
       "    .dataframe thead tr:only-child th {\n",
       "        text-align: right;\n",
       "    }\n",
       "\n",
       "    .dataframe thead th {\n",
       "        text-align: left;\n",
       "    }\n",
       "\n",
       "    .dataframe tbody tr th {\n",
       "        vertical-align: top;\n",
       "    }\n",
       "</style>\n",
       "<table border=\"1\" class=\"dataframe\">\n",
       "  <thead>\n",
       "    <tr style=\"text-align: right;\">\n",
       "      <th></th>\n",
       "      <th>iyear</th>\n",
       "      <th>imonth</th>\n",
       "      <th>iday</th>\n",
       "      <th>extended</th>\n",
       "      <th>vicinity</th>\n",
       "      <th>crit1</th>\n",
       "      <th>crit2</th>\n",
       "      <th>crit3</th>\n",
       "      <th>doubtterr</th>\n",
       "      <th>multiple</th>\n",
       "      <th>success</th>\n",
       "      <th>suicide</th>\n",
       "      <th>attacktype1</th>\n",
       "      <th>targtype1</th>\n",
       "      <th>targsubtype1</th>\n",
       "      <th>natlty1</th>\n",
       "      <th>guncertain1</th>\n",
       "      <th>individual</th>\n",
       "      <th>nperps</th>\n",
       "      <th>nperpcap</th>\n",
       "      <th>claimed</th>\n",
       "      <th>weaptype1</th>\n",
       "      <th>weapsubtype1</th>\n",
       "      <th>nkill</th>\n",
       "      <th>nkillus</th>\n",
       "      <th>nkillter</th>\n",
       "      <th>nwound</th>\n",
       "      <th>nwoundus</th>\n",
       "      <th>nwoundte</th>\n",
       "      <th>property</th>\n",
       "      <th>propextent</th>\n",
       "      <th>propvalue</th>\n",
       "      <th>ishostkid</th>\n",
       "      <th>ransom</th>\n",
       "      <th>INT_LOG</th>\n",
       "      <th>INT_MISC</th>\n",
       "      <th>INT_ANY</th>\n",
       "      <th>state_region</th>\n",
       "    </tr>\n",
       "  </thead>\n",
       "  <tbody>\n",
       "    <tr>\n",
       "      <th>0</th>\n",
       "      <td>1977</td>\n",
       "      <td>10</td>\n",
       "      <td>11</td>\n",
       "      <td>0</td>\n",
       "      <td>0</td>\n",
       "      <td>1</td>\n",
       "      <td>1</td>\n",
       "      <td>1</td>\n",
       "      <td>0</td>\n",
       "      <td>0</td>\n",
       "      <td>0</td>\n",
       "      <td>0</td>\n",
       "      <td>3</td>\n",
       "      <td>2</td>\n",
       "      <td>21.0</td>\n",
       "      <td>217.0</td>\n",
       "      <td>0.0</td>\n",
       "      <td>0</td>\n",
       "      <td>NaN</td>\n",
       "      <td>NaN</td>\n",
       "      <td>NaN</td>\n",
       "      <td>6</td>\n",
       "      <td>16.0</td>\n",
       "      <td>0.0</td>\n",
       "      <td>NaN</td>\n",
       "      <td>NaN</td>\n",
       "      <td>0.0</td>\n",
       "      <td>NaN</td>\n",
       "      <td>NaN</td>\n",
       "      <td>1</td>\n",
       "      <td>NaN</td>\n",
       "      <td>NaN</td>\n",
       "      <td>0.0</td>\n",
       "      <td>0.0</td>\n",
       "      <td>0</td>\n",
       "      <td>0</td>\n",
       "      <td>0</td>\n",
       "      <td>Midwest</td>\n",
       "    </tr>\n",
       "    <tr>\n",
       "      <th>1</th>\n",
       "      <td>1999</td>\n",
       "      <td>7</td>\n",
       "      <td>4</td>\n",
       "      <td>0</td>\n",
       "      <td>0</td>\n",
       "      <td>1</td>\n",
       "      <td>1</td>\n",
       "      <td>1</td>\n",
       "      <td>1</td>\n",
       "      <td>1</td>\n",
       "      <td>1</td>\n",
       "      <td>0</td>\n",
       "      <td>2</td>\n",
       "      <td>14</td>\n",
       "      <td>71.0</td>\n",
       "      <td>217.0</td>\n",
       "      <td>0.0</td>\n",
       "      <td>0</td>\n",
       "      <td>1.0</td>\n",
       "      <td>0.0</td>\n",
       "      <td>0.0</td>\n",
       "      <td>5</td>\n",
       "      <td>3.0</td>\n",
       "      <td>2.0</td>\n",
       "      <td>2.0</td>\n",
       "      <td>1.0</td>\n",
       "      <td>0.0</td>\n",
       "      <td>0.0</td>\n",
       "      <td>0.0</td>\n",
       "      <td>0</td>\n",
       "      <td>NaN</td>\n",
       "      <td>NaN</td>\n",
       "      <td>0.0</td>\n",
       "      <td>NaN</td>\n",
       "      <td>0</td>\n",
       "      <td>0</td>\n",
       "      <td>0</td>\n",
       "      <td>Midwest</td>\n",
       "    </tr>\n",
       "    <tr>\n",
       "      <th>2</th>\n",
       "      <td>1973</td>\n",
       "      <td>10</td>\n",
       "      <td>18</td>\n",
       "      <td>0</td>\n",
       "      <td>0</td>\n",
       "      <td>1</td>\n",
       "      <td>0</td>\n",
       "      <td>1</td>\n",
       "      <td>1</td>\n",
       "      <td>0</td>\n",
       "      <td>1</td>\n",
       "      <td>0</td>\n",
       "      <td>1</td>\n",
       "      <td>14</td>\n",
       "      <td>68.0</td>\n",
       "      <td>217.0</td>\n",
       "      <td>1.0</td>\n",
       "      <td>0</td>\n",
       "      <td>-99.0</td>\n",
       "      <td>-99.0</td>\n",
       "      <td>0.0</td>\n",
       "      <td>5</td>\n",
       "      <td>5.0</td>\n",
       "      <td>2.0</td>\n",
       "      <td>2.0</td>\n",
       "      <td>NaN</td>\n",
       "      <td>0.0</td>\n",
       "      <td>0.0</td>\n",
       "      <td>0.0</td>\n",
       "      <td>0</td>\n",
       "      <td>NaN</td>\n",
       "      <td>NaN</td>\n",
       "      <td>0.0</td>\n",
       "      <td>NaN</td>\n",
       "      <td>0</td>\n",
       "      <td>0</td>\n",
       "      <td>0</td>\n",
       "      <td>Northeast</td>\n",
       "    </tr>\n",
       "    <tr>\n",
       "      <th>3</th>\n",
       "      <td>1982</td>\n",
       "      <td>4</td>\n",
       "      <td>28</td>\n",
       "      <td>0</td>\n",
       "      <td>0</td>\n",
       "      <td>1</td>\n",
       "      <td>1</td>\n",
       "      <td>1</td>\n",
       "      <td>0</td>\n",
       "      <td>0</td>\n",
       "      <td>1</td>\n",
       "      <td>0</td>\n",
       "      <td>3</td>\n",
       "      <td>1</td>\n",
       "      <td>7.0</td>\n",
       "      <td>75.0</td>\n",
       "      <td>0.0</td>\n",
       "      <td>0</td>\n",
       "      <td>NaN</td>\n",
       "      <td>NaN</td>\n",
       "      <td>NaN</td>\n",
       "      <td>6</td>\n",
       "      <td>16.0</td>\n",
       "      <td>0.0</td>\n",
       "      <td>NaN</td>\n",
       "      <td>NaN</td>\n",
       "      <td>0.0</td>\n",
       "      <td>NaN</td>\n",
       "      <td>NaN</td>\n",
       "      <td>1</td>\n",
       "      <td>NaN</td>\n",
       "      <td>NaN</td>\n",
       "      <td>0.0</td>\n",
       "      <td>0.0</td>\n",
       "      <td>0</td>\n",
       "      <td>1</td>\n",
       "      <td>1</td>\n",
       "      <td>Northeast</td>\n",
       "    </tr>\n",
       "    <tr>\n",
       "      <th>4</th>\n",
       "      <td>1970</td>\n",
       "      <td>8</td>\n",
       "      <td>18</td>\n",
       "      <td>0</td>\n",
       "      <td>0</td>\n",
       "      <td>1</td>\n",
       "      <td>1</td>\n",
       "      <td>1</td>\n",
       "      <td>0</td>\n",
       "      <td>0</td>\n",
       "      <td>0</td>\n",
       "      <td>0</td>\n",
       "      <td>7</td>\n",
       "      <td>12</td>\n",
       "      <td>61.0</td>\n",
       "      <td>217.0</td>\n",
       "      <td>0.0</td>\n",
       "      <td>0</td>\n",
       "      <td>-99.0</td>\n",
       "      <td>-99.0</td>\n",
       "      <td>0.0</td>\n",
       "      <td>8</td>\n",
       "      <td>19.0</td>\n",
       "      <td>0.0</td>\n",
       "      <td>0.0</td>\n",
       "      <td>0.0</td>\n",
       "      <td>0.0</td>\n",
       "      <td>0.0</td>\n",
       "      <td>0.0</td>\n",
       "      <td>0</td>\n",
       "      <td>NaN</td>\n",
       "      <td>NaN</td>\n",
       "      <td>0.0</td>\n",
       "      <td>0.0</td>\n",
       "      <td>0</td>\n",
       "      <td>0</td>\n",
       "      <td>0</td>\n",
       "      <td>Northeast</td>\n",
       "    </tr>\n",
       "  </tbody>\n",
       "</table>\n",
       "</div>"
      ],
      "text/plain": [
       "   iyear  imonth  iday  extended  vicinity  crit1  crit2  crit3  doubtterr  \\\n",
       "0   1977      10    11         0         0      1      1      1          0   \n",
       "1   1999       7     4         0         0      1      1      1          1   \n",
       "2   1973      10    18         0         0      1      0      1          1   \n",
       "3   1982       4    28         0         0      1      1      1          0   \n",
       "4   1970       8    18         0         0      1      1      1          0   \n",
       "\n",
       "   multiple  success  suicide  attacktype1  targtype1  targsubtype1  natlty1  \\\n",
       "0         0        0        0            3          2          21.0    217.0   \n",
       "1         1        1        0            2         14          71.0    217.0   \n",
       "2         0        1        0            1         14          68.0    217.0   \n",
       "3         0        1        0            3          1           7.0     75.0   \n",
       "4         0        0        0            7         12          61.0    217.0   \n",
       "\n",
       "   guncertain1  individual  nperps  nperpcap  claimed  weaptype1  \\\n",
       "0          0.0           0     NaN       NaN      NaN          6   \n",
       "1          0.0           0     1.0       0.0      0.0          5   \n",
       "2          1.0           0   -99.0     -99.0      0.0          5   \n",
       "3          0.0           0     NaN       NaN      NaN          6   \n",
       "4          0.0           0   -99.0     -99.0      0.0          8   \n",
       "\n",
       "   weapsubtype1  nkill  nkillus  nkillter  nwound  nwoundus  nwoundte  \\\n",
       "0          16.0    0.0      NaN       NaN     0.0       NaN       NaN   \n",
       "1           3.0    2.0      2.0       1.0     0.0       0.0       0.0   \n",
       "2           5.0    2.0      2.0       NaN     0.0       0.0       0.0   \n",
       "3          16.0    0.0      NaN       NaN     0.0       NaN       NaN   \n",
       "4          19.0    0.0      0.0       0.0     0.0       0.0       0.0   \n",
       "\n",
       "   property  propextent  propvalue  ishostkid  ransom  INT_LOG  INT_MISC  \\\n",
       "0         1         NaN        NaN        0.0     0.0        0         0   \n",
       "1         0         NaN        NaN        0.0     NaN        0         0   \n",
       "2         0         NaN        NaN        0.0     NaN        0         0   \n",
       "3         1         NaN        NaN        0.0     0.0        0         1   \n",
       "4         0         NaN        NaN        0.0     0.0        0         0   \n",
       "\n",
       "   INT_ANY state_region  \n",
       "0        0      Midwest  \n",
       "1        0      Midwest  \n",
       "2        0    Northeast  \n",
       "3        1    Northeast  \n",
       "4        0    Northeast  "
      ]
     },
     "execution_count": 70,
     "metadata": {},
     "output_type": "execute_result"
    }
   ],
   "source": [
    "X_test.head()"
   ]
  },
  {
   "cell_type": "code",
   "execution_count": 71,
   "metadata": {},
   "outputs": [
    {
     "data": {
      "text/html": [
       "<div>\n",
       "<style>\n",
       "    .dataframe thead tr:only-child th {\n",
       "        text-align: right;\n",
       "    }\n",
       "\n",
       "    .dataframe thead th {\n",
       "        text-align: left;\n",
       "    }\n",
       "\n",
       "    .dataframe tbody tr th {\n",
       "        vertical-align: top;\n",
       "    }\n",
       "</style>\n",
       "<table border=\"1\" class=\"dataframe\">\n",
       "  <thead>\n",
       "    <tr style=\"text-align: right;\">\n",
       "      <th></th>\n",
       "      <th>iyear</th>\n",
       "      <th>imonth</th>\n",
       "      <th>iday</th>\n",
       "      <th>extended</th>\n",
       "      <th>vicinity</th>\n",
       "      <th>crit1</th>\n",
       "      <th>crit2</th>\n",
       "      <th>crit3</th>\n",
       "      <th>doubtterr</th>\n",
       "      <th>multiple</th>\n",
       "      <th>success</th>\n",
       "      <th>suicide</th>\n",
       "      <th>attacktype1</th>\n",
       "      <th>targtype1</th>\n",
       "      <th>targsubtype1</th>\n",
       "      <th>natlty1</th>\n",
       "      <th>guncertain1</th>\n",
       "      <th>individual</th>\n",
       "      <th>nperps</th>\n",
       "      <th>nperpcap</th>\n",
       "      <th>claimed</th>\n",
       "      <th>weaptype1</th>\n",
       "      <th>weapsubtype1</th>\n",
       "      <th>nkill</th>\n",
       "      <th>nkillus</th>\n",
       "      <th>nkillter</th>\n",
       "      <th>nwound</th>\n",
       "      <th>nwoundus</th>\n",
       "      <th>nwoundte</th>\n",
       "      <th>property</th>\n",
       "      <th>propextent</th>\n",
       "      <th>propvalue</th>\n",
       "      <th>ishostkid</th>\n",
       "      <th>ransom</th>\n",
       "      <th>INT_LOG</th>\n",
       "      <th>INT_MISC</th>\n",
       "      <th>INT_ANY</th>\n",
       "      <th>state_region</th>\n",
       "    </tr>\n",
       "  </thead>\n",
       "  <tbody>\n",
       "    <tr>\n",
       "      <th>1</th>\n",
       "      <td>1979</td>\n",
       "      <td>2</td>\n",
       "      <td>27</td>\n",
       "      <td>0</td>\n",
       "      <td>0</td>\n",
       "      <td>1</td>\n",
       "      <td>1</td>\n",
       "      <td>1</td>\n",
       "      <td>0</td>\n",
       "      <td>0</td>\n",
       "      <td>1</td>\n",
       "      <td>0</td>\n",
       "      <td>3</td>\n",
       "      <td>1</td>\n",
       "      <td>4.0</td>\n",
       "      <td>217.0</td>\n",
       "      <td>0.0</td>\n",
       "      <td>0</td>\n",
       "      <td>NaN</td>\n",
       "      <td>NaN</td>\n",
       "      <td>NaN</td>\n",
       "      <td>6</td>\n",
       "      <td>16.0</td>\n",
       "      <td>0.0</td>\n",
       "      <td>NaN</td>\n",
       "      <td>NaN</td>\n",
       "      <td>0.0</td>\n",
       "      <td>NaN</td>\n",
       "      <td>NaN</td>\n",
       "      <td>1</td>\n",
       "      <td>4.0</td>\n",
       "      <td>NaN</td>\n",
       "      <td>0.0</td>\n",
       "      <td>0.0</td>\n",
       "      <td>0</td>\n",
       "      <td>0</td>\n",
       "      <td>0</td>\n",
       "      <td>Northeast</td>\n",
       "    </tr>\n",
       "    <tr>\n",
       "      <th>2</th>\n",
       "      <td>1984</td>\n",
       "      <td>12</td>\n",
       "      <td>10</td>\n",
       "      <td>0</td>\n",
       "      <td>0</td>\n",
       "      <td>1</td>\n",
       "      <td>1</td>\n",
       "      <td>1</td>\n",
       "      <td>0</td>\n",
       "      <td>1</td>\n",
       "      <td>0</td>\n",
       "      <td>0</td>\n",
       "      <td>3</td>\n",
       "      <td>4</td>\n",
       "      <td>28.0</td>\n",
       "      <td>217.0</td>\n",
       "      <td>0.0</td>\n",
       "      <td>0</td>\n",
       "      <td>-99.0</td>\n",
       "      <td>-99.0</td>\n",
       "      <td>0.0</td>\n",
       "      <td>6</td>\n",
       "      <td>17.0</td>\n",
       "      <td>0.0</td>\n",
       "      <td>0.0</td>\n",
       "      <td>0.0</td>\n",
       "      <td>0.0</td>\n",
       "      <td>0.0</td>\n",
       "      <td>0.0</td>\n",
       "      <td>1</td>\n",
       "      <td>3.0</td>\n",
       "      <td>-99.0</td>\n",
       "      <td>0.0</td>\n",
       "      <td>NaN</td>\n",
       "      <td>0</td>\n",
       "      <td>0</td>\n",
       "      <td>0</td>\n",
       "      <td>Others</td>\n",
       "    </tr>\n",
       "    <tr>\n",
       "      <th>3</th>\n",
       "      <td>1970</td>\n",
       "      <td>4</td>\n",
       "      <td>23</td>\n",
       "      <td>0</td>\n",
       "      <td>0</td>\n",
       "      <td>1</td>\n",
       "      <td>1</td>\n",
       "      <td>1</td>\n",
       "      <td>0</td>\n",
       "      <td>1</td>\n",
       "      <td>0</td>\n",
       "      <td>0</td>\n",
       "      <td>3</td>\n",
       "      <td>3</td>\n",
       "      <td>22.0</td>\n",
       "      <td>163.0</td>\n",
       "      <td>0.0</td>\n",
       "      <td>0</td>\n",
       "      <td>-99.0</td>\n",
       "      <td>-99.0</td>\n",
       "      <td>1.0</td>\n",
       "      <td>6</td>\n",
       "      <td>14.0</td>\n",
       "      <td>0.0</td>\n",
       "      <td>0.0</td>\n",
       "      <td>0.0</td>\n",
       "      <td>0.0</td>\n",
       "      <td>0.0</td>\n",
       "      <td>0.0</td>\n",
       "      <td>0</td>\n",
       "      <td>NaN</td>\n",
       "      <td>NaN</td>\n",
       "      <td>0.0</td>\n",
       "      <td>0.0</td>\n",
       "      <td>0</td>\n",
       "      <td>0</td>\n",
       "      <td>0</td>\n",
       "      <td>Others</td>\n",
       "    </tr>\n",
       "    <tr>\n",
       "      <th>6</th>\n",
       "      <td>1974</td>\n",
       "      <td>12</td>\n",
       "      <td>31</td>\n",
       "      <td>0</td>\n",
       "      <td>0</td>\n",
       "      <td>1</td>\n",
       "      <td>1</td>\n",
       "      <td>1</td>\n",
       "      <td>0</td>\n",
       "      <td>1</td>\n",
       "      <td>0</td>\n",
       "      <td>0</td>\n",
       "      <td>3</td>\n",
       "      <td>1</td>\n",
       "      <td>7.0</td>\n",
       "      <td>163.0</td>\n",
       "      <td>0.0</td>\n",
       "      <td>0</td>\n",
       "      <td>-99.0</td>\n",
       "      <td>-99.0</td>\n",
       "      <td>-9.0</td>\n",
       "      <td>6</td>\n",
       "      <td>16.0</td>\n",
       "      <td>0.0</td>\n",
       "      <td>0.0</td>\n",
       "      <td>0.0</td>\n",
       "      <td>0.0</td>\n",
       "      <td>0.0</td>\n",
       "      <td>0.0</td>\n",
       "      <td>0</td>\n",
       "      <td>NaN</td>\n",
       "      <td>NaN</td>\n",
       "      <td>NaN</td>\n",
       "      <td>NaN</td>\n",
       "      <td>0</td>\n",
       "      <td>0</td>\n",
       "      <td>0</td>\n",
       "      <td>Others</td>\n",
       "    </tr>\n",
       "    <tr>\n",
       "      <th>9</th>\n",
       "      <td>1971</td>\n",
       "      <td>6</td>\n",
       "      <td>5</td>\n",
       "      <td>0</td>\n",
       "      <td>0</td>\n",
       "      <td>1</td>\n",
       "      <td>1</td>\n",
       "      <td>1</td>\n",
       "      <td>0</td>\n",
       "      <td>0</td>\n",
       "      <td>1</td>\n",
       "      <td>0</td>\n",
       "      <td>2</td>\n",
       "      <td>1</td>\n",
       "      <td>11.0</td>\n",
       "      <td>217.0</td>\n",
       "      <td>0.0</td>\n",
       "      <td>0</td>\n",
       "      <td>4.0</td>\n",
       "      <td>NaN</td>\n",
       "      <td>NaN</td>\n",
       "      <td>5</td>\n",
       "      <td>3.0</td>\n",
       "      <td>1.0</td>\n",
       "      <td>1.0</td>\n",
       "      <td>NaN</td>\n",
       "      <td>0.0</td>\n",
       "      <td>NaN</td>\n",
       "      <td>NaN</td>\n",
       "      <td>1</td>\n",
       "      <td>3.0</td>\n",
       "      <td>1000.0</td>\n",
       "      <td>0.0</td>\n",
       "      <td>0.0</td>\n",
       "      <td>0</td>\n",
       "      <td>0</td>\n",
       "      <td>0</td>\n",
       "      <td>Northeast</td>\n",
       "    </tr>\n",
       "  </tbody>\n",
       "</table>\n",
       "</div>"
      ],
      "text/plain": [
       "   iyear  imonth  iday  extended  vicinity  crit1  crit2  crit3  doubtterr  \\\n",
       "1   1979       2    27         0         0      1      1      1          0   \n",
       "2   1984      12    10         0         0      1      1      1          0   \n",
       "3   1970       4    23         0         0      1      1      1          0   \n",
       "6   1974      12    31         0         0      1      1      1          0   \n",
       "9   1971       6     5         0         0      1      1      1          0   \n",
       "\n",
       "   multiple  success  suicide  attacktype1  targtype1  targsubtype1  natlty1  \\\n",
       "1         0        1        0            3          1           4.0    217.0   \n",
       "2         1        0        0            3          4          28.0    217.0   \n",
       "3         1        0        0            3          3          22.0    163.0   \n",
       "6         1        0        0            3          1           7.0    163.0   \n",
       "9         0        1        0            2          1          11.0    217.0   \n",
       "\n",
       "   guncertain1  individual  nperps  nperpcap  claimed  weaptype1  \\\n",
       "1          0.0           0     NaN       NaN      NaN          6   \n",
       "2          0.0           0   -99.0     -99.0      0.0          6   \n",
       "3          0.0           0   -99.0     -99.0      1.0          6   \n",
       "6          0.0           0   -99.0     -99.0     -9.0          6   \n",
       "9          0.0           0     4.0       NaN      NaN          5   \n",
       "\n",
       "   weapsubtype1  nkill  nkillus  nkillter  nwound  nwoundus  nwoundte  \\\n",
       "1          16.0    0.0      NaN       NaN     0.0       NaN       NaN   \n",
       "2          17.0    0.0      0.0       0.0     0.0       0.0       0.0   \n",
       "3          14.0    0.0      0.0       0.0     0.0       0.0       0.0   \n",
       "6          16.0    0.0      0.0       0.0     0.0       0.0       0.0   \n",
       "9           3.0    1.0      1.0       NaN     0.0       NaN       NaN   \n",
       "\n",
       "   property  propextent  propvalue  ishostkid  ransom  INT_LOG  INT_MISC  \\\n",
       "1         1         4.0        NaN        0.0     0.0        0         0   \n",
       "2         1         3.0      -99.0        0.0     NaN        0         0   \n",
       "3         0         NaN        NaN        0.0     0.0        0         0   \n",
       "6         0         NaN        NaN        NaN     NaN        0         0   \n",
       "9         1         3.0     1000.0        0.0     0.0        0         0   \n",
       "\n",
       "   INT_ANY state_region  \n",
       "1        0    Northeast  \n",
       "2        0       Others  \n",
       "3        0       Others  \n",
       "6        0       Others  \n",
       "9        0    Northeast  "
      ]
     },
     "execution_count": 71,
     "metadata": {},
     "output_type": "execute_result"
    }
   ],
   "source": [
    "X_train.head()"
   ]
  },
  {
   "cell_type": "markdown",
   "metadata": {},
   "source": [
    "#### Final data cleaning that Imputes missing values, hotcode categorical values and standardize the scale of continous variables*"
   ]
  },
  {
   "cell_type": "markdown",
   "metadata": {},
   "source": [
    "From cell 71, we see that 'state_region' is identified as text based categorical variables. These need converted to numerical variable because Random Forest (RF) cannot handle string or text. One way to do that is to use Label Encoding module in scikit learn library. However, with that one may run into another issue that can best be explained here: https://stackoverflow.com/questions/44959122/how-to-handle-categorical-features-for-decision-tree-random-forest-in-spark-ml and https://www.analyticsvidhya.com/blog/2016/07/practical-guide-data-preprocessing-python-scikit-learn/\n",
    "RF should be able to handle categorical features when encoding as numerical arrays. In fact RF implementation in R does to about 32 cardinality depth, with options for more. However, as of this analysis, RF implemenation in scikit learn will give a misleading interpretaion of the encoded numerical arrays. For such features, It is advisable to use One-Hot Encoding module in scikit learn after label encoding when categories > 2 to provide optimum result.Instead of going this route, Pandas also has a function for such that can handle both computations, making it a little shorter. It also allows me see the generated dummy features in nice format."
   ]
  },
  {
   "cell_type": "markdown",
   "metadata": {
    "collapsed": true
   },
   "source": [
    "An issue with encoding data this way is greatly increasing the dimensionality of the dataset. This dataset now has 38 features with the possibility of increasing to 43 after hot coding  compared with 1394 observations in the test set. This may lead to what is called curse of dimensionality - a phenomenon that causes some learning algorithms to perform poorly. I like the explanation that William Chen gave https://www.quora.com/What-is-the-curse-of-dimensionality. Such can be reduced using Principal Component Analysis ( PCA ), which is an unsupervised learning method. Since i am not doing unsupervised clustering, a way i propose to get around this is using RF to select important variables. This will prune the dimension down to one that can provide good accuracy."
   ]
  },
  {
   "cell_type": "markdown",
   "metadata": {
    "collapsed": true
   },
   "source": [
    "If we also look at the histogram plots we had earlier, we see that all the variables are not on same scale. It's always a good to have this because powers that be said it helps models perform better, especially linear models. Feature scaling is the method to limit the range of variables so that they can be compared on common grounds. This is performed on continuous variables. There are two ways to do this: min-max scaling and standardization. I will be doing both here since some algorithms perform better with one than the other. Courtesy: Aurelien Geron book - Hands-On Machine Learning with Scikit-Learn & TensorFlow"
   ]
  },
  {
   "cell_type": "code",
   "execution_count": 72,
   "metadata": {
    "collapsed": true
   },
   "outputs": [],
   "source": [
    "cat_attribs = ['state_region']\n",
    "num_attribs = list(X_train.drop(cat_attribs, axis=1))\n",
    "#num_attribs = X_train.columns"
   ]
  },
  {
   "cell_type": "code",
   "execution_count": 73,
   "metadata": {
    "collapsed": true
   },
   "outputs": [],
   "source": [
    "from sklearn.base import BaseEstimator, TransformerMixin\n",
    "#this class was used to impute missing values\n",
    "class DataFrameSelector(TransformerMixin):\n",
    "    def __init__(self, attribute_names):        \n",
    "        self.attribute_names = attribute_names\n",
    "    def fit(self, X, y=None):      \n",
    "        return self\n",
    "    def transform(self, X, y=None):\n",
    "        return X[self.attribute_names].values"
   ]
  },
  {
   "cell_type": "code",
   "execution_count": 74,
   "metadata": {
    "collapsed": true
   },
   "outputs": [],
   "source": [
    "# Definition of the CategoricalEncoder class, copied from PR #9151.\n",
    "# This class is no available yet, but will be in Scikit-Learn 2.0.\n",
    "#Thanks to Aurelien Geron for the info in his Hands-On Machine Learning with Scikit_Learn & TensorFlow book and blog\n",
    "\n",
    "from sklearn.base import BaseEstimator, TransformerMixin\n",
    "from sklearn.utils import check_array\n",
    "from sklearn.preprocessing import LabelEncoder\n",
    "from scipy import sparse\n",
    "\n",
    "class CategoricalEncoder(BaseEstimator, TransformerMixin):\n",
    "    \"\"\"Encode categorical features as a numeric array.\n",
    "\n",
    "    The input to this transformer should be a matrix of integers or strings,\n",
    "    denoting the values taken on by categorical (discrete) features.\n",
    "    The features can be encoded using a one-hot aka one-of-K scheme\n",
    "    (``encoding='onehot'``, the default) or converted to ordinal integers\n",
    "    (``encoding='ordinal'``).\n",
    "    This encoding is needed for feeding categorical data to many scikit-learn\n",
    "    estimators, notably linear models and SVMs with the standard kernels.\n",
    "    Read more in the :ref:`User Guide <preprocessing_categorical_features>`.\n",
    "    Parameters\n",
    "    ----------\n",
    "    encoding : str, 'onehot', 'onehot-dense' or 'ordinal'\n",
    "        The type of encoding to use (default is 'onehot'):\n",
    "        - 'onehot': encode the features using a one-hot aka one-of-K scheme\n",
    "          (or also called 'dummy' encoding). This creates a binary column for\n",
    "          each category and returns a sparse matrix.\n",
    "        - 'onehot-dense': the same as 'onehot' but returns a dense array\n",
    "          instead of a sparse matrix.\n",
    "        - 'ordinal': encode the features as ordinal integers. This results in\n",
    "          a single column of integers (0 to n_categories - 1) per feature.\n",
    "    categories : 'auto' or a list of lists/arrays of values.\n",
    "        Categories (unique values) per feature:\n",
    "        - 'auto' : Determine categories automatically from the training data.\n",
    "        - list : ``categories[i]`` holds the categories expected in the ith\n",
    "          column. The passed categories are sorted before encoding the data\n",
    "          (used categories can be found in the ``categories_`` attribute).\n",
    "    dtype : number type, default np.float64\n",
    "        Desired dtype of output.\n",
    "    handle_unknown : 'error' (default) or 'ignore'\n",
    "        Whether to raise an error or ignore if a unknown categorical feature is\n",
    "        present during transform (default is to raise). When this is parameter\n",
    "        is set to 'ignore' and an unknown category is encountered during\n",
    "        transform, the resulting one-hot encoded columns for this feature\n",
    "        will be all zeros.\n",
    "        Ignoring unknown categories is not supported for\n",
    "        ``encoding='ordinal'``.\n",
    "    Attributes\n",
    "    ----------\n",
    "    categories_ : list of arrays\n",
    "        The categories of each feature determined during fitting. When\n",
    "        categories were specified manually, this holds the sorted categories\n",
    "        (in order corresponding with output of `transform`).\n",
    "    Examples\n",
    "    --------\n",
    "    Given a dataset with three features and two samples, we let the encoder\n",
    "    find the maximum value per feature and transform the data to a binary\n",
    "    one-hot encoding.\n",
    "    >>> from sklearn.preprocessing import CategoricalEncoder\n",
    "    >>> enc = CategoricalEncoder(handle_unknown='ignore')\n",
    "    >>> enc.fit([[0, 0, 3], [1, 1, 0], [0, 2, 1], [1, 0, 2]])\n",
    "    ... # doctest: +ELLIPSIS\n",
    "    CategoricalEncoder(categories='auto', dtype=<... 'numpy.float64'>,\n",
    "              encoding='onehot', handle_unknown='ignore')\n",
    "    >>> enc.transform([[0, 1, 1], [1, 0, 4]]).toarray()\n",
    "    array([[ 1.,  0.,  0.,  1.,  0.,  0.,  1.,  0.,  0.],\n",
    "           [ 0.,  1.,  1.,  0.,  0.,  0.,  0.,  0.,  0.]])\n",
    "    See also\n",
    "    --------\n",
    "    sklearn.preprocessing.OneHotEncoder : performs a one-hot encoding of\n",
    "      integer ordinal features. The ``OneHotEncoder assumes`` that input\n",
    "      features take on values in the range ``[0, max(feature)]`` instead of\n",
    "      using the unique values.\n",
    "    sklearn.feature_extraction.DictVectorizer : performs a one-hot encoding of\n",
    "      dictionary items (also handles string-valued features).\n",
    "    sklearn.feature_extraction.FeatureHasher : performs an approximate one-hot\n",
    "      encoding of dictionary items or strings.\n",
    "    \"\"\"\n",
    "    \n",
    "    def __init__(self, encoding='onehot', categories='auto', dtype=np.float64,\n",
    "                 handle_unknown='error'):\n",
    "        self.encoding = encoding\n",
    "        self.categories = categories\n",
    "        self.dtype = dtype\n",
    "        self.handle_unknown = handle_unknown\n",
    "\n",
    "    def fit(self, X, y=None):\n",
    "        \"\"\"\n",
    "        #Fit the CategoricalEncoder to X.\n",
    "        #Parameters\n",
    "        #----------\n",
    "        #X : array-like, shape [n_samples, n_feature]\n",
    "        #    The data to determine the categories of each feature.\n",
    "        #Returns\n",
    "        #-------\n",
    "        #self\n",
    "        \"\"\"\n",
    "\n",
    "        if self.encoding not in ['onehot', 'onehot-dense', 'ordinal']:\n",
    "            template = (\"encoding should be either 'onehot', 'onehot-dense' \"\n",
    "                        \"or 'ordinal', got %s\")\n",
    "            raise ValueError(template % self.handle_unknown)\n",
    "\n",
    "        if self.handle_unknown not in ['error', 'ignore']:\n",
    "            template = (\"handle_unknown should be either 'error' or \"\n",
    "                        \"'ignore', got %s\")\n",
    "            raise ValueError(template % self.handle_unknown)\n",
    "\n",
    "        if self.encoding == 'ordinal' and self.handle_unknown == 'ignore':\n",
    "            raise ValueError(\"handle_unknown='ignore' is not supported for\"\n",
    "                             \" encoding='ordinal'\")\n",
    "\n",
    "        X = check_array(X, dtype=np.object, accept_sparse='csc', copy=True)\n",
    "        n_samples, n_features = X.shape\n",
    "\n",
    "        self._label_encoders_ = [LabelEncoder() for _ in range(n_features)]\n",
    "\n",
    "        for i in range(n_features):\n",
    "            le = self._label_encoders_[i]\n",
    "            Xi = X[:, i]\n",
    "            if self.categories == 'auto':\n",
    "                le.fit(Xi)\n",
    "            else:\n",
    "                valid_mask = np.in1d(Xi, self.categories[i])\n",
    "                if not np.all(valid_mask):\n",
    "                    if self.handle_unknown == 'error':\n",
    "                        diff = np.unique(Xi[~valid_mask])\n",
    "                        msg = (\"Found unknown categories {0} in column {1}\"\n",
    "                               \" during fit\".format(diff, i))\n",
    "                        raise ValueError(msg)\n",
    "                le.classes_ = np.array(np.sort(self.categories[i]))\n",
    "\n",
    "        self.categories_ = [le.classes_ for le in self._label_encoders_]\n",
    "\n",
    "        return self\n",
    "\n",
    "    def transform(self, X):\n",
    "        \"\"\"\n",
    "        #Transform X using one-hot encoding.\n",
    "        #Parameters\n",
    "        #----------\n",
    "        #X : array-like, shape [n_samples, n_features]\n",
    "            #The data to encode.\n",
    "        #Returns\n",
    "        #-------\n",
    "        #X_out : sparse matrix or a 2-d array\n",
    "            #Transformed input.\n",
    "        \"\"\"\n",
    "        X = check_array(X, accept_sparse='csc', dtype=np.object, copy=True)\n",
    "        n_samples, n_features = X.shape\n",
    "        X_int = np.zeros_like(X, dtype=np.int)\n",
    "        X_mask = np.ones_like(X, dtype=np.bool)\n",
    "\n",
    "        for i in range(n_features):\n",
    "            valid_mask = np.in1d(X[:, i], self.categories_[i])\n",
    "\n",
    "            if not np.all(valid_mask):\n",
    "                if self.handle_unknown == 'error':\n",
    "                    diff = np.unique(X[~valid_mask, i])\n",
    "                    msg = (\"Found unknown categories {0} in column {1}\"\n",
    "                           \" during transform\".format(diff, i))\n",
    "                    raise ValueError(msg)\n",
    "                else:\n",
    "                    # Set the problematic rows to an acceptable value and\n",
    "                    # continue `The rows are marked `X_mask` and will be\n",
    "                    # removed later.\n",
    "                    X_mask[:, i] = valid_mask\n",
    "                    X[:, i][~valid_mask] = self.categories_[i][0]\n",
    "            X_int[:, i] = self._label_encoders_[i].transform(X[:, i])\n",
    "\n",
    "        if self.encoding == 'ordinal':\n",
    "            return X_int.astype(self.dtype, copy=False)\n",
    "\n",
    "        mask = X_mask.ravel()\n",
    "        n_values = [cats.shape[0] for cats in self.categories_]\n",
    "        n_values = np.array([0] + n_values)\n",
    "        indices = np.cumsum(n_values)\n",
    "\n",
    "        column_indices = (X_int + indices[:-1]).ravel()[mask]\n",
    "        row_indices = np.repeat(np.arange(n_samples, dtype=np.int32),\n",
    "                                n_features)[mask]\n",
    "        data = np.ones(n_samples * n_features)[mask]\n",
    "\n",
    "        out = sparse.csc_matrix((data, (row_indices, column_indices)),\n",
    "                                shape=(n_samples, indices[-1]),\n",
    "                                dtype=self.dtype).tocsr()\n",
    "        if self.encoding == 'onehot-dense':\n",
    "            return out.toarray()\n",
    "        else:\n",
    "            return out"
   ]
  },
  {
   "cell_type": "code",
   "execution_count": 75,
   "metadata": {
    "collapsed": true
   },
   "outputs": [],
   "source": [
    "# importing necessary transformation modules \n",
    "from sklearn.pipeline import Pipeline\n",
    "from sklearn.pipeline import FeatureUnion\n",
    "from sklearn.preprocessing import StandardScaler\n",
    "#from sklearn.preprocessing import CategoricalEncoder # coming in Scikit-Learn 2.0\n",
    "from sklearn.preprocessing import Imputer\n",
    "\n",
    "#setting up the pipeline for numerical variables\n",
    "num_pipeline = Pipeline([('selector', DataFrameSelector(num_attribs)), ('imputer', Imputer(strategy=\"median\")),\n",
    "                        ('std_scaler', StandardScaler()),])\n",
    "\n",
    "#setting up the pipeline for categorical variables\n",
    "cat_pipeline = Pipeline([('selector', DataFrameSelector(cat_attribs)), \n",
    "                         ('cat_encoder', CategoricalEncoder(encoding=\"onehot-dense\")),])\n",
    "\n",
    "#combining both numerical and categorical pipelines\n",
    "full_pipeline = FeatureUnion(transformer_list = [(\"num_pipeline\", num_pipeline),\n",
    "                                                 (\"cat_pipeline\", cat_pipeline),])"
   ]
  },
  {
   "cell_type": "code",
   "execution_count": 76,
   "metadata": {},
   "outputs": [
    {
     "data": {
      "text/plain": [
       "array([[ -2.77100265e-01,  -1.29662976e+00,   1.19746185e+00, ...,\n",
       "          0.00000000e+00,   0.00000000e+00,   0.00000000e+00],\n",
       "       [  1.83851727e-01,   1.56515283e+00,  -7.04384605e-01, ...,\n",
       "          1.00000000e+00,   0.00000000e+00,   0.00000000e+00],\n",
       "       [ -1.10681385e+00,  -7.24273239e-01,   7.49968570e-01, ...,\n",
       "          1.00000000e+00,   0.00000000e+00,   0.00000000e+00],\n",
       "       ..., \n",
       "       [ -5.29069718e-04,  -1.01045150e+00,   6.38095249e-01, ...,\n",
       "          0.00000000e+00,   0.00000000e+00,   0.00000000e+00],\n",
       "       [ -5.53671460e-01,  -1.01045150e+00,  -9.28131248e-01, ...,\n",
       "          0.00000000e+00,   0.00000000e+00,   0.00000000e+00],\n",
       "       [ -5.29069718e-04,   1.34261536e-01,  -1.26375121e+00, ...,\n",
       "          0.00000000e+00,   0.00000000e+00,   0.00000000e+00]])"
      ]
     },
     "execution_count": 76,
     "metadata": {},
     "output_type": "execute_result"
    }
   ],
   "source": [
    "#fitting the full pipeline to the training set\n",
    "train_set_tr = full_pipeline.fit_transform(X_train)\n",
    "train_set_tr"
   ]
  },
  {
   "cell_type": "code",
   "execution_count": 77,
   "metadata": {},
   "outputs": [
    {
     "data": {
      "text/plain": [
       "(1394, 42)"
      ]
     },
     "execution_count": 77,
     "metadata": {},
     "output_type": "execute_result"
    }
   ],
   "source": [
    "train_set_tr.shape"
   ]
  },
  {
   "cell_type": "code",
   "execution_count": 78,
   "metadata": {},
   "outputs": [
    {
     "data": {
      "text/plain": [
       "array([[-0.41797522,  0.96668783, -0.64549939, ...,  0.        ,\n",
       "         0.        ,  0.        ],\n",
       "       [ 1.76478428,  0.110334  , -1.43011502, ...,  0.        ,\n",
       "         0.        ,  0.        ],\n",
       "       [-0.81484059,  0.96668783,  0.13911625, ...,  0.        ,\n",
       "         0.        ,  0.        ],\n",
       "       ..., \n",
       "       [-1.11248961, -1.0314711 , -0.53341144, ...,  0.        ,\n",
       "         0.        ,  0.        ],\n",
       "       [ 0.17732282,  0.96668783, -0.53341144, ...,  0.        ,\n",
       "         1.        ,  0.        ],\n",
       "       [ 2.16164964, -1.0314711 , -0.64549939, ...,  0.        ,\n",
       "         0.        ,  1.        ]])"
      ]
     },
     "execution_count": 78,
     "metadata": {},
     "output_type": "execute_result"
    }
   ],
   "source": [
    "#fitting the full pipeline to the test set\n",
    "test_set_tr = full_pipeline.fit_transform(X_test)\n",
    "test_set_tr"
   ]
  },
  {
   "cell_type": "code",
   "execution_count": 79,
   "metadata": {},
   "outputs": [
    {
     "data": {
      "text/plain": [
       "(282, 42)"
      ]
     },
     "execution_count": 79,
     "metadata": {},
     "output_type": "execute_result"
    }
   ],
   "source": [
    "test_set_tr.shape"
   ]
  },
  {
   "cell_type": "code",
   "execution_count": null,
   "metadata": {
    "collapsed": true
   },
   "outputs": [],
   "source": []
  },
  {
   "cell_type": "markdown",
   "metadata": {},
   "source": [
    "### Building and selecting the machine learning model"
   ]
  },
  {
   "cell_type": "code",
   "execution_count": 80,
   "metadata": {
    "collapsed": true
   },
   "outputs": [],
   "source": [
    "#importing 4 different classifiers \n",
    "from sklearn.ensemble import RandomForestClassifier\n",
    "from sklearn.ensemble import VotingClassifier\n",
    "from sklearn.linear_model import LogisticRegression\n",
    "from sklearn.svm import SVC"
   ]
  },
  {
   "cell_type": "code",
   "execution_count": 81,
   "metadata": {
    "collapsed": true
   },
   "outputs": [],
   "source": [
    "#instantiating the classifiers \n",
    "log_clf = LogisticRegression()\n",
    "rnd_clf = RandomForestClassifier()\n",
    "svm_clf = SVC(probability=True)"
   ]
  },
  {
   "cell_type": "code",
   "execution_count": 82,
   "metadata": {},
   "outputs": [
    {
     "data": {
      "text/plain": [
       "VotingClassifier(estimators=[('lr', LogisticRegression(C=1.0, class_weight=None, dual=False, fit_intercept=True,\n",
       "          intercept_scaling=1, max_iter=100, multi_class='ovr', n_jobs=1,\n",
       "          penalty='l2', random_state=None, solver='liblinear', tol=0.0001,\n",
       "          verbose=0, warm_start=False)), ('rf', RandomF...',\n",
       "  max_iter=-1, probability=True, random_state=None, shrinking=True,\n",
       "  tol=0.001, verbose=False))],\n",
       "         flatten_transform=None, n_jobs=1, voting='hard', weights=None)"
      ]
     },
     "execution_count": 82,
     "metadata": {},
     "output_type": "execute_result"
    }
   ],
   "source": [
    "#aggregating the predictions of each classifier and predict the class that gets the most votes\n",
    "estimators=[('lr', log_clf), ('rf', rnd_clf), ('svc', svm_clf)]\n",
    "voting_clf = VotingClassifier(estimators, voting='hard')\n",
    "voting_clf.fit(train_set_tr, y_train)"
   ]
  },
  {
   "cell_type": "code",
   "execution_count": 83,
   "metadata": {
    "collapsed": true
   },
   "outputs": [],
   "source": [
    "all_estimators = [('lr', log_clf), ('rf', rnd_clf), ('svc', svm_clf), ('vc', voting_clf)]"
   ]
  },
  {
   "cell_type": "code",
   "execution_count": 84,
   "metadata": {},
   "outputs": [
    {
     "name": "stdout",
     "output_type": "stream",
     "text": [
      "lr 0.890070921986\n",
      "rf 0.950354609929\n",
      "svc 0.897163120567\n",
      "vc 0.90780141844\n"
     ]
    }
   ],
   "source": [
    "#let's check each classifier's accuracy on the test set.\n",
    "#for some reason i was getting the error msg - AttributeError: 'LogisticRegression' object has no attribute '_class_', \n",
    "#so i switched imports to 'import sklearn.linear_model as lm' and that worked. \n",
    "\n",
    "from sklearn.metrics import accuracy_score\n",
    "for name, clf in all_estimators:\n",
    "    clf.fit(train_set_tr, y_train)\n",
    "    y_pred = clf.predict(test_set_tr)\n",
    "    print(name, accuracy_score(y_test, y_pred))"
   ]
  },
  {
   "cell_type": "markdown",
   "metadata": {
    "collapsed": true
   },
   "source": [
    "The above results show that all our classiers did somewhat well. However, Random Forest algorithm was a winner :)!  Remember we saw some issues during the exploratory data analysis. So, sticking with it for the remainder of this analysis because industry argument says ensemble algorithms like Random Forest:\n",
    "\n",
    "1. handle well with outliers\n",
    "2. are somewhat reburst against multicollinearity\n",
    "3. rarely overfits"
   ]
  },
  {
   "cell_type": "markdown",
   "metadata": {
    "collapsed": true
   },
   "source": [
    "Having gotten above results by fitting all predictors, i will now check if selecting the most important predictors improves the result for Random Forest."
   ]
  },
  {
   "cell_type": "code",
   "execution_count": 85,
   "metadata": {
    "collapsed": true
   },
   "outputs": [],
   "source": [
    "# Create a random forest classifier\n",
    "rf = RandomForestClassifier(n_estimators=1000, random_state=0, n_jobs=-1)"
   ]
  },
  {
   "cell_type": "code",
   "execution_count": 86,
   "metadata": {},
   "outputs": [
    {
     "data": {
      "text/plain": [
       "RandomForestClassifier(bootstrap=True, class_weight=None, criterion='gini',\n",
       "            max_depth=None, max_features='auto', max_leaf_nodes=None,\n",
       "            min_impurity_decrease=0.0, min_impurity_split=None,\n",
       "            min_samples_leaf=1, min_samples_split=2,\n",
       "            min_weight_fraction_leaf=0.0, n_estimators=1000, n_jobs=-1,\n",
       "            oob_score=False, random_state=0, verbose=0, warm_start=False)"
      ]
     },
     "execution_count": 86,
     "metadata": {},
     "output_type": "execute_result"
    }
   ],
   "source": [
    "# Train the classifier\n",
    "rf.fit(train_set_tr, y_train)"
   ]
  },
  {
   "cell_type": "code",
   "execution_count": 87,
   "metadata": {
    "collapsed": true
   },
   "outputs": [],
   "source": [
    "#Print the name and gini importance of each feature\n",
    "features_list = []\n",
    "feature_imprt_list=[]\n",
    "for feature, feature_imprt in zip(X_train.columns, rf.feature_importances_):\n",
    "    features_list.append(feature)\n",
    "    feature_imprt_list.append(feature_imprt)\n",
    "    #print(feature)"
   ]
  },
  {
   "cell_type": "code",
   "execution_count": 88,
   "metadata": {
    "collapsed": true
   },
   "outputs": [],
   "source": [
    "# Create a selector object that will use the random forest classifier to identify\n",
    "# features that have an importance of more than 0.01\n",
    "from sklearn.feature_selection import SelectFromModel\n",
    "sfm = SelectFromModel(rf, threshold=0.025, prefit=True) #prefit=True does exactly same as sfm.fit(train_set_tr, y_train)"
   ]
  },
  {
   "cell_type": "code",
   "execution_count": 89,
   "metadata": {},
   "outputs": [
    {
     "name": "stdout",
     "output_type": "stream",
     "text": [
      "['iyear', 'iday', 'attacktype1', 'targtype1', 'targsubtype1', 'natlty1', 'weaptype1', 'weapsubtype1', 'INT_LOG', 'INT_MISC', 'INT_ANY']\n"
     ]
    }
   ],
   "source": [
    "#Print the name and gini importance of each feature\n",
    "imprt_features = []\n",
    "for feature_list_index in sfm.get_support(indices=True):\n",
    "    if feature_list_index < len(X_train.columns):\n",
    "        imprt_features.append(X_train.columns[feature_list_index])\n",
    "print(imprt_features)"
   ]
  },
  {
   "cell_type": "code",
   "execution_count": 90,
   "metadata": {},
   "outputs": [
    {
     "data": {
      "text/html": [
       "<div>\n",
       "<style>\n",
       "    .dataframe thead tr:only-child th {\n",
       "        text-align: right;\n",
       "    }\n",
       "\n",
       "    .dataframe thead th {\n",
       "        text-align: left;\n",
       "    }\n",
       "\n",
       "    .dataframe tbody tr th {\n",
       "        vertical-align: top;\n",
       "    }\n",
       "</style>\n",
       "<table border=\"1\" class=\"dataframe\">\n",
       "  <thead>\n",
       "    <tr style=\"text-align: right;\">\n",
       "      <th></th>\n",
       "      <th>feature_imprt</th>\n",
       "      <th>feature_name</th>\n",
       "    </tr>\n",
       "  </thead>\n",
       "  <tbody>\n",
       "    <tr>\n",
       "      <th>0</th>\n",
       "      <td>0.091863</td>\n",
       "      <td>iyear</td>\n",
       "    </tr>\n",
       "    <tr>\n",
       "      <th>1</th>\n",
       "      <td>0.021294</td>\n",
       "      <td>imonth</td>\n",
       "    </tr>\n",
       "    <tr>\n",
       "      <th>2</th>\n",
       "      <td>0.025865</td>\n",
       "      <td>iday</td>\n",
       "    </tr>\n",
       "    <tr>\n",
       "      <th>3</th>\n",
       "      <td>0.000130</td>\n",
       "      <td>extended</td>\n",
       "    </tr>\n",
       "    <tr>\n",
       "      <th>4</th>\n",
       "      <td>0.000390</td>\n",
       "      <td>vicinity</td>\n",
       "    </tr>\n",
       "    <tr>\n",
       "      <th>5</th>\n",
       "      <td>0.000052</td>\n",
       "      <td>crit1</td>\n",
       "    </tr>\n",
       "    <tr>\n",
       "      <th>6</th>\n",
       "      <td>0.001524</td>\n",
       "      <td>crit2</td>\n",
       "    </tr>\n",
       "    <tr>\n",
       "      <th>7</th>\n",
       "      <td>0.000665</td>\n",
       "      <td>crit3</td>\n",
       "    </tr>\n",
       "    <tr>\n",
       "      <th>8</th>\n",
       "      <td>0.011933</td>\n",
       "      <td>doubtterr</td>\n",
       "    </tr>\n",
       "    <tr>\n",
       "      <th>9</th>\n",
       "      <td>0.004784</td>\n",
       "      <td>multiple</td>\n",
       "    </tr>\n",
       "    <tr>\n",
       "      <th>10</th>\n",
       "      <td>0.004768</td>\n",
       "      <td>success</td>\n",
       "    </tr>\n",
       "    <tr>\n",
       "      <th>11</th>\n",
       "      <td>0.000347</td>\n",
       "      <td>suicide</td>\n",
       "    </tr>\n",
       "    <tr>\n",
       "      <th>12</th>\n",
       "      <td>0.026292</td>\n",
       "      <td>attacktype1</td>\n",
       "    </tr>\n",
       "    <tr>\n",
       "      <th>13</th>\n",
       "      <td>0.034079</td>\n",
       "      <td>targtype1</td>\n",
       "    </tr>\n",
       "    <tr>\n",
       "      <th>14</th>\n",
       "      <td>0.048219</td>\n",
       "      <td>targsubtype1</td>\n",
       "    </tr>\n",
       "    <tr>\n",
       "      <th>15</th>\n",
       "      <td>0.040026</td>\n",
       "      <td>natlty1</td>\n",
       "    </tr>\n",
       "    <tr>\n",
       "      <th>16</th>\n",
       "      <td>0.002909</td>\n",
       "      <td>guncertain1</td>\n",
       "    </tr>\n",
       "    <tr>\n",
       "      <th>17</th>\n",
       "      <td>0.000790</td>\n",
       "      <td>individual</td>\n",
       "    </tr>\n",
       "    <tr>\n",
       "      <th>18</th>\n",
       "      <td>0.015597</td>\n",
       "      <td>nperps</td>\n",
       "    </tr>\n",
       "    <tr>\n",
       "      <th>19</th>\n",
       "      <td>0.008573</td>\n",
       "      <td>nperpcap</td>\n",
       "    </tr>\n",
       "    <tr>\n",
       "      <th>20</th>\n",
       "      <td>0.004617</td>\n",
       "      <td>claimed</td>\n",
       "    </tr>\n",
       "    <tr>\n",
       "      <th>21</th>\n",
       "      <td>0.032326</td>\n",
       "      <td>weaptype1</td>\n",
       "    </tr>\n",
       "    <tr>\n",
       "      <th>22</th>\n",
       "      <td>0.030510</td>\n",
       "      <td>weapsubtype1</td>\n",
       "    </tr>\n",
       "    <tr>\n",
       "      <th>23</th>\n",
       "      <td>0.003969</td>\n",
       "      <td>nkill</td>\n",
       "    </tr>\n",
       "    <tr>\n",
       "      <th>24</th>\n",
       "      <td>0.002440</td>\n",
       "      <td>nkillus</td>\n",
       "    </tr>\n",
       "    <tr>\n",
       "      <th>25</th>\n",
       "      <td>0.000282</td>\n",
       "      <td>nkillter</td>\n",
       "    </tr>\n",
       "    <tr>\n",
       "      <th>26</th>\n",
       "      <td>0.005428</td>\n",
       "      <td>nwound</td>\n",
       "    </tr>\n",
       "    <tr>\n",
       "      <th>27</th>\n",
       "      <td>0.002443</td>\n",
       "      <td>nwoundus</td>\n",
       "    </tr>\n",
       "    <tr>\n",
       "      <th>28</th>\n",
       "      <td>0.000146</td>\n",
       "      <td>nwoundte</td>\n",
       "    </tr>\n",
       "    <tr>\n",
       "      <th>29</th>\n",
       "      <td>0.004636</td>\n",
       "      <td>property</td>\n",
       "    </tr>\n",
       "    <tr>\n",
       "      <th>30</th>\n",
       "      <td>0.005722</td>\n",
       "      <td>propextent</td>\n",
       "    </tr>\n",
       "    <tr>\n",
       "      <th>31</th>\n",
       "      <td>0.015588</td>\n",
       "      <td>propvalue</td>\n",
       "    </tr>\n",
       "    <tr>\n",
       "      <th>32</th>\n",
       "      <td>0.001130</td>\n",
       "      <td>ishostkid</td>\n",
       "    </tr>\n",
       "    <tr>\n",
       "      <th>33</th>\n",
       "      <td>0.000155</td>\n",
       "      <td>ransom</td>\n",
       "    </tr>\n",
       "    <tr>\n",
       "      <th>34</th>\n",
       "      <td>0.046239</td>\n",
       "      <td>INT_LOG</td>\n",
       "    </tr>\n",
       "    <tr>\n",
       "      <th>35</th>\n",
       "      <td>0.080086</td>\n",
       "      <td>INT_MISC</td>\n",
       "    </tr>\n",
       "    <tr>\n",
       "      <th>36</th>\n",
       "      <td>0.368139</td>\n",
       "      <td>INT_ANY</td>\n",
       "    </tr>\n",
       "    <tr>\n",
       "      <th>37</th>\n",
       "      <td>0.008522</td>\n",
       "      <td>state_region</td>\n",
       "    </tr>\n",
       "  </tbody>\n",
       "</table>\n",
       "</div>"
      ],
      "text/plain": [
       "    feature_imprt  feature_name\n",
       "0        0.091863         iyear\n",
       "1        0.021294        imonth\n",
       "2        0.025865          iday\n",
       "3        0.000130      extended\n",
       "4        0.000390      vicinity\n",
       "5        0.000052         crit1\n",
       "6        0.001524         crit2\n",
       "7        0.000665         crit3\n",
       "8        0.011933     doubtterr\n",
       "9        0.004784      multiple\n",
       "10       0.004768       success\n",
       "11       0.000347       suicide\n",
       "12       0.026292   attacktype1\n",
       "13       0.034079     targtype1\n",
       "14       0.048219  targsubtype1\n",
       "15       0.040026       natlty1\n",
       "16       0.002909   guncertain1\n",
       "17       0.000790    individual\n",
       "18       0.015597        nperps\n",
       "19       0.008573      nperpcap\n",
       "20       0.004617       claimed\n",
       "21       0.032326     weaptype1\n",
       "22       0.030510  weapsubtype1\n",
       "23       0.003969         nkill\n",
       "24       0.002440       nkillus\n",
       "25       0.000282      nkillter\n",
       "26       0.005428        nwound\n",
       "27       0.002443      nwoundus\n",
       "28       0.000146      nwoundte\n",
       "29       0.004636      property\n",
       "30       0.005722    propextent\n",
       "31       0.015588     propvalue\n",
       "32       0.001130     ishostkid\n",
       "33       0.000155        ransom\n",
       "34       0.046239       INT_LOG\n",
       "35       0.080086      INT_MISC\n",
       "36       0.368139       INT_ANY\n",
       "37       0.008522  state_region"
      ]
     },
     "execution_count": 90,
     "metadata": {},
     "output_type": "execute_result"
    }
   ],
   "source": [
    "feature_df = pd.DataFrame({'feature_name': features_list,'feature_imprt': feature_imprt_list})\n",
    "feature_df"
   ]
  },
  {
   "cell_type": "code",
   "execution_count": 91,
   "metadata": {},
   "outputs": [
    {
     "data": {
      "image/png": "[encoded data removed]",
      "text/plain": [
       "<matplotlib.figure.Figure at 0x1d120d6e320>"
      ]
     },
     "metadata": {},
     "output_type": "display_data"
    }
   ],
   "source": [
    "#plotting all features\n",
    "fig = plt.figure(figsize=(40, 20))\n",
    "fig.add_subplot(1,1,1)\n",
    "sns.barplot(x='feature_name', y='feature_imprt', data= feature_df)\n",
    "plt.show()"
   ]
  },
  {
   "cell_type": "code",
   "execution_count": 92,
   "metadata": {
    "collapsed": true
   },
   "outputs": [],
   "source": [
    "#plotting most important features\n",
    "imprt_feature = feature_df[feature_df['feature_name'].isin(imprt_features)]\n",
    "imprt_feat_desc= imprt_feature.sort_values(by='feature_imprt', ascending=False)"
   ]
  },
  {
   "cell_type": "code",
   "execution_count": 93,
   "metadata": {},
   "outputs": [
    {
     "data": {
      "image/png": "[encoded data removed]",
      "text/plain": [
       "<matplotlib.figure.Figure at 0x1d133f125f8>"
      ]
     },
     "metadata": {},
     "output_type": "display_data"
    }
   ],
   "source": [
    "fig = plt.figure(figsize=(20, 10))\n",
    "fig.add_subplot(1,1,1)\n",
    "sns.barplot(x='feature_name', y='feature_imprt', data= imprt_feat_desc)\n",
    "plt.show()"
   ]
  },
  {
   "cell_type": "code",
   "execution_count": null,
   "metadata": {
    "collapsed": true
   },
   "outputs": [],
   "source": []
  },
  {
   "cell_type": "markdown",
   "metadata": {},
   "source": [
    "***Creating a model with the most important features***"
   ]
  },
  {
   "cell_type": "code",
   "execution_count": 94,
   "metadata": {},
   "outputs": [
    {
     "data": {
      "text/html": [
       "<div>\n",
       "<style>\n",
       "    .dataframe thead tr:only-child th {\n",
       "        text-align: right;\n",
       "    }\n",
       "\n",
       "    .dataframe thead th {\n",
       "        text-align: left;\n",
       "    }\n",
       "\n",
       "    .dataframe tbody tr th {\n",
       "        vertical-align: top;\n",
       "    }\n",
       "</style>\n",
       "<table border=\"1\" class=\"dataframe\">\n",
       "  <thead>\n",
       "    <tr style=\"text-align: right;\">\n",
       "      <th></th>\n",
       "      <th>iyear</th>\n",
       "      <th>iday</th>\n",
       "      <th>attacktype1</th>\n",
       "      <th>targtype1</th>\n",
       "      <th>targsubtype1</th>\n",
       "      <th>natlty1</th>\n",
       "      <th>weaptype1</th>\n",
       "      <th>weapsubtype1</th>\n",
       "      <th>INT_LOG</th>\n",
       "      <th>INT_MISC</th>\n",
       "      <th>INT_ANY</th>\n",
       "    </tr>\n",
       "  </thead>\n",
       "  <tbody>\n",
       "    <tr>\n",
       "      <th>1</th>\n",
       "      <td>1979</td>\n",
       "      <td>27</td>\n",
       "      <td>3</td>\n",
       "      <td>1</td>\n",
       "      <td>4.0</td>\n",
       "      <td>217.0</td>\n",
       "      <td>6</td>\n",
       "      <td>16.0</td>\n",
       "      <td>0</td>\n",
       "      <td>0</td>\n",
       "      <td>0</td>\n",
       "    </tr>\n",
       "    <tr>\n",
       "      <th>2</th>\n",
       "      <td>1984</td>\n",
       "      <td>10</td>\n",
       "      <td>3</td>\n",
       "      <td>4</td>\n",
       "      <td>28.0</td>\n",
       "      <td>217.0</td>\n",
       "      <td>6</td>\n",
       "      <td>17.0</td>\n",
       "      <td>0</td>\n",
       "      <td>0</td>\n",
       "      <td>0</td>\n",
       "    </tr>\n",
       "    <tr>\n",
       "      <th>3</th>\n",
       "      <td>1970</td>\n",
       "      <td>23</td>\n",
       "      <td>3</td>\n",
       "      <td>3</td>\n",
       "      <td>22.0</td>\n",
       "      <td>163.0</td>\n",
       "      <td>6</td>\n",
       "      <td>14.0</td>\n",
       "      <td>0</td>\n",
       "      <td>0</td>\n",
       "      <td>0</td>\n",
       "    </tr>\n",
       "    <tr>\n",
       "      <th>6</th>\n",
       "      <td>1974</td>\n",
       "      <td>31</td>\n",
       "      <td>3</td>\n",
       "      <td>1</td>\n",
       "      <td>7.0</td>\n",
       "      <td>163.0</td>\n",
       "      <td>6</td>\n",
       "      <td>16.0</td>\n",
       "      <td>0</td>\n",
       "      <td>0</td>\n",
       "      <td>0</td>\n",
       "    </tr>\n",
       "    <tr>\n",
       "      <th>9</th>\n",
       "      <td>1971</td>\n",
       "      <td>5</td>\n",
       "      <td>2</td>\n",
       "      <td>1</td>\n",
       "      <td>11.0</td>\n",
       "      <td>217.0</td>\n",
       "      <td>5</td>\n",
       "      <td>3.0</td>\n",
       "      <td>0</td>\n",
       "      <td>0</td>\n",
       "      <td>0</td>\n",
       "    </tr>\n",
       "  </tbody>\n",
       "</table>\n",
       "</div>"
      ],
      "text/plain": [
       "   iyear  iday  attacktype1  targtype1  targsubtype1  natlty1  weaptype1  \\\n",
       "1   1979    27            3          1           4.0    217.0          6   \n",
       "2   1984    10            3          4          28.0    217.0          6   \n",
       "3   1970    23            3          3          22.0    163.0          6   \n",
       "6   1974    31            3          1           7.0    163.0          6   \n",
       "9   1971     5            2          1          11.0    217.0          5   \n",
       "\n",
       "   weapsubtype1  INT_LOG  INT_MISC  INT_ANY  \n",
       "1          16.0        0         0        0  \n",
       "2          17.0        0         0        0  \n",
       "3          14.0        0         0        0  \n",
       "6          16.0        0         0        0  \n",
       "9           3.0        0         0        0  "
      ]
     },
     "execution_count": 94,
     "metadata": {},
     "output_type": "execute_result"
    }
   ],
   "source": [
    "train_bal_imprt = df_upsampled.copy()[imprt_features]\n",
    "train_bal_imprt.head()"
   ]
  },
  {
   "cell_type": "code",
   "execution_count": 95,
   "metadata": {},
   "outputs": [
    {
     "data": {
      "text/plain": [
       "(1394, 11)"
      ]
     },
     "execution_count": 95,
     "metadata": {},
     "output_type": "execute_result"
    }
   ],
   "source": [
    "train_bal_imprt.shape"
   ]
  },
  {
   "cell_type": "code",
   "execution_count": 96,
   "metadata": {},
   "outputs": [
    {
     "data": {
      "text/plain": [
       "iyear             int64\n",
       "iday              int64\n",
       "attacktype1       int64\n",
       "targtype1         int64\n",
       "targsubtype1    float64\n",
       "natlty1         float64\n",
       "weaptype1         int64\n",
       "weapsubtype1    float64\n",
       "INT_LOG           int64\n",
       "INT_MISC          int64\n",
       "INT_ANY           int64\n",
       "dtype: object"
      ]
     },
     "execution_count": 96,
     "metadata": {},
     "output_type": "execute_result"
    }
   ],
   "source": [
    "train_bal_imprt.dtypes"
   ]
  },
  {
   "cell_type": "code",
   "execution_count": 97,
   "metadata": {
    "collapsed": true
   },
   "outputs": [],
   "source": [
    "#creating predictors and target variables for the train set\n",
    "X_train2 = train_bal_imprt\n",
    "y_train2 = df_upsampled['INT_IDEO']"
   ]
  },
  {
   "cell_type": "code",
   "execution_count": 98,
   "metadata": {
    "collapsed": true
   },
   "outputs": [],
   "source": [
    "num_attribs2 = X_train2.columns"
   ]
  },
  {
   "cell_type": "code",
   "execution_count": 99,
   "metadata": {
    "collapsed": true
   },
   "outputs": [],
   "source": [
    "#setting up the pipeline for numerical variables\n",
    "num_pipeline = Pipeline([('selector', DataFrameSelector(num_attribs2)), ('imputer', Imputer(strategy=\"median\")),\n",
    "                        ('std_scaler', StandardScaler()),])\n",
    "\n",
    "#setting up the pipeline for categorical variables\n",
    "#cat_pipeline = Pipeline([('selector', DataFrameSelector(cat_attribs2)), \n",
    "                         #('cat_encoder', CategoricalEncoder(encoding=\"onehot-dense\")),])\n",
    "\n",
    "#combining both numerical and categorical pipelines\n",
    "full_pipeline = FeatureUnion(transformer_list = [(\"num_pipeline\", num_pipeline),])\n",
    "                                                 #(\"cat_pipeline\", cat_pipeline),])"
   ]
  },
  {
   "cell_type": "code",
   "execution_count": 100,
   "metadata": {},
   "outputs": [
    {
     "data": {
      "text/plain": [
       "array([[ -2.77100265e-01,   1.19746185e+00,  -5.20050877e-01, ...,\n",
       "         -5.75693594e-01,  -4.90115826e-01,  -1.20055445e+00],\n",
       "       [  1.83851727e-01,  -7.04384605e-01,  -5.20050877e-01, ...,\n",
       "         -5.75693594e-01,  -4.90115826e-01,  -1.20055445e+00],\n",
       "       [ -1.10681385e+00,   7.49968570e-01,  -5.20050877e-01, ...,\n",
       "         -5.75693594e-01,  -4.90115826e-01,  -1.20055445e+00],\n",
       "       ..., \n",
       "       [ -5.29069718e-04,   6.38095249e-01,  -5.20050877e-01, ...,\n",
       "          1.73703514e+00,   2.04033403e+00,   8.32948473e-01],\n",
       "       [ -5.53671460e-01,  -9.28131248e-01,  -5.20050877e-01, ...,\n",
       "         -5.75693594e-01,   2.04033403e+00,   8.32948473e-01],\n",
       "       [ -5.29069718e-04,  -1.26375121e+00,  -5.20050877e-01, ...,\n",
       "          1.73703514e+00,  -4.90115826e-01,   8.32948473e-01]])"
      ]
     },
     "execution_count": 100,
     "metadata": {},
     "output_type": "execute_result"
    }
   ],
   "source": [
    "#fitting the full pipeline to the training set\n",
    "train_set_tr2 = full_pipeline.fit_transform(X_train2.astype(str))\n",
    "train_set_tr2"
   ]
  },
  {
   "cell_type": "code",
   "execution_count": 101,
   "metadata": {},
   "outputs": [
    {
     "data": {
      "text/plain": [
       "((1394, 11), (1394,), (282, 42), (282,))"
      ]
     },
     "execution_count": 101,
     "metadata": {},
     "output_type": "execute_result"
    }
   ],
   "source": [
    "train_set_tr2.shape, y_train.shape, test_set_tr.shape, y_test.shape"
   ]
  },
  {
   "cell_type": "code",
   "execution_count": 102,
   "metadata": {},
   "outputs": [
    {
     "name": "stdout",
     "output_type": "stream",
     "text": [
      "0.950354609929\n"
     ]
    }
   ],
   "source": [
    "#building the model from the important features\n",
    "imprt_rf = RandomForestClassifier()\n",
    "imprt_rf.fit(train_set_tr2, y_train)\n",
    "\n",
    "#predicting the model from the important features\n",
    "y_pred = rnd_clf.predict(test_set_tr)\n",
    "\n",
    "#printing the accuracy scores\n",
    "print(accuracy_score(y_test, y_pred))\n"
   ]
  },
  {
   "cell_type": "markdown",
   "metadata": {},
   "source": [
    "We see above that there is no difference in accuracy using the important features. The only reason one may one to go with the important features is to reduce the dimention of the overall model, in the sense that if one can get the same result with less, then it is better to go with that."
   ]
  },
  {
   "cell_type": "code",
   "execution_count": null,
   "metadata": {
    "collapsed": true
   },
   "outputs": [],
   "source": []
  },
  {
   "cell_type": "markdown",
   "metadata": {},
   "source": [
    "### Cross-validating our Model\n"
   ]
  },
  {
   "cell_type": "code",
   "execution_count": 103,
   "metadata": {},
   "outputs": [
    {
     "data": {
      "text/plain": [
       "array([ 0.96566524,  0.97844828,  0.97413793])"
      ]
     },
     "execution_count": 103,
     "metadata": {},
     "output_type": "execute_result"
    }
   ],
   "source": [
    "import sklearn.model_selection as ms\n",
    "\n",
    "ms.cross_val_score(imprt_rf, train_set_tr2, y_train, cv = ms.StratifiedKFold(shuffle = True))"
   ]
  },
  {
   "cell_type": "code",
   "execution_count": 104,
   "metadata": {},
   "outputs": [
    {
     "data": {
      "text/plain": [
       "array([ 0.96781116,  0.98491379,  0.97413793])"
      ]
     },
     "execution_count": 104,
     "metadata": {},
     "output_type": "execute_result"
    }
   ],
   "source": [
    "ms.cross_val_score(imprt_rf, train_set_tr2, y_train, cv = ms.StratifiedKFold(shuffle = False))"
   ]
  },
  {
   "cell_type": "code",
   "execution_count": 105,
   "metadata": {},
   "outputs": [
    {
     "data": {
      "text/plain": [
       "array([ 0.98064516,  0.97849462,  0.9762931 ])"
      ]
     },
     "execution_count": 105,
     "metadata": {},
     "output_type": "execute_result"
    }
   ],
   "source": [
    "ms.cross_val_score(imprt_rf, train_set_tr2, y_train, cv = ms.KFold(shuffle = True))"
   ]
  },
  {
   "cell_type": "code",
   "execution_count": 106,
   "metadata": {},
   "outputs": [
    {
     "data": {
      "text/plain": [
       "array([ 0.94408602,  0.9827957 ,  0.93103448])"
      ]
     },
     "execution_count": 106,
     "metadata": {},
     "output_type": "execute_result"
    }
   ],
   "source": [
    "ms.cross_val_score(imprt_rf, train_set_tr2, y_train, cv = ms.KFold(shuffle = False))"
   ]
  },
  {
   "cell_type": "markdown",
   "metadata": {},
   "source": [
    "The above shows the model is not overfitting, which is very good."
   ]
  },
  {
   "cell_type": "code",
   "execution_count": null,
   "metadata": {
    "collapsed": true
   },
   "outputs": [],
   "source": []
  },
  {
   "cell_type": "markdown",
   "metadata": {},
   "source": [
    "### Checking the model performance"
   ]
  },
  {
   "cell_type": "code",
   "execution_count": 107,
   "metadata": {
    "collapsed": true
   },
   "outputs": [],
   "source": [
    "from sklearn.metrics import confusion_matrix\n",
    "confusion_mat = confusion_matrix(y_test, y_pred)\n",
    "#plot_confusion_matrix(confusion_mat)"
   ]
  },
  {
   "cell_type": "code",
   "execution_count": 108,
   "metadata": {
    "scrolled": true
   },
   "outputs": [
    {
     "data": {
      "image/png": "[encoded data removed]",
      "text/plain": [
       "<matplotlib.figure.Figure at 0x1d120e74cf8>"
      ]
     },
     "metadata": {},
     "output_type": "display_data"
    }
   ],
   "source": [
    "from mlxtend.plotting import plot_confusion_matrix\n",
    "fig, ax = plot_confusion_matrix(conf_mat=confusion_mat, figsize= [10, 10], cmap='PuOr')\n",
    "plt.show()"
   ]
  },
  {
   "cell_type": "code",
   "execution_count": 109,
   "metadata": {},
   "outputs": [
    {
     "name": "stdout",
     "output_type": "stream",
     "text": [
      "[0 1]\n"
     ]
    }
   ],
   "source": [
    "#we can also see this model is predicting the two classes as shown below\n",
    "print(np.unique(y_test))"
   ]
  },
  {
   "cell_type": "markdown",
   "metadata": {},
   "source": [
    "This tells us none of the classes is dominating the prediction, which is good"
   ]
  },
  {
   "cell_type": "markdown",
   "metadata": {},
   "source": [
    "From the confusion matrix above, we see some of the predictions were incorrect. In cases where one has imbalanced classes or dataset, accuracy alone cannot be enough to measure how well a model will do on out of sample dataset. Performance metrics like the Confusion Matrix above allows one see the likelihood of the model distinguishing observations from different classes. In other words, if we randomly select one observation from each class, what's the probability that the model will be able to \"rank\" them correctly?\n",
    "\n",
    "- For cases of all nationality of terrorism perpetrator group same as the nationality of the target(s)/victim(s), represented as   0 with index 0, we see that the model got the prediction of 189 observations correctly, and 6 wrong.\n",
    "- For cases of nationality of terrorism perpetrator group differing from the nationality of the target(s)/victim(s), represented   as 1 with index 1, we see that the model got the prediction of 79 observations correctly, and 8 wrong."
   ]
  },
  {
   "cell_type": "code",
   "execution_count": null,
   "metadata": {
    "collapsed": true
   },
   "outputs": [],
   "source": []
  },
  {
   "cell_type": "markdown",
   "metadata": {},
   "source": [
    "### Things that needs improved in the model and dataset\n"
   ]
  },
  {
   "cell_type": "markdown",
   "metadata": {},
   "source": [
    "- I removed 'gname' from the dataset because after feature analysis, and when i did train-test-split, some of the classes in test data set, were missing in the train dataset because these variables contains lot of uneven classes. A way i propose resolving this is using some form of fuzzy matching algorithm to group words of same type with the help of some domain knowledge. This would help improve the unevenness of the classes.\n",
    "\n",
    "- I also propose engineering a feature by combining the iyear, imonth, iday features into one using a datetime format to see if that improves the model\n",
    "\n",
    "- In the exploratory data analysis, we saw some issues with outliers and multicollinerarity affecting some variables, one of which is 'INT_ANY' feature. The predictive model using Random Forest said that feature was important, but such features may not considered when carrying out inferential statistics because of data leakage. So, important questions need asked if such features should be left in or remove to see how conclusions from prediction and inferential analysis turns out. \n",
    "\n",
    "- Consideration would also given to hyperparameter tuning."
   ]
  },
  {
   "cell_type": "code",
   "execution_count": null,
   "metadata": {
    "collapsed": true
   },
   "outputs": [],
   "source": []
  },
  {
   "cell_type": "code",
   "execution_count": null,
   "metadata": {
    "collapsed": true
   },
   "outputs": [],
   "source": []
  },
  {
   "cell_type": "code",
   "execution_count": null,
   "metadata": {
    "collapsed": true
   },
   "outputs": [],
   "source": []
  }
 ],
 "metadata": {
  "kernelspec": {
   "display_name": "Python 3",
   "language": "python",
   "name": "python3"
  },
  "language_info": {
   "codemirror_mode": {
    "name": "ipython",
    "version": 3
   },
   "file_extension": ".py",
   "mimetype": "text/x-python",
   "name": "python",
   "nbconvert_exporter": "python",
   "pygments_lexer": "ipython3",
   "version": "3.6.2"
  }
 },
 "nbformat": 4,
 "nbformat_minor": 2
}
