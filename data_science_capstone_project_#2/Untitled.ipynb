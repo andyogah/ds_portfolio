{
 "cells": [
  {
   "cell_type": "code",
   "execution_count": 1,
   "metadata": {
    "collapsed": false
   },
   "outputs": [],
   "source": [
    "%matplotlib inline"
   ]
  },
  {
   "cell_type": "code",
   "execution_count": 2,
   "metadata": {
    "collapsed": false
   },
   "outputs": [],
   "source": [
    "import pandas as pd\n",
    "import numpy as np\n",
    "import matplotlib\n",
    "import matplotlib.pyplot as plt\n",
    "import seaborn as sns\n",
    "from sklearn.ensemble import RandomForestClassifier\n",
    "from sklearn.tree import DecisionTreeClassifier\n",
    "from sklearn.metrics import accuracy_score\n",
    "from sklearn.model_selection import KFold\n",
    "from sklearn.feature_selection import SelectFromModel\n",
    "from sklearn.model_selection import train_test_split\n",
    "sns.set(style=\"whitegrid\", color_codes=True)\n",
    "np.random.seed(sum(map(ord, \"categorical\")))\n",
    "matplotlib.style.use('ggplot')\n"
   ]
  },
  {
   "cell_type": "code",
   "execution_count": 3,
   "metadata": {
    "collapsed": true
   },
   "outputs": [],
   "source": [
    "#df = pd.read_txt(r'C:\\Users\\dejavu\\Desktop\\git_jupyter\\springboard_mini_project\\capstone_projects\n",
    "#/medicare-physician-and-other-supplier-puf-sas-infile.sas')\n",
    "#df = pd.read_sas('Medicare-Physician-and-Other-Supplier-PUF-SAS-Infile.sas')"
   ]
  },
  {
   "cell_type": "code",
   "execution_count": 4,
   "metadata": {
    "collapsed": true
   },
   "outputs": [],
   "source": [
    "#text_file = open(\"fda_dataset\\products.txt\", \"r\")\n",
    "#lines = text_file.read()\n"
   ]
  },
  {
   "cell_type": "code",
   "execution_count": 5,
   "metadata": {
    "collapsed": true
   },
   "outputs": [],
   "source": [
    "#print(lines)\n",
    "#df = pd.read_table('fda_dataset\\Products.txt', delim_whitespace=True, \n",
    "#names=('ApplNo', 'ProductNo', 'Form','Strength','ReferenceDrug','DrugName','ActiveIngredient','ReferenceStandard'))"
   ]
  },
  {
   "cell_type": "code",
   "execution_count": 6,
   "metadata": {
    "collapsed": false,
    "scrolled": true
   },
   "outputs": [],
   "source": [
    "df = pd.read_table('./fda_dataset/Products.txt', delim_whitespace=True, \n",
    "                   names=('ApplNo', 'ProductNo', 'Form','Strength','ReferenceDrug','DrugName','ActiveIngredient','ReferenceStandard'))"
   ]
  },
  {
   "cell_type": "code",
   "execution_count": 7,
   "metadata": {
    "collapsed": false
   },
   "outputs": [
    {
     "data": {
      "text/html": [
       "<div>\n",
       "<table border=\"1\" class=\"dataframe\">\n",
       "  <thead>\n",
       "    <tr style=\"text-align: right;\">\n",
       "      <th></th>\n",
       "      <th>ApplNo</th>\n",
       "      <th>ProductNo</th>\n",
       "      <th>Form</th>\n",
       "      <th>Strength</th>\n",
       "      <th>ReferenceDrug</th>\n",
       "      <th>DrugName</th>\n",
       "      <th>ActiveIngredient</th>\n",
       "      <th>ReferenceStandard</th>\n",
       "    </tr>\n",
       "  </thead>\n",
       "  <tbody>\n",
       "    <tr>\n",
       "      <th>0</th>\n",
       "      <td>ApplNo</td>\n",
       "      <td>ProductNo</td>\n",
       "      <td>Form</td>\n",
       "      <td>Strength</td>\n",
       "      <td>ReferenceDrug</td>\n",
       "      <td>DrugName</td>\n",
       "      <td>ActiveIngredient</td>\n",
       "      <td>ReferenceStandard</td>\n",
       "    </tr>\n",
       "    <tr>\n",
       "      <th>1</th>\n",
       "      <td>000004</td>\n",
       "      <td>004</td>\n",
       "      <td>SOLUTION/DROPS;OPHTHALMIC</td>\n",
       "      <td>1%</td>\n",
       "      <td>0</td>\n",
       "      <td>PAREDRINE</td>\n",
       "      <td>HYDROXYAMPHETAMINE</td>\n",
       "      <td>HYDROBROMIDE</td>\n",
       "    </tr>\n",
       "    <tr>\n",
       "      <th>2</th>\n",
       "      <td>000159</td>\n",
       "      <td>001</td>\n",
       "      <td>TABLET;ORAL</td>\n",
       "      <td>500MG</td>\n",
       "      <td>0</td>\n",
       "      <td>SULFAPYRIDINE</td>\n",
       "      <td>SULFAPYRIDINE</td>\n",
       "      <td>0</td>\n",
       "    </tr>\n",
       "    <tr>\n",
       "      <th>3</th>\n",
       "      <td>000552</td>\n",
       "      <td>001</td>\n",
       "      <td>INJECTABLE;INJECTION</td>\n",
       "      <td>20,000</td>\n",
       "      <td>UNITS/ML</td>\n",
       "      <td>0</td>\n",
       "      <td>LIQUAEMIN</td>\n",
       "      <td>SODIUM</td>\n",
       "    </tr>\n",
       "    <tr>\n",
       "      <th>4</th>\n",
       "      <td>000552</td>\n",
       "      <td>002</td>\n",
       "      <td>INJECTABLE;INJECTION</td>\n",
       "      <td>40,000</td>\n",
       "      <td>UNITS/ML</td>\n",
       "      <td>0</td>\n",
       "      <td>LIQUAEMIN</td>\n",
       "      <td>SODIUM</td>\n",
       "    </tr>\n",
       "  </tbody>\n",
       "</table>\n",
       "</div>"
      ],
      "text/plain": [
       "   ApplNo  ProductNo                       Form  Strength  ReferenceDrug  \\\n",
       "0  ApplNo  ProductNo                       Form  Strength  ReferenceDrug   \n",
       "1  000004        004  SOLUTION/DROPS;OPHTHALMIC        1%              0   \n",
       "2  000159        001                TABLET;ORAL     500MG              0   \n",
       "3  000552        001       INJECTABLE;INJECTION    20,000       UNITS/ML   \n",
       "4  000552        002       INJECTABLE;INJECTION    40,000       UNITS/ML   \n",
       "\n",
       "        DrugName    ActiveIngredient  ReferenceStandard  \n",
       "0       DrugName    ActiveIngredient  ReferenceStandard  \n",
       "1      PAREDRINE  HYDROXYAMPHETAMINE       HYDROBROMIDE  \n",
       "2  SULFAPYRIDINE       SULFAPYRIDINE                  0  \n",
       "3              0           LIQUAEMIN             SODIUM  \n",
       "4              0           LIQUAEMIN             SODIUM  "
      ]
     },
     "execution_count": 7,
     "metadata": {},
     "output_type": "execute_result"
    }
   ],
   "source": [
    "df.head()"
   ]
  },
  {
   "cell_type": "code",
   "execution_count": 8,
   "metadata": {
    "collapsed": false
   },
   "outputs": [],
   "source": [
    "df = df.rename(columns=df.iloc[0]).drop(df.index[0])"
   ]
  },
  {
   "cell_type": "code",
   "execution_count": 9,
   "metadata": {
    "collapsed": true
   },
   "outputs": [],
   "source": [
    "df2 = df.reset_index().drop('index', axis = 1)"
   ]
  },
  {
   "cell_type": "code",
   "execution_count": 10,
   "metadata": {
    "collapsed": false
   },
   "outputs": [
    {
     "data": {
      "text/html": [
       "<div>\n",
       "<table border=\"1\" class=\"dataframe\">\n",
       "  <thead>\n",
       "    <tr style=\"text-align: right;\">\n",
       "      <th></th>\n",
       "      <th>ApplNo</th>\n",
       "      <th>ProductNo</th>\n",
       "      <th>Form</th>\n",
       "      <th>Strength</th>\n",
       "      <th>ReferenceDrug</th>\n",
       "      <th>DrugName</th>\n",
       "      <th>ActiveIngredient</th>\n",
       "      <th>ReferenceStandard</th>\n",
       "    </tr>\n",
       "  </thead>\n",
       "  <tbody>\n",
       "    <tr>\n",
       "      <th>0</th>\n",
       "      <td>000004</td>\n",
       "      <td>004</td>\n",
       "      <td>SOLUTION/DROPS;OPHTHALMIC</td>\n",
       "      <td>1%</td>\n",
       "      <td>0</td>\n",
       "      <td>PAREDRINE</td>\n",
       "      <td>HYDROXYAMPHETAMINE</td>\n",
       "      <td>HYDROBROMIDE</td>\n",
       "    </tr>\n",
       "    <tr>\n",
       "      <th>1</th>\n",
       "      <td>000159</td>\n",
       "      <td>001</td>\n",
       "      <td>TABLET;ORAL</td>\n",
       "      <td>500MG</td>\n",
       "      <td>0</td>\n",
       "      <td>SULFAPYRIDINE</td>\n",
       "      <td>SULFAPYRIDINE</td>\n",
       "      <td>0</td>\n",
       "    </tr>\n",
       "    <tr>\n",
       "      <th>2</th>\n",
       "      <td>000552</td>\n",
       "      <td>001</td>\n",
       "      <td>INJECTABLE;INJECTION</td>\n",
       "      <td>20,000</td>\n",
       "      <td>UNITS/ML</td>\n",
       "      <td>0</td>\n",
       "      <td>LIQUAEMIN</td>\n",
       "      <td>SODIUM</td>\n",
       "    </tr>\n",
       "    <tr>\n",
       "      <th>3</th>\n",
       "      <td>000552</td>\n",
       "      <td>002</td>\n",
       "      <td>INJECTABLE;INJECTION</td>\n",
       "      <td>40,000</td>\n",
       "      <td>UNITS/ML</td>\n",
       "      <td>0</td>\n",
       "      <td>LIQUAEMIN</td>\n",
       "      <td>SODIUM</td>\n",
       "    </tr>\n",
       "    <tr>\n",
       "      <th>4</th>\n",
       "      <td>000552</td>\n",
       "      <td>003</td>\n",
       "      <td>INJECTABLE;INJECTION</td>\n",
       "      <td>5,000</td>\n",
       "      <td>UNITS/ML</td>\n",
       "      <td>0</td>\n",
       "      <td>LIQUAEMIN</td>\n",
       "      <td>SODIUM</td>\n",
       "    </tr>\n",
       "  </tbody>\n",
       "</table>\n",
       "</div>"
      ],
      "text/plain": [
       "   ApplNo ProductNo                       Form Strength ReferenceDrug  \\\n",
       "0  000004       004  SOLUTION/DROPS;OPHTHALMIC       1%             0   \n",
       "1  000159       001                TABLET;ORAL    500MG             0   \n",
       "2  000552       001       INJECTABLE;INJECTION   20,000      UNITS/ML   \n",
       "3  000552       002       INJECTABLE;INJECTION   40,000      UNITS/ML   \n",
       "4  000552       003       INJECTABLE;INJECTION    5,000      UNITS/ML   \n",
       "\n",
       "        DrugName    ActiveIngredient ReferenceStandard  \n",
       "0      PAREDRINE  HYDROXYAMPHETAMINE      HYDROBROMIDE  \n",
       "1  SULFAPYRIDINE       SULFAPYRIDINE                 0  \n",
       "2              0           LIQUAEMIN            SODIUM  \n",
       "3              0           LIQUAEMIN            SODIUM  \n",
       "4              0           LIQUAEMIN            SODIUM  "
      ]
     },
     "execution_count": 10,
     "metadata": {},
     "output_type": "execute_result"
    }
   ],
   "source": [
    "df2.head()"
   ]
  },
  {
   "cell_type": "code",
   "execution_count": 11,
   "metadata": {
    "collapsed": false
   },
   "outputs": [
    {
     "data": {
      "text/plain": [
       "(36399, 8)"
      ]
     },
     "execution_count": 11,
     "metadata": {},
     "output_type": "execute_result"
    }
   ],
   "source": [
    "df2.shape"
   ]
  },
  {
   "cell_type": "code",
   "execution_count": 12,
   "metadata": {
    "collapsed": false
   },
   "outputs": [],
   "source": [
    "df3 = pd.read_table('fda_dataset/TE.txt', delim_whitespace=True, names=('ApplNo','ProductNo','MarketingStatusID','TECode'))"
   ]
  },
  {
   "cell_type": "code",
   "execution_count": 13,
   "metadata": {
    "collapsed": false
   },
   "outputs": [
    {
     "data": {
      "text/html": [
       "<div>\n",
       "<table border=\"1\" class=\"dataframe\">\n",
       "  <thead>\n",
       "    <tr style=\"text-align: right;\">\n",
       "      <th></th>\n",
       "      <th>ApplNo</th>\n",
       "      <th>ProductNo</th>\n",
       "      <th>MarketingStatusID</th>\n",
       "      <th>TECode</th>\n",
       "    </tr>\n",
       "  </thead>\n",
       "  <tbody>\n",
       "    <tr>\n",
       "      <th>0</th>\n",
       "      <td>ApplNo</td>\n",
       "      <td>ProductNo</td>\n",
       "      <td>MarketingStatusID</td>\n",
       "      <td>TECode</td>\n",
       "    </tr>\n",
       "    <tr>\n",
       "      <th>1</th>\n",
       "      <td>003444</td>\n",
       "      <td>001</td>\n",
       "      <td>1</td>\n",
       "      <td>AA</td>\n",
       "    </tr>\n",
       "    <tr>\n",
       "      <th>2</th>\n",
       "      <td>005010</td>\n",
       "      <td>001</td>\n",
       "      <td>1</td>\n",
       "      <td>AA</td>\n",
       "    </tr>\n",
       "  </tbody>\n",
       "</table>\n",
       "</div>"
      ],
      "text/plain": [
       "   ApplNo  ProductNo  MarketingStatusID  TECode\n",
       "0  ApplNo  ProductNo  MarketingStatusID  TECode\n",
       "1  003444        001                  1      AA\n",
       "2  005010        001                  1      AA"
      ]
     },
     "execution_count": 13,
     "metadata": {},
     "output_type": "execute_result"
    }
   ],
   "source": [
    "df3.head(3)"
   ]
  },
  {
   "cell_type": "code",
   "execution_count": 14,
   "metadata": {
    "collapsed": false
   },
   "outputs": [
    {
     "data": {
      "text/html": [
       "<div>\n",
       "<table border=\"1\" class=\"dataframe\">\n",
       "  <thead>\n",
       "    <tr style=\"text-align: right;\">\n",
       "      <th></th>\n",
       "      <th>ApplNo</th>\n",
       "      <th>ProductNo</th>\n",
       "      <th>MarketingStatusID</th>\n",
       "      <th>TECode</th>\n",
       "    </tr>\n",
       "  </thead>\n",
       "  <tbody>\n",
       "    <tr>\n",
       "      <th>1</th>\n",
       "      <td>003444</td>\n",
       "      <td>001</td>\n",
       "      <td>1</td>\n",
       "      <td>AA</td>\n",
       "    </tr>\n",
       "    <tr>\n",
       "      <th>2</th>\n",
       "      <td>005010</td>\n",
       "      <td>001</td>\n",
       "      <td>1</td>\n",
       "      <td>AA</td>\n",
       "    </tr>\n",
       "    <tr>\n",
       "      <th>3</th>\n",
       "      <td>005010</td>\n",
       "      <td>004</td>\n",
       "      <td>1</td>\n",
       "      <td>AA</td>\n",
       "    </tr>\n",
       "  </tbody>\n",
       "</table>\n",
       "</div>"
      ],
      "text/plain": [
       "   ApplNo ProductNo MarketingStatusID TECode\n",
       "1  003444       001                 1     AA\n",
       "2  005010       001                 1     AA\n",
       "3  005010       004                 1     AA"
      ]
     },
     "execution_count": 14,
     "metadata": {},
     "output_type": "execute_result"
    }
   ],
   "source": [
    "df4 = df3.rename(columns=df3.iloc[0]).drop(df2.index[0])\n",
    "df4.head(3)"
   ]
  },
  {
   "cell_type": "code",
   "execution_count": 15,
   "metadata": {
    "collapsed": false
   },
   "outputs": [
    {
     "data": {
      "text/html": [
       "<div>\n",
       "<table border=\"1\" class=\"dataframe\">\n",
       "  <thead>\n",
       "    <tr style=\"text-align: right;\">\n",
       "      <th></th>\n",
       "      <th>ApplNo</th>\n",
       "      <th>ProductNo</th>\n",
       "      <th>MarketingStatusID</th>\n",
       "      <th>TECode</th>\n",
       "    </tr>\n",
       "  </thead>\n",
       "  <tbody>\n",
       "    <tr>\n",
       "      <th>0</th>\n",
       "      <td>003444</td>\n",
       "      <td>001</td>\n",
       "      <td>1</td>\n",
       "      <td>AA</td>\n",
       "    </tr>\n",
       "    <tr>\n",
       "      <th>1</th>\n",
       "      <td>005010</td>\n",
       "      <td>001</td>\n",
       "      <td>1</td>\n",
       "      <td>AA</td>\n",
       "    </tr>\n",
       "    <tr>\n",
       "      <th>2</th>\n",
       "      <td>005010</td>\n",
       "      <td>004</td>\n",
       "      <td>1</td>\n",
       "      <td>AA</td>\n",
       "    </tr>\n",
       "  </tbody>\n",
       "</table>\n",
       "</div>"
      ],
      "text/plain": [
       "   ApplNo ProductNo MarketingStatusID TECode\n",
       "0  003444       001                 1     AA\n",
       "1  005010       001                 1     AA\n",
       "2  005010       004                 1     AA"
      ]
     },
     "execution_count": 15,
     "metadata": {},
     "output_type": "execute_result"
    }
   ],
   "source": [
    "df5 = df4.reset_index().drop('index', axis = 1)\n",
    "df5.head(3)"
   ]
  },
  {
   "cell_type": "code",
   "execution_count": 16,
   "metadata": {
    "collapsed": false
   },
   "outputs": [
    {
     "data": {
      "text/plain": [
       "(16578, 4)"
      ]
     },
     "execution_count": 16,
     "metadata": {},
     "output_type": "execute_result"
    }
   ],
   "source": [
    "df5.shape"
   ]
  },
  {
   "cell_type": "code",
   "execution_count": 17,
   "metadata": {
    "collapsed": false
   },
   "outputs": [
    {
     "data": {
      "text/html": [
       "<div>\n",
       "<table border=\"1\" class=\"dataframe\">\n",
       "  <thead>\n",
       "    <tr style=\"text-align: right;\">\n",
       "      <th></th>\n",
       "      <th>ApplNo</th>\n",
       "      <th>ProductNo_x</th>\n",
       "      <th>Form</th>\n",
       "      <th>Strength</th>\n",
       "      <th>ReferenceDrug</th>\n",
       "      <th>DrugName</th>\n",
       "      <th>ActiveIngredient</th>\n",
       "      <th>ReferenceStandard</th>\n",
       "      <th>ProductNo_y</th>\n",
       "      <th>MarketingStatusID</th>\n",
       "      <th>TECode</th>\n",
       "    </tr>\n",
       "  </thead>\n",
       "  <tbody>\n",
       "    <tr>\n",
       "      <th>0</th>\n",
       "      <td>003444</td>\n",
       "      <td>001</td>\n",
       "      <td>CAPSULE;ORAL</td>\n",
       "      <td>50,000</td>\n",
       "      <td>IU</td>\n",
       "      <td>1</td>\n",
       "      <td>DRISDOL</td>\n",
       "      <td>ERGOCALCIFEROL</td>\n",
       "      <td>001</td>\n",
       "      <td>1</td>\n",
       "      <td>AA</td>\n",
       "    </tr>\n",
       "    <tr>\n",
       "      <th>1</th>\n",
       "      <td>005010</td>\n",
       "      <td>001</td>\n",
       "      <td>TABLET;ORAL</td>\n",
       "      <td>50MG</td>\n",
       "      <td>1</td>\n",
       "      <td>DEMEROL</td>\n",
       "      <td>MEPERIDINE</td>\n",
       "      <td>HYDROCHLORIDE</td>\n",
       "      <td>001</td>\n",
       "      <td>1</td>\n",
       "      <td>AA</td>\n",
       "    </tr>\n",
       "    <tr>\n",
       "      <th>2</th>\n",
       "      <td>005010</td>\n",
       "      <td>001</td>\n",
       "      <td>TABLET;ORAL</td>\n",
       "      <td>50MG</td>\n",
       "      <td>1</td>\n",
       "      <td>DEMEROL</td>\n",
       "      <td>MEPERIDINE</td>\n",
       "      <td>HYDROCHLORIDE</td>\n",
       "      <td>004</td>\n",
       "      <td>1</td>\n",
       "      <td>AA</td>\n",
       "    </tr>\n",
       "    <tr>\n",
       "      <th>3</th>\n",
       "      <td>005010</td>\n",
       "      <td>002</td>\n",
       "      <td>INJECTABLE;INJECTION</td>\n",
       "      <td>50MG/ML</td>\n",
       "      <td>0</td>\n",
       "      <td>DEMEROL</td>\n",
       "      <td>MEPERIDINE</td>\n",
       "      <td>HYDROCHLORIDE</td>\n",
       "      <td>001</td>\n",
       "      <td>1</td>\n",
       "      <td>AA</td>\n",
       "    </tr>\n",
       "    <tr>\n",
       "      <th>4</th>\n",
       "      <td>005010</td>\n",
       "      <td>002</td>\n",
       "      <td>INJECTABLE;INJECTION</td>\n",
       "      <td>50MG/ML</td>\n",
       "      <td>0</td>\n",
       "      <td>DEMEROL</td>\n",
       "      <td>MEPERIDINE</td>\n",
       "      <td>HYDROCHLORIDE</td>\n",
       "      <td>004</td>\n",
       "      <td>1</td>\n",
       "      <td>AA</td>\n",
       "    </tr>\n",
       "    <tr>\n",
       "      <th>5</th>\n",
       "      <td>005010</td>\n",
       "      <td>003</td>\n",
       "      <td>INJECTABLE;INJECTION</td>\n",
       "      <td>100MG/ML</td>\n",
       "      <td>0</td>\n",
       "      <td>DEMEROL</td>\n",
       "      <td>MEPERIDINE</td>\n",
       "      <td>HYDROCHLORIDE</td>\n",
       "      <td>001</td>\n",
       "      <td>1</td>\n",
       "      <td>AA</td>\n",
       "    </tr>\n",
       "    <tr>\n",
       "      <th>6</th>\n",
       "      <td>005010</td>\n",
       "      <td>003</td>\n",
       "      <td>INJECTABLE;INJECTION</td>\n",
       "      <td>100MG/ML</td>\n",
       "      <td>0</td>\n",
       "      <td>DEMEROL</td>\n",
       "      <td>MEPERIDINE</td>\n",
       "      <td>HYDROCHLORIDE</td>\n",
       "      <td>004</td>\n",
       "      <td>1</td>\n",
       "      <td>AA</td>\n",
       "    </tr>\n",
       "    <tr>\n",
       "      <th>7</th>\n",
       "      <td>005010</td>\n",
       "      <td>004</td>\n",
       "      <td>TABLET;ORAL</td>\n",
       "      <td>100MG</td>\n",
       "      <td>1</td>\n",
       "      <td>DEMEROL</td>\n",
       "      <td>MEPERIDINE</td>\n",
       "      <td>HYDROCHLORIDE</td>\n",
       "      <td>001</td>\n",
       "      <td>1</td>\n",
       "      <td>AA</td>\n",
       "    </tr>\n",
       "    <tr>\n",
       "      <th>8</th>\n",
       "      <td>005010</td>\n",
       "      <td>004</td>\n",
       "      <td>TABLET;ORAL</td>\n",
       "      <td>100MG</td>\n",
       "      <td>1</td>\n",
       "      <td>DEMEROL</td>\n",
       "      <td>MEPERIDINE</td>\n",
       "      <td>HYDROCHLORIDE</td>\n",
       "      <td>004</td>\n",
       "      <td>1</td>\n",
       "      <td>AA</td>\n",
       "    </tr>\n",
       "    <tr>\n",
       "      <th>9</th>\n",
       "      <td>005010</td>\n",
       "      <td>005</td>\n",
       "      <td>SYRUP;ORAL</td>\n",
       "      <td>50MG/5ML</td>\n",
       "      <td>**Federal</td>\n",
       "      <td>Register</td>\n",
       "      <td>determination</td>\n",
       "      <td>that</td>\n",
       "      <td>001</td>\n",
       "      <td>1</td>\n",
       "      <td>AA</td>\n",
       "    </tr>\n",
       "    <tr>\n",
       "      <th>10</th>\n",
       "      <td>005010</td>\n",
       "      <td>005</td>\n",
       "      <td>SYRUP;ORAL</td>\n",
       "      <td>50MG/5ML</td>\n",
       "      <td>**Federal</td>\n",
       "      <td>Register</td>\n",
       "      <td>determination</td>\n",
       "      <td>that</td>\n",
       "      <td>004</td>\n",
       "      <td>1</td>\n",
       "      <td>AA</td>\n",
       "    </tr>\n",
       "    <tr>\n",
       "      <th>11</th>\n",
       "      <td>005010</td>\n",
       "      <td>007</td>\n",
       "      <td>INJECTABLE;INJECTION</td>\n",
       "      <td>25MG/ML</td>\n",
       "      <td>0</td>\n",
       "      <td>DEMEROL</td>\n",
       "      <td>MEPERIDINE</td>\n",
       "      <td>HYDROCHLORIDE</td>\n",
       "      <td>001</td>\n",
       "      <td>1</td>\n",
       "      <td>AA</td>\n",
       "    </tr>\n",
       "    <tr>\n",
       "      <th>12</th>\n",
       "      <td>005010</td>\n",
       "      <td>007</td>\n",
       "      <td>INJECTABLE;INJECTION</td>\n",
       "      <td>25MG/ML</td>\n",
       "      <td>0</td>\n",
       "      <td>DEMEROL</td>\n",
       "      <td>MEPERIDINE</td>\n",
       "      <td>HYDROCHLORIDE</td>\n",
       "      <td>004</td>\n",
       "      <td>1</td>\n",
       "      <td>AA</td>\n",
       "    </tr>\n",
       "    <tr>\n",
       "      <th>13</th>\n",
       "      <td>005010</td>\n",
       "      <td>009</td>\n",
       "      <td>INJECTABLE;INJECTION</td>\n",
       "      <td>75MG/ML</td>\n",
       "      <td>0</td>\n",
       "      <td>DEMEROL</td>\n",
       "      <td>MEPERIDINE</td>\n",
       "      <td>HYDROCHLORIDE</td>\n",
       "      <td>001</td>\n",
       "      <td>1</td>\n",
       "      <td>AA</td>\n",
       "    </tr>\n",
       "    <tr>\n",
       "      <th>14</th>\n",
       "      <td>005010</td>\n",
       "      <td>009</td>\n",
       "      <td>INJECTABLE;INJECTION</td>\n",
       "      <td>75MG/ML</td>\n",
       "      <td>0</td>\n",
       "      <td>DEMEROL</td>\n",
       "      <td>MEPERIDINE</td>\n",
       "      <td>HYDROCHLORIDE</td>\n",
       "      <td>004</td>\n",
       "      <td>1</td>\n",
       "      <td>AA</td>\n",
       "    </tr>\n",
       "    <tr>\n",
       "      <th>15</th>\n",
       "      <td>005378</td>\n",
       "      <td>002</td>\n",
       "      <td>TABLET;ORAL</td>\n",
       "      <td>5MG</td>\n",
       "      <td>1</td>\n",
       "      <td>DESOXYN</td>\n",
       "      <td>METHAMPHETAMINE</td>\n",
       "      <td>HYDROCHLORIDE</td>\n",
       "      <td>002</td>\n",
       "      <td>1</td>\n",
       "      <td>AA</td>\n",
       "    </tr>\n",
       "    <tr>\n",
       "      <th>16</th>\n",
       "      <td>005378</td>\n",
       "      <td>003</td>\n",
       "      <td>TABLET,</td>\n",
       "      <td>EXTENDED</td>\n",
       "      <td>RELEASE;ORAL</td>\n",
       "      <td>10MG</td>\n",
       "      <td>0</td>\n",
       "      <td>DESOXYN</td>\n",
       "      <td>002</td>\n",
       "      <td>1</td>\n",
       "      <td>AA</td>\n",
       "    </tr>\n",
       "    <tr>\n",
       "      <th>17</th>\n",
       "      <td>005378</td>\n",
       "      <td>004</td>\n",
       "      <td>TABLET,</td>\n",
       "      <td>EXTENDED</td>\n",
       "      <td>RELEASE;ORAL</td>\n",
       "      <td>5MG</td>\n",
       "      <td>0</td>\n",
       "      <td>DESOXYN</td>\n",
       "      <td>002</td>\n",
       "      <td>1</td>\n",
       "      <td>AA</td>\n",
       "    </tr>\n",
       "    <tr>\n",
       "      <th>18</th>\n",
       "      <td>005378</td>\n",
       "      <td>005</td>\n",
       "      <td>TABLET,</td>\n",
       "      <td>EXTENDED</td>\n",
       "      <td>RELEASE;ORAL</td>\n",
       "      <td>15MG</td>\n",
       "      <td>0</td>\n",
       "      <td>DESOXYN</td>\n",
       "      <td>002</td>\n",
       "      <td>1</td>\n",
       "      <td>AA</td>\n",
       "    </tr>\n",
       "    <tr>\n",
       "      <th>19</th>\n",
       "      <td>005929</td>\n",
       "      <td>001</td>\n",
       "      <td>INJECTABLE;INJECTION</td>\n",
       "      <td>1MG/ML</td>\n",
       "      <td>1</td>\n",
       "      <td>D.H.E.</td>\n",
       "      <td>45</td>\n",
       "      <td>DIHYDROERGOTAMINE</td>\n",
       "      <td>001</td>\n",
       "      <td>1</td>\n",
       "      <td>AP</td>\n",
       "    </tr>\n",
       "  </tbody>\n",
       "</table>\n",
       "</div>"
      ],
      "text/plain": [
       "    ApplNo ProductNo_x                  Form  Strength ReferenceDrug  \\\n",
       "0   003444         001          CAPSULE;ORAL    50,000            IU   \n",
       "1   005010         001           TABLET;ORAL      50MG             1   \n",
       "2   005010         001           TABLET;ORAL      50MG             1   \n",
       "3   005010         002  INJECTABLE;INJECTION   50MG/ML             0   \n",
       "4   005010         002  INJECTABLE;INJECTION   50MG/ML             0   \n",
       "5   005010         003  INJECTABLE;INJECTION  100MG/ML             0   \n",
       "6   005010         003  INJECTABLE;INJECTION  100MG/ML             0   \n",
       "7   005010         004           TABLET;ORAL     100MG             1   \n",
       "8   005010         004           TABLET;ORAL     100MG             1   \n",
       "9   005010         005            SYRUP;ORAL  50MG/5ML     **Federal   \n",
       "10  005010         005            SYRUP;ORAL  50MG/5ML     **Federal   \n",
       "11  005010         007  INJECTABLE;INJECTION   25MG/ML             0   \n",
       "12  005010         007  INJECTABLE;INJECTION   25MG/ML             0   \n",
       "13  005010         009  INJECTABLE;INJECTION   75MG/ML             0   \n",
       "14  005010         009  INJECTABLE;INJECTION   75MG/ML             0   \n",
       "15  005378         002           TABLET;ORAL       5MG             1   \n",
       "16  005378         003               TABLET,  EXTENDED  RELEASE;ORAL   \n",
       "17  005378         004               TABLET,  EXTENDED  RELEASE;ORAL   \n",
       "18  005378         005               TABLET,  EXTENDED  RELEASE;ORAL   \n",
       "19  005929         001  INJECTABLE;INJECTION    1MG/ML             1   \n",
       "\n",
       "    DrugName ActiveIngredient  ReferenceStandard ProductNo_y  \\\n",
       "0          1          DRISDOL     ERGOCALCIFEROL         001   \n",
       "1    DEMEROL       MEPERIDINE      HYDROCHLORIDE         001   \n",
       "2    DEMEROL       MEPERIDINE      HYDROCHLORIDE         004   \n",
       "3    DEMEROL       MEPERIDINE      HYDROCHLORIDE         001   \n",
       "4    DEMEROL       MEPERIDINE      HYDROCHLORIDE         004   \n",
       "5    DEMEROL       MEPERIDINE      HYDROCHLORIDE         001   \n",
       "6    DEMEROL       MEPERIDINE      HYDROCHLORIDE         004   \n",
       "7    DEMEROL       MEPERIDINE      HYDROCHLORIDE         001   \n",
       "8    DEMEROL       MEPERIDINE      HYDROCHLORIDE         004   \n",
       "9   Register    determination               that         001   \n",
       "10  Register    determination               that         004   \n",
       "11   DEMEROL       MEPERIDINE      HYDROCHLORIDE         001   \n",
       "12   DEMEROL       MEPERIDINE      HYDROCHLORIDE         004   \n",
       "13   DEMEROL       MEPERIDINE      HYDROCHLORIDE         001   \n",
       "14   DEMEROL       MEPERIDINE      HYDROCHLORIDE         004   \n",
       "15   DESOXYN  METHAMPHETAMINE      HYDROCHLORIDE         002   \n",
       "16      10MG                0            DESOXYN         002   \n",
       "17       5MG                0            DESOXYN         002   \n",
       "18      15MG                0            DESOXYN         002   \n",
       "19    D.H.E.               45  DIHYDROERGOTAMINE         001   \n",
       "\n",
       "   MarketingStatusID TECode  \n",
       "0                  1     AA  \n",
       "1                  1     AA  \n",
       "2                  1     AA  \n",
       "3                  1     AA  \n",
       "4                  1     AA  \n",
       "5                  1     AA  \n",
       "6                  1     AA  \n",
       "7                  1     AA  \n",
       "8                  1     AA  \n",
       "9                  1     AA  \n",
       "10                 1     AA  \n",
       "11                 1     AA  \n",
       "12                 1     AA  \n",
       "13                 1     AA  \n",
       "14                 1     AA  \n",
       "15                 1     AA  \n",
       "16                 1     AA  \n",
       "17                 1     AA  \n",
       "18                 1     AA  \n",
       "19                 1     AP  "
      ]
     },
     "execution_count": 17,
     "metadata": {},
     "output_type": "execute_result"
    }
   ],
   "source": [
    "#df3 =df.append(df2, ignore_index=True)\n",
    "df6 = pd.merge(df2, df5, on=['ApplNo'])\n",
    "df6.head(20)"
   ]
  },
  {
   "cell_type": "code",
   "execution_count": 18,
   "metadata": {
    "collapsed": false
   },
   "outputs": [
    {
     "data": {
      "text/plain": [
       "(49226, 11)"
      ]
     },
     "execution_count": 18,
     "metadata": {},
     "output_type": "execute_result"
    }
   ],
   "source": [
    "df6.shape"
   ]
  },
  {
   "cell_type": "code",
   "execution_count": 19,
   "metadata": {
    "collapsed": false
   },
   "outputs": [
    {
     "data": {
      "text/plain": [
       "(49226, 11)"
      ]
     },
     "execution_count": 19,
     "metadata": {},
     "output_type": "execute_result"
    }
   ],
   "source": [
    "df6.drop_duplicates().shape"
   ]
  },
  {
   "cell_type": "code",
   "execution_count": 20,
   "metadata": {
    "collapsed": false
   },
   "outputs": [],
   "source": [
    "#df6.DrugName.value_counts()"
   ]
  },
  {
   "cell_type": "code",
   "execution_count": 21,
   "metadata": {
    "collapsed": false
   },
   "outputs": [],
   "source": [
    "#pd.Series(df6.DrugName.unique())"
   ]
  },
  {
   "cell_type": "code",
   "execution_count": 22,
   "metadata": {
    "collapsed": false
   },
   "outputs": [
    {
     "data": {
      "text/plain": [
       "array(['1', 'DEMEROL', 'Register', ..., 'LOGILIA', 'TAZAROTENE', 'DELAYED'], dtype=object)"
      ]
     },
     "execution_count": 22,
     "metadata": {},
     "output_type": "execute_result"
    }
   ],
   "source": [
    "df6.DrugName.unique()"
   ]
  },
  {
   "cell_type": "code",
   "execution_count": 23,
   "metadata": {
    "collapsed": false
   },
   "outputs": [
    {
     "data": {
      "text/plain": [
       "ApplNo                0\n",
       "ProductNo_x           0\n",
       "Form                  0\n",
       "Strength             13\n",
       "ReferenceDrug         0\n",
       "DrugName              0\n",
       "ActiveIngredient      0\n",
       "ReferenceStandard    36\n",
       "ProductNo_y           0\n",
       "MarketingStatusID     0\n",
       "TECode                0\n",
       "dtype: int64"
      ]
     },
     "execution_count": 23,
     "metadata": {},
     "output_type": "execute_result"
    }
   ],
   "source": [
    "df6.isnull().sum()"
   ]
  },
  {
   "cell_type": "code",
   "execution_count": null,
   "metadata": {
    "collapsed": true
   },
   "outputs": [],
   "source": []
  },
  {
   "cell_type": "code",
   "execution_count": 40,
   "metadata": {
    "collapsed": false
   },
   "outputs": [
    {
     "name": "stderr",
     "output_type": "stream",
     "text": [
      "/home/azure052/anaconda3/lib/python3.5/site-packages/IPython/core/interactiveshell.py:2723: DtypeWarning: Columns (4,7,9,11,14,16,17,21,22,23,24,28,35,36,37,40,41,42,43,48,49,50,51,52,53,54,55,56,57,58,59,60,61,62) have mixed types. Specify dtype option on import or set low_memory=False.\n",
      "  interactivity=interactivity, compiler=compiler, result=result)\n"
     ]
    }
   ],
   "source": [
    "# abridged version of the open payment data 2015\n",
    "#file= r'open_payment2015.xlsx'\n",
    "df7= pd.read_csv('./OP_DTL_GNRL_PGYR2015_P01172018.csv', sep=',')"
   ]
  },
  {
   "cell_type": "code",
   "execution_count": 41,
   "metadata": {
    "collapsed": false
   },
   "outputs": [
    {
     "data": {
      "text/plain": [
       "(11467883, 65)"
      ]
     },
     "execution_count": 41,
     "metadata": {},
     "output_type": "execute_result"
    }
   ],
   "source": [
    "df7.shape"
   ]
  },
  {
   "cell_type": "code",
   "execution_count": 38,
   "metadata": {
    "collapsed": false
   },
   "outputs": [
    {
     "data": {
      "text/html": [
       "<div>\n",
       "<table border=\"1\" class=\"dataframe\">\n",
       "  <thead>\n",
       "    <tr style=\"text-align: right;\">\n",
       "      <th></th>\n",
       "      <th>Change_Type</th>\n",
       "      <th>Covered_Recipient_Type</th>\n",
       "      <th>Teaching_Hospital_CCN</th>\n",
       "      <th>Teaching_Hospital_ID</th>\n",
       "      <th>Teaching_Hospital_Name</th>\n",
       "      <th>Physician_Profile_ID</th>\n",
       "      <th>Physician_First_Name</th>\n",
       "      <th>Physician_Middle_Name</th>\n",
       "      <th>Physician_Last_Name</th>\n",
       "      <th>Physician_Name_Suffix</th>\n",
       "      <th>...</th>\n",
       "      <th>NDC_of_Associated_Covered_Drug_or_Biological3</th>\n",
       "      <th>NDC_of_Associated_Covered_Drug_or_Biological4</th>\n",
       "      <th>NDC_of_Associated_Covered_Drug_or_Biological5</th>\n",
       "      <th>Name_of_Associated_Covered_Device_or_Medical_Supply1</th>\n",
       "      <th>Name_of_Associated_Covered_Device_or_Medical_Supply2</th>\n",
       "      <th>Name_of_Associated_Covered_Device_or_Medical_Supply3</th>\n",
       "      <th>Name_of_Associated_Covered_Device_or_Medical_Supply4</th>\n",
       "      <th>Name_of_Associated_Covered_Device_or_Medical_Supply5</th>\n",
       "      <th>Program_Year</th>\n",
       "      <th>Payment_Publication_Date</th>\n",
       "    </tr>\n",
       "  </thead>\n",
       "  <tbody>\n",
       "    <tr>\n",
       "      <th>0</th>\n",
       "      <td>UNCHANGED</td>\n",
       "      <td>Covered Recipient Physician</td>\n",
       "      <td>NaN</td>\n",
       "      <td>NaN</td>\n",
       "      <td>NaN</td>\n",
       "      <td>274809.0</td>\n",
       "      <td>PATRICIA</td>\n",
       "      <td>L</td>\n",
       "      <td>CLARK</td>\n",
       "      <td>NaN</td>\n",
       "      <td>...</td>\n",
       "      <td>NaN</td>\n",
       "      <td>NaN</td>\n",
       "      <td>NaN</td>\n",
       "      <td>SAVI</td>\n",
       "      <td>NaN</td>\n",
       "      <td>NaN</td>\n",
       "      <td>NaN</td>\n",
       "      <td>NaN</td>\n",
       "      <td>2015</td>\n",
       "      <td>01/17/2018</td>\n",
       "    </tr>\n",
       "    <tr>\n",
       "      <th>1</th>\n",
       "      <td>UNCHANGED</td>\n",
       "      <td>Covered Recipient Physician</td>\n",
       "      <td>NaN</td>\n",
       "      <td>NaN</td>\n",
       "      <td>NaN</td>\n",
       "      <td>1218858.0</td>\n",
       "      <td>NOAH</td>\n",
       "      <td>NaN</td>\n",
       "      <td>WEMPE</td>\n",
       "      <td>NaN</td>\n",
       "      <td>...</td>\n",
       "      <td>NaN</td>\n",
       "      <td>NaN</td>\n",
       "      <td>NaN</td>\n",
       "      <td>SAVI</td>\n",
       "      <td>NaN</td>\n",
       "      <td>NaN</td>\n",
       "      <td>NaN</td>\n",
       "      <td>NaN</td>\n",
       "      <td>2015</td>\n",
       "      <td>01/17/2018</td>\n",
       "    </tr>\n",
       "    <tr>\n",
       "      <th>2</th>\n",
       "      <td>UNCHANGED</td>\n",
       "      <td>Covered Recipient Physician</td>\n",
       "      <td>NaN</td>\n",
       "      <td>NaN</td>\n",
       "      <td>NaN</td>\n",
       "      <td>905501.0</td>\n",
       "      <td>AMRIT</td>\n",
       "      <td>NaN</td>\n",
       "      <td>MANGAT</td>\n",
       "      <td>NaN</td>\n",
       "      <td>...</td>\n",
       "      <td>NaN</td>\n",
       "      <td>NaN</td>\n",
       "      <td>NaN</td>\n",
       "      <td>SAVI</td>\n",
       "      <td>NaN</td>\n",
       "      <td>NaN</td>\n",
       "      <td>NaN</td>\n",
       "      <td>NaN</td>\n",
       "      <td>2015</td>\n",
       "      <td>01/17/2018</td>\n",
       "    </tr>\n",
       "    <tr>\n",
       "      <th>3</th>\n",
       "      <td>UNCHANGED</td>\n",
       "      <td>Covered Recipient Physician</td>\n",
       "      <td>NaN</td>\n",
       "      <td>NaN</td>\n",
       "      <td>NaN</td>\n",
       "      <td>92700.0</td>\n",
       "      <td>MARK</td>\n",
       "      <td>FREDRICK</td>\n",
       "      <td>SCHRAY</td>\n",
       "      <td>NaN</td>\n",
       "      <td>...</td>\n",
       "      <td>NaN</td>\n",
       "      <td>NaN</td>\n",
       "      <td>NaN</td>\n",
       "      <td>SAVI</td>\n",
       "      <td>NaN</td>\n",
       "      <td>NaN</td>\n",
       "      <td>NaN</td>\n",
       "      <td>NaN</td>\n",
       "      <td>2015</td>\n",
       "      <td>01/17/2018</td>\n",
       "    </tr>\n",
       "    <tr>\n",
       "      <th>4</th>\n",
       "      <td>UNCHANGED</td>\n",
       "      <td>Covered Recipient Physician</td>\n",
       "      <td>NaN</td>\n",
       "      <td>NaN</td>\n",
       "      <td>NaN</td>\n",
       "      <td>319661.0</td>\n",
       "      <td>ALVARO</td>\n",
       "      <td>H</td>\n",
       "      <td>DEVIA</td>\n",
       "      <td>NaN</td>\n",
       "      <td>...</td>\n",
       "      <td>NaN</td>\n",
       "      <td>NaN</td>\n",
       "      <td>NaN</td>\n",
       "      <td>SAVI</td>\n",
       "      <td>NaN</td>\n",
       "      <td>NaN</td>\n",
       "      <td>NaN</td>\n",
       "      <td>NaN</td>\n",
       "      <td>2015</td>\n",
       "      <td>01/17/2018</td>\n",
       "    </tr>\n",
       "  </tbody>\n",
       "</table>\n",
       "<p>5 rows × 65 columns</p>\n",
       "</div>"
      ],
      "text/plain": [
       "  Change_Type       Covered_Recipient_Type  Teaching_Hospital_CCN  \\\n",
       "0   UNCHANGED  Covered Recipient Physician                    NaN   \n",
       "1   UNCHANGED  Covered Recipient Physician                    NaN   \n",
       "2   UNCHANGED  Covered Recipient Physician                    NaN   \n",
       "3   UNCHANGED  Covered Recipient Physician                    NaN   \n",
       "4   UNCHANGED  Covered Recipient Physician                    NaN   \n",
       "\n",
       "   Teaching_Hospital_ID Teaching_Hospital_Name  Physician_Profile_ID  \\\n",
       "0                   NaN                    NaN              274809.0   \n",
       "1                   NaN                    NaN             1218858.0   \n",
       "2                   NaN                    NaN              905501.0   \n",
       "3                   NaN                    NaN               92700.0   \n",
       "4                   NaN                    NaN              319661.0   \n",
       "\n",
       "  Physician_First_Name Physician_Middle_Name Physician_Last_Name  \\\n",
       "0             PATRICIA                     L               CLARK   \n",
       "1                 NOAH                   NaN               WEMPE   \n",
       "2                AMRIT                   NaN              MANGAT   \n",
       "3                 MARK              FREDRICK              SCHRAY   \n",
       "4               ALVARO                     H               DEVIA   \n",
       "\n",
       "  Physician_Name_Suffix           ...             \\\n",
       "0                   NaN           ...              \n",
       "1                   NaN           ...              \n",
       "2                   NaN           ...              \n",
       "3                   NaN           ...              \n",
       "4                   NaN           ...              \n",
       "\n",
       "  NDC_of_Associated_Covered_Drug_or_Biological3  \\\n",
       "0                                           NaN   \n",
       "1                                           NaN   \n",
       "2                                           NaN   \n",
       "3                                           NaN   \n",
       "4                                           NaN   \n",
       "\n",
       "  NDC_of_Associated_Covered_Drug_or_Biological4  \\\n",
       "0                                           NaN   \n",
       "1                                           NaN   \n",
       "2                                           NaN   \n",
       "3                                           NaN   \n",
       "4                                           NaN   \n",
       "\n",
       "  NDC_of_Associated_Covered_Drug_or_Biological5  \\\n",
       "0                                           NaN   \n",
       "1                                           NaN   \n",
       "2                                           NaN   \n",
       "3                                           NaN   \n",
       "4                                           NaN   \n",
       "\n",
       "  Name_of_Associated_Covered_Device_or_Medical_Supply1  \\\n",
       "0                                               SAVI     \n",
       "1                                               SAVI     \n",
       "2                                               SAVI     \n",
       "3                                               SAVI     \n",
       "4                                               SAVI     \n",
       "\n",
       "  Name_of_Associated_Covered_Device_or_Medical_Supply2  \\\n",
       "0                                                NaN     \n",
       "1                                                NaN     \n",
       "2                                                NaN     \n",
       "3                                                NaN     \n",
       "4                                                NaN     \n",
       "\n",
       "  Name_of_Associated_Covered_Device_or_Medical_Supply3  \\\n",
       "0                                                NaN     \n",
       "1                                                NaN     \n",
       "2                                                NaN     \n",
       "3                                                NaN     \n",
       "4                                                NaN     \n",
       "\n",
       "  Name_of_Associated_Covered_Device_or_Medical_Supply4  \\\n",
       "0                                                NaN     \n",
       "1                                                NaN     \n",
       "2                                                NaN     \n",
       "3                                                NaN     \n",
       "4                                                NaN     \n",
       "\n",
       "  Name_of_Associated_Covered_Device_or_Medical_Supply5 Program_Year  \\\n",
       "0                                                NaN           2015   \n",
       "1                                                NaN           2015   \n",
       "2                                                NaN           2015   \n",
       "3                                                NaN           2015   \n",
       "4                                                NaN           2015   \n",
       "\n",
       "  Payment_Publication_Date  \n",
       "0               01/17/2018  \n",
       "1               01/17/2018  \n",
       "2               01/17/2018  \n",
       "3               01/17/2018  \n",
       "4               01/17/2018  \n",
       "\n",
       "[5 rows x 65 columns]"
      ]
     },
     "execution_count": 38,
     "metadata": {},
     "output_type": "execute_result"
    }
   ],
   "source": [
    "df7.head()"
   ]
  },
  {
   "cell_type": "code",
   "execution_count": 42,
   "metadata": {
    "collapsed": false
   },
   "outputs": [
    {
     "data": {
      "text/plain": [
       "Change_Type                                                           object\n",
       "Covered_Recipient_Type                                                object\n",
       "Teaching_Hospital_CCN                                                float64\n",
       "Teaching_Hospital_ID                                                 float64\n",
       "Teaching_Hospital_Name                                                object\n",
       "Physician_Profile_ID                                                 float64\n",
       "Physician_First_Name                                                  object\n",
       "Physician_Middle_Name                                                 object\n",
       "Physician_Last_Name                                                   object\n",
       "Physician_Name_Suffix                                                 object\n",
       "Recipient_Primary_Business_Street_Address_Line1                       object\n",
       "Recipient_Primary_Business_Street_Address_Line2                       object\n",
       "Recipient_City                                                        object\n",
       "Recipient_State                                                       object\n",
       "Recipient_Zip_Code                                                    object\n",
       "Recipient_Country                                                     object\n",
       "Recipient_Province                                                    object\n",
       "Recipient_Postal_Code                                                 object\n",
       "Physician_Primary_Type                                                object\n",
       "Physician_Specialty                                                   object\n",
       "Physician_License_State_code1                                         object\n",
       "Physician_License_State_code2                                         object\n",
       "Physician_License_State_code3                                         object\n",
       "Physician_License_State_code4                                         object\n",
       "Physician_License_State_code5                                         object\n",
       "Submitting_Applicable_Manufacturer_or_Applicable_GPO_Name             object\n",
       "Applicable_Manufacturer_or_Applicable_GPO_Making_Payment_ID            int64\n",
       "Applicable_Manufacturer_or_Applicable_GPO_Making_Payment_Name         object\n",
       "Applicable_Manufacturer_or_Applicable_GPO_Making_Payment_State        object\n",
       "Applicable_Manufacturer_or_Applicable_GPO_Making_Payment_Country      object\n",
       "                                                                      ...   \n",
       "City_of_Travel                                                        object\n",
       "State_of_Travel                                                       object\n",
       "Country_of_Travel                                                     object\n",
       "Physician_Ownership_Indicator                                         object\n",
       "Third_Party_Payment_Recipient_Indicator                               object\n",
       "Name_of_Third_Party_Entity_Receiving_Payment_or_Transfer_of_Value     object\n",
       "Charity_Indicator                                                     object\n",
       "Third_Party_Equals_Covered_Recipient_Indicator                        object\n",
       "Contextual_Information                                                object\n",
       "Delay_in_Publication_Indicator                                        object\n",
       "Record_ID                                                              int64\n",
       "Dispute_Status_for_Publication                                        object\n",
       "Product_Indicator                                                     object\n",
       "Name_of_Associated_Covered_Drug_or_Biological1                        object\n",
       "Name_of_Associated_Covered_Drug_or_Biological2                        object\n",
       "Name_of_Associated_Covered_Drug_or_Biological3                        object\n",
       "Name_of_Associated_Covered_Drug_or_Biological4                        object\n",
       "Name_of_Associated_Covered_Drug_or_Biological5                        object\n",
       "NDC_of_Associated_Covered_Drug_or_Biological1                         object\n",
       "NDC_of_Associated_Covered_Drug_or_Biological2                         object\n",
       "NDC_of_Associated_Covered_Drug_or_Biological3                         object\n",
       "NDC_of_Associated_Covered_Drug_or_Biological4                         object\n",
       "NDC_of_Associated_Covered_Drug_or_Biological5                         object\n",
       "Name_of_Associated_Covered_Device_or_Medical_Supply1                  object\n",
       "Name_of_Associated_Covered_Device_or_Medical_Supply2                  object\n",
       "Name_of_Associated_Covered_Device_or_Medical_Supply3                  object\n",
       "Name_of_Associated_Covered_Device_or_Medical_Supply4                  object\n",
       "Name_of_Associated_Covered_Device_or_Medical_Supply5                  object\n",
       "Program_Year                                                           int64\n",
       "Payment_Publication_Date                                              object\n",
       "dtype: object"
      ]
     },
     "execution_count": 42,
     "metadata": {},
     "output_type": "execute_result"
    }
   ],
   "source": [
    "df7.dtypes"
   ]
  },
  {
   "cell_type": "code",
   "execution_count": 43,
   "metadata": {
    "collapsed": false
   },
   "outputs": [
    {
     "data": {
      "text/plain": [
       "Change_Type                                                                 0\n",
       "Covered_Recipient_Type                                                      0\n",
       "Teaching_Hospital_CCN                                                11427431\n",
       "Teaching_Hospital_ID                                                 11427431\n",
       "Teaching_Hospital_Name                                               11427431\n",
       "Physician_Profile_ID                                                    40452\n",
       "Physician_First_Name                                                    40561\n",
       "Physician_Middle_Name                                                 4134872\n",
       "Physician_Last_Name                                                     40685\n",
       "Physician_Name_Suffix                                                11184217\n",
       "Recipient_Primary_Business_Street_Address_Line1                             0\n",
       "Recipient_Primary_Business_Street_Address_Line2                       7622874\n",
       "Recipient_City                                                              1\n",
       "Recipient_State                                                           446\n",
       "Recipient_Zip_Code                                                        446\n",
       "Recipient_Country                                                           0\n",
       "Recipient_Province                                                   11467571\n",
       "Recipient_Postal_Code                                                11467437\n",
       "Physician_Primary_Type                                                  40452\n",
       "Physician_Specialty                                                     50188\n",
       "Physician_License_State_code1                                           40652\n",
       "Physician_License_State_code2                                        11304278\n",
       "Physician_License_State_code3                                        11433228\n",
       "Physician_License_State_code4                                        11461265\n",
       "Physician_License_State_code5                                        11466496\n",
       "Submitting_Applicable_Manufacturer_or_Applicable_GPO_Name                   0\n",
       "Applicable_Manufacturer_or_Applicable_GPO_Making_Payment_ID                 0\n",
       "Applicable_Manufacturer_or_Applicable_GPO_Making_Payment_Name               0\n",
       "Applicable_Manufacturer_or_Applicable_GPO_Making_Payment_State          99102\n",
       "Applicable_Manufacturer_or_Applicable_GPO_Making_Payment_Country            0\n",
       "                                                                       ...   \n",
       "City_of_Travel                                                       10894154\n",
       "State_of_Travel                                                      10914334\n",
       "Country_of_Travel                                                    10893658\n",
       "Physician_Ownership_Indicator                                           40452\n",
       "Third_Party_Payment_Recipient_Indicator                                     0\n",
       "Name_of_Third_Party_Entity_Receiving_Payment_or_Transfer_of_Value    11352211\n",
       "Charity_Indicator                                                     4911672\n",
       "Third_Party_Equals_Covered_Recipient_Indicator                       11334385\n",
       "Contextual_Information                                                9994235\n",
       "Delay_in_Publication_Indicator                                              0\n",
       "Record_ID                                                                   0\n",
       "Dispute_Status_for_Publication                                              0\n",
       "Product_Indicator                                                           0\n",
       "Name_of_Associated_Covered_Drug_or_Biological1                        2705366\n",
       "Name_of_Associated_Covered_Drug_or_Biological2                        8948178\n",
       "Name_of_Associated_Covered_Drug_or_Biological3                       10615927\n",
       "Name_of_Associated_Covered_Drug_or_Biological4                       11303876\n",
       "Name_of_Associated_Covered_Drug_or_Biological5                       11405771\n",
       "NDC_of_Associated_Covered_Drug_or_Biological1                         3758375\n",
       "NDC_of_Associated_Covered_Drug_or_Biological2                         9217311\n",
       "NDC_of_Associated_Covered_Drug_or_Biological3                        10681607\n",
       "NDC_of_Associated_Covered_Drug_or_Biological4                        11311186\n",
       "NDC_of_Associated_Covered_Drug_or_Biological5                        11405987\n",
       "Name_of_Associated_Covered_Device_or_Medical_Supply1                  9401762\n",
       "Name_of_Associated_Covered_Device_or_Medical_Supply2                 11317785\n",
       "Name_of_Associated_Covered_Device_or_Medical_Supply3                 11418995\n",
       "Name_of_Associated_Covered_Device_or_Medical_Supply4                 11448430\n",
       "Name_of_Associated_Covered_Device_or_Medical_Supply5                 11456822\n",
       "Program_Year                                                                0\n",
       "Payment_Publication_Date                                                    0\n",
       "dtype: int64"
      ]
     },
     "execution_count": 43,
     "metadata": {},
     "output_type": "execute_result"
    }
   ],
   "source": [
    "df7.isnull().sum()"
   ]
  },
  {
   "cell_type": "code",
   "execution_count": 28,
   "metadata": {
    "collapsed": false
   },
   "outputs": [],
   "source": [
    "#creating a new feature that specifies the first and last name\n",
    "#df4[\"Fullname\"] = df4[\"Physician_First_Name\"] + \" \" + df4[\"Physician_Last_Name\"].map(str)\n"
   ]
  },
  {
   "cell_type": "code",
   "execution_count": 30,
   "metadata": {
    "collapsed": true
   },
   "outputs": [],
   "source": [
    "'''\n",
    "class wr_ppro():\n",
    "    '''Used for data wrangling and some initial preprocessing'''\n",
    "    def __init__(self):\n",
    "        ''''''\n",
    "    def drop_col_nan(self, x, threshold):\n",
    "        for col in x.columns:\n",
    "            amt = sum(x[col].isnull())/float(len(x)) * 100\n",
    "            if amt > threshold:\n",
    "                x = x.drop(col,1)\n",
    "                pd.set_option('display.max_columns', None)\n",
    "        return x\n",
    "        \n",
    "    def drop_noisy_col(self, y, w=[]):\n",
    "        y=y.drop(w, axis = 1)\n",
    "        return y\n",
    "                \n",
    "    def drop_col_txt(self, z):\n",
    "        for c in z.columns:\n",
    "            c = str(c)\n",
    "            if c[-3:] =='txt':\n",
    "                z = z.drop(c, axis = 1)\n",
    "                pd.set_option('display.max_columns', None)\n",
    "        return z     \n",
    "       '''"
   ]
  },
  {
   "cell_type": "code",
   "execution_count": null,
   "metadata": {
    "collapsed": true
   },
   "outputs": [],
   "source": []
  },
  {
   "cell_type": "code",
   "execution_count": null,
   "metadata": {
    "collapsed": false
   },
   "outputs": [],
   "source": []
  },
  {
   "cell_type": "code",
   "execution_count": 44,
   "metadata": {
    "collapsed": false
   },
   "outputs": [],
   "source": [
    "#import the medicare prescription data 2015\n",
    "df8 = pd.read_csv('./med_prov_util_paymt_data2015_partD_presb.csv', sep=',')"
   ]
  },
  {
   "cell_type": "code",
   "execution_count": 45,
   "metadata": {
    "collapsed": false
   },
   "outputs": [
    {
     "data": {
      "text/html": [
       "<div>\n",
       "<table border=\"1\" class=\"dataframe\">\n",
       "  <thead>\n",
       "    <tr style=\"text-align: right;\">\n",
       "      <th></th>\n",
       "      <th>npi</th>\n",
       "      <th>nppes_provider_last_org_name</th>\n",
       "      <th>nppes_provider_first_name</th>\n",
       "      <th>nppes_provider_city</th>\n",
       "      <th>nppes_provider_state</th>\n",
       "      <th>specialty_description</th>\n",
       "      <th>description_flag</th>\n",
       "      <th>drug_name</th>\n",
       "      <th>generic_name</th>\n",
       "      <th>bene_count</th>\n",
       "      <th>...</th>\n",
       "      <th>total_30_day_fill_count</th>\n",
       "      <th>total_day_supply</th>\n",
       "      <th>total_drug_cost</th>\n",
       "      <th>bene_count_ge65</th>\n",
       "      <th>bene_count_ge65_suppress_flag</th>\n",
       "      <th>total_claim_count_ge65</th>\n",
       "      <th>ge65_suppress_flag</th>\n",
       "      <th>total_30_day_fill_count_ge65</th>\n",
       "      <th>total_day_supply_ge65</th>\n",
       "      <th>total_drug_cost_ge65</th>\n",
       "    </tr>\n",
       "  </thead>\n",
       "  <tbody>\n",
       "    <tr>\n",
       "      <th>0</th>\n",
       "      <td>1912175340</td>\n",
       "      <td>&amp;H'S)U</td>\n",
       "      <td>&amp;E'K:(A:I</td>\n",
       "      <td>SAN JUAN BAUTISTA</td>\n",
       "      <td>CA</td>\n",
       "      <td>General Surgery</td>\n",
       "      <td>S</td>\n",
       "      <td>HYDROCODONE-ACETAMINOPHEN</td>\n",
       "      <td>HYDROCODONE/ACETAMINOPHEN</td>\n",
       "      <td>15.0</td>\n",
       "      <td>...</td>\n",
       "      <td>15.0</td>\n",
       "      <td>213.0</td>\n",
       "      <td>$186.85</td>\n",
       "      <td>NaN</td>\n",
       "      <td>#</td>\n",
       "      <td>NaN</td>\n",
       "      <td>#</td>\n",
       "      <td>NaN</td>\n",
       "      <td>NaN</td>\n",
       "      <td>NaN</td>\n",
       "    </tr>\n",
       "    <tr>\n",
       "      <th>1</th>\n",
       "      <td>1912175340</td>\n",
       "      <td>&amp;H'S)U</td>\n",
       "      <td>&amp;E'K:(A:I</td>\n",
       "      <td>SAN JUAN BAUTISTA</td>\n",
       "      <td>CA</td>\n",
       "      <td>General Surgery</td>\n",
       "      <td>S</td>\n",
       "      <td>IBUPROFEN</td>\n",
       "      <td>IBUPROFEN</td>\n",
       "      <td>20.0</td>\n",
       "      <td>...</td>\n",
       "      <td>21.0</td>\n",
       "      <td>305.0</td>\n",
       "      <td>$114.18</td>\n",
       "      <td>NaN</td>\n",
       "      <td>#</td>\n",
       "      <td>NaN</td>\n",
       "      <td>#</td>\n",
       "      <td>NaN</td>\n",
       "      <td>NaN</td>\n",
       "      <td>NaN</td>\n",
       "    </tr>\n",
       "    <tr>\n",
       "      <th>2</th>\n",
       "      <td>1912175340</td>\n",
       "      <td>&amp;H'S)U</td>\n",
       "      <td>&amp;E'K:(A:I</td>\n",
       "      <td>SAN JUAN BAUTISTA</td>\n",
       "      <td>CA</td>\n",
       "      <td>General Surgery</td>\n",
       "      <td>S</td>\n",
       "      <td>METOCLOPRAMIDE HCL</td>\n",
       "      <td>METOCLOPRAMIDE HCL</td>\n",
       "      <td>30.0</td>\n",
       "      <td>...</td>\n",
       "      <td>34.0</td>\n",
       "      <td>244.0</td>\n",
       "      <td>$117.93</td>\n",
       "      <td>NaN</td>\n",
       "      <td>#</td>\n",
       "      <td>NaN</td>\n",
       "      <td>#</td>\n",
       "      <td>NaN</td>\n",
       "      <td>NaN</td>\n",
       "      <td>NaN</td>\n",
       "    </tr>\n",
       "    <tr>\n",
       "      <th>3</th>\n",
       "      <td>1417051921</td>\n",
       "      <td>A</td>\n",
       "      <td>N</td>\n",
       "      <td>CATOOSA</td>\n",
       "      <td>OK</td>\n",
       "      <td>Physician Assistant</td>\n",
       "      <td>S</td>\n",
       "      <td>ACETAMINOPHEN-CODEINE</td>\n",
       "      <td>ACETAMINOPHEN WITH CODEINE</td>\n",
       "      <td>17.0</td>\n",
       "      <td>...</td>\n",
       "      <td>17.0</td>\n",
       "      <td>44.0</td>\n",
       "      <td>$57.64</td>\n",
       "      <td>NaN</td>\n",
       "      <td>*</td>\n",
       "      <td>NaN</td>\n",
       "      <td>*</td>\n",
       "      <td>NaN</td>\n",
       "      <td>NaN</td>\n",
       "      <td>NaN</td>\n",
       "    </tr>\n",
       "    <tr>\n",
       "      <th>4</th>\n",
       "      <td>1417051921</td>\n",
       "      <td>A</td>\n",
       "      <td>N</td>\n",
       "      <td>CATOOSA</td>\n",
       "      <td>OK</td>\n",
       "      <td>Physician Assistant</td>\n",
       "      <td>S</td>\n",
       "      <td>AZITHROMYCIN</td>\n",
       "      <td>AZITHROMYCIN</td>\n",
       "      <td>44.0</td>\n",
       "      <td>...</td>\n",
       "      <td>44.0</td>\n",
       "      <td>219.0</td>\n",
       "      <td>$305.91</td>\n",
       "      <td>33.0</td>\n",
       "      <td>NaN</td>\n",
       "      <td>33.0</td>\n",
       "      <td>NaN</td>\n",
       "      <td>33.0</td>\n",
       "      <td>164.0</td>\n",
       "      <td>$243.85</td>\n",
       "    </tr>\n",
       "  </tbody>\n",
       "</table>\n",
       "<p>5 rows × 21 columns</p>\n",
       "</div>"
      ],
      "text/plain": [
       "          npi nppes_provider_last_org_name nppes_provider_first_name  \\\n",
       "0  1912175340                       &H'S)U                 &E'K:(A:I   \n",
       "1  1912175340                       &H'S)U                 &E'K:(A:I   \n",
       "2  1912175340                       &H'S)U                 &E'K:(A:I   \n",
       "3  1417051921                            A                         N   \n",
       "4  1417051921                            A                         N   \n",
       "\n",
       "  nppes_provider_city nppes_provider_state specialty_description  \\\n",
       "0   SAN JUAN BAUTISTA                   CA       General Surgery   \n",
       "1   SAN JUAN BAUTISTA                   CA       General Surgery   \n",
       "2   SAN JUAN BAUTISTA                   CA       General Surgery   \n",
       "3             CATOOSA                   OK   Physician Assistant   \n",
       "4             CATOOSA                   OK   Physician Assistant   \n",
       "\n",
       "  description_flag                  drug_name                generic_name  \\\n",
       "0                S  HYDROCODONE-ACETAMINOPHEN   HYDROCODONE/ACETAMINOPHEN   \n",
       "1                S                  IBUPROFEN                   IBUPROFEN   \n",
       "2                S         METOCLOPRAMIDE HCL          METOCLOPRAMIDE HCL   \n",
       "3                S      ACETAMINOPHEN-CODEINE  ACETAMINOPHEN WITH CODEINE   \n",
       "4                S               AZITHROMYCIN                AZITHROMYCIN   \n",
       "\n",
       "   bene_count          ...           total_30_day_fill_count  \\\n",
       "0        15.0          ...                              15.0   \n",
       "1        20.0          ...                              21.0   \n",
       "2        30.0          ...                              34.0   \n",
       "3        17.0          ...                              17.0   \n",
       "4        44.0          ...                              44.0   \n",
       "\n",
       "   total_day_supply  total_drug_cost bene_count_ge65  \\\n",
       "0             213.0          $186.85             NaN   \n",
       "1             305.0          $114.18             NaN   \n",
       "2             244.0          $117.93             NaN   \n",
       "3              44.0           $57.64             NaN   \n",
       "4             219.0          $305.91            33.0   \n",
       "\n",
       "   bene_count_ge65_suppress_flag total_claim_count_ge65  ge65_suppress_flag  \\\n",
       "0                              #                    NaN                   #   \n",
       "1                              #                    NaN                   #   \n",
       "2                              #                    NaN                   #   \n",
       "3                              *                    NaN                   *   \n",
       "4                            NaN                   33.0                 NaN   \n",
       "\n",
       "  total_30_day_fill_count_ge65  total_day_supply_ge65  total_drug_cost_ge65  \n",
       "0                          NaN                    NaN                   NaN  \n",
       "1                          NaN                    NaN                   NaN  \n",
       "2                          NaN                    NaN                   NaN  \n",
       "3                          NaN                    NaN                   NaN  \n",
       "4                         33.0                  164.0               $243.85  \n",
       "\n",
       "[5 rows x 21 columns]"
      ]
     },
     "execution_count": 45,
     "metadata": {},
     "output_type": "execute_result"
    }
   ],
   "source": [
    "df8.head()"
   ]
  },
  {
   "cell_type": "code",
   "execution_count": 46,
   "metadata": {
    "collapsed": false
   },
   "outputs": [
    {
     "data": {
      "text/plain": [
       "(10219624, 21)"
      ]
     },
     "execution_count": 46,
     "metadata": {},
     "output_type": "execute_result"
    }
   ],
   "source": [
    "df8.shape"
   ]
  },
  {
   "cell_type": "code",
   "execution_count": null,
   "metadata": {
    "collapsed": false
   },
   "outputs": [],
   "source": [
    "#creating a new feature that specifies the first and last name\n",
    "#df7[\"Fullname\"] = df7[\"nppes_provider_first_name\"] + \" \" + df7[\"nppes_provider_last_org_name\"].map(str)\n"
   ]
  },
  {
   "cell_type": "code",
   "execution_count": null,
   "metadata": {
    "collapsed": true
   },
   "outputs": [],
   "source": [
    "df8= df7.drop(['nppes_provider_last_org_name', 'nppes_provider_first_name'], axis = 1)"
   ]
  },
  {
   "cell_type": "code",
   "execution_count": null,
   "metadata": {
    "collapsed": false
   },
   "outputs": [],
   "source": [
    "df8.shape"
   ]
  },
  {
   "cell_type": "code",
   "execution_count": null,
   "metadata": {
    "collapsed": false
   },
   "outputs": [],
   "source": [
    "df8.isnull().sum()"
   ]
  },
  {
   "cell_type": "code",
   "execution_count": null,
   "metadata": {
    "collapsed": true
   },
   "outputs": [],
   "source": [
    "df9=wr_ppro().drop_col_nan(df8, 70)"
   ]
  },
  {
   "cell_type": "code",
   "execution_count": null,
   "metadata": {
    "collapsed": false
   },
   "outputs": [],
   "source": [
    "df9.head()"
   ]
  },
  {
   "cell_type": "code",
   "execution_count": null,
   "metadata": {
    "collapsed": false
   },
   "outputs": [],
   "source": [
    "df9.shape"
   ]
  },
  {
   "cell_type": "code",
   "execution_count": null,
   "metadata": {
    "collapsed": false
   },
   "outputs": [],
   "source": [
    "df9.isnull().sum()"
   ]
  },
  {
   "cell_type": "code",
   "execution_count": null,
   "metadata": {
    "collapsed": true,
    "scrolled": false
   },
   "outputs": [],
   "source": [
    "df10 = pd.merge(df9, df6, on='Fullname', how='inner')"
   ]
  },
  {
   "cell_type": "code",
   "execution_count": null,
   "metadata": {
    "collapsed": false
   },
   "outputs": [],
   "source": [
    "df10.shape"
   ]
  },
  {
   "cell_type": "code",
   "execution_count": null,
   "metadata": {
    "collapsed": false
   },
   "outputs": [],
   "source": [
    "df10"
   ]
  },
  {
   "cell_type": "code",
   "execution_count": null,
   "metadata": {
    "collapsed": true
   },
   "outputs": [],
   "source": [
    "df10.rename(columns={'drug_name' : 'DrugName'}, inplace=True)"
   ]
  },
  {
   "cell_type": "code",
   "execution_count": null,
   "metadata": {
    "collapsed": false
   },
   "outputs": [],
   "source": [
    "df10.head()"
   ]
  },
  {
   "cell_type": "code",
   "execution_count": null,
   "metadata": {
    "collapsed": true
   },
   "outputs": [],
   "source": [
    "df11 = pd.merge(df10, df3, on='DrugName', how='inner')"
   ]
  },
  {
   "cell_type": "code",
   "execution_count": null,
   "metadata": {
    "collapsed": false
   },
   "outputs": [],
   "source": [
    "df11"
   ]
  },
  {
   "cell_type": "code",
   "execution_count": null,
   "metadata": {
    "collapsed": false
   },
   "outputs": [],
   "source": [
    "df11.shape"
   ]
  },
  {
   "cell_type": "code",
   "execution_count": null,
   "metadata": {
    "collapsed": true
   },
   "outputs": [],
   "source": []
  },
  {
   "cell_type": "code",
   "execution_count": null,
   "metadata": {
    "collapsed": true
   },
   "outputs": [],
   "source": []
  },
  {
   "cell_type": "code",
   "execution_count": null,
   "metadata": {
    "collapsed": true
   },
   "outputs": [],
   "source": []
  },
  {
   "cell_type": "code",
   "execution_count": null,
   "metadata": {
    "collapsed": true
   },
   "outputs": [],
   "source": []
  }
 ],
 "metadata": {
  "kernelspec": {
   "display_name": "Python 3",
   "language": "python",
   "name": "python3"
  },
  "language_info": {
   "codemirror_mode": {
    "name": "ipython",
    "version": 3
   },
   "file_extension": ".py",
   "mimetype": "text/x-python",
   "name": "python",
   "nbconvert_exporter": "python",
   "pygments_lexer": "ipython3",
   "version": "3.5.1"
  }
 },
 "nbformat": 4,
 "nbformat_minor": 2
}
