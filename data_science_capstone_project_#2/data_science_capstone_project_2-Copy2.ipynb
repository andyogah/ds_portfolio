{
 "cells": [
  {
   "cell_type": "markdown",
   "metadata": {},
   "source": [
    "### Predicting what drug companies pay physicians based on historical payments using both the Open Payment data and the Medicare Part D Prescription data in 2015 from Centers for Medicare and Medicaid Services in Gradient Boosted Trees and Random Forest Algorithms in Python"
   ]
  },
  {
   "cell_type": "code",
   "execution_count": null,
   "metadata": {
    "collapsed": true
   },
   "outputs": [],
   "source": []
  },
  {
   "cell_type": "code",
   "execution_count": 1,
   "metadata": {
    "collapsed": true
   },
   "outputs": [],
   "source": [
    "%matplotlib inline"
   ]
  },
  {
   "cell_type": "code",
   "execution_count": 2,
   "metadata": {
    "collapsed": true
   },
   "outputs": [],
   "source": [
    "import pandas as pd\n",
    "import numpy as np\n",
    "import matplotlib\n",
    "import matplotlib.pyplot as plt\n",
    "import seaborn as sns\n",
    "sns.set(style=\"whitegrid\", color_codes=True)\n",
    "np.random.seed(sum(map(ord, \"categorical\")))\n",
    "matplotlib.style.use('ggplot')"
   ]
  },
  {
   "cell_type": "code",
   "execution_count": null,
   "metadata": {
    "collapsed": true
   },
   "outputs": [],
   "source": []
  },
  {
   "cell_type": "markdown",
   "metadata": {},
   "source": [
    "The data imported here were already tweaked by the creation of the first and last names feature in both tables from previous work in another notebook on my GitHub Page."
   ]
  },
  {
   "cell_type": "code",
   "execution_count": 3,
   "metadata": {},
   "outputs": [
    {
     "name": "stderr",
     "output_type": "stream",
     "text": [
      "/home/azure052/anaconda3/lib/python3.6/site-packages/IPython/core/interactiveshell.py:2698: DtypeWarning: Columns (7) have mixed types. Specify dtype option on import or set low_memory=False.\n",
      "  interactivity=interactivity, compiler=compiler, result=result)\n"
     ]
    }
   ],
   "source": [
    "#import the open payment data\n",
    "df1= pd.read_csv('./yourdata.csv', sep=',')"
   ]
  },
  {
   "cell_type": "code",
   "execution_count": 4,
   "metadata": {},
   "outputs": [
    {
     "data": {
      "text/plain": [
       "(11467883, 8)"
      ]
     },
     "execution_count": 4,
     "metadata": {},
     "output_type": "execute_result"
    }
   ],
   "source": [
    "#checking the rows and columns\n",
    "df1.shape"
   ]
  },
  {
   "cell_type": "code",
   "execution_count": 5,
   "metadata": {},
   "outputs": [
    {
     "data": {
      "text/html": [
       "<div>\n",
       "<style>\n",
       "    .dataframe thead tr:only-child th {\n",
       "        text-align: right;\n",
       "    }\n",
       "\n",
       "    .dataframe thead th {\n",
       "        text-align: left;\n",
       "    }\n",
       "\n",
       "    .dataframe tbody tr th {\n",
       "        vertical-align: top;\n",
       "    }\n",
       "</style>\n",
       "<table border=\"1\" class=\"dataframe\">\n",
       "  <thead>\n",
       "    <tr style=\"text-align: right;\">\n",
       "      <th></th>\n",
       "      <th>Physician_Profile_ID</th>\n",
       "      <th>Recipient_City</th>\n",
       "      <th>Recipient_State</th>\n",
       "      <th>Physician_Primary_Type</th>\n",
       "      <th>Total_Amount_of_Payment_USDollars</th>\n",
       "      <th>Number_of_Payments_Included_in_Total_Amount</th>\n",
       "      <th>Name_of_Associated_Covered_Drug_or_Biological1</th>\n",
       "      <th>First_and_Last_name</th>\n",
       "    </tr>\n",
       "  </thead>\n",
       "  <tbody>\n",
       "    <tr>\n",
       "      <th>0</th>\n",
       "      <td>274809.0</td>\n",
       "      <td>HOMER GLEN</td>\n",
       "      <td>IL</td>\n",
       "      <td>Medical Doctor</td>\n",
       "      <td>116.67</td>\n",
       "      <td>1</td>\n",
       "      <td>NaN</td>\n",
       "      <td>PATRICIA CLARK</td>\n",
       "    </tr>\n",
       "    <tr>\n",
       "      <th>1</th>\n",
       "      <td>1218858.0</td>\n",
       "      <td>MIDLAND</td>\n",
       "      <td>TX</td>\n",
       "      <td>Medical Doctor</td>\n",
       "      <td>50.06</td>\n",
       "      <td>1</td>\n",
       "      <td>NaN</td>\n",
       "      <td>NOAH WEMPE</td>\n",
       "    </tr>\n",
       "    <tr>\n",
       "      <th>2</th>\n",
       "      <td>905501.0</td>\n",
       "      <td>GLEN ELLYN</td>\n",
       "      <td>IL</td>\n",
       "      <td>Medical Doctor</td>\n",
       "      <td>56.09</td>\n",
       "      <td>1</td>\n",
       "      <td>NaN</td>\n",
       "      <td>AMRIT MANGAT</td>\n",
       "    </tr>\n",
       "    <tr>\n",
       "      <th>3</th>\n",
       "      <td>92700.0</td>\n",
       "      <td>PORTLAND</td>\n",
       "      <td>OR</td>\n",
       "      <td>Medical Doctor</td>\n",
       "      <td>14.48</td>\n",
       "      <td>1</td>\n",
       "      <td>NaN</td>\n",
       "      <td>MARK SCHRAY</td>\n",
       "    </tr>\n",
       "    <tr>\n",
       "      <th>4</th>\n",
       "      <td>319661.0</td>\n",
       "      <td>RENO</td>\n",
       "      <td>NV</td>\n",
       "      <td>Medical Doctor</td>\n",
       "      <td>15.16</td>\n",
       "      <td>1</td>\n",
       "      <td>NaN</td>\n",
       "      <td>ALVARO DEVIA</td>\n",
       "    </tr>\n",
       "  </tbody>\n",
       "</table>\n",
       "</div>"
      ],
      "text/plain": [
       "   Physician_Profile_ID Recipient_City Recipient_State Physician_Primary_Type  \\\n",
       "0              274809.0     HOMER GLEN              IL         Medical Doctor   \n",
       "1             1218858.0        MIDLAND              TX         Medical Doctor   \n",
       "2              905501.0     GLEN ELLYN              IL         Medical Doctor   \n",
       "3               92700.0       PORTLAND              OR         Medical Doctor   \n",
       "4              319661.0           RENO              NV         Medical Doctor   \n",
       "\n",
       "   Total_Amount_of_Payment_USDollars  \\\n",
       "0                             116.67   \n",
       "1                              50.06   \n",
       "2                              56.09   \n",
       "3                              14.48   \n",
       "4                              15.16   \n",
       "\n",
       "   Number_of_Payments_Included_in_Total_Amount  \\\n",
       "0                                            1   \n",
       "1                                            1   \n",
       "2                                            1   \n",
       "3                                            1   \n",
       "4                                            1   \n",
       "\n",
       "  Name_of_Associated_Covered_Drug_or_Biological1 First_and_Last_name  \n",
       "0                                            NaN      PATRICIA CLARK  \n",
       "1                                            NaN          NOAH WEMPE  \n",
       "2                                            NaN        AMRIT MANGAT  \n",
       "3                                            NaN         MARK SCHRAY  \n",
       "4                                            NaN        ALVARO DEVIA  "
      ]
     },
     "execution_count": 5,
     "metadata": {},
     "output_type": "execute_result"
    }
   ],
   "source": [
    "#glimpse into first 5 rows\n",
    "df1.head()"
   ]
  },
  {
   "cell_type": "code",
   "execution_count": null,
   "metadata": {
    "collapsed": true
   },
   "outputs": [],
   "source": []
  },
  {
   "cell_type": "code",
   "execution_count": 6,
   "metadata": {},
   "outputs": [
    {
     "data": {
      "text/plain": [
       "(1750545, 8)"
      ]
     },
     "execution_count": 6,
     "metadata": {},
     "output_type": "execute_result"
    }
   ],
   "source": [
    "#dropping all unknowns. this is not advisable, and will be revisited. i only did that because dataset is too large, and \n",
    "#wanted to see if it will run on Jupyter.\n",
    "df2 = df1.dropna()\n",
    "df3 = df2.sample(frac = 0.2, replace = True)\n",
    "df3.shape"
   ]
  },
  {
   "cell_type": "code",
   "execution_count": null,
   "metadata": {
    "collapsed": true
   },
   "outputs": [],
   "source": []
  },
  {
   "cell_type": "code",
   "execution_count": 7,
   "metadata": {
    "collapsed": true
   },
   "outputs": [],
   "source": [
    "#importing the medicare dataset\n",
    "df4= pd.read_csv('./yourdata2.csv', sep=',')"
   ]
  },
  {
   "cell_type": "code",
   "execution_count": 8,
   "metadata": {},
   "outputs": [
    {
     "data": {
      "text/plain": [
       "(10219624, 10)"
      ]
     },
     "execution_count": 8,
     "metadata": {},
     "output_type": "execute_result"
    }
   ],
   "source": [
    "#checking the colums and rows\n",
    "df4.shape"
   ]
  },
  {
   "cell_type": "code",
   "execution_count": 9,
   "metadata": {},
   "outputs": [
    {
     "data": {
      "text/html": [
       "<div>\n",
       "<style>\n",
       "    .dataframe thead tr:only-child th {\n",
       "        text-align: right;\n",
       "    }\n",
       "\n",
       "    .dataframe thead th {\n",
       "        text-align: left;\n",
       "    }\n",
       "\n",
       "    .dataframe tbody tr th {\n",
       "        vertical-align: top;\n",
       "    }\n",
       "</style>\n",
       "<table border=\"1\" class=\"dataframe\">\n",
       "  <thead>\n",
       "    <tr style=\"text-align: right;\">\n",
       "      <th></th>\n",
       "      <th>npi</th>\n",
       "      <th>Recipient_City</th>\n",
       "      <th>Recipient_State</th>\n",
       "      <th>specialty_description</th>\n",
       "      <th>drug_name</th>\n",
       "      <th>bene_count</th>\n",
       "      <th>total_claim_count</th>\n",
       "      <th>total_day_supply</th>\n",
       "      <th>total_drug_cost</th>\n",
       "      <th>First_and_Last_name</th>\n",
       "    </tr>\n",
       "  </thead>\n",
       "  <tbody>\n",
       "    <tr>\n",
       "      <th>0</th>\n",
       "      <td>1912175340</td>\n",
       "      <td>SAN JUAN BAUTISTA</td>\n",
       "      <td>CA</td>\n",
       "      <td>General Surgery</td>\n",
       "      <td>HYDROCODONE-ACETAMINOPHEN</td>\n",
       "      <td>15.0</td>\n",
       "      <td>15.0</td>\n",
       "      <td>213.0</td>\n",
       "      <td>$186.85</td>\n",
       "      <td>&amp;E'K:(A:I &amp;H'S)U</td>\n",
       "    </tr>\n",
       "    <tr>\n",
       "      <th>1</th>\n",
       "      <td>1912175340</td>\n",
       "      <td>SAN JUAN BAUTISTA</td>\n",
       "      <td>CA</td>\n",
       "      <td>General Surgery</td>\n",
       "      <td>IBUPROFEN</td>\n",
       "      <td>20.0</td>\n",
       "      <td>21.0</td>\n",
       "      <td>305.0</td>\n",
       "      <td>$114.18</td>\n",
       "      <td>&amp;E'K:(A:I &amp;H'S)U</td>\n",
       "    </tr>\n",
       "    <tr>\n",
       "      <th>2</th>\n",
       "      <td>1912175340</td>\n",
       "      <td>SAN JUAN BAUTISTA</td>\n",
       "      <td>CA</td>\n",
       "      <td>General Surgery</td>\n",
       "      <td>METOCLOPRAMIDE HCL</td>\n",
       "      <td>30.0</td>\n",
       "      <td>34.0</td>\n",
       "      <td>244.0</td>\n",
       "      <td>$117.93</td>\n",
       "      <td>&amp;E'K:(A:I &amp;H'S)U</td>\n",
       "    </tr>\n",
       "    <tr>\n",
       "      <th>3</th>\n",
       "      <td>1417051921</td>\n",
       "      <td>CATOOSA</td>\n",
       "      <td>OK</td>\n",
       "      <td>Physician Assistant</td>\n",
       "      <td>ACETAMINOPHEN-CODEINE</td>\n",
       "      <td>17.0</td>\n",
       "      <td>17.0</td>\n",
       "      <td>44.0</td>\n",
       "      <td>$57.64</td>\n",
       "      <td>N A</td>\n",
       "    </tr>\n",
       "    <tr>\n",
       "      <th>4</th>\n",
       "      <td>1417051921</td>\n",
       "      <td>CATOOSA</td>\n",
       "      <td>OK</td>\n",
       "      <td>Physician Assistant</td>\n",
       "      <td>AZITHROMYCIN</td>\n",
       "      <td>44.0</td>\n",
       "      <td>44.0</td>\n",
       "      <td>219.0</td>\n",
       "      <td>$305.91</td>\n",
       "      <td>N A</td>\n",
       "    </tr>\n",
       "  </tbody>\n",
       "</table>\n",
       "</div>"
      ],
      "text/plain": [
       "          npi     Recipient_City Recipient_State specialty_description  \\\n",
       "0  1912175340  SAN JUAN BAUTISTA              CA       General Surgery   \n",
       "1  1912175340  SAN JUAN BAUTISTA              CA       General Surgery   \n",
       "2  1912175340  SAN JUAN BAUTISTA              CA       General Surgery   \n",
       "3  1417051921            CATOOSA              OK   Physician Assistant   \n",
       "4  1417051921            CATOOSA              OK   Physician Assistant   \n",
       "\n",
       "                   drug_name  bene_count  total_claim_count  total_day_supply  \\\n",
       "0  HYDROCODONE-ACETAMINOPHEN        15.0               15.0             213.0   \n",
       "1                  IBUPROFEN        20.0               21.0             305.0   \n",
       "2         METOCLOPRAMIDE HCL        30.0               34.0             244.0   \n",
       "3      ACETAMINOPHEN-CODEINE        17.0               17.0              44.0   \n",
       "4               AZITHROMYCIN        44.0               44.0             219.0   \n",
       "\n",
       "  total_drug_cost First_and_Last_name  \n",
       "0         $186.85    &E'K:(A:I &H'S)U  \n",
       "1         $114.18    &E'K:(A:I &H'S)U  \n",
       "2         $117.93    &E'K:(A:I &H'S)U  \n",
       "3          $57.64                 N A  \n",
       "4         $305.91                 N A  "
      ]
     },
     "execution_count": 9,
     "metadata": {},
     "output_type": "execute_result"
    }
   ],
   "source": [
    "#first 5 rows\n",
    "df4.head()"
   ]
  },
  {
   "cell_type": "code",
   "execution_count": 10,
   "metadata": {},
   "outputs": [
    {
     "data": {
      "text/plain": [
       "(789348, 10)"
      ]
     },
     "execution_count": 10,
     "metadata": {},
     "output_type": "execute_result"
    }
   ],
   "source": [
    "#again not advisable.\n",
    "df5 = df4.dropna()\n",
    "df6 = df5.sample(frac = 0.2, replace = True)\n",
    "df6.shape"
   ]
  },
  {
   "cell_type": "code",
   "execution_count": null,
   "metadata": {
    "collapsed": true
   },
   "outputs": [],
   "source": []
  },
  {
   "cell_type": "code",
   "execution_count": 11,
   "metadata": {
    "collapsed": true
   },
   "outputs": [],
   "source": [
    "#merging the 2 datasets into one using the city, state and full name as keys\n",
    "df7 = pd.merge(df6, df3,\n",
    "                 on=['Recipient_City', 'Recipient_State','First_and_Last_name'])"
   ]
  },
  {
   "cell_type": "code",
   "execution_count": 12,
   "metadata": {},
   "outputs": [
    {
     "data": {
      "text/plain": [
       "(3158213, 15)"
      ]
     },
     "execution_count": 12,
     "metadata": {},
     "output_type": "execute_result"
    }
   ],
   "source": [
    "#checking rows and columns again\n",
    "df7.shape"
   ]
  },
  {
   "cell_type": "code",
   "execution_count": 13,
   "metadata": {},
   "outputs": [
    {
     "data": {
      "text/html": [
       "<div>\n",
       "<style>\n",
       "    .dataframe thead tr:only-child th {\n",
       "        text-align: right;\n",
       "    }\n",
       "\n",
       "    .dataframe thead th {\n",
       "        text-align: left;\n",
       "    }\n",
       "\n",
       "    .dataframe tbody tr th {\n",
       "        vertical-align: top;\n",
       "    }\n",
       "</style>\n",
       "<table border=\"1\" class=\"dataframe\">\n",
       "  <thead>\n",
       "    <tr style=\"text-align: right;\">\n",
       "      <th></th>\n",
       "      <th>npi</th>\n",
       "      <th>Recipient_City</th>\n",
       "      <th>Recipient_State</th>\n",
       "      <th>specialty_description</th>\n",
       "      <th>drug_name</th>\n",
       "      <th>bene_count</th>\n",
       "      <th>total_claim_count</th>\n",
       "      <th>total_day_supply</th>\n",
       "      <th>total_drug_cost</th>\n",
       "      <th>First_and_Last_name</th>\n",
       "      <th>Physician_Profile_ID</th>\n",
       "      <th>Physician_Primary_Type</th>\n",
       "      <th>Total_Amount_of_Payment_USDollars</th>\n",
       "      <th>Number_of_Payments_Included_in_Total_Amount</th>\n",
       "      <th>Name_of_Associated_Covered_Drug_or_Biological1</th>\n",
       "    </tr>\n",
       "  </thead>\n",
       "  <tbody>\n",
       "    <tr>\n",
       "      <th>0</th>\n",
       "      <td>1881689297</td>\n",
       "      <td>PUNXSUTAWNEY</td>\n",
       "      <td>PA</td>\n",
       "      <td>Internal Medicine</td>\n",
       "      <td>FUROSEMIDE</td>\n",
       "      <td>64.0</td>\n",
       "      <td>439.0</td>\n",
       "      <td>15003.0</td>\n",
       "      <td>$1434.13</td>\n",
       "      <td>JAY ELDER</td>\n",
       "      <td>130514.0</td>\n",
       "      <td>Medical Doctor</td>\n",
       "      <td>18.16</td>\n",
       "      <td>1</td>\n",
       "      <td>Victoza</td>\n",
       "    </tr>\n",
       "    <tr>\n",
       "      <th>1</th>\n",
       "      <td>1881689297</td>\n",
       "      <td>PUNXSUTAWNEY</td>\n",
       "      <td>PA</td>\n",
       "      <td>Internal Medicine</td>\n",
       "      <td>FUROSEMIDE</td>\n",
       "      <td>64.0</td>\n",
       "      <td>439.0</td>\n",
       "      <td>15003.0</td>\n",
       "      <td>$1434.13</td>\n",
       "      <td>JAY ELDER</td>\n",
       "      <td>130514.0</td>\n",
       "      <td>Medical Doctor</td>\n",
       "      <td>13.44</td>\n",
       "      <td>1</td>\n",
       "      <td>Contrave</td>\n",
       "    </tr>\n",
       "    <tr>\n",
       "      <th>2</th>\n",
       "      <td>1881689297</td>\n",
       "      <td>PUNXSUTAWNEY</td>\n",
       "      <td>PA</td>\n",
       "      <td>Internal Medicine</td>\n",
       "      <td>FUROSEMIDE</td>\n",
       "      <td>64.0</td>\n",
       "      <td>439.0</td>\n",
       "      <td>15003.0</td>\n",
       "      <td>$1434.13</td>\n",
       "      <td>JAY ELDER</td>\n",
       "      <td>130514.0</td>\n",
       "      <td>Medical Doctor</td>\n",
       "      <td>7.76</td>\n",
       "      <td>1</td>\n",
       "      <td>VYTORIN</td>\n",
       "    </tr>\n",
       "    <tr>\n",
       "      <th>3</th>\n",
       "      <td>1881689297</td>\n",
       "      <td>PUNXSUTAWNEY</td>\n",
       "      <td>PA</td>\n",
       "      <td>Internal Medicine</td>\n",
       "      <td>FUROSEMIDE</td>\n",
       "      <td>64.0</td>\n",
       "      <td>439.0</td>\n",
       "      <td>15003.0</td>\n",
       "      <td>$1434.13</td>\n",
       "      <td>JAY ELDER</td>\n",
       "      <td>130514.0</td>\n",
       "      <td>Medical Doctor</td>\n",
       "      <td>6.47</td>\n",
       "      <td>1</td>\n",
       "      <td>ADVAIR</td>\n",
       "    </tr>\n",
       "    <tr>\n",
       "      <th>4</th>\n",
       "      <td>1881689297</td>\n",
       "      <td>PUNXSUTAWNEY</td>\n",
       "      <td>PA</td>\n",
       "      <td>Internal Medicine</td>\n",
       "      <td>FUROSEMIDE</td>\n",
       "      <td>64.0</td>\n",
       "      <td>439.0</td>\n",
       "      <td>15003.0</td>\n",
       "      <td>$1434.13</td>\n",
       "      <td>JAY ELDER</td>\n",
       "      <td>130514.0</td>\n",
       "      <td>Medical Doctor</td>\n",
       "      <td>2.73</td>\n",
       "      <td>1</td>\n",
       "      <td>JANUVIA</td>\n",
       "    </tr>\n",
       "  </tbody>\n",
       "</table>\n",
       "</div>"
      ],
      "text/plain": [
       "          npi Recipient_City Recipient_State specialty_description  \\\n",
       "0  1881689297   PUNXSUTAWNEY              PA     Internal Medicine   \n",
       "1  1881689297   PUNXSUTAWNEY              PA     Internal Medicine   \n",
       "2  1881689297   PUNXSUTAWNEY              PA     Internal Medicine   \n",
       "3  1881689297   PUNXSUTAWNEY              PA     Internal Medicine   \n",
       "4  1881689297   PUNXSUTAWNEY              PA     Internal Medicine   \n",
       "\n",
       "    drug_name  bene_count  total_claim_count  total_day_supply  \\\n",
       "0  FUROSEMIDE        64.0              439.0           15003.0   \n",
       "1  FUROSEMIDE        64.0              439.0           15003.0   \n",
       "2  FUROSEMIDE        64.0              439.0           15003.0   \n",
       "3  FUROSEMIDE        64.0              439.0           15003.0   \n",
       "4  FUROSEMIDE        64.0              439.0           15003.0   \n",
       "\n",
       "  total_drug_cost First_and_Last_name  Physician_Profile_ID  \\\n",
       "0        $1434.13           JAY ELDER              130514.0   \n",
       "1        $1434.13           JAY ELDER              130514.0   \n",
       "2        $1434.13           JAY ELDER              130514.0   \n",
       "3        $1434.13           JAY ELDER              130514.0   \n",
       "4        $1434.13           JAY ELDER              130514.0   \n",
       "\n",
       "  Physician_Primary_Type  Total_Amount_of_Payment_USDollars  \\\n",
       "0         Medical Doctor                              18.16   \n",
       "1         Medical Doctor                              13.44   \n",
       "2         Medical Doctor                               7.76   \n",
       "3         Medical Doctor                               6.47   \n",
       "4         Medical Doctor                               2.73   \n",
       "\n",
       "   Number_of_Payments_Included_in_Total_Amount  \\\n",
       "0                                            1   \n",
       "1                                            1   \n",
       "2                                            1   \n",
       "3                                            1   \n",
       "4                                            1   \n",
       "\n",
       "  Name_of_Associated_Covered_Drug_or_Biological1  \n",
       "0                                        Victoza  \n",
       "1                                       Contrave  \n",
       "2                                        VYTORIN  \n",
       "3                                         ADVAIR  \n",
       "4                                        JANUVIA  "
      ]
     },
     "execution_count": 13,
     "metadata": {},
     "output_type": "execute_result"
    }
   ],
   "source": [
    "df7.head()"
   ]
  },
  {
   "cell_type": "code",
   "execution_count": 14,
   "metadata": {
    "collapsed": true
   },
   "outputs": [],
   "source": [
    "#removing the $ sign in the currency and converting that column float\n",
    "import re\n",
    "df7['total_drug_cost']= df7['total_drug_cost'].replace('[\\$,]', '', regex=True).astype(float)"
   ]
  },
  {
   "cell_type": "code",
   "execution_count": 15,
   "metadata": {},
   "outputs": [
    {
     "data": {
      "text/html": [
       "<div>\n",
       "<style>\n",
       "    .dataframe thead tr:only-child th {\n",
       "        text-align: right;\n",
       "    }\n",
       "\n",
       "    .dataframe thead th {\n",
       "        text-align: left;\n",
       "    }\n",
       "\n",
       "    .dataframe tbody tr th {\n",
       "        vertical-align: top;\n",
       "    }\n",
       "</style>\n",
       "<table border=\"1\" class=\"dataframe\">\n",
       "  <thead>\n",
       "    <tr style=\"text-align: right;\">\n",
       "      <th></th>\n",
       "      <th>npi</th>\n",
       "      <th>Recipient_City</th>\n",
       "      <th>Recipient_State</th>\n",
       "      <th>specialty_description</th>\n",
       "      <th>drug_name</th>\n",
       "      <th>bene_count</th>\n",
       "      <th>total_claim_count</th>\n",
       "      <th>total_day_supply</th>\n",
       "      <th>total_drug_cost</th>\n",
       "      <th>First_and_Last_name</th>\n",
       "      <th>Physician_Profile_ID</th>\n",
       "      <th>Physician_Primary_Type</th>\n",
       "      <th>Total_Amount_of_Payment_USDollars</th>\n",
       "      <th>Number_of_Payments_Included_in_Total_Amount</th>\n",
       "      <th>Name_of_Associated_Covered_Drug_or_Biological1</th>\n",
       "    </tr>\n",
       "  </thead>\n",
       "  <tbody>\n",
       "    <tr>\n",
       "      <th>0</th>\n",
       "      <td>1881689297</td>\n",
       "      <td>PUNXSUTAWNEY</td>\n",
       "      <td>PA</td>\n",
       "      <td>Internal Medicine</td>\n",
       "      <td>FUROSEMIDE</td>\n",
       "      <td>64.0</td>\n",
       "      <td>439.0</td>\n",
       "      <td>15003.0</td>\n",
       "      <td>1434.13</td>\n",
       "      <td>JAY ELDER</td>\n",
       "      <td>130514.0</td>\n",
       "      <td>Medical Doctor</td>\n",
       "      <td>18.16</td>\n",
       "      <td>1</td>\n",
       "      <td>Victoza</td>\n",
       "    </tr>\n",
       "    <tr>\n",
       "      <th>1</th>\n",
       "      <td>1881689297</td>\n",
       "      <td>PUNXSUTAWNEY</td>\n",
       "      <td>PA</td>\n",
       "      <td>Internal Medicine</td>\n",
       "      <td>FUROSEMIDE</td>\n",
       "      <td>64.0</td>\n",
       "      <td>439.0</td>\n",
       "      <td>15003.0</td>\n",
       "      <td>1434.13</td>\n",
       "      <td>JAY ELDER</td>\n",
       "      <td>130514.0</td>\n",
       "      <td>Medical Doctor</td>\n",
       "      <td>13.44</td>\n",
       "      <td>1</td>\n",
       "      <td>Contrave</td>\n",
       "    </tr>\n",
       "    <tr>\n",
       "      <th>2</th>\n",
       "      <td>1881689297</td>\n",
       "      <td>PUNXSUTAWNEY</td>\n",
       "      <td>PA</td>\n",
       "      <td>Internal Medicine</td>\n",
       "      <td>FUROSEMIDE</td>\n",
       "      <td>64.0</td>\n",
       "      <td>439.0</td>\n",
       "      <td>15003.0</td>\n",
       "      <td>1434.13</td>\n",
       "      <td>JAY ELDER</td>\n",
       "      <td>130514.0</td>\n",
       "      <td>Medical Doctor</td>\n",
       "      <td>7.76</td>\n",
       "      <td>1</td>\n",
       "      <td>VYTORIN</td>\n",
       "    </tr>\n",
       "    <tr>\n",
       "      <th>3</th>\n",
       "      <td>1881689297</td>\n",
       "      <td>PUNXSUTAWNEY</td>\n",
       "      <td>PA</td>\n",
       "      <td>Internal Medicine</td>\n",
       "      <td>FUROSEMIDE</td>\n",
       "      <td>64.0</td>\n",
       "      <td>439.0</td>\n",
       "      <td>15003.0</td>\n",
       "      <td>1434.13</td>\n",
       "      <td>JAY ELDER</td>\n",
       "      <td>130514.0</td>\n",
       "      <td>Medical Doctor</td>\n",
       "      <td>6.47</td>\n",
       "      <td>1</td>\n",
       "      <td>ADVAIR</td>\n",
       "    </tr>\n",
       "    <tr>\n",
       "      <th>4</th>\n",
       "      <td>1881689297</td>\n",
       "      <td>PUNXSUTAWNEY</td>\n",
       "      <td>PA</td>\n",
       "      <td>Internal Medicine</td>\n",
       "      <td>FUROSEMIDE</td>\n",
       "      <td>64.0</td>\n",
       "      <td>439.0</td>\n",
       "      <td>15003.0</td>\n",
       "      <td>1434.13</td>\n",
       "      <td>JAY ELDER</td>\n",
       "      <td>130514.0</td>\n",
       "      <td>Medical Doctor</td>\n",
       "      <td>2.73</td>\n",
       "      <td>1</td>\n",
       "      <td>JANUVIA</td>\n",
       "    </tr>\n",
       "  </tbody>\n",
       "</table>\n",
       "</div>"
      ],
      "text/plain": [
       "          npi Recipient_City Recipient_State specialty_description  \\\n",
       "0  1881689297   PUNXSUTAWNEY              PA     Internal Medicine   \n",
       "1  1881689297   PUNXSUTAWNEY              PA     Internal Medicine   \n",
       "2  1881689297   PUNXSUTAWNEY              PA     Internal Medicine   \n",
       "3  1881689297   PUNXSUTAWNEY              PA     Internal Medicine   \n",
       "4  1881689297   PUNXSUTAWNEY              PA     Internal Medicine   \n",
       "\n",
       "    drug_name  bene_count  total_claim_count  total_day_supply  \\\n",
       "0  FUROSEMIDE        64.0              439.0           15003.0   \n",
       "1  FUROSEMIDE        64.0              439.0           15003.0   \n",
       "2  FUROSEMIDE        64.0              439.0           15003.0   \n",
       "3  FUROSEMIDE        64.0              439.0           15003.0   \n",
       "4  FUROSEMIDE        64.0              439.0           15003.0   \n",
       "\n",
       "   total_drug_cost First_and_Last_name  Physician_Profile_ID  \\\n",
       "0          1434.13           JAY ELDER              130514.0   \n",
       "1          1434.13           JAY ELDER              130514.0   \n",
       "2          1434.13           JAY ELDER              130514.0   \n",
       "3          1434.13           JAY ELDER              130514.0   \n",
       "4          1434.13           JAY ELDER              130514.0   \n",
       "\n",
       "  Physician_Primary_Type  Total_Amount_of_Payment_USDollars  \\\n",
       "0         Medical Doctor                              18.16   \n",
       "1         Medical Doctor                              13.44   \n",
       "2         Medical Doctor                               7.76   \n",
       "3         Medical Doctor                               6.47   \n",
       "4         Medical Doctor                               2.73   \n",
       "\n",
       "   Number_of_Payments_Included_in_Total_Amount  \\\n",
       "0                                            1   \n",
       "1                                            1   \n",
       "2                                            1   \n",
       "3                                            1   \n",
       "4                                            1   \n",
       "\n",
       "  Name_of_Associated_Covered_Drug_or_Biological1  \n",
       "0                                        Victoza  \n",
       "1                                       Contrave  \n",
       "2                                        VYTORIN  \n",
       "3                                         ADVAIR  \n",
       "4                                        JANUVIA  "
      ]
     },
     "execution_count": 15,
     "metadata": {},
     "output_type": "execute_result"
    }
   ],
   "source": [
    "df7.head()"
   ]
  },
  {
   "cell_type": "code",
   "execution_count": null,
   "metadata": {
    "collapsed": true
   },
   "outputs": [],
   "source": []
  },
  {
   "cell_type": "code",
   "execution_count": 16,
   "metadata": {
    "collapsed": true
   },
   "outputs": [],
   "source": [
    "#a customized class used to drop nulls and columns with strings, \n",
    "\n",
    "class EDA():\n",
    "    '''Used for running Exploratory Data Analysis'''\n",
    "    def __init__(self):\n",
    "        ''''''\n",
    "    def drop_col_nan(self, x, threshold):\n",
    "        for col in x.columns:\n",
    "            amt = sum(x[col].isnull())/float(len(x)) * 100\n",
    "            if amt > threshold:\n",
    "                x = x.drop(col,1)\n",
    "                pd.set_option('display.max_columns', None)\n",
    "        return x\n",
    "        \n",
    "    def drop_noisy_col(self, y, w=[]):\n",
    "        y=y.drop(w, 1)\n",
    "        return y\n",
    "                \n",
    "    def drop_col_txt(self, z):\n",
    "        for c in z.columns:\n",
    "            c = str(c)\n",
    "            if c[-3:] =='txt':\n",
    "                z = z.drop(c, 1)\n",
    "                pd.set_option('display.max_columns', None)\n",
    "        return z     "
   ]
  },
  {
   "cell_type": "code",
   "execution_count": null,
   "metadata": {
    "collapsed": true
   },
   "outputs": [],
   "source": []
  },
  {
   "cell_type": "markdown",
   "metadata": {},
   "source": [
    "### Analyzing the Categorical Variables"
   ]
  },
  {
   "cell_type": "markdown",
   "metadata": {},
   "source": [
    "What i am looking for here is checking if the feature can be readily used in machine learning algorithms or needs much rework. By that, i mean having either even or closely uniform class sizes in the feature to allow an equal representation chance of each class in the train and test dataset. I am also looking at the cardinality of the feature and a possibility of any of the classes dominating the analysis (overfitting). "
   ]
  },
  {
   "cell_type": "code",
   "execution_count": 17,
   "metadata": {},
   "outputs": [
    {
     "data": {
      "text/plain": [
       "ATORVASTATIN CALCIUM             50077\n",
       "LISINOPRIL                       49653\n",
       "OMEPRAZOLE                       49205\n",
       "AMLODIPINE BESYLATE              48052\n",
       "SIMVASTATIN                      48046\n",
       "GABAPENTIN                       47448\n",
       "FUROSEMIDE                       46546\n",
       "LEVOTHYROXINE SODIUM             46013\n",
       "METFORMIN HCL                    44572\n",
       "HYDROCODONE-ACETAMINOPHEN        43651\n",
       "AZITHROMYCIN                     42460\n",
       "LOSARTAN POTASSIUM               42283\n",
       "TRAMADOL HCL                     41758\n",
       "HYDROCHLOROTHIAZIDE              40659\n",
       "METOPROLOL TARTRATE              40516\n",
       "PREDNISONE                       40207\n",
       "CIPROFLOXACIN HCL                39509\n",
       "ALPRAZOLAM                       38658\n",
       "METOPROLOL SUCCINATE             38204\n",
       "PANTOPRAZOLE SODIUM              37425\n",
       "FLUTICASONE PROPIONATE           37015\n",
       "PRAVASTATIN SODIUM               35259\n",
       "POTASSIUM CHLORIDE               35099\n",
       "CLOPIDOGREL                      34815\n",
       "ZOLPIDEM TARTRATE                33748\n",
       "CARVEDILOL                       33697\n",
       "PROAIR HFA                       32449\n",
       "SERTRALINE HCL                   32025\n",
       "TAMSULOSIN HCL                   31963\n",
       "MELOXICAM                        30742\n",
       "                                 ...  \n",
       "DEPO-MEDROL                          2\n",
       "PRENATAL PLUS                        2\n",
       "YF-VAX                               2\n",
       "FML FORTE                            2\n",
       "BIMATOPROST                          2\n",
       "KRISTALOSE                           2\n",
       "NEVIRAPINE ER                        2\n",
       "HYDROMET                             2\n",
       "CLOZAPINE ODT                        2\n",
       "STAXYN                               2\n",
       "ARANESP                              2\n",
       "DIPYRIDAMOLE                         2\n",
       "TOPAMAX                              2\n",
       "FYCOMPA                              1\n",
       "PHENYLEPHRINE HCL                    1\n",
       "VALCYTE                              1\n",
       "IBRANCE                              1\n",
       "LUPRON DEPOT                         1\n",
       "SIROLIMUS                            1\n",
       "AMOX TR-POTASSIUM CLAVULANATE        1\n",
       "PERCOCET                             1\n",
       "APIDRA                               1\n",
       "PIPERACILLIN-TAZOBACTAM              1\n",
       "VANDAZOLE                            1\n",
       "PHENADOZ                             1\n",
       "ESBRIET                              1\n",
       "PROMETHAZINE-CODEINE                 1\n",
       "BACTROBAN NASAL                      1\n",
       "TRIFLURIDINE                         1\n",
       "NAPROXEN SODIUM CR                   1\n",
       "Name: drug_name, Length: 1070, dtype: int64"
      ]
     },
     "execution_count": 17,
     "metadata": {},
     "output_type": "execute_result"
    }
   ],
   "source": [
    "#this shows high cardinality in the dataset with uneven classes, and is usually an issue when building machine learning models.\n",
    "#re-engineering of the feature is needed, else you are looking at cases of the model overfitting the dominant classes or having \n",
    "#somes examples in the train set missing in the test set depending on the size of the chosen sample after running the \n",
    "#train-test-split. the latter case also causes uneven features in the train set compared to the validation test after \n",
    "#categorical features are hotcoded, hence causing issues with for machine learning algorithms. So, i am dropping this for now \n",
    "#till the feature is re-engineered with probably some domain knowledge\n",
    "\n",
    "df7['drug_name'].value_counts()"
   ]
  },
  {
   "cell_type": "code",
   "execution_count": 18,
   "metadata": {},
   "outputs": [
    {
     "data": {
      "text/plain": [
       "Internal Medicine                                                 1171283\n",
       "Family Practice                                                   1146675\n",
       "Cardiology                                                         137311\n",
       "Endocrinology                                                       83771\n",
       "Neurology                                                           83767\n",
       "Psychiatry                                                          71909\n",
       "Rheumatology                                                        57709\n",
       "General Practice                                                    55814\n",
       "Gastroenterology                                                    41425\n",
       "Dermatology                                                         34975\n",
       "Urology                                                             31838\n",
       "Pulmonary Disease                                                   31362\n",
       "Hematology/Oncology                                                 26679\n",
       "Emergency Medicine                                                  21099\n",
       "Nephrology                                                          19083\n",
       "Ophthalmology                                                       17591\n",
       "Physical Medicine and Rehabilitation                                11333\n",
       "Interventional Cardiology                                           10528\n",
       "Interventional Pain Management                                       9290\n",
       "Geriatric Medicine                                                   8844\n",
       "Anesthesiology                                                       8317\n",
       "Infectious Disease                                                   8126\n",
       "Pain Management                                                      7007\n",
       "Obstetrics/Gynecology                                                6864\n",
       "Allergy/Immunology                                                   6524\n",
       "Medical Oncology                                                     6500\n",
       "Orthopedic Surgery                                                   4880\n",
       "Cardiac Electrophysiology                                            4353\n",
       "General Surgery                                                      4011\n",
       "Podiatry                                                             3614\n",
       "                                                                   ...   \n",
       "Preventive Medicine                                                   197\n",
       "Geriatric Psychiatry                                                  188\n",
       "Student in an Organized Health Care Education/Training Program        157\n",
       "Plastic and Reconstructive Surgery                                    147\n",
       "Interventional Radiology                                              124\n",
       "Nurse Practitioner                                                    124\n",
       "Family Medicine                                                       104\n",
       "Nuclear Medicine                                                      101\n",
       "Peripheral Vascular Disease                                            93\n",
       "Hand Surgery                                                           84\n",
       "Pathology                                                              77\n",
       "Community Health Worker                                                70\n",
       "Sports Medicine                                                        69\n",
       "Surgical Oncology                                                      60\n",
       "Clinic/Center                                                          53\n",
       "Oral Surgery (dentists only)                                           49\n",
       "Legal Medicine                                                         32\n",
       "Hospitalist                                                            14\n",
       "Neuromusculoskeletal Medicine, Sports Medicine                         11\n",
       "Maxillofacial Surgery                                                  11\n",
       "Orthopaedic Surgery                                                     7\n",
       "Neurological Surgery                                                    7\n",
       "Psychologist (billing independently)                                    6\n",
       "Plastic Surgery                                                         6\n",
       "Oral & Maxillofacial Surgery                                            5\n",
       "Certified Clinical Nurse Specialist                                     4\n",
       "Hospital (Dmercs Only)                                                  4\n",
       "Independent Medical Examiner                                            3\n",
       "Medical Genetics, Ph.D. Medical Genetics                                2\n",
       "Personal Emergency Response Attendant                                   1\n",
       "Name: specialty_description, Length: 84, dtype: int64"
      ]
     },
     "execution_count": 18,
     "metadata": {},
     "output_type": "execute_result"
    }
   ],
   "source": [
    "#same reason as in above. I tried it and it didn't pan out well, so dropping it till feature is very much reworked\n",
    "\n",
    "df7['specialty_description'].value_counts()"
   ]
  },
  {
   "cell_type": "code",
   "execution_count": 22,
   "metadata": {},
   "outputs": [
    {
     "data": {
      "text/plain": [
       "Medical Doctor                  2791730\n",
       "Doctor of Osteopathy             360474\n",
       "Doctor of Podiatric Medicine       3443\n",
       "Doctor of Optometry                2204\n",
       "Doctor of Dentistry                 310\n",
       "Chiropractor                         52\n",
       "Name: Physician_Primary_Type, dtype: int64"
      ]
     },
     "execution_count": 22,
     "metadata": {},
     "output_type": "execute_result"
    }
   ],
   "source": [
    "#this feature is much better than the other two above, because we have few classes and a much better chance of having each one \n",
    "#in the test and train dataset. we also see that disparity between sizes of the classes is manageable depending on the sample \n",
    "#size. The feature can be readily used.\n",
    " \n",
    "df7['Physician_Primary_Type'].value_counts()"
   ]
  },
  {
   "cell_type": "code",
   "execution_count": 23,
   "metadata": {},
   "outputs": [
    {
     "data": {
      "text/plain": [
       "CA    299041\n",
       "TX    247761\n",
       "FL    232167\n",
       "OH    183181\n",
       "NY    177885\n",
       "PA    165954\n",
       "GA    118794\n",
       "NC    110229\n",
       "MI    110129\n",
       "NJ    109410\n",
       "IL    108917\n",
       "TN    107725\n",
       "AL    105943\n",
       "IN     99506\n",
       "KY     86459\n",
       "MO     84581\n",
       "LA     74667\n",
       "SC     74325\n",
       "VA     65863\n",
       "AZ     53536\n",
       "MS     47205\n",
       "CT     46773\n",
       "AR     45586\n",
       "OK     42530\n",
       "MD     39013\n",
       "WV     37818\n",
       "KS     28740\n",
       "MA     28263\n",
       "WA     22352\n",
       "NV     21738\n",
       "IA     19317\n",
       "CO     18959\n",
       "NE     17327\n",
       "WI     14307\n",
       "HI     12814\n",
       "UT     12658\n",
       "PR     12358\n",
       "OR     11956\n",
       "RI     11391\n",
       "DE     11280\n",
       "NM      6885\n",
       "ID      6366\n",
       "ME      5849\n",
       "ND      4373\n",
       "SD      3998\n",
       "MT      3464\n",
       "DC      2671\n",
       "NH      2285\n",
       "MN      1867\n",
       "WY      1507\n",
       "AK       422\n",
       "VT        62\n",
       "VI         5\n",
       "GU         1\n",
       "Name: Recipient_State, dtype: int64"
      ]
     },
     "execution_count": 23,
     "metadata": {},
     "output_type": "execute_result"
    }
   ],
   "source": [
    "#this looks great and is exactly what we need to see in terms of class sizes. however, we still have issues because depending \n",
    "#sample size, some classes like the GU, AK, VT and VI may go missing in the test dataset. so, we need to reduce the cardinality \n",
    "#by grouping similar classes. the lesser the number of unique classes, the better the chances of having each in both the train\n",
    "# and test sets.  \n",
    "\n",
    "df7['Recipient_State'].value_counts()"
   ]
  },
  {
   "cell_type": "code",
   "execution_count": 41,
   "metadata": {},
   "outputs": [
    {
     "data": {
      "text/plain": [
       "HOUSTON             32039\n",
       "SAN ANTONIO         23141\n",
       "BROOKLYN            22571\n",
       "LOS ANGELES         21893\n",
       "COLUMBUS            20222\n",
       "BIRMINGHAM          19991\n",
       "NEW YORK            18879\n",
       "SAINT LOUIS         17854\n",
       "LOUISVILLE          17802\n",
       "DALLAS              15431\n",
       "CINCINNATI          15128\n",
       "CHICAGO             14974\n",
       "MIAMI               14305\n",
       "PHILADELPHIA        14211\n",
       "MOBILE              13597\n",
       "SPRINGFIELD         13543\n",
       "JACKSON             12759\n",
       "KNOXVILLE           12726\n",
       "PHOENIX             12575\n",
       "LAS VEGAS           12301\n",
       "JACKSONVILLE        11750\n",
       "COLUMBIA            11247\n",
       "LEXINGTON           10654\n",
       "RICHMOND            10632\n",
       "PITTSBURGH          10586\n",
       "INDIANAPOLIS        10568\n",
       "CHARLOTTE           10368\n",
       "OKLAHOMA CITY       10154\n",
       "HUNTINGTON          10043\n",
       "KANSAS CITY          9943\n",
       "                    ...  \n",
       "SALADO                  1\n",
       "PURCHASE                1\n",
       "WINDOM                  1\n",
       "MANHASSET HILLS         1\n",
       "SUITE 228               1\n",
       "N MIAMI                 1\n",
       "DULCE                   1\n",
       "CARVER                  1\n",
       "RICHTON PARK            1\n",
       "EAST CHERRY HILL        1\n",
       "GATESVILLE              1\n",
       "TELLURIDE               1\n",
       "MUSCATINE               1\n",
       "PIERSON                 1\n",
       "S MIAMI                 1\n",
       "E MEADOWS               1\n",
       "SWARTHMORE              1\n",
       "LOVELL                  1\n",
       "VESTAVIA HILLS          1\n",
       "FORT ATKINSON           1\n",
       "BAR HARBOR              1\n",
       "BELGRADE                1\n",
       "PAYNESVILLE             1\n",
       "PUERTO NUENO            1\n",
       "EAST LYNN               1\n",
       "CROTON                  1\n",
       "CROYDON                 1\n",
       "PROSPECT PARK           1\n",
       "MC BEE                  1\n",
       "MUSKEGON HEIGHTS        1\n",
       "Name: Recipient_City, Length: 6258, dtype: int64"
      ]
     },
     "execution_count": 41,
     "metadata": {},
     "output_type": "execute_result"
    }
   ],
   "source": [
    "# with 6258 classes, this is about same issue as we have in 'drug name' and 'specialty description.' I wouldn't really think \n",
    "# we need the city, since one may not see much variance amongst cities in a state because they are it's already covered in \n",
    "#the 'Recipient State'   \n",
    "df7['Recipient_City'].value_counts()"
   ]
  },
  {
   "cell_type": "markdown",
   "metadata": {},
   "source": [
    "### Dropping noisy features"
   ]
  },
  {
   "cell_type": "code",
   "execution_count": 24,
   "metadata": {},
   "outputs": [
    {
     "data": {
      "text/html": [
       "<div>\n",
       "<style>\n",
       "    .dataframe thead tr:only-child th {\n",
       "        text-align: right;\n",
       "    }\n",
       "\n",
       "    .dataframe thead th {\n",
       "        text-align: left;\n",
       "    }\n",
       "\n",
       "    .dataframe tbody tr th {\n",
       "        vertical-align: top;\n",
       "    }\n",
       "</style>\n",
       "<table border=\"1\" class=\"dataframe\">\n",
       "  <thead>\n",
       "    <tr style=\"text-align: right;\">\n",
       "      <th></th>\n",
       "      <th>Recipient_State</th>\n",
       "      <th>bene_count</th>\n",
       "      <th>total_claim_count</th>\n",
       "      <th>total_day_supply</th>\n",
       "      <th>total_drug_cost</th>\n",
       "      <th>Physician_Primary_Type</th>\n",
       "      <th>Total_Amount_of_Payment_USDollars</th>\n",
       "      <th>Number_of_Payments_Included_in_Total_Amount</th>\n",
       "    </tr>\n",
       "  </thead>\n",
       "  <tbody>\n",
       "    <tr>\n",
       "      <th>0</th>\n",
       "      <td>PA</td>\n",
       "      <td>64.0</td>\n",
       "      <td>439.0</td>\n",
       "      <td>15003.0</td>\n",
       "      <td>1434.13</td>\n",
       "      <td>Medical Doctor</td>\n",
       "      <td>18.16</td>\n",
       "      <td>1</td>\n",
       "    </tr>\n",
       "    <tr>\n",
       "      <th>1</th>\n",
       "      <td>PA</td>\n",
       "      <td>64.0</td>\n",
       "      <td>439.0</td>\n",
       "      <td>15003.0</td>\n",
       "      <td>1434.13</td>\n",
       "      <td>Medical Doctor</td>\n",
       "      <td>13.44</td>\n",
       "      <td>1</td>\n",
       "    </tr>\n",
       "    <tr>\n",
       "      <th>2</th>\n",
       "      <td>PA</td>\n",
       "      <td>64.0</td>\n",
       "      <td>439.0</td>\n",
       "      <td>15003.0</td>\n",
       "      <td>1434.13</td>\n",
       "      <td>Medical Doctor</td>\n",
       "      <td>7.76</td>\n",
       "      <td>1</td>\n",
       "    </tr>\n",
       "    <tr>\n",
       "      <th>3</th>\n",
       "      <td>PA</td>\n",
       "      <td>64.0</td>\n",
       "      <td>439.0</td>\n",
       "      <td>15003.0</td>\n",
       "      <td>1434.13</td>\n",
       "      <td>Medical Doctor</td>\n",
       "      <td>6.47</td>\n",
       "      <td>1</td>\n",
       "    </tr>\n",
       "    <tr>\n",
       "      <th>4</th>\n",
       "      <td>PA</td>\n",
       "      <td>64.0</td>\n",
       "      <td>439.0</td>\n",
       "      <td>15003.0</td>\n",
       "      <td>1434.13</td>\n",
       "      <td>Medical Doctor</td>\n",
       "      <td>2.73</td>\n",
       "      <td>1</td>\n",
       "    </tr>\n",
       "  </tbody>\n",
       "</table>\n",
       "</div>"
      ],
      "text/plain": [
       "  Recipient_State  bene_count  total_claim_count  total_day_supply  \\\n",
       "0              PA        64.0              439.0           15003.0   \n",
       "1              PA        64.0              439.0           15003.0   \n",
       "2              PA        64.0              439.0           15003.0   \n",
       "3              PA        64.0              439.0           15003.0   \n",
       "4              PA        64.0              439.0           15003.0   \n",
       "\n",
       "   total_drug_cost Physician_Primary_Type  Total_Amount_of_Payment_USDollars  \\\n",
       "0          1434.13         Medical Doctor                              18.16   \n",
       "1          1434.13         Medical Doctor                              13.44   \n",
       "2          1434.13         Medical Doctor                               7.76   \n",
       "3          1434.13         Medical Doctor                               6.47   \n",
       "4          1434.13         Medical Doctor                               2.73   \n",
       "\n",
       "   Number_of_Payments_Included_in_Total_Amount  \n",
       "0                                            1  \n",
       "1                                            1  \n",
       "2                                            1  \n",
       "3                                            1  \n",
       "4                                            1  "
      ]
     },
     "execution_count": 24,
     "metadata": {},
     "output_type": "execute_result"
    }
   ],
   "source": [
    "#we are dropping the 'drug name', 'Recipient_City' and 'specialty description' for reasons already given. the 'npi', \n",
    "#'Physician_Profile_ID', First_and_Last_name' were  assigned to the medical practitioners, and not a random measure. those \n",
    "# cause overfitting issues and are not good features, so are all dropped. last, the \n",
    "#'Name_of_Associated_Covered_Drug_or_Biological1' is already covered in the 'drug name' that is being dropped. comparison between\n",
    "#both is same as the city and state i talked about earlier\n",
    "\n",
    "my_EDA = EDA()\n",
    "df8 = my_EDA.drop_noisy_col(df7, ['npi', 'Physician_Profile_ID', 'Name_of_Associated_Covered_Drug_or_Biological1', \n",
    "                                 'First_and_Last_name', 'Recipient_City', 'drug_name', 'specialty_description'])\n",
    "df8.head()"
   ]
  },
  {
   "cell_type": "code",
   "execution_count": 25,
   "metadata": {},
   "outputs": [
    {
     "data": {
      "text/plain": [
       "Recipient_State                                0\n",
       "bene_count                                     0\n",
       "total_claim_count                              0\n",
       "total_day_supply                               0\n",
       "total_drug_cost                                0\n",
       "Physician_Primary_Type                         0\n",
       "Total_Amount_of_Payment_USDollars              0\n",
       "Number_of_Payments_Included_in_Total_Amount    0\n",
       "dtype: int64"
      ]
     },
     "execution_count": 25,
     "metadata": {},
     "output_type": "execute_result"
    }
   ],
   "source": [
    "#checking for nulls. well, there shouldn't be because i already dropped all of them. feeling hyper here\n",
    "df8.isnull().sum()"
   ]
  },
  {
   "cell_type": "code",
   "execution_count": null,
   "metadata": {
    "collapsed": true
   },
   "outputs": [],
   "source": []
  },
  {
   "cell_type": "markdown",
   "metadata": {},
   "source": [
    "### Feature Engineering"
   ]
  },
  {
   "cell_type": "markdown",
   "metadata": {},
   "source": [
    "Here, i tried to address the high cardinality issue of the 'Recipient_State' feature by re-engineering it into a regions. The new feature was called 'state_region,' and the original state feature dropped afterward "
   ]
  },
  {
   "cell_type": "code",
   "execution_count": 27,
   "metadata": {
    "collapsed": true
   },
   "outputs": [],
   "source": [
    "#created a dictionary of key-value pair mapping the regions to all the states\n",
    "rg= {'NE': ['CT', 'ME', 'MA', 'NH', 'RI', 'VT', 'NJ', 'NY', 'PA'],\n",
    "    'MW': ['IL', 'IN', 'MI', 'MN', 'OH', 'WI', 'IA', 'KS', 'MO', 'NE', 'ND', 'SD'],\n",
    "     'S': ['AR', 'LA', 'OK', 'TX', 'DE', 'DC', 'MD', 'VA', 'WV', 'AL', 'FL', 'GA', 'KY', 'MS', 'NC', 'SC', 'TN'],\n",
    "     'W':  ['AK', 'ID', 'OR', 'WA', 'CO', 'MT', 'UT', 'WY', 'NM', 'AZ', 'CA', 'HI', 'NV',], 'O': ['PR', 'VI', 'GU']}"
   ]
  },
  {
   "cell_type": "code",
   "execution_count": 28,
   "metadata": {
    "collapsed": true
   },
   "outputs": [],
   "source": [
    "#for loop that did the job of the mapping\n",
    "new = []\n",
    "for state in df8['Recipient_State']:\n",
    "    for k, y in rg.items():\n",
    "        if state in y:\n",
    "            new.append(k)     "
   ]
  },
  {
   "cell_type": "code",
   "execution_count": 30,
   "metadata": {
    "collapsed": true
   },
   "outputs": [],
   "source": [
    "#creation of the new feature\n",
    "df8['state_region'] = new"
   ]
  },
  {
   "cell_type": "code",
   "execution_count": 31,
   "metadata": {
    "collapsed": true
   },
   "outputs": [],
   "source": [
    "#dropping the old feature\n",
    "df9=df8.drop(['Recipient_State',], axis=1)"
   ]
  },
  {
   "cell_type": "code",
   "execution_count": 32,
   "metadata": {},
   "outputs": [
    {
     "data": {
      "text/html": [
       "<div>\n",
       "<style>\n",
       "    .dataframe thead tr:only-child th {\n",
       "        text-align: right;\n",
       "    }\n",
       "\n",
       "    .dataframe thead th {\n",
       "        text-align: left;\n",
       "    }\n",
       "\n",
       "    .dataframe tbody tr th {\n",
       "        vertical-align: top;\n",
       "    }\n",
       "</style>\n",
       "<table border=\"1\" class=\"dataframe\">\n",
       "  <thead>\n",
       "    <tr style=\"text-align: right;\">\n",
       "      <th></th>\n",
       "      <th>bene_count</th>\n",
       "      <th>total_claim_count</th>\n",
       "      <th>total_day_supply</th>\n",
       "      <th>total_drug_cost</th>\n",
       "      <th>Physician_Primary_Type</th>\n",
       "      <th>Total_Amount_of_Payment_USDollars</th>\n",
       "      <th>Number_of_Payments_Included_in_Total_Amount</th>\n",
       "      <th>state_region</th>\n",
       "    </tr>\n",
       "  </thead>\n",
       "  <tbody>\n",
       "    <tr>\n",
       "      <th>0</th>\n",
       "      <td>64.0</td>\n",
       "      <td>439.0</td>\n",
       "      <td>15003.0</td>\n",
       "      <td>1434.13</td>\n",
       "      <td>Medical Doctor</td>\n",
       "      <td>18.16</td>\n",
       "      <td>1</td>\n",
       "      <td>NE</td>\n",
       "    </tr>\n",
       "    <tr>\n",
       "      <th>1</th>\n",
       "      <td>64.0</td>\n",
       "      <td>439.0</td>\n",
       "      <td>15003.0</td>\n",
       "      <td>1434.13</td>\n",
       "      <td>Medical Doctor</td>\n",
       "      <td>13.44</td>\n",
       "      <td>1</td>\n",
       "      <td>NE</td>\n",
       "    </tr>\n",
       "    <tr>\n",
       "      <th>2</th>\n",
       "      <td>64.0</td>\n",
       "      <td>439.0</td>\n",
       "      <td>15003.0</td>\n",
       "      <td>1434.13</td>\n",
       "      <td>Medical Doctor</td>\n",
       "      <td>7.76</td>\n",
       "      <td>1</td>\n",
       "      <td>NE</td>\n",
       "    </tr>\n",
       "    <tr>\n",
       "      <th>3</th>\n",
       "      <td>64.0</td>\n",
       "      <td>439.0</td>\n",
       "      <td>15003.0</td>\n",
       "      <td>1434.13</td>\n",
       "      <td>Medical Doctor</td>\n",
       "      <td>6.47</td>\n",
       "      <td>1</td>\n",
       "      <td>NE</td>\n",
       "    </tr>\n",
       "    <tr>\n",
       "      <th>4</th>\n",
       "      <td>64.0</td>\n",
       "      <td>439.0</td>\n",
       "      <td>15003.0</td>\n",
       "      <td>1434.13</td>\n",
       "      <td>Medical Doctor</td>\n",
       "      <td>2.73</td>\n",
       "      <td>1</td>\n",
       "      <td>NE</td>\n",
       "    </tr>\n",
       "  </tbody>\n",
       "</table>\n",
       "</div>"
      ],
      "text/plain": [
       "   bene_count  total_claim_count  total_day_supply  total_drug_cost  \\\n",
       "0        64.0              439.0           15003.0          1434.13   \n",
       "1        64.0              439.0           15003.0          1434.13   \n",
       "2        64.0              439.0           15003.0          1434.13   \n",
       "3        64.0              439.0           15003.0          1434.13   \n",
       "4        64.0              439.0           15003.0          1434.13   \n",
       "\n",
       "  Physician_Primary_Type  Total_Amount_of_Payment_USDollars  \\\n",
       "0         Medical Doctor                              18.16   \n",
       "1         Medical Doctor                              13.44   \n",
       "2         Medical Doctor                               7.76   \n",
       "3         Medical Doctor                               6.47   \n",
       "4         Medical Doctor                               2.73   \n",
       "\n",
       "   Number_of_Payments_Included_in_Total_Amount state_region  \n",
       "0                                            1           NE  \n",
       "1                                            1           NE  \n",
       "2                                            1           NE  \n",
       "3                                            1           NE  \n",
       "4                                            1           NE  "
      ]
     },
     "execution_count": 32,
     "metadata": {},
     "output_type": "execute_result"
    }
   ],
   "source": [
    "#glimpse into the first 5 rows in new DataFrame\n",
    "df9.head()"
   ]
  },
  {
   "cell_type": "code",
   "execution_count": null,
   "metadata": {
    "collapsed": true
   },
   "outputs": [],
   "source": []
  },
  {
   "cell_type": "code",
   "execution_count": null,
   "metadata": {
    "collapsed": true
   },
   "outputs": [],
   "source": []
  },
  {
   "cell_type": "markdown",
   "metadata": {},
   "source": [
    "### Initial descriptive statistics and exploratory data analysis (EDA)"
   ]
  },
  {
   "cell_type": "code",
   "execution_count": null,
   "metadata": {
    "collapsed": true
   },
   "outputs": [],
   "source": []
  },
  {
   "cell_type": "code",
   "execution_count": 33,
   "metadata": {},
   "outputs": [
    {
     "data": {
      "text/html": [
       "<div>\n",
       "<style>\n",
       "    .dataframe thead tr:only-child th {\n",
       "        text-align: right;\n",
       "    }\n",
       "\n",
       "    .dataframe thead th {\n",
       "        text-align: left;\n",
       "    }\n",
       "\n",
       "    .dataframe tbody tr th {\n",
       "        vertical-align: top;\n",
       "    }\n",
       "</style>\n",
       "<table border=\"1\" class=\"dataframe\">\n",
       "  <thead>\n",
       "    <tr style=\"text-align: right;\">\n",
       "      <th></th>\n",
       "      <th>bene_count</th>\n",
       "      <th>total_claim_count</th>\n",
       "      <th>total_day_supply</th>\n",
       "      <th>total_drug_cost</th>\n",
       "      <th>Total_Amount_of_Payment_USDollars</th>\n",
       "      <th>Number_of_Payments_Included_in_Total_Amount</th>\n",
       "    </tr>\n",
       "  </thead>\n",
       "  <tbody>\n",
       "    <tr>\n",
       "      <th>count</th>\n",
       "      <td>3.158213e+06</td>\n",
       "      <td>3.158213e+06</td>\n",
       "      <td>3.158213e+06</td>\n",
       "      <td>3.158213e+06</td>\n",
       "      <td>3.158213e+06</td>\n",
       "      <td>3.158213e+06</td>\n",
       "    </tr>\n",
       "    <tr>\n",
       "      <th>mean</th>\n",
       "      <td>3.215949e+01</td>\n",
       "      <td>1.250590e+02</td>\n",
       "      <td>5.327474e+03</td>\n",
       "      <td>8.966761e+03</td>\n",
       "      <td>4.615748e+01</td>\n",
       "      <td>1.000451e+00</td>\n",
       "    </tr>\n",
       "    <tr>\n",
       "      <th>std</th>\n",
       "      <td>3.166852e+01</td>\n",
       "      <td>1.519496e+02</td>\n",
       "      <td>6.727787e+03</td>\n",
       "      <td>5.726883e+04</td>\n",
       "      <td>2.975912e+02</td>\n",
       "      <td>8.101433e-02</td>\n",
       "    </tr>\n",
       "    <tr>\n",
       "      <th>min</th>\n",
       "      <td>1.100000e+01</td>\n",
       "      <td>1.100000e+01</td>\n",
       "      <td>1.100000e+01</td>\n",
       "      <td>8.000000e-02</td>\n",
       "      <td>1.000000e-02</td>\n",
       "      <td>1.000000e+00</td>\n",
       "    </tr>\n",
       "    <tr>\n",
       "      <th>25%</th>\n",
       "      <td>1.400000e+01</td>\n",
       "      <td>4.600000e+01</td>\n",
       "      <td>1.620000e+03</td>\n",
       "      <td>6.360600e+02</td>\n",
       "      <td>9.290000e+00</td>\n",
       "      <td>1.000000e+00</td>\n",
       "    </tr>\n",
       "    <tr>\n",
       "      <th>50%</th>\n",
       "      <td>2.100000e+01</td>\n",
       "      <td>7.800000e+01</td>\n",
       "      <td>3.300000e+03</td>\n",
       "      <td>1.484410e+03</td>\n",
       "      <td>1.278000e+01</td>\n",
       "      <td>1.000000e+00</td>\n",
       "    </tr>\n",
       "    <tr>\n",
       "      <th>75%</th>\n",
       "      <td>3.700000e+01</td>\n",
       "      <td>1.430000e+02</td>\n",
       "      <td>6.284000e+03</td>\n",
       "      <td>4.141830e+03</td>\n",
       "      <td>1.702000e+01</td>\n",
       "      <td>1.000000e+00</td>\n",
       "    </tr>\n",
       "    <tr>\n",
       "      <th>max</th>\n",
       "      <td>3.318000e+03</td>\n",
       "      <td>5.380000e+03</td>\n",
       "      <td>1.449570e+05</td>\n",
       "      <td>8.301832e+06</td>\n",
       "      <td>1.006286e+05</td>\n",
       "      <td>5.200000e+01</td>\n",
       "    </tr>\n",
       "  </tbody>\n",
       "</table>\n",
       "</div>"
      ],
      "text/plain": [
       "         bene_count  total_claim_count  total_day_supply  total_drug_cost  \\\n",
       "count  3.158213e+06       3.158213e+06      3.158213e+06     3.158213e+06   \n",
       "mean   3.215949e+01       1.250590e+02      5.327474e+03     8.966761e+03   \n",
       "std    3.166852e+01       1.519496e+02      6.727787e+03     5.726883e+04   \n",
       "min    1.100000e+01       1.100000e+01      1.100000e+01     8.000000e-02   \n",
       "25%    1.400000e+01       4.600000e+01      1.620000e+03     6.360600e+02   \n",
       "50%    2.100000e+01       7.800000e+01      3.300000e+03     1.484410e+03   \n",
       "75%    3.700000e+01       1.430000e+02      6.284000e+03     4.141830e+03   \n",
       "max    3.318000e+03       5.380000e+03      1.449570e+05     8.301832e+06   \n",
       "\n",
       "       Total_Amount_of_Payment_USDollars  \\\n",
       "count                       3.158213e+06   \n",
       "mean                        4.615748e+01   \n",
       "std                         2.975912e+02   \n",
       "min                         1.000000e-02   \n",
       "25%                         9.290000e+00   \n",
       "50%                         1.278000e+01   \n",
       "75%                         1.702000e+01   \n",
       "max                         1.006286e+05   \n",
       "\n",
       "       Number_of_Payments_Included_in_Total_Amount  \n",
       "count                                 3.158213e+06  \n",
       "mean                                  1.000451e+00  \n",
       "std                                   8.101433e-02  \n",
       "min                                   1.000000e+00  \n",
       "25%                                   1.000000e+00  \n",
       "50%                                   1.000000e+00  \n",
       "75%                                   1.000000e+00  \n",
       "max                                   5.200000e+01  "
      ]
     },
     "execution_count": 33,
     "metadata": {},
     "output_type": "execute_result"
    }
   ],
   "source": [
    "# descriptive statistics that summarize the central tendency, dispersion and shape of a dataset’s distribution.\n",
    "df9.describe()"
   ]
  },
  {
   "cell_type": "markdown",
   "metadata": {
    "collapsed": true
   },
   "source": [
    "From the discriptive statistics above, one can tell the following:\n",
    "\n",
    "- the skewness of each features by comparing the mean to the median (50% mark). \n",
    "- skewedness from #1 if any, translate to some outliers in the distribution. This sometimes can affect results of the analysis, and may need further investigation.\n",
    "\n",
    "- the distribution of the datapoints. The greater the standard deviation ('std'), the more dispersed the datapoints are.\n",
    "\n",
    "Note that the descriptive statistics above excludes the missing values and categorical variables. From the above we see that most of the variables are either slightly right or left skewed. This can also be seen in the plot of the histogram below.\n",
    "\n",
    "One can delve deeper into each feature using the plots depending on the algorithms being used. Considering high dimensionality of the dataset, this will be very time consuming. Since this analysis is primarily based on Random Forest (RF) and the believe that they are robust enough to cater for such deficiencies, i wouldn't spend much time on this now. All issues would be revisited if outcomes of model is not as expected."
   ]
  },
  {
   "cell_type": "code",
   "execution_count": null,
   "metadata": {
    "collapsed": true
   },
   "outputs": [],
   "source": []
  },
  {
   "cell_type": "code",
   "execution_count": 34,
   "metadata": {},
   "outputs": [
    {
     "data": {
      "image/png": "[encoded data removed]",
      "text/plain": [
       "<matplotlib.figure.Figure at 0x7f2a98654d30>"
      ]
     },
     "metadata": {},
     "output_type": "display_data"
    }
   ],
   "source": [
    "#plotting histogram of all numerical features\n",
    "df9.hist(bins=5, figsize=(20,10))\n",
    "plt.show()"
   ]
  },
  {
   "cell_type": "markdown",
   "metadata": {
    "collapsed": true
   },
   "source": [
    "Presence of skewness means that outliers are present in the variables affected as shown in the boxplots below. Outliers are not necessarily bad, but needs to be further investigating in relation to business objectives, required performance of the model and assumptions made about the dataset. Most times than not, this will need to be address if one is considering using a linear model to prevent negatively impacting outcomes of the mode"
   ]
  },
  {
   "cell_type": "code",
   "execution_count": null,
   "metadata": {
    "collapsed": true
   },
   "outputs": [],
   "source": []
  },
  {
   "cell_type": "markdown",
   "metadata": {},
   "source": [
    "### Checking for outliers"
   ]
  },
  {
   "cell_type": "code",
   "execution_count": 35,
   "metadata": {},
   "outputs": [
    {
     "data": {
      "text/plain": [
       "Index(['bene_count', 'total_claim_count', 'total_day_supply',\n",
       "       'total_drug_cost', 'Physician_Primary_Type',\n",
       "       'Total_Amount_of_Payment_USDollars',\n",
       "       'Number_of_Payments_Included_in_Total_Amount', 'state_region'],\n",
       "      dtype='object')"
      ]
     },
     "execution_count": 35,
     "metadata": {},
     "output_type": "execute_result"
    }
   ],
   "source": [
    "df9.columns"
   ]
  },
  {
   "cell_type": "code",
   "execution_count": 36,
   "metadata": {},
   "outputs": [
    {
     "data": {
      "text/plain": [
       "bene_count                                     float64\n",
       "total_claim_count                              float64\n",
       "total_day_supply                               float64\n",
       "total_drug_cost                                float64\n",
       "Physician_Primary_Type                          object\n",
       "Total_Amount_of_Payment_USDollars              float64\n",
       "Number_of_Payments_Included_in_Total_Amount      int64\n",
       "state_region                                    object\n",
       "dtype: object"
      ]
     },
     "execution_count": 36,
     "metadata": {},
     "output_type": "execute_result"
    }
   ],
   "source": [
    "df9.dtypes"
   ]
  },
  {
   "cell_type": "markdown",
   "metadata": {},
   "source": [
    "We don't need to plot the binary variables below, because we all know the expected pattern. All we need is the continuous ones as shown below"
   ]
  },
  {
   "cell_type": "code",
   "execution_count": 37,
   "metadata": {},
   "outputs": [
    {
     "data": {
      "text/plain": [
       "<matplotlib.axes._subplots.AxesSubplot at 0x7f29efff69e8>"
      ]
     },
     "execution_count": 37,
     "metadata": {},
     "output_type": "execute_result"
    },
    {
     "data": {
      "image/png": "[encoded data removed]",
      "text/plain": [
       "<matplotlib.figure.Figure at 0x7f29efff6b38>"
      ]
     },
     "metadata": {},
     "output_type": "display_data"
    }
   ],
   "source": [
    "#boxplots for numerical variables\n",
    "fig = plt.figure(figsize=(30, 15))\n",
    "fig.add_subplot(1,1,1)\n",
    "sns.boxplot(data= df9[['bene_count', 'total_claim_count', 'total_day_supply',\n",
    "       'total_drug_cost', 'Total_Amount_of_Payment_USDollars',\n",
    "       'Number_of_Payments_Included_in_Total_Amount']])"
   ]
  },
  {
   "cell_type": "markdown",
   "metadata": {
    "collapsed": true
   },
   "source": [
    "The dataset contains outliers, most notably 'Total Drug Cost.' Possible indication of fraud here that may be interesting for another data science analysis. Outliers mostly cause skewness in the distribution of variables as seen in some of the plots above. These could have been an issue if we are considering linear models like Linear or Logistic Regression models. One would need to examine these issues closely and correct for such before building the model. Outliers are not necessarily bad. It depends on business needs and how much accuracy one is trying to achieve Since I am considering non-linear models like the Random Forest, these issues are usually implicitly addressed. That is a big advantage of using such models. I decided to leave them in there to see how the model perform with an option of revisiting them if the outcome is not favorable."
   ]
  },
  {
   "cell_type": "code",
   "execution_count": null,
   "metadata": {
    "collapsed": true
   },
   "outputs": [],
   "source": []
  },
  {
   "cell_type": "code",
   "execution_count": 38,
   "metadata": {
    "collapsed": true
   },
   "outputs": [],
   "source": [
    "#plotting a scatter matrix to see association with the \n",
    "from pandas.tools.plotting import scatter_matrix\n",
    "from pandas.tools.plotting import scatter_matrix\n",
    "attributes = ['bene_count', 'total_claim_count', 'total_day_supply', 'total_drug_cost', \n",
    "              'Total_Amount_of_Payment_USDollars', 'Number_of_Payments_Included_in_Total_Amount']"
   ]
  },
  {
   "cell_type": "code",
   "execution_count": 39,
   "metadata": {},
   "outputs": [
    {
     "name": "stderr",
     "output_type": "stream",
     "text": [
      "/home/azure052/anaconda3/lib/python3.6/site-packages/ipykernel_launcher.py:1: FutureWarning: 'pandas.tools.plotting.scatter_matrix' is deprecated, import 'pandas.plotting.scatter_matrix' instead.\n",
      "  \"\"\"Entry point for launching an IPython kernel.\n"
     ]
    },
    {
     "data": {
      "text/plain": [
       "array([[<matplotlib.axes._subplots.AxesSubplot object at 0x7f29eff8cf60>,\n",
       "        <matplotlib.axes._subplots.AxesSubplot object at 0x7f29f0039780>,\n",
       "        <matplotlib.axes._subplots.AxesSubplot object at 0x7f29f0015748>,\n",
       "        <matplotlib.axes._subplots.AxesSubplot object at 0x7f29f00e2278>,\n",
       "        <matplotlib.axes._subplots.AxesSubplot object at 0x7f29f00affd0>,\n",
       "        <matplotlib.axes._subplots.AxesSubplot object at 0x7f29f00afef0>],\n",
       "       [<matplotlib.axes._subplots.AxesSubplot object at 0x7f29f0100eb8>,\n",
       "        <matplotlib.axes._subplots.AxesSubplot object at 0x7f2ab835f940>,\n",
       "        <matplotlib.axes._subplots.AxesSubplot object at 0x7f29f0229f60>,\n",
       "        <matplotlib.axes._subplots.AxesSubplot object at 0x7f2a023225f8>,\n",
       "        <matplotlib.axes._subplots.AxesSubplot object at 0x7f29f015b6a0>,\n",
       "        <matplotlib.axes._subplots.AxesSubplot object at 0x7f29f01ea160>],\n",
       "       [<matplotlib.axes._subplots.AxesSubplot object at 0x7f29f019bcc0>,\n",
       "        <matplotlib.axes._subplots.AxesSubplot object at 0x7f29efeaa160>,\n",
       "        <matplotlib.axes._subplots.AxesSubplot object at 0x7f29efe64a20>,\n",
       "        <matplotlib.axes._subplots.AxesSubplot object at 0x7f29efe23470>,\n",
       "        <matplotlib.axes._subplots.AxesSubplot object at 0x7f29efdd6a90>,\n",
       "        <matplotlib.axes._subplots.AxesSubplot object at 0x7f29efd98550>],\n",
       "       [<matplotlib.axes._subplots.AxesSubplot object at 0x7f29efdbfda0>,\n",
       "        <matplotlib.axes._subplots.AxesSubplot object at 0x7f29efd7c390>,\n",
       "        <matplotlib.axes._subplots.AxesSubplot object at 0x7f29efd195c0>,\n",
       "        <matplotlib.axes._subplots.AxesSubplot object at 0x7f29efce8fd0>,\n",
       "        <matplotlib.axes._subplots.AxesSubplot object at 0x7f29efd84748>,\n",
       "        <matplotlib.axes._subplots.AxesSubplot object at 0x7f29efc58780>],\n",
       "       [<matplotlib.axes._subplots.AxesSubplot object at 0x7f29efc19240>,\n",
       "        <matplotlib.axes._subplots.AxesSubplot object at 0x7f29efbccda0>,\n",
       "        <matplotlib.axes._subplots.AxesSubplot object at 0x7f29efbf8240>,\n",
       "        <matplotlib.axes._subplots.AxesSubplot object at 0x7f29efbb5b00>,\n",
       "        <matplotlib.axes._subplots.AxesSubplot object at 0x7f29ccd324e0>,\n",
       "        <matplotlib.axes._subplots.AxesSubplot object at 0x7f29ccce6a20>],\n",
       "       [<matplotlib.axes._subplots.AxesSubplot object at 0x7f29ccc9dfd0>,\n",
       "        <matplotlib.axes._subplots.AxesSubplot object at 0x7f29ccc4be80>,\n",
       "        <matplotlib.axes._subplots.AxesSubplot object at 0x7f29ccc0c4e0>,\n",
       "        <matplotlib.axes._subplots.AxesSubplot object at 0x7f29ccc41f60>,\n",
       "        <matplotlib.axes._subplots.AxesSubplot object at 0x7f29ccc01b00>,\n",
       "        <matplotlib.axes._subplots.AxesSubplot object at 0x7f29ccbadc88>]], dtype=object)"
      ]
     },
     "execution_count": 39,
     "metadata": {},
     "output_type": "execute_result"
    },
    {
     "data": {
      "image/png": "[encoded data removed]",
      "text/plain": [
       "<matplotlib.figure.Figure at 0x7f29f007c550>"
      ]
     },
     "metadata": {},
     "output_type": "display_data"
    }
   ],
   "source": [
    "scatter_matrix(df9[attributes], figsize = (20, 20))"
   ]
  },
  {
   "cell_type": "markdown",
   "metadata": {
    "collapsed": true
   },
   "source": [
    "We see little or no linear association with the the target variables - Total Amount Of Payment. We however notice some possible positive association between some predictors like in the case of 'total_day_supply' and 'total_claim_count,' and 'total_day_supply' and 'bene_count.' This shows a possible multicollinearity issue that may need investigated. Let us see how our model handles that."
   ]
  },
  {
   "cell_type": "code",
   "execution_count": null,
   "metadata": {
    "collapsed": true
   },
   "outputs": [],
   "source": []
  },
  {
   "cell_type": "code",
   "execution_count": null,
   "metadata": {
    "collapsed": true
   },
   "outputs": [],
   "source": []
  },
  {
   "cell_type": "markdown",
   "metadata": {},
   "source": [
    "## Creating a Test Set"
   ]
  },
  {
   "cell_type": "code",
   "execution_count": 42,
   "metadata": {
    "collapsed": true
   },
   "outputs": [],
   "source": [
    "#here we are saying that we want the test data to be 20% of the full dataset, and the random_state is just setting a \n",
    "#random number generator's seed before creating the test set so that it always generates the same shuffled indices.\n",
    "from sklearn.model_selection import train_test_split\n",
    "train_set, test_set = train_test_split(df9, test_size=0.40, random_state=42,)"
   ]
  },
  {
   "cell_type": "code",
   "execution_count": 43,
   "metadata": {},
   "outputs": [
    {
     "data": {
      "text/plain": [
       "((1894927, 8), (1263286, 8))"
      ]
     },
     "execution_count": 43,
     "metadata": {},
     "output_type": "execute_result"
    }
   ],
   "source": [
    "train_set.shape, test_set.shape"
   ]
  },
  {
   "cell_type": "code",
   "execution_count": 44,
   "metadata": {
    "collapsed": true
   },
   "outputs": [],
   "source": [
    "#we create a copy of the train data we will work with\n",
    "df9_copy = train_set.copy()"
   ]
  },
  {
   "cell_type": "code",
   "execution_count": null,
   "metadata": {
    "collapsed": true
   },
   "outputs": [],
   "source": []
  },
  {
   "cell_type": "code",
   "execution_count": null,
   "metadata": {
    "collapsed": true
   },
   "outputs": [],
   "source": []
  },
  {
   "cell_type": "markdown",
   "metadata": {},
   "source": [
    "### Inferential statistics on the training set data"
   ]
  },
  {
   "cell_type": "code",
   "execution_count": 45,
   "metadata": {},
   "outputs": [
    {
     "data": {
      "text/plain": [
       "Total_Amount_of_Payment_USDollars              1.000000\n",
       "total_drug_cost                                0.054535\n",
       "bene_count                                     0.004019\n",
       "Number_of_Payments_Included_in_Total_Amount    0.003986\n",
       "total_claim_count                              0.002179\n",
       "total_day_supply                               0.001903\n",
       "Name: Total_Amount_of_Payment_USDollars, dtype: float64"
      ]
     },
     "execution_count": 45,
     "metadata": {},
     "output_type": "execute_result"
    }
   ],
   "source": [
    "#checking correlation of all features with the target variable - 'active_user'\n",
    "corr_matrix = df9_copy.corr()\n",
    "corr_matrix['Total_Amount_of_Payment_USDollars'].sort_values(ascending=False)"
   ]
  },
  {
   "cell_type": "code",
   "execution_count": 94,
   "metadata": {},
   "outputs": [
    {
     "data": {
      "text/html": [
       "<div>\n",
       "<style>\n",
       "    .dataframe thead tr:only-child th {\n",
       "        text-align: right;\n",
       "    }\n",
       "\n",
       "    .dataframe thead th {\n",
       "        text-align: left;\n",
       "    }\n",
       "\n",
       "    .dataframe tbody tr th {\n",
       "        vertical-align: top;\n",
       "    }\n",
       "</style>\n",
       "<table border=\"1\" class=\"dataframe\">\n",
       "  <thead>\n",
       "    <tr style=\"text-align: right;\">\n",
       "      <th></th>\n",
       "      <th>bene_count</th>\n",
       "      <th>total_claim_count</th>\n",
       "      <th>total_day_supply</th>\n",
       "      <th>total_drug_cost</th>\n",
       "      <th>Total_Amount_of_Payment_USDollars</th>\n",
       "      <th>Number_of_Payments_Included_in_Total_Amount</th>\n",
       "    </tr>\n",
       "  </thead>\n",
       "  <tbody>\n",
       "    <tr>\n",
       "      <th>bene_count</th>\n",
       "      <td>1.000000</td>\n",
       "      <td>0.844459</td>\n",
       "      <td>0.800526</td>\n",
       "      <td>0.054129</td>\n",
       "      <td>0.003141</td>\n",
       "      <td>-0.000916</td>\n",
       "    </tr>\n",
       "    <tr>\n",
       "      <th>total_claim_count</th>\n",
       "      <td>0.844459</td>\n",
       "      <td>1.000000</td>\n",
       "      <td>0.901041</td>\n",
       "      <td>0.086229</td>\n",
       "      <td>0.001728</td>\n",
       "      <td>-0.001328</td>\n",
       "    </tr>\n",
       "    <tr>\n",
       "      <th>total_day_supply</th>\n",
       "      <td>0.800526</td>\n",
       "      <td>0.901041</td>\n",
       "      <td>1.000000</td>\n",
       "      <td>0.058175</td>\n",
       "      <td>0.000975</td>\n",
       "      <td>-0.001746</td>\n",
       "    </tr>\n",
       "    <tr>\n",
       "      <th>total_drug_cost</th>\n",
       "      <td>0.054129</td>\n",
       "      <td>0.086229</td>\n",
       "      <td>0.058175</td>\n",
       "      <td>1.000000</td>\n",
       "      <td>0.054242</td>\n",
       "      <td>0.001696</td>\n",
       "    </tr>\n",
       "    <tr>\n",
       "      <th>Total_Amount_of_Payment_USDollars</th>\n",
       "      <td>0.003141</td>\n",
       "      <td>0.001728</td>\n",
       "      <td>0.000975</td>\n",
       "      <td>0.054242</td>\n",
       "      <td>1.000000</td>\n",
       "      <td>0.003511</td>\n",
       "    </tr>\n",
       "    <tr>\n",
       "      <th>Number_of_Payments_Included_in_Total_Amount</th>\n",
       "      <td>-0.000916</td>\n",
       "      <td>-0.001328</td>\n",
       "      <td>-0.001746</td>\n",
       "      <td>0.001696</td>\n",
       "      <td>0.003511</td>\n",
       "      <td>1.000000</td>\n",
       "    </tr>\n",
       "  </tbody>\n",
       "</table>\n",
       "</div>"
      ],
      "text/plain": [
       "                                             bene_count  total_claim_count  \\\n",
       "bene_count                                     1.000000           0.844459   \n",
       "total_claim_count                              0.844459           1.000000   \n",
       "total_day_supply                               0.800526           0.901041   \n",
       "total_drug_cost                                0.054129           0.086229   \n",
       "Total_Amount_of_Payment_USDollars              0.003141           0.001728   \n",
       "Number_of_Payments_Included_in_Total_Amount   -0.000916          -0.001328   \n",
       "\n",
       "                                             total_day_supply  \\\n",
       "bene_count                                           0.800526   \n",
       "total_claim_count                                    0.901041   \n",
       "total_day_supply                                     1.000000   \n",
       "total_drug_cost                                      0.058175   \n",
       "Total_Amount_of_Payment_USDollars                    0.000975   \n",
       "Number_of_Payments_Included_in_Total_Amount         -0.001746   \n",
       "\n",
       "                                             total_drug_cost  \\\n",
       "bene_count                                          0.054129   \n",
       "total_claim_count                                   0.086229   \n",
       "total_day_supply                                    0.058175   \n",
       "total_drug_cost                                     1.000000   \n",
       "Total_Amount_of_Payment_USDollars                   0.054242   \n",
       "Number_of_Payments_Included_in_Total_Amount         0.001696   \n",
       "\n",
       "                                             Total_Amount_of_Payment_USDollars  \\\n",
       "bene_count                                                            0.003141   \n",
       "total_claim_count                                                     0.001728   \n",
       "total_day_supply                                                      0.000975   \n",
       "total_drug_cost                                                       0.054242   \n",
       "Total_Amount_of_Payment_USDollars                                     1.000000   \n",
       "Number_of_Payments_Included_in_Total_Amount                           0.003511   \n",
       "\n",
       "                                             Number_of_Payments_Included_in_Total_Amount  \n",
       "bene_count                                                                     -0.000916  \n",
       "total_claim_count                                                              -0.001328  \n",
       "total_day_supply                                                               -0.001746  \n",
       "total_drug_cost                                                                 0.001696  \n",
       "Total_Amount_of_Payment_USDollars                                               0.003511  \n",
       "Number_of_Payments_Included_in_Total_Amount                                     1.000000  "
      ]
     },
     "execution_count": 94,
     "metadata": {},
     "output_type": "execute_result"
    }
   ],
   "source": [
    "#checking for multicollinearity between predictors\n",
    "df9.corr()"
   ]
  },
  {
   "cell_type": "code",
   "execution_count": 46,
   "metadata": {},
   "outputs": [
    {
     "data": {
      "text/html": [
       "<div>\n",
       "<style>\n",
       "    .dataframe thead tr:only-child th {\n",
       "        text-align: right;\n",
       "    }\n",
       "\n",
       "    .dataframe thead th {\n",
       "        text-align: left;\n",
       "    }\n",
       "\n",
       "    .dataframe tbody tr th {\n",
       "        vertical-align: top;\n",
       "    }\n",
       "</style>\n",
       "<table border=\"1\" class=\"dataframe\">\n",
       "  <thead>\n",
       "    <tr style=\"text-align: right;\">\n",
       "      <th></th>\n",
       "      <th>bene_count</th>\n",
       "      <th>total_claim_count</th>\n",
       "      <th>total_day_supply</th>\n",
       "      <th>total_drug_cost</th>\n",
       "      <th>Physician_Primary_Type</th>\n",
       "      <th>Total_Amount_of_Payment_USDollars</th>\n",
       "      <th>Number_of_Payments_Included_in_Total_Amount</th>\n",
       "      <th>state_region</th>\n",
       "    </tr>\n",
       "  </thead>\n",
       "  <tbody>\n",
       "    <tr>\n",
       "      <th>0</th>\n",
       "      <td>11.0</td>\n",
       "      <td>12.0</td>\n",
       "      <td>74.0</td>\n",
       "      <td>250.32</td>\n",
       "      <td>Doctor of Osteopathy</td>\n",
       "      <td>1.15</td>\n",
       "      <td>1</td>\n",
       "      <td>MW</td>\n",
       "    </tr>\n",
       "    <tr>\n",
       "      <th>1</th>\n",
       "      <td>21.0</td>\n",
       "      <td>110.0</td>\n",
       "      <td>5254.0</td>\n",
       "      <td>2068.94</td>\n",
       "      <td>Medical Doctor</td>\n",
       "      <td>10.67</td>\n",
       "      <td>1</td>\n",
       "      <td>S</td>\n",
       "    </tr>\n",
       "    <tr>\n",
       "      <th>2</th>\n",
       "      <td>53.0</td>\n",
       "      <td>182.0</td>\n",
       "      <td>14940.0</td>\n",
       "      <td>2353.62</td>\n",
       "      <td>Doctor of Osteopathy</td>\n",
       "      <td>7.19</td>\n",
       "      <td>1</td>\n",
       "      <td>MW</td>\n",
       "    </tr>\n",
       "    <tr>\n",
       "      <th>3</th>\n",
       "      <td>13.0</td>\n",
       "      <td>68.0</td>\n",
       "      <td>2040.0</td>\n",
       "      <td>19468.06</td>\n",
       "      <td>Medical Doctor</td>\n",
       "      <td>17.13</td>\n",
       "      <td>1</td>\n",
       "      <td>W</td>\n",
       "    </tr>\n",
       "    <tr>\n",
       "      <th>4</th>\n",
       "      <td>11.0</td>\n",
       "      <td>46.0</td>\n",
       "      <td>1778.0</td>\n",
       "      <td>263.79</td>\n",
       "      <td>Medical Doctor</td>\n",
       "      <td>12.14</td>\n",
       "      <td>1</td>\n",
       "      <td>S</td>\n",
       "    </tr>\n",
       "  </tbody>\n",
       "</table>\n",
       "</div>"
      ],
      "text/plain": [
       "   bene_count  total_claim_count  total_day_supply  total_drug_cost  \\\n",
       "0        11.0               12.0              74.0           250.32   \n",
       "1        21.0              110.0            5254.0          2068.94   \n",
       "2        53.0              182.0           14940.0          2353.62   \n",
       "3        13.0               68.0            2040.0         19468.06   \n",
       "4        11.0               46.0            1778.0           263.79   \n",
       "\n",
       "  Physician_Primary_Type  Total_Amount_of_Payment_USDollars  \\\n",
       "0   Doctor of Osteopathy                               1.15   \n",
       "1         Medical Doctor                              10.67   \n",
       "2   Doctor of Osteopathy                               7.19   \n",
       "3         Medical Doctor                              17.13   \n",
       "4         Medical Doctor                              12.14   \n",
       "\n",
       "   Number_of_Payments_Included_in_Total_Amount state_region  \n",
       "0                                            1           MW  \n",
       "1                                            1            S  \n",
       "2                                            1           MW  \n",
       "3                                            1            W  \n",
       "4                                            1            S  "
      ]
     },
     "execution_count": 46,
     "metadata": {},
     "output_type": "execute_result"
    }
   ],
   "source": [
    "df10= df9_copy.reset_index(drop=True)\n",
    "df10.head()"
   ]
  },
  {
   "cell_type": "markdown",
   "metadata": {
    "collapsed": true
   },
   "source": [
    "With the knowledge that most predictors have more of a non-linear association than linear with 'Total Amount of Payment' - the target variable, from the EDA, the question we now have is: are these predictors significant enough in explaining variability in the Total Amount of Payment - the target variable?  To answer this question, one should usually fit a multivariate linear regression model to the dataset using a hypothesis test and comparing the p-values at a significant level. And, the data, most especially our predictors should meet the assumptions for such analysis. Which are usually: \n",
    "\n",
    "- sample must be reasonably random, \n",
    "- data must be from a normal distribution or large sample (need to check n ≥ 30), \n",
    "- the observations are independent.\n",
    "- the true relationship is linear. Check that the scatter plot is roughly linear and that the residual plot has no pattern.\n",
    "- the standard deviation of the response y about the true line is the same everywhere. Look at the residual plot and check that the residuals have roughly the same spread across all the x-values.\n",
    "- for any fixed value of x, the response y varies normally about the true line. Check a histogram or\n",
    "stemplot of the residuals.\n",
    "\n",
    "Since we know that is not the case, and we need to transform most of the features to meet these conditions, then it's better to let go off this approach and concentrate more on non-linear predictive ones that will yeild similar results. There are industry arguments that most ensemble algorithms handle these cases well, work much better for non-linear relationships and can also reveal important predictive features for the target variables. The only downside is their black box approach with not much control over the logic of their analysis. I believe the benefits far outweighs the disadvantages, allowing one concentrate more on research and analysis of the data itself than spending unnecessary time munging data for linear conditions. "
   ]
  },
  {
   "cell_type": "code",
   "execution_count": null,
   "metadata": {
    "collapsed": true
   },
   "outputs": [],
   "source": []
  },
  {
   "cell_type": "markdown",
   "metadata": {
    "collapsed": true
   },
   "source": [
    "***Separating predictors from target variables***"
   ]
  },
  {
   "cell_type": "code",
   "execution_count": 47,
   "metadata": {
    "collapsed": true
   },
   "outputs": [],
   "source": [
    "#creating predictors and target variables for the train set\n",
    "X_train = train_set.copy().drop(['Total_Amount_of_Payment_USDollars'], axis=1)\n",
    "y_train = train_set.copy()['Total_Amount_of_Payment_USDollars']\n",
    "\n",
    "##creating predictors and target variables for the test set\n",
    "X_test = test_set.copy().drop(['Total_Amount_of_Payment_USDollars'], axis=1)\n",
    "y_test = test_set.copy()['Total_Amount_of_Payment_USDollars']"
   ]
  },
  {
   "cell_type": "code",
   "execution_count": 48,
   "metadata": {},
   "outputs": [
    {
     "data": {
      "text/plain": [
       "((1894927, 7), (1894927,))"
      ]
     },
     "execution_count": 48,
     "metadata": {},
     "output_type": "execute_result"
    }
   ],
   "source": [
    "#shape of our train set\n",
    "X_train.shape, y_train.shape"
   ]
  },
  {
   "cell_type": "code",
   "execution_count": 49,
   "metadata": {},
   "outputs": [
    {
     "data": {
      "text/plain": [
       "Medical Doctor                  1674853\n",
       "Doctor of Osteopathy             216479\n",
       "Doctor of Podiatric Medicine       2044\n",
       "Doctor of Optometry                1328\n",
       "Doctor of Dentistry                 186\n",
       "Chiropractor                         37\n",
       "Name: Physician_Primary_Type, dtype: int64"
      ]
     },
     "execution_count": 49,
     "metadata": {},
     "output_type": "execute_result"
    }
   ],
   "source": [
    "X_train['Physician_Primary_Type'].value_counts()"
   ]
  },
  {
   "cell_type": "code",
   "execution_count": 50,
   "metadata": {},
   "outputs": [
    {
     "data": {
      "text/plain": [
       "((1263286, 7), (1263286,))"
      ]
     },
     "execution_count": 50,
     "metadata": {},
     "output_type": "execute_result"
    }
   ],
   "source": [
    "#shape of the test set\n",
    "X_test.shape, y_test.shape"
   ]
  },
  {
   "cell_type": "code",
   "execution_count": 51,
   "metadata": {},
   "outputs": [
    {
     "data": {
      "text/plain": [
       "Medical Doctor                  1116877\n",
       "Doctor of Osteopathy             143995\n",
       "Doctor of Podiatric Medicine       1399\n",
       "Doctor of Optometry                 876\n",
       "Doctor of Dentistry                 124\n",
       "Chiropractor                         15\n",
       "Name: Physician_Primary_Type, dtype: int64"
      ]
     },
     "execution_count": 51,
     "metadata": {},
     "output_type": "execute_result"
    }
   ],
   "source": [
    "X_test['Physician_Primary_Type'].value_counts()"
   ]
  },
  {
   "cell_type": "code",
   "execution_count": 52,
   "metadata": {},
   "outputs": [
    {
     "data": {
      "text/html": [
       "<div>\n",
       "<style>\n",
       "    .dataframe thead tr:only-child th {\n",
       "        text-align: right;\n",
       "    }\n",
       "\n",
       "    .dataframe thead th {\n",
       "        text-align: left;\n",
       "    }\n",
       "\n",
       "    .dataframe tbody tr th {\n",
       "        vertical-align: top;\n",
       "    }\n",
       "</style>\n",
       "<table border=\"1\" class=\"dataframe\">\n",
       "  <thead>\n",
       "    <tr style=\"text-align: right;\">\n",
       "      <th></th>\n",
       "      <th>bene_count</th>\n",
       "      <th>total_claim_count</th>\n",
       "      <th>total_day_supply</th>\n",
       "      <th>total_drug_cost</th>\n",
       "      <th>Physician_Primary_Type</th>\n",
       "      <th>Number_of_Payments_Included_in_Total_Amount</th>\n",
       "      <th>state_region</th>\n",
       "    </tr>\n",
       "  </thead>\n",
       "  <tbody>\n",
       "    <tr>\n",
       "      <th>2531536</th>\n",
       "      <td>45.0</td>\n",
       "      <td>243.0</td>\n",
       "      <td>14730.0</td>\n",
       "      <td>1802.83</td>\n",
       "      <td>Medical Doctor</td>\n",
       "      <td>1</td>\n",
       "      <td>MW</td>\n",
       "    </tr>\n",
       "    <tr>\n",
       "      <th>1952704</th>\n",
       "      <td>38.0</td>\n",
       "      <td>388.0</td>\n",
       "      <td>11356.0</td>\n",
       "      <td>27345.38</td>\n",
       "      <td>Medical Doctor</td>\n",
       "      <td>1</td>\n",
       "      <td>NE</td>\n",
       "    </tr>\n",
       "    <tr>\n",
       "      <th>47810</th>\n",
       "      <td>15.0</td>\n",
       "      <td>43.0</td>\n",
       "      <td>1710.0</td>\n",
       "      <td>1438.20</td>\n",
       "      <td>Medical Doctor</td>\n",
       "      <td>1</td>\n",
       "      <td>S</td>\n",
       "    </tr>\n",
       "    <tr>\n",
       "      <th>67286</th>\n",
       "      <td>43.0</td>\n",
       "      <td>199.0</td>\n",
       "      <td>5094.0</td>\n",
       "      <td>1210.84</td>\n",
       "      <td>Medical Doctor</td>\n",
       "      <td>1</td>\n",
       "      <td>W</td>\n",
       "    </tr>\n",
       "    <tr>\n",
       "      <th>523193</th>\n",
       "      <td>27.0</td>\n",
       "      <td>159.0</td>\n",
       "      <td>7869.0</td>\n",
       "      <td>877.90</td>\n",
       "      <td>Medical Doctor</td>\n",
       "      <td>1</td>\n",
       "      <td>W</td>\n",
       "    </tr>\n",
       "  </tbody>\n",
       "</table>\n",
       "</div>"
      ],
      "text/plain": [
       "         bene_count  total_claim_count  total_day_supply  total_drug_cost  \\\n",
       "2531536        45.0              243.0           14730.0          1802.83   \n",
       "1952704        38.0              388.0           11356.0         27345.38   \n",
       "47810          15.0               43.0            1710.0          1438.20   \n",
       "67286          43.0              199.0            5094.0          1210.84   \n",
       "523193         27.0              159.0            7869.0           877.90   \n",
       "\n",
       "        Physician_Primary_Type  Number_of_Payments_Included_in_Total_Amount  \\\n",
       "2531536         Medical Doctor                                            1   \n",
       "1952704         Medical Doctor                                            1   \n",
       "47810           Medical Doctor                                            1   \n",
       "67286           Medical Doctor                                            1   \n",
       "523193          Medical Doctor                                            1   \n",
       "\n",
       "        state_region  \n",
       "2531536           MW  \n",
       "1952704           NE  \n",
       "47810              S  \n",
       "67286              W  \n",
       "523193             W  "
      ]
     },
     "execution_count": 52,
     "metadata": {},
     "output_type": "execute_result"
    }
   ],
   "source": [
    "#first 5 rows of test set\n",
    "X_test.head()"
   ]
  },
  {
   "cell_type": "code",
   "execution_count": 53,
   "metadata": {},
   "outputs": [
    {
     "data": {
      "text/html": [
       "<div>\n",
       "<style>\n",
       "    .dataframe thead tr:only-child th {\n",
       "        text-align: right;\n",
       "    }\n",
       "\n",
       "    .dataframe thead th {\n",
       "        text-align: left;\n",
       "    }\n",
       "\n",
       "    .dataframe tbody tr th {\n",
       "        vertical-align: top;\n",
       "    }\n",
       "</style>\n",
       "<table border=\"1\" class=\"dataframe\">\n",
       "  <thead>\n",
       "    <tr style=\"text-align: right;\">\n",
       "      <th></th>\n",
       "      <th>bene_count</th>\n",
       "      <th>total_claim_count</th>\n",
       "      <th>total_day_supply</th>\n",
       "      <th>total_drug_cost</th>\n",
       "      <th>Physician_Primary_Type</th>\n",
       "      <th>Number_of_Payments_Included_in_Total_Amount</th>\n",
       "      <th>state_region</th>\n",
       "    </tr>\n",
       "  </thead>\n",
       "  <tbody>\n",
       "    <tr>\n",
       "      <th>3122922</th>\n",
       "      <td>11.0</td>\n",
       "      <td>12.0</td>\n",
       "      <td>74.0</td>\n",
       "      <td>250.32</td>\n",
       "      <td>Doctor of Osteopathy</td>\n",
       "      <td>1</td>\n",
       "      <td>MW</td>\n",
       "    </tr>\n",
       "    <tr>\n",
       "      <th>2933626</th>\n",
       "      <td>21.0</td>\n",
       "      <td>110.0</td>\n",
       "      <td>5254.0</td>\n",
       "      <td>2068.94</td>\n",
       "      <td>Medical Doctor</td>\n",
       "      <td>1</td>\n",
       "      <td>S</td>\n",
       "    </tr>\n",
       "    <tr>\n",
       "      <th>465910</th>\n",
       "      <td>53.0</td>\n",
       "      <td>182.0</td>\n",
       "      <td>14940.0</td>\n",
       "      <td>2353.62</td>\n",
       "      <td>Doctor of Osteopathy</td>\n",
       "      <td>1</td>\n",
       "      <td>MW</td>\n",
       "    </tr>\n",
       "    <tr>\n",
       "      <th>702753</th>\n",
       "      <td>13.0</td>\n",
       "      <td>68.0</td>\n",
       "      <td>2040.0</td>\n",
       "      <td>19468.06</td>\n",
       "      <td>Medical Doctor</td>\n",
       "      <td>1</td>\n",
       "      <td>W</td>\n",
       "    </tr>\n",
       "    <tr>\n",
       "      <th>2231857</th>\n",
       "      <td>11.0</td>\n",
       "      <td>46.0</td>\n",
       "      <td>1778.0</td>\n",
       "      <td>263.79</td>\n",
       "      <td>Medical Doctor</td>\n",
       "      <td>1</td>\n",
       "      <td>S</td>\n",
       "    </tr>\n",
       "  </tbody>\n",
       "</table>\n",
       "</div>"
      ],
      "text/plain": [
       "         bene_count  total_claim_count  total_day_supply  total_drug_cost  \\\n",
       "3122922        11.0               12.0              74.0           250.32   \n",
       "2933626        21.0              110.0            5254.0          2068.94   \n",
       "465910         53.0              182.0           14940.0          2353.62   \n",
       "702753         13.0               68.0            2040.0         19468.06   \n",
       "2231857        11.0               46.0            1778.0           263.79   \n",
       "\n",
       "        Physician_Primary_Type  Number_of_Payments_Included_in_Total_Amount  \\\n",
       "3122922   Doctor of Osteopathy                                            1   \n",
       "2933626         Medical Doctor                                            1   \n",
       "465910    Doctor of Osteopathy                                            1   \n",
       "702753          Medical Doctor                                            1   \n",
       "2231857         Medical Doctor                                            1   \n",
       "\n",
       "        state_region  \n",
       "3122922           MW  \n",
       "2933626            S  \n",
       "465910            MW  \n",
       "702753             W  \n",
       "2231857            S  "
      ]
     },
     "execution_count": 53,
     "metadata": {},
     "output_type": "execute_result"
    }
   ],
   "source": [
    "#first 5 rows of the train set\n",
    "X_train.head()"
   ]
  },
  {
   "cell_type": "code",
   "execution_count": null,
   "metadata": {
    "collapsed": true
   },
   "outputs": [],
   "source": []
  },
  {
   "cell_type": "code",
   "execution_count": 54,
   "metadata": {},
   "outputs": [
    {
     "data": {
      "text/plain": [
       "bene_count                                     float64\n",
       "total_claim_count                              float64\n",
       "total_day_supply                               float64\n",
       "total_drug_cost                                float64\n",
       "Physician_Primary_Type                          object\n",
       "Number_of_Payments_Included_in_Total_Amount      int64\n",
       "state_region                                    object\n",
       "dtype: object"
      ]
     },
     "execution_count": 54,
     "metadata": {},
     "output_type": "execute_result"
    }
   ],
   "source": [
    "#checking the data types of features in the train set\n",
    "X_train.dtypes"
   ]
  },
  {
   "cell_type": "code",
   "execution_count": 55,
   "metadata": {
    "collapsed": true
   },
   "outputs": [],
   "source": [
    "#separating the features into categorical and numerical variables in preparation for pipelining\n",
    "cat_attribs = ['state_region', 'Physician_Primary_Type',]\n",
    "num_attribs = list(X_train.drop(cat_attribs, axis=1))\n",
    "#num_attribs = X_train.columns\n"
   ]
  },
  {
   "cell_type": "code",
   "execution_count": 56,
   "metadata": {
    "collapsed": true
   },
   "outputs": [],
   "source": [
    "num_attribs_col = X_train.columns"
   ]
  },
  {
   "cell_type": "code",
   "execution_count": 57,
   "metadata": {
    "collapsed": true
   },
   "outputs": [],
   "source": [
    "from sklearn.base import BaseEstimator, TransformerMixin\n",
    "\n",
    "#this class was used to impute missing values\n",
    "class DataFrameSelector(TransformerMixin):\n",
    "    def __init__(self, attribute_names):        \n",
    "        self.attribute_names = attribute_names\n",
    "    def fit(self, X, y=None):      \n",
    "        return self\n",
    "    def transform(self, X, y=None):\n",
    "        return X[self.attribute_names].values"
   ]
  },
  {
   "cell_type": "code",
   "execution_count": 58,
   "metadata": {
    "collapsed": true
   },
   "outputs": [],
   "source": [
    "# Definition of the CategoricalEncoder class, copied from PR #9151.\n",
    "# This class is no available yet, but will be in Scikit-Learn 2.0.\n",
    "#Thanks to Aurelien Geron for the info in his Hands-On Machine Learning with Scikit_Learn & TensorFlow book and blog\n",
    "\n",
    "from sklearn.base import BaseEstimator, TransformerMixin\n",
    "from sklearn.utils import check_array\n",
    "from sklearn.preprocessing import LabelEncoder\n",
    "from scipy import sparse\n",
    "\n",
    "class CategoricalEncoder(BaseEstimator, TransformerMixin):\n",
    "    \"\"\"Encode categorical features as a numeric array.\n",
    "    The input to this transformer should be a matrix of integers or strings,\n",
    "    denoting the values taken on by categorical (discrete) features.\n",
    "    The features can be encoded using a one-hot aka one-of-K scheme\n",
    "    (``encoding='onehot'``, the default) or converted to ordinal integers\n",
    "    (``encoding='ordinal'``).\n",
    "    This encoding is needed for feeding categorical data to many scikit-learn\n",
    "    estimators, notably linear models and SVMs with the standard kernels.\n",
    "    Read more in the :ref:`User Guide <preprocessing_categorical_features>`.\n",
    "    Parameters\n",
    "    ----------\n",
    "    encoding : str, 'onehot', 'onehot-dense' or 'ordinal'\n",
    "        The type of encoding to use (default is 'onehot'):\n",
    "        - 'onehot': encode the features using a one-hot aka one-of-K scheme\n",
    "          (or also called 'dummy' encoding). This creates a binary column for\n",
    "          each category and returns a sparse matrix.\n",
    "        - 'onehot-dense': the same as 'onehot' but returns a dense array\n",
    "          instead of a sparse matrix.\n",
    "        - 'ordinal': encode the features as ordinal integers. This results in\n",
    "          a single column of integers (0 to n_categories - 1) per feature.\n",
    "    categories : 'auto' or a list of lists/arrays of values.\n",
    "        Categories (unique values) per feature:\n",
    "        - 'auto' : Determine categories automatically from the training data.\n",
    "        - list : ``categories[i]`` holds the categories expected in the ith\n",
    "          column. The passed categories are sorted before encoding the data\n",
    "          (used categories can be found in the ``categories_`` attribute).\n",
    "    dtype : number type, default np.float64\n",
    "        Desired dtype of output.\n",
    "    handle_unknown : 'error' (default) or 'ignore'\n",
    "        Whether to raise an error or ignore if a unknown categorical feature is\n",
    "        present during transform (default is to raise). When this is parameter\n",
    "        is set to 'ignore' and an unknown category is encountered during\n",
    "        transform, the resulting one-hot encoded columns for this feature\n",
    "        will be all zeros.\n",
    "        Ignoring unknown categories is not supported for\n",
    "        ``encoding='ordinal'``.\n",
    "    Attributes\n",
    "    ----------\n",
    "    categories_ : list of arrays\n",
    "        The categories of each feature determined during fitting. When\n",
    "        categories were specified manually, this holds the sorted categories\n",
    "        (in order corresponding with output of `transform`).\n",
    "    Examples\n",
    "    --------\n",
    "    Given a dataset with three features and two samples, we let the encoder\n",
    "    find the maximum value per feature and transform the data to a binary\n",
    "    one-hot encoding.\n",
    "    >>> from sklearn.preprocessing import CategoricalEncoder\n",
    "    >>> enc = CategoricalEncoder(handle_unknown='ignore')\n",
    "    >>> enc.fit([[0, 0, 3], [1, 1, 0], [0, 2, 1], [1, 0, 2]])\n",
    "    ... # doctest: +ELLIPSIS\n",
    "    CategoricalEncoder(categories='auto', dtype=<... 'numpy.float64'>,\n",
    "              encoding='onehot', handle_unknown='ignore')\n",
    "    >>> enc.transform([[0, 1, 1], [1, 0, 4]]).toarray()\n",
    "    array([[ 1.,  0.,  0.,  1.,  0.,  0.,  1.,  0.,  0.],\n",
    "           [ 0.,  1.,  1.,  0.,  0.,  0.,  0.,  0.,  0.]])\n",
    "    See also\n",
    "    --------\n",
    "    sklearn.preprocessing.OneHotEncoder : performs a one-hot encoding of\n",
    "      integer ordinal features. The ``OneHotEncoder assumes`` that input\n",
    "      features take on values in the range ``[0, max(feature)]`` instead of\n",
    "      using the unique values.\n",
    "    sklearn.feature_extraction.DictVectorizer : performs a one-hot encoding of\n",
    "      dictionary items (also handles string-valued features).\n",
    "    sklearn.feature_extraction.FeatureHasher : performs an approximate one-hot\n",
    "      encoding of dictionary items or strings.\n",
    "    \"\"\"\n",
    "\n",
    "    def __init__(self, encoding='onehot', categories='auto', dtype=np.float64,\n",
    "                 handle_unknown='error'):\n",
    "        self.encoding = encoding\n",
    "        self.categories = categories\n",
    "        self.dtype = dtype\n",
    "        self.handle_unknown = handle_unknown\n",
    "\n",
    "    def fit(self, X, y=None):\n",
    "        \"\"\"Fit the CategoricalEncoder to X.\n",
    "        Parameters\n",
    "        ----------\n",
    "        X : array-like, shape [n_samples, n_feature]\n",
    "            The data to determine the categories of each feature.\n",
    "        Returns\n",
    "        -------\n",
    "        self\n",
    "        \"\"\"\n",
    "\n",
    "        if self.encoding not in ['onehot', 'onehot-dense', 'ordinal']:\n",
    "            template = (\"encoding should be either 'onehot', 'onehot-dense' \"\n",
    "                        \"or 'ordinal', got %s\")\n",
    "            raise ValueError(template % self.handle_unknown)\n",
    "\n",
    "        if self.handle_unknown not in ['error', 'ignore']:\n",
    "            template = (\"handle_unknown should be either 'error' or \"\n",
    "                        \"'ignore', got %s\")\n",
    "            raise ValueError(template % self.handle_unknown)\n",
    "\n",
    "        if self.encoding == 'ordinal' and self.handle_unknown == 'ignore':\n",
    "            raise ValueError(\"handle_unknown='ignore' is not supported for\"\n",
    "                             \" encoding='ordinal'\")\n",
    "\n",
    "        X = check_array(X, dtype=np.object, accept_sparse='csc', copy=True)\n",
    "        n_samples, n_features = X.shape\n",
    "\n",
    "        self._label_encoders_ = [LabelEncoder() for _ in range(n_features)]\n",
    "\n",
    "        for i in range(n_features):\n",
    "            le = self._label_encoders_[i]\n",
    "            Xi = X[:, i]\n",
    "            if self.categories == 'auto':\n",
    "                le.fit(Xi)\n",
    "            else:\n",
    "                valid_mask = np.in1d(Xi, self.categories[i])\n",
    "                if not np.all(valid_mask):\n",
    "                    if self.handle_unknown == 'error':\n",
    "                        diff = np.unique(Xi[~valid_mask])\n",
    "                        msg = (\"Found unknown categories {0} in column {1}\"\n",
    "                               \" during fit\".format(diff, i))\n",
    "                        raise ValueError(msg)\n",
    "                le.classes_ = np.array(np.sort(self.categories[i]))\n",
    "\n",
    "        self.categories_ = [le.classes_ for le in self._label_encoders_]\n",
    "\n",
    "        return self\n",
    "\n",
    "    def transform(self, X):\n",
    "        \"\"\"Transform X using one-hot encoding.\n",
    "        Parameters\n",
    "        ----------\n",
    "        X : array-like, shape [n_samples, n_features]\n",
    "            The data to encode.\n",
    "        Returns\n",
    "        -------\n",
    "        X_out : sparse matrix or a 2-d array\n",
    "            Transformed input.\n",
    "        \"\"\"\n",
    "        X = check_array(X, accept_sparse='csc', dtype=np.object, copy=True)\n",
    "        n_samples, n_features = X.shape\n",
    "        X_int = np.zeros_like(X, dtype=np.int)\n",
    "        X_mask = np.ones_like(X, dtype=np.bool)\n",
    "\n",
    "        for i in range(n_features):\n",
    "            valid_mask = np.in1d(X[:, i], self.categories_[i])\n",
    "\n",
    "            if not np.all(valid_mask):\n",
    "                if self.handle_unknown == 'error':\n",
    "                    diff = np.unique(X[~valid_mask, i])\n",
    "                    msg = (\"Found unknown categories {0} in column {1}\"\n",
    "                           \" during transform\".format(diff, i))\n",
    "                    raise ValueError(msg)\n",
    "                else:\n",
    "                    # Set the problematic rows to an acceptable value and\n",
    "                    # continue `The rows are marked `X_mask` and will be\n",
    "                    # removed later.\n",
    "                    X_mask[:, i] = valid_mask\n",
    "                    X[:, i][~valid_mask] = self.categories_[i][0]\n",
    "            X_int[:, i] = self._label_encoders_[i].transform(X[:, i])\n",
    "\n",
    "        if self.encoding == 'ordinal':\n",
    "            return X_int.astype(self.dtype, copy=False)\n",
    "\n",
    "        mask = X_mask.ravel()\n",
    "        n_values = [cats.shape[0] for cats in self.categories_]\n",
    "        n_values = np.array([0] + n_values)\n",
    "        indices = np.cumsum(n_values)\n",
    "\n",
    "        column_indices = (X_int + indices[:-1]).ravel()[mask]\n",
    "        row_indices = np.repeat(np.arange(n_samples, dtype=np.int32),\n",
    "                                n_features)[mask]\n",
    "        data = np.ones(n_samples * n_features)[mask]\n",
    "\n",
    "        out = sparse.csc_matrix((data, (row_indices, column_indices)),\n",
    "                                shape=(n_samples, indices[-1]),\n",
    "                                dtype=self.dtype).tocsr()\n",
    "        if self.encoding == 'onehot-dense':\n",
    "            return out.toarray()\n",
    "        else:\n",
    "            return out"
   ]
  },
  {
   "cell_type": "code",
   "execution_count": 59,
   "metadata": {
    "collapsed": true
   },
   "outputs": [],
   "source": [
    "# importing necessary transformation modules \n",
    "from sklearn.pipeline import Pipeline\n",
    "from sklearn.pipeline import FeatureUnion\n",
    "from sklearn.preprocessing import StandardScaler\n",
    "#from sklearn.preprocessing import CategoricalEncoder # coming in Scikit-Learn 2.0\n",
    "#from sklearn.preprocessing import Imputer\n",
    "\n",
    "#setting up the pipeline for numerical variables\n",
    "num_pipeline = Pipeline([('selector', DataFrameSelector(num_attribs)), ('std_scaler', StandardScaler()),])\n",
    "#('imputer', Imputer(strategy=\"median\")),\n",
    "                        \n",
    "\n",
    "#setting up the pipeline for categorical variables\n",
    "cat_pipeline = Pipeline([('selector', DataFrameSelector(cat_attribs)), \n",
    "                         ('cat_encoder', CategoricalEncoder(encoding=\"onehot-dense\")),])\n",
    "\n",
    "#combining both numerical and categorical pipelines\n",
    "full_pipeline = FeatureUnion(transformer_list = [(\"num_pipeline\", num_pipeline),\n",
    "                                                 (\"cat_pipeline\", cat_pipeline),])"
   ]
  },
  {
   "cell_type": "code",
   "execution_count": 60,
   "metadata": {},
   "outputs": [
    {
     "data": {
      "text/plain": [
       "array([[-0.66888857, -0.74431656, -0.78120054, ...,  1.        ,\n",
       "         0.        ,  0.        ],\n",
       "       [-0.35261435, -0.09921623, -0.01082106, ...,  0.        ,\n",
       "         0.        ,  1.        ],\n",
       "       [ 0.65946317,  0.37473503,  1.42969932, ...,  1.        ,\n",
       "         0.        ,  0.        ],\n",
       "       ..., \n",
       "       [-0.51075146, -0.69165531, -0.75948714, ...,  0.        ,\n",
       "         0.        ,  1.        ],\n",
       "       [-0.22610466, -0.48759296, -0.6485406 , ...,  0.        ,\n",
       "         0.        ,  1.        ],\n",
       "       [ 4.77102811,  3.06045885,  3.97284392, ...,  0.        ,\n",
       "         0.        ,  1.        ]])"
      ]
     },
     "execution_count": 60,
     "metadata": {},
     "output_type": "execute_result"
    }
   ],
   "source": [
    "#fitting the full pipeline to the training set\n",
    "train_set_tr = full_pipeline.fit_transform(X_train)\n",
    "train_set_tr"
   ]
  },
  {
   "cell_type": "code",
   "execution_count": 61,
   "metadata": {},
   "outputs": [
    {
     "data": {
      "text/plain": [
       "(1894927, 16)"
      ]
     },
     "execution_count": 61,
     "metadata": {},
     "output_type": "execute_result"
    }
   ],
   "source": [
    "#shape of transformed trained set\n",
    "train_set_tr.shape"
   ]
  },
  {
   "cell_type": "code",
   "execution_count": 62,
   "metadata": {},
   "outputs": [
    {
     "data": {
      "text/plain": [
       "array([[ 0.4040077 ,  0.77604765,  1.39621663, ...,  0.        ,\n",
       "         0.        ,  1.        ],\n",
       "       [ 0.18349305,  1.72997988,  0.89514158, ...,  0.        ,\n",
       "         0.        ,  1.        ],\n",
       "       [-0.54105506, -0.53972095, -0.53739249, ...,  0.        ,\n",
       "         0.        ,  1.        ],\n",
       "       ..., \n",
       "       [-0.57255716, -0.3489345 , -0.53650143, ...,  0.        ,\n",
       "         0.        ,  1.        ],\n",
       "       [-0.0055195 , -0.0726231 ,  0.13996474, ...,  0.        ,\n",
       "         0.        ,  1.        ],\n",
       "       [-0.57255716, -0.50024789, -0.26116262, ...,  0.        ,\n",
       "         0.        ,  1.        ]])"
      ]
     },
     "execution_count": 62,
     "metadata": {},
     "output_type": "execute_result"
    }
   ],
   "source": [
    "#fitting the full pipeline to the test set\n",
    "test_set_tr = full_pipeline.fit_transform(X_test)\n",
    "test_set_tr"
   ]
  },
  {
   "cell_type": "code",
   "execution_count": 63,
   "metadata": {},
   "outputs": [
    {
     "data": {
      "text/plain": [
       "(1263286, 16)"
      ]
     },
     "execution_count": 63,
     "metadata": {},
     "output_type": "execute_result"
    }
   ],
   "source": [
    "#shape of transformed test set\n",
    "test_set_tr.shape"
   ]
  },
  {
   "cell_type": "code",
   "execution_count": null,
   "metadata": {
    "collapsed": true
   },
   "outputs": [],
   "source": []
  },
  {
   "cell_type": "markdown",
   "metadata": {},
   "source": [
    "### Building and selecting the machine learning model"
   ]
  },
  {
   "cell_type": "markdown",
   "metadata": {},
   "source": [
    "We are using the mean square error (MSE) to measure the accuracy amongst models. The MSE of an estimator measures the average of the squares of the errors or deviations- that is, the difference between the estimator and what is being estimated. So, a lower value is better."
   ]
  },
  {
   "cell_type": "code",
   "execution_count": 64,
   "metadata": {},
   "outputs": [
    {
     "data": {
      "text/plain": [
       "GradientBoostingRegressor(alpha=0.9, criterion='friedman_mse', init=None,\n",
       "             learning_rate=0.1, loss='ls', max_depth=3, max_features=None,\n",
       "             max_leaf_nodes=None, min_impurity_decrease=0.0,\n",
       "             min_impurity_split=None, min_samples_leaf=1,\n",
       "             min_samples_split=2, min_weight_fraction_leaf=0.0,\n",
       "             n_estimators=100, presort='auto', random_state=None,\n",
       "             subsample=1.0, verbose=0, warm_start=False)"
      ]
     },
     "execution_count": 64,
     "metadata": {},
     "output_type": "execute_result"
    }
   ],
   "source": [
    "#importing, instantiating and fitting the GBT\n",
    "from sklearn.ensemble import GradientBoostingRegressor\n",
    "gbt = GradientBoostingRegressor()\n",
    "gbt.fit(train_set_tr, y_train)"
   ]
  },
  {
   "cell_type": "code",
   "execution_count": 65,
   "metadata": {},
   "outputs": [
    {
     "data": {
      "text/plain": [
       "292.37774728399791"
      ]
     },
     "execution_count": 65,
     "metadata": {},
     "output_type": "execute_result"
    }
   ],
   "source": [
    "#computing the MSE\n",
    "from sklearn.metrics import mean_squared_error\n",
    "gbt_pay_pred = gbt.predict(train_set_tr)\n",
    "gbt_mse = mean_squared_error(y_train, gbt_pay_pred)\n",
    "gbt_rmse = np.sqrt(gbt_mse)\n",
    "gbt_rmse"
   ]
  },
  {
   "cell_type": "code",
   "execution_count": null,
   "metadata": {
    "collapsed": true
   },
   "outputs": [],
   "source": []
  },
  {
   "cell_type": "code",
   "execution_count": 66,
   "metadata": {},
   "outputs": [
    {
     "data": {
      "text/plain": [
       "RandomForestRegressor(bootstrap=True, criterion='mse', max_depth=None,\n",
       "           max_features='auto', max_leaf_nodes=None,\n",
       "           min_impurity_decrease=0.0, min_impurity_split=None,\n",
       "           min_samples_leaf=1, min_samples_split=2,\n",
       "           min_weight_fraction_leaf=0.0, n_estimators=10, n_jobs=1,\n",
       "           oob_score=False, random_state=None, verbose=0, warm_start=False)"
      ]
     },
     "execution_count": 66,
     "metadata": {},
     "output_type": "execute_result"
    }
   ],
   "source": [
    "#importing, instantiating and fitting the RF\n",
    "from sklearn.ensemble import RandomForestRegressor\n",
    "rf = RandomForestRegressor()\n",
    "rf.fit(train_set_tr, y_train)"
   ]
  },
  {
   "cell_type": "code",
   "execution_count": 67,
   "metadata": {},
   "outputs": [
    {
     "data": {
      "text/plain": [
       "292.37774728399791"
      ]
     },
     "execution_count": 67,
     "metadata": {},
     "output_type": "execute_result"
    }
   ],
   "source": [
    "#computing the MSE\n",
    "rf_pay_pred = rf.predict(train_set_tr)\n",
    "rf_mse = mean_squared_error(y_train, rf_pay_pred)\n",
    "rf_rmse = np.sqrt(gbt_mse)\n",
    "rf_rmse"
   ]
  },
  {
   "cell_type": "code",
   "execution_count": null,
   "metadata": {
    "collapsed": true
   },
   "outputs": [],
   "source": []
  },
  {
   "cell_type": "code",
   "execution_count": 68,
   "metadata": {},
   "outputs": [
    {
     "data": {
      "text/plain": [
       "LinearRegression(copy_X=True, fit_intercept=True, n_jobs=1, normalize=False)"
      ]
     },
     "execution_count": 68,
     "metadata": {},
     "output_type": "execute_result"
    }
   ],
   "source": [
    "#importing, instantiating and fitting the LR\n",
    "from sklearn.linear_model import LinearRegression\n",
    "lr = LinearRegression()\n",
    "lr.fit(train_set_tr, y_train)"
   ]
  },
  {
   "cell_type": "code",
   "execution_count": 69,
   "metadata": {},
   "outputs": [
    {
     "data": {
      "text/plain": [
       "292.37774728399791"
      ]
     },
     "execution_count": 69,
     "metadata": {},
     "output_type": "execute_result"
    }
   ],
   "source": [
    "#computing the MSE\n",
    "lr_pay_pred = rf.predict(train_set_tr)\n",
    "lr_mse = mean_squared_error(y_train, lr_pay_pred)\n",
    "lr_rmse = np.sqrt(gbt_mse)\n",
    "lr_rmse"
   ]
  },
  {
   "cell_type": "markdown",
   "metadata": {
    "collapsed": true
   },
   "source": [
    "The results above could be questionable because we got same result for all three regressors. So, let us cross-validate to ensure\n",
    "we are not overfitting the training dataset."
   ]
  },
  {
   "cell_type": "code",
   "execution_count": null,
   "metadata": {
    "collapsed": true
   },
   "outputs": [],
   "source": []
  },
  {
   "cell_type": "markdown",
   "metadata": {},
   "source": [
    "### Model Evaluation using Cross-Validation"
   ]
  },
  {
   "cell_type": "markdown",
   "metadata": {},
   "source": [
    "The Scikit-Learn cross-validation features was used here, which expects a utility function (greater is better) rather than a cost function (lower is better), so the scoring function is opposite of the MSE (i.e., a negative value), which is why i computed the negative of the scores (-scores) before calculating the square root."
   ]
  },
  {
   "cell_type": "code",
   "execution_count": 70,
   "metadata": {
    "collapsed": true
   },
   "outputs": [],
   "source": [
    "#cross-validating the RF with it's MSE\n",
    "from sklearn.model_selection import cross_val_score\n",
    "gbt_scores = cross_val_score(gbt, train_set_tr, y_train, scoring=\"neg_mean_squared_error\", cv=10)\n",
    "gbt_rmse_scores = np.sqrt(-gbt_scores)"
   ]
  },
  {
   "cell_type": "code",
   "execution_count": 71,
   "metadata": {
    "collapsed": true
   },
   "outputs": [],
   "source": [
    "#function used to display 10 cross-validated scores, their mean and std \n",
    "def display_scores(scores):\n",
    "    print(\"Scores:\", scores)\n",
    "    print(\"Mean:\", scores.mean())\n",
    "    print(\"Standard deviation:\", scores.std())"
   ]
  },
  {
   "cell_type": "code",
   "execution_count": 72,
   "metadata": {},
   "outputs": [
    {
     "name": "stdout",
     "output_type": "stream",
     "text": [
      "Scores: [ 248.39903957  299.75515144  281.0365137   261.87979577  306.12932282\n",
      "  261.86380583  263.30274569  277.40075288  399.2773004   298.18660304]\n",
      "Mean: 289.723103114\n",
      "Standard deviation: 40.7773955615\n"
     ]
    }
   ],
   "source": [
    "display_scores(gbt_rmse_scores)"
   ]
  },
  {
   "cell_type": "code",
   "execution_count": null,
   "metadata": {
    "collapsed": true
   },
   "outputs": [],
   "source": []
  },
  {
   "cell_type": "code",
   "execution_count": 73,
   "metadata": {
    "collapsed": true
   },
   "outputs": [],
   "source": [
    "#cross-validating the RF with it's MSE\n",
    "rf_scores = cross_val_score(rf, train_set_tr, y_train, scoring=\"neg_mean_squared_error\", cv=10)\n",
    "rf_rmse_scores = np.sqrt(-rf_scores)"
   ]
  },
  {
   "cell_type": "code",
   "execution_count": 74,
   "metadata": {},
   "outputs": [
    {
     "name": "stdout",
     "output_type": "stream",
     "text": [
      "Scores: [ 239.48734185  266.07438753  303.76806139  246.44890497  264.15561655\n",
      "  251.71213312  250.93928676  268.63931673  348.70225095  282.97635827]\n",
      "Mean: 272.290365811\n",
      "Standard deviation: 31.1209035077\n"
     ]
    }
   ],
   "source": [
    "display_scores(rf_rmse_scores)"
   ]
  },
  {
   "cell_type": "code",
   "execution_count": null,
   "metadata": {
    "collapsed": true
   },
   "outputs": [],
   "source": []
  },
  {
   "cell_type": "code",
   "execution_count": 75,
   "metadata": {
    "collapsed": true
   },
   "outputs": [],
   "source": [
    "#cross-validating the LR with it's MSE\n",
    "lr_scores = cross_val_score(lr, train_set_tr, y_train, scoring=\"neg_mean_squared_error\", cv=10)\n",
    "lr_rmse_scores = np.sqrt(-lr_scores)"
   ]
  },
  {
   "cell_type": "code",
   "execution_count": 76,
   "metadata": {},
   "outputs": [
    {
     "name": "stdout",
     "output_type": "stream",
     "text": [
      "Scores: [ 249.08102223  300.27499344  281.46366817  262.39051811  306.65761292\n",
      "  262.42014559  263.89530661  277.98325458  399.73719404  298.69524003]\n",
      "Mean: 290.259895572\n",
      "Standard deviation: 40.738502434\n"
     ]
    }
   ],
   "source": [
    "display_scores(lr_rmse_scores)"
   ]
  },
  {
   "cell_type": "markdown",
   "metadata": {
    "collapsed": true
   },
   "source": [
    "The results above shows the Random Forest algorithm is the winner, outperforming the other two with lower values and tighter spread. So, we are going with that."
   ]
  },
  {
   "cell_type": "code",
   "execution_count": null,
   "metadata": {
    "collapsed": true
   },
   "outputs": [],
   "source": []
  },
  {
   "cell_type": "markdown",
   "metadata": {},
   "source": [
    "### Fine tuning the best model"
   ]
  },
  {
   "cell_type": "markdown",
   "metadata": {},
   "source": [
    "Here i am using GridSearchCV to search for the most important hyperparameters for the selected model that had lowest MSE score, which in our case is Random Foest.  "
   ]
  },
  {
   "cell_type": "code",
   "execution_count": 77,
   "metadata": {
    "collapsed": true
   },
   "outputs": [],
   "source": [
    "from sklearn.model_selection import GridSearchCV"
   ]
  },
  {
   "cell_type": "code",
   "execution_count": 78,
   "metadata": {
    "collapsed": true
   },
   "outputs": [],
   "source": [
    "param_grid = [{'n_estimators':[5, 10, 15], 'max_features': [2,4,6,8]}, \n",
    "             {'bootstrap': [False], 'n_estimators': [5, 10], 'max_features': [2,3,4]}]"
   ]
  },
  {
   "cell_type": "code",
   "execution_count": 79,
   "metadata": {
    "collapsed": true
   },
   "outputs": [],
   "source": [
    "rf = RandomForestRegressor()"
   ]
  },
  {
   "cell_type": "code",
   "execution_count": 80,
   "metadata": {
    "collapsed": true
   },
   "outputs": [],
   "source": [
    "grid_search = GridSearchCV(rf, param_grid, cv=5, scoring='neg_mean_squared_error')"
   ]
  },
  {
   "cell_type": "code",
   "execution_count": 81,
   "metadata": {},
   "outputs": [
    {
     "data": {
      "text/plain": [
       "GridSearchCV(cv=5, error_score='raise',\n",
       "       estimator=RandomForestRegressor(bootstrap=True, criterion='mse', max_depth=None,\n",
       "           max_features='auto', max_leaf_nodes=None,\n",
       "           min_impurity_decrease=0.0, min_impurity_split=None,\n",
       "           min_samples_leaf=1, min_samples_split=2,\n",
       "           min_weight_fraction_leaf=0.0, n_estimators=10, n_jobs=1,\n",
       "           oob_score=False, random_state=None, verbose=0, warm_start=False),\n",
       "       fit_params=None, iid=True, n_jobs=1,\n",
       "       param_grid=[{'n_estimators': [5, 10, 15], 'max_features': [2, 4, 6, 8]}, {'bootstrap': [False], 'n_estimators': [5, 10], 'max_features': [2, 3, 4]}],\n",
       "       pre_dispatch='2*n_jobs', refit=True, return_train_score='warn',\n",
       "       scoring='neg_mean_squared_error', verbose=0)"
      ]
     },
     "execution_count": 81,
     "metadata": {},
     "output_type": "execute_result"
    }
   ],
   "source": [
    "grid_search.fit(train_set_tr, y_train)"
   ]
  },
  {
   "cell_type": "code",
   "execution_count": 82,
   "metadata": {},
   "outputs": [
    {
     "name": "stdout",
     "output_type": "stream",
     "text": [
      "278.769638844 {'max_features': 2, 'n_estimators': 5}\n",
      "279.186316919 {'max_features': 2, 'n_estimators': 10}\n",
      "276.833459052 {'max_features': 2, 'n_estimators': 15}\n",
      "281.606370243 {'max_features': 4, 'n_estimators': 5}\n",
      "277.138465447 {'max_features': 4, 'n_estimators': 10}\n",
      "277.022934077 {'max_features': 4, 'n_estimators': 15}\n",
      "278.717504472 {'max_features': 6, 'n_estimators': 5}\n",
      "278.337406962 {'max_features': 6, 'n_estimators': 10}\n",
      "279.857463115 {'max_features': 6, 'n_estimators': 15}\n",
      "279.764319378 {'max_features': 8, 'n_estimators': 5}\n",
      "276.769228955 {'max_features': 8, 'n_estimators': 10}\n",
      "278.366121876 {'max_features': 8, 'n_estimators': 15}\n",
      "286.80270496 {'bootstrap': False, 'max_features': 2, 'n_estimators': 5}\n",
      "284.92148517 {'bootstrap': False, 'max_features': 2, 'n_estimators': 10}\n",
      "285.263632164 {'bootstrap': False, 'max_features': 3, 'n_estimators': 5}\n",
      "284.908247405 {'bootstrap': False, 'max_features': 3, 'n_estimators': 10}\n",
      "286.235926558 {'bootstrap': False, 'max_features': 4, 'n_estimators': 5}\n",
      "285.073618721 {'bootstrap': False, 'max_features': 4, 'n_estimators': 10}\n"
     ]
    }
   ],
   "source": [
    "cvres = grid_search.cv_results_\n",
    "for mean_score, params in zip(cvres[\"mean_test_score\"], cvres[\"params\"]):\n",
    "    print(np.sqrt(-mean_score), params)"
   ]
  },
  {
   "cell_type": "code",
   "execution_count": 83,
   "metadata": {},
   "outputs": [
    {
     "data": {
      "text/plain": [
       "{'max_features': 8, 'n_estimators': 10}"
      ]
     },
     "execution_count": 83,
     "metadata": {},
     "output_type": "execute_result"
    }
   ],
   "source": [
    "grid_search.best_params_"
   ]
  },
  {
   "cell_type": "code",
   "execution_count": null,
   "metadata": {
    "collapsed": true
   },
   "outputs": [],
   "source": []
  },
  {
   "cell_type": "markdown",
   "metadata": {},
   "source": [
    "*** Analyzing the best model and its errors***"
   ]
  },
  {
   "cell_type": "code",
   "execution_count": 147,
   "metadata": {
    "collapsed": true
   },
   "outputs": [],
   "source": [
    "features_importances = grid_search.best_estimator_.feature_importances_"
   ]
  },
  {
   "cell_type": "code",
   "execution_count": 148,
   "metadata": {},
   "outputs": [
    {
     "data": {
      "text/plain": [
       "array([  1.14639225e-01,   1.70505750e-01,   2.88717811e-01,\n",
       "         3.91498404e-01,   1.54656772e-04,   7.24136945e-03,\n",
       "         7.73976818e-03,   1.56738294e-03,   2.94574550e-03,\n",
       "         1.31535195e-02,   5.16998097e-08,   1.32489688e-04,\n",
       "         1.47113495e-04,   6.01644406e-04,   1.12845330e-04,\n",
       "         8.42223771e-04])"
      ]
     },
     "execution_count": 148,
     "metadata": {},
     "output_type": "execute_result"
    }
   ],
   "source": [
    "features_importances"
   ]
  },
  {
   "cell_type": "markdown",
   "metadata": {
    "collapsed": true
   },
   "source": [
    "Let's display these importance scores next to their corresponding attributes"
   ]
  },
  {
   "cell_type": "code",
   "execution_count": 149,
   "metadata": {
    "collapsed": true
   },
   "outputs": [],
   "source": [
    "cat_encoder = cat_pipeline.named_steps['cat_encoder']\n",
    "cat_one_hot_attribs = list(cat_encoder.categories_[0])\n",
    "attributes = num_attribs + cat_one_hot_attribs"
   ]
  },
  {
   "cell_type": "code",
   "execution_count": 174,
   "metadata": {},
   "outputs": [
    {
     "data": {
      "text/plain": [
       "[(0.39149840381059342, 'total_drug_cost'),\n",
       " (0.28871781108074251, 'total_day_supply'),\n",
       " (0.17050574957727693, 'total_claim_count'),\n",
       " (0.11463922485071887, 'bene_count'),\n",
       " (0.013153519455514646, 'W'),\n",
       " (0.007739768175049247, 'NE'),\n",
       " (0.007241369450545816, 'MW'),\n",
       " (0.0029457455014294904, 'S'),\n",
       " (0.0015673829352763548, 'O'),\n",
       " (0.00015465677240344316, 'Number_of_Payments_Included_in_Total_Amount')]"
      ]
     },
     "execution_count": 174,
     "metadata": {},
     "output_type": "execute_result"
    }
   ],
   "source": [
    "sorted(zip(features_importances, attributes), reverse=True)"
   ]
  },
  {
   "cell_type": "code",
   "execution_count": 175,
   "metadata": {
    "collapsed": true
   },
   "outputs": [],
   "source": [
    "feature_imprt_list=[]\n",
    "features_list = []\n",
    "for feature_imprt, feature in sorted(zip(features_importances, attributes), reverse=True):\n",
    "    feature_imprt_list.append(feature_imprt)\n",
    "    features_list.append(feature)\n",
    "    "
   ]
  },
  {
   "cell_type": "code",
   "execution_count": 183,
   "metadata": {
    "collapsed": true
   },
   "outputs": [],
   "source": [
    "feature_df = pd.DataFrame({'feature_name': features_list,'feature_imprt': feature_imprt_list})\n",
    "#feature_df"
   ]
  },
  {
   "cell_type": "code",
   "execution_count": 182,
   "metadata": {},
   "outputs": [
    {
     "data": {
      "image/png": "[encoded data removed]",
      "text/plain": [
       "<matplotlib.figure.Figure at 0x7f295b5a13c8>"
      ]
     },
     "metadata": {},
     "output_type": "display_data"
    }
   ],
   "source": [
    "ax = feature_df.plot(x='feature_name', y='feature_imprt', kind='bar', figsize=(30, 20), color='rgbyk', \n",
    "                     title= 'Feature Importance for Predicting Total_Amount_of_Payment (US$)', rot=0)\n",
    "ax.set_xlabel(\"feature name\")\n",
    "ax.set_ylabel(\"feature name\")\n",
    "plt.show()"
   ]
  },
  {
   "cell_type": "code",
   "execution_count": null,
   "metadata": {
    "collapsed": true
   },
   "outputs": [],
   "source": []
  },
  {
   "cell_type": "markdown",
   "metadata": {
    "collapsed": true
   },
   "source": [
    "***Evaluating the system on the Test Set***"
   ]
  },
  {
   "cell_type": "code",
   "execution_count": 88,
   "metadata": {
    "collapsed": true
   },
   "outputs": [],
   "source": [
    "final_model = grid_search.best_estimator_"
   ]
  },
  {
   "cell_type": "code",
   "execution_count": 89,
   "metadata": {
    "collapsed": true
   },
   "outputs": [],
   "source": [
    "#already defined. make a copy of the y_test\n",
    "##creating predictors and target variables for the test set\n",
    "#X_test = test_set.copy().drop(['Total_Amount_of_Payment_USDollars'], axis=1)\n",
    "y_test = test_set.copy()['Total_Amount_of_Payment_USDollars']\n",
    "y_test.copy = y_test.copy()"
   ]
  },
  {
   "cell_type": "code",
   "execution_count": 90,
   "metadata": {
    "collapsed": true
   },
   "outputs": [],
   "source": [
    "X_test_prepared = full_pipeline.transform(X_test)"
   ]
  },
  {
   "cell_type": "code",
   "execution_count": 91,
   "metadata": {
    "collapsed": true
   },
   "outputs": [],
   "source": [
    "final_predictions = final_model.predict(X_test_prepared)"
   ]
  },
  {
   "cell_type": "code",
   "execution_count": 92,
   "metadata": {
    "collapsed": true
   },
   "outputs": [],
   "source": [
    "final_mse = mean_squared_error(y_test.copy, final_predictions)"
   ]
  },
  {
   "cell_type": "code",
   "execution_count": 95,
   "metadata": {},
   "outputs": [
    {
     "data": {
      "text/plain": [
       "288.54349617262477"
      ]
     },
     "execution_count": 95,
     "metadata": {},
     "output_type": "execute_result"
    }
   ],
   "source": [
    "final_rmse = np.sqrt(final_mse)\n",
    "final_rmse"
   ]
  },
  {
   "cell_type": "code",
   "execution_count": null,
   "metadata": {
    "collapsed": true
   },
   "outputs": [],
   "source": []
  },
  {
   "cell_type": "code",
   "execution_count": null,
   "metadata": {
    "collapsed": true
   },
   "outputs": [],
   "source": []
  },
  {
   "cell_type": "code",
   "execution_count": null,
   "metadata": {
    "collapsed": true
   },
   "outputs": [],
   "source": []
  },
  {
   "cell_type": "code",
   "execution_count": null,
   "metadata": {
    "collapsed": true
   },
   "outputs": [],
   "source": []
  }
 ],
 "metadata": {
  "kernelspec": {
   "display_name": "Python 3",
   "language": "python",
   "name": "python3"
  },
  "language_info": {
   "codemirror_mode": {
    "name": "ipython",
    "version": 3
   },
   "file_extension": ".py",
   "mimetype": "text/x-python",
   "name": "python",
   "nbconvert_exporter": "python",
   "pygments_lexer": "ipython3",
   "version": "3.6.2"
  }
 },
 "nbformat": 4,
 "nbformat_minor": 1
}
