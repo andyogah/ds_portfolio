{
 "cells": [
  {
   "cell_type": "code",
   "execution_count": 1,
   "metadata": {
    "collapsed": true
   },
   "outputs": [],
   "source": [
    "import numpy as np\n",
    "from kmodes.kprototypes import KPrototypes\n",
    "import matplotlib.pyplot as plt\n",
    "from matplotlib import style\n",
    "style.use(\"ggplot\")\n",
    "colors = ['b', 'orange', 'g', 'r', 'c', 'm', 'y', 'k', 'Brown', 'ForestGreen']"
   ]
  },
  {
   "cell_type": "code",
   "execution_count": 3,
   "metadata": {
    "collapsed": true
   },
   "outputs": [],
   "source": [
    "#Data points with their publisher name,category score, category name, place name\n",
    "syms = np.genfromtxt('test.csv', dtype=str, delimiter=',')[:, 1]\n",
    "X = np.genfromtxt('test.csv', dtype=object, delimiter=',')[:, 2:]\n",
    "X[:, 0] = X[:, 0].astype(float)"
   ]
  },
  {
   "cell_type": "code",
   "execution_count": 4,
   "metadata": {},
   "outputs": [
    {
     "data": {
      "text/plain": [
       "array(['Ransika Fernando', 'Ransika Fernando', 'Ransika Fernando',\n",
       "       'Sachini Jagodaarachchi', 'Chathuri Senanayake',\n",
       "       'Chathuri Senanayake', 'Chathuri Senanayake', 'Chathuri Senanayake',\n",
       "       'Chathuri Senanayake', 'Chathuri Senanayake',\n",
       "       'Nilantha Premakumara', 'Nilantha Premakumara',\n",
       "       'Chathuri Senanayake', 'Chathuri Senanayake', 'Surangani Bandara',\n",
       "       'Hasitha Lakmal', 'Hasitha Lakmal', 'Pradeep Kalansooriya',\n",
       "       'Pradeep Kalansooriya', 'Dilini Wijesinghe', 'Dilini Wijesinghe',\n",
       "       'Chiranthi Vinghghani', 'Chiranthi Vinghghani',\n",
       "       'Janindu Praneeth Weerawarnakula', 'Chathurangi Shyalika',\n",
       "       'Chathurangi Shyalika', 'Surangani Bandara', 'Surangani Bandara',\n",
       "       'Surangani Bandara', 'Chathurangi Shyalika', 'Chathurangi Shyalika'],\n",
       "      dtype='<U31')"
      ]
     },
     "execution_count": 4,
     "metadata": {},
     "output_type": "execute_result"
    }
   ],
   "source": [
    "syms"
   ]
  },
  {
   "cell_type": "code",
   "execution_count": 5,
   "metadata": {},
   "outputs": [
    {
     "data": {
      "text/plain": [
       "array([[0.59375, b'plant', b'No Data'],\n",
       "       [0.04296875, b'outdoor_', b'No Data'],\n",
       "       [0.26953125, b'outdoor_road', b'No Data'],\n",
       "       [0.98046875, b'outdoor_mountain', b'Manigala Mountain'],\n",
       "       [0.96484375, b'outdoor_mountain', b'Adara Kanda'],\n",
       "       [0.1953125, b'building_', b'No Data'],\n",
       "       [0.00390625, b'outdoor_', b'No Data'],\n",
       "       [0.23046875, b'building_', b'Kuwait'],\n",
       "       [0.2578125, b'building_street', b'Kuwait'],\n",
       "       [0.015625, b'outdoor_', b'Kuwait'],\n",
       "       [0.9453125, b'sky_sun', b'No Data'],\n",
       "       [0.75, b'outdoor_mountain', b'No Data'],\n",
       "       [0.00390625, b'outdoor_', b'Trincomalee'],\n",
       "       [0.6328125, b'outdoor_oceanbeach', b'Trincomalee'],\n",
       "       [0.7734375, b'plant_tree', b'No Data'],\n",
       "       [0.4140625, b'people_many', b'No Data'],\n",
       "       [0.0078125, b'outdoor_', b'No Data'],\n",
       "       [0.40234375, b'building_', b'No Data'],\n",
       "       [0.0078125, b'outdoor_', b'No Data'],\n",
       "       [0.07421875, b'outdoor_', b'Victoria Dam'],\n",
       "       [0.0078125, b'others_', b'Victoria Dam'],\n",
       "       [0.015625, b'outdoor_', b'No Data'],\n",
       "       [0.6484375, b'outdoor_waterside', b'No Data'],\n",
       "       [0.671875, b'outdoor_oceanbeach', b'Galle Fort'],\n",
       "       [0.00390625, b'outdoor_', b'No Data'],\n",
       "       [0.9296875, b'trans_trainstation', b'No Data'],\n",
       "       [0.625, b'outdoor_field', b'No Data'],\n",
       "       [0.01171875, b'outdoor_', b'No Data'],\n",
       "       [0.99609375, b'sky_object', b'No Data'],\n",
       "       [0.00390625, b'outdoor_', b'No Data'],\n",
       "       [0.33984375, b'outdoor_field', b'No Data']], dtype=object)"
      ]
     },
     "execution_count": 5,
     "metadata": {},
     "output_type": "execute_result"
    }
   ],
   "source": [
    "X"
   ]
  },
  {
   "cell_type": "code",
   "execution_count": 35,
   "metadata": {},
   "outputs": [
    {
     "data": {
      "text/plain": [
       "array([0.59375, b'plant', b'No Data'], dtype=object)"
      ]
     },
     "execution_count": 35,
     "metadata": {},
     "output_type": "execute_result"
    }
   ],
   "source": [
    "X[0]"
   ]
  },
  {
   "cell_type": "code",
   "execution_count": null,
   "metadata": {
    "collapsed": true
   },
   "outputs": [],
   "source": []
  },
  {
   "cell_type": "code",
   "execution_count": null,
   "metadata": {
    "collapsed": true
   },
   "outputs": [],
   "source": []
  },
  {
   "cell_type": "code",
   "execution_count": 25,
   "metadata": {},
   "outputs": [
    {
     "name": "stdout",
     "output_type": "stream",
     "text": [
      "Initialization method and algorithm are deterministic. Setting n_init to 1.\n",
      "Init: initializing centroids\n",
      "Init: initializing clusters\n",
      "Starting iterations...\n",
      "Run: 1, iteration: 1/100, moves: 6, ncost: 4.771357255838784\n",
      "Run: 1, iteration: 2/100, moves: 2, ncost: 4.746405338670548\n",
      "Run: 1, iteration: 3/100, moves: 0, ncost: 4.746405338670548\n"
     ]
    }
   ],
   "source": [
    "kproto = KPrototypes(n_clusters=3, init='Cao', verbose=2)\n",
    "clusters = kproto.fit_predict(X, categorical=[1, 2])"
   ]
  },
  {
   "cell_type": "code",
   "execution_count": null,
   "metadata": {
    "collapsed": true
   },
   "outputs": [],
   "source": []
  },
  {
   "cell_type": "code",
   "execution_count": 26,
   "metadata": {},
   "outputs": [
    {
     "name": "stdout",
     "output_type": "stream",
     "text": [
      "[array([[ 0.01660156],\n",
      "       [ 0.44010417],\n",
      "       [ 0.90569196]]), array([[b'outdoor_', b'No Data'],\n",
      "       [b'building_', b'No Data'],\n",
      "       [b'outdoor_mountain', b'No Data']],\n",
      "      dtype='|S16')]\n",
      "4.74640533867\n",
      "3\n"
     ]
    }
   ],
   "source": [
    "# Print cluster centroids of the trained model.\n",
    "print(kproto.cluster_centroids_)\n",
    "# Print training statistics\n",
    "print(kproto.cost_)\n",
    "print(kproto.n_iter_)"
   ]
  },
  {
   "cell_type": "code",
   "execution_count": 27,
   "metadata": {},
   "outputs": [
    {
     "name": "stdout",
     "output_type": "stream",
     "text": [
      "Result: Ransika Fernando, cluster:1\n",
      "Result: Ransika Fernando, cluster:0\n",
      "Result: Ransika Fernando, cluster:1\n",
      "Result: Sachini Jagodaarachchi, cluster:2\n",
      "Result: Chathuri Senanayake, cluster:2\n",
      "Result: Chathuri Senanayake, cluster:1\n",
      "Result: Chathuri Senanayake, cluster:0\n",
      "Result: Chathuri Senanayake, cluster:1\n",
      "Result: Chathuri Senanayake, cluster:1\n",
      "Result: Chathuri Senanayake, cluster:0\n",
      "Result: Nilantha Premakumara, cluster:2\n",
      "Result: Nilantha Premakumara, cluster:2\n",
      "Result: Chathuri Senanayake, cluster:0\n",
      "Result: Chathuri Senanayake, cluster:1\n",
      "Result: Surangani Bandara, cluster:2\n",
      "Result: Hasitha Lakmal, cluster:1\n",
      "Result: Hasitha Lakmal, cluster:0\n",
      "Result: Pradeep Kalansooriya, cluster:1\n",
      "Result: Pradeep Kalansooriya, cluster:0\n",
      "Result: Dilini Wijesinghe, cluster:0\n",
      "Result: Dilini Wijesinghe, cluster:0\n",
      "Result: Chiranthi Vinghghani, cluster:0\n",
      "Result: Chiranthi Vinghghani, cluster:1\n",
      "Result: Janindu Praneeth Weerawarnakula, cluster:1\n",
      "Result: Chathurangi Shyalika, cluster:0\n",
      "Result: Chathurangi Shyalika, cluster:2\n",
      "Result: Surangani Bandara, cluster:1\n",
      "Result: Surangani Bandara, cluster:0\n",
      "Result: Surangani Bandara, cluster:2\n",
      "Result: Chathurangi Shyalika, cluster:0\n",
      "Result: Chathurangi Shyalika, cluster:1\n"
     ]
    }
   ],
   "source": [
    "for s, c in zip(syms, clusters):\n",
    "    print(\"Result: {}, cluster:{}\".format(s, c))"
   ]
  },
  {
   "cell_type": "code",
   "execution_count": null,
   "metadata": {
    "collapsed": true
   },
   "outputs": [],
   "source": []
  },
  {
   "cell_type": "code",
   "execution_count": 33,
   "metadata": {},
   "outputs": [
    {
     "name": "stdout",
     "output_type": "stream",
     "text": [
      "[('Ransika Fernando', 0), ('Chathuri Senanayake', 0), ('Chathuri Senanayake', 0), ('Chathuri Senanayake', 0), ('Hasitha Lakmal', 0), ('Pradeep Kalansooriya', 0), ('Dilini Wijesinghe', 0), ('Dilini Wijesinghe', 0), ('Chiranthi Vinghghani', 0), ('Chathurangi Shyalika', 0), ('Surangani Bandara', 0), ('Chathurangi Shyalika', 0), ('Ransika Fernando', 1), ('Ransika Fernando', 1), ('Chathuri Senanayake', 1), ('Chathuri Senanayake', 1), ('Chathuri Senanayake', 1), ('Chathuri Senanayake', 1), ('Hasitha Lakmal', 1), ('Pradeep Kalansooriya', 1), ('Chiranthi Vinghghani', 1), ('Janindu Praneeth Weerawarnakula', 1), ('Surangani Bandara', 1), ('Chathurangi Shyalika', 1), ('Sachini Jagodaarachchi', 2), ('Chathuri Senanayake', 2), ('Nilantha Premakumara', 2), ('Nilantha Premakumara', 2), ('Surangani Bandara', 2), ('Chathurangi Shyalika', 2), ('Surangani Bandara', 2)]\n"
     ]
    }
   ],
   "source": [
    "result = zip(syms, kproto.labels_)\n",
    "sortedR = sorted(result, key=lambda x: x[1])\n",
    "print(sortedR)"
   ]
  },
  {
   "cell_type": "code",
   "execution_count": null,
   "metadata": {
    "collapsed": true
   },
   "outputs": [],
   "source": []
  },
  {
   "cell_type": "code",
   "execution_count": null,
   "metadata": {
    "collapsed": true
   },
   "outputs": [],
   "source": []
  },
  {
   "cell_type": "code",
   "execution_count": null,
   "metadata": {
    "collapsed": true
   },
   "outputs": [],
   "source": []
  },
  {
   "cell_type": "code",
   "execution_count": null,
   "metadata": {
    "collapsed": true
   },
   "outputs": [],
   "source": []
  },
  {
   "cell_type": "code",
   "execution_count": null,
   "metadata": {
    "collapsed": true
   },
   "outputs": [],
   "source": []
  },
  {
   "cell_type": "code",
   "execution_count": null,
   "metadata": {
    "collapsed": true
   },
   "outputs": [],
   "source": []
  },
  {
   "cell_type": "code",
   "execution_count": null,
   "metadata": {
    "collapsed": true
   },
   "outputs": [],
   "source": []
  },
  {
   "cell_type": "code",
   "execution_count": null,
   "metadata": {
    "collapsed": true
   },
   "outputs": [],
   "source": []
  },
  {
   "cell_type": "code",
   "execution_count": null,
   "metadata": {
    "collapsed": true
   },
   "outputs": [],
   "source": []
  },
  {
   "cell_type": "code",
   "execution_count": null,
   "metadata": {
    "collapsed": true
   },
   "outputs": [],
   "source": []
  },
  {
   "cell_type": "code",
   "execution_count": null,
   "metadata": {
    "collapsed": true
   },
   "outputs": [],
   "source": []
  },
  {
   "cell_type": "code",
   "execution_count": null,
   "metadata": {
    "collapsed": true
   },
   "outputs": [],
   "source": []
  },
  {
   "cell_type": "code",
   "execution_count": null,
   "metadata": {
    "collapsed": true
   },
   "outputs": [],
   "source": []
  },
  {
   "cell_type": "code",
   "execution_count": null,
   "metadata": {
    "collapsed": true
   },
   "outputs": [],
   "source": []
  },
  {
   "cell_type": "code",
   "execution_count": null,
   "metadata": {
    "collapsed": true
   },
   "outputs": [],
   "source": []
  },
  {
   "cell_type": "code",
   "execution_count": null,
   "metadata": {
    "collapsed": true
   },
   "outputs": [],
   "source": []
  },
  {
   "cell_type": "code",
   "execution_count": null,
   "metadata": {
    "collapsed": true
   },
   "outputs": [],
   "source": []
  },
  {
   "cell_type": "code",
   "execution_count": null,
   "metadata": {
    "collapsed": true
   },
   "outputs": [],
   "source": []
  },
  {
   "cell_type": "code",
   "execution_count": null,
   "metadata": {
    "collapsed": true
   },
   "outputs": [],
   "source": []
  },
  {
   "cell_type": "code",
   "execution_count": null,
   "metadata": {
    "collapsed": true
   },
   "outputs": [],
   "source": []
  },
  {
   "cell_type": "code",
   "execution_count": null,
   "metadata": {
    "collapsed": true
   },
   "outputs": [],
   "source": []
  },
  {
   "cell_type": "code",
   "execution_count": null,
   "metadata": {
    "collapsed": true
   },
   "outputs": [],
   "source": [
    "#input('type a number:')"
   ]
  },
  {
   "cell_type": "code",
   "execution_count": 1,
   "metadata": {
    "collapsed": true
   },
   "outputs": [],
   "source": [
    "x = [(2, 4), (6, 7), (8, 9)]"
   ]
  },
  {
   "cell_type": "code",
   "execution_count": 9,
   "metadata": {},
   "outputs": [
    {
     "data": {
      "text/plain": [
       "2"
      ]
     },
     "execution_count": 9,
     "metadata": {},
     "output_type": "execute_result"
    }
   ],
   "source": []
  },
  {
   "cell_type": "code",
   "execution_count": 12,
   "metadata": {
    "collapsed": true
   },
   "outputs": [],
   "source": [
    "def search_list (x):\n",
    "    for i in range(len(x)):\n",
    "        if x[i][0] == 6:\n",
    "            print (x[i][1])\n",
    "            break\n",
    "        else:\n",
    "            pass\n",
    "        #for j in range(len(x[i])):\n",
    "            #print \n",
    "        \n",
    "        #x[i][j]\n",
    "    "
   ]
  },
  {
   "cell_type": "code",
   "execution_count": 13,
   "metadata": {},
   "outputs": [
    {
     "name": "stdout",
     "output_type": "stream",
     "text": [
      "7\n"
     ]
    }
   ],
   "source": [
    "search_list(x)"
   ]
  },
  {
   "cell_type": "code",
   "execution_count": 6,
   "metadata": {
    "collapsed": true
   },
   "outputs": [],
   "source": [
    "varA, varB = 1, 12\n",
    "temp1, temp2 = varA, varB\n",
    "varA, varB = '1', '12'\n"
   ]
  },
  {
   "cell_type": "code",
   "execution_count": 11,
   "metadata": {},
   "outputs": [
    {
     "data": {
      "text/plain": [
       "True"
      ]
     },
     "execution_count": 11,
     "metadata": {},
     "output_type": "execute_result"
    }
   ],
   "source": [
    "type(varA) == type(varB)"
   ]
  },
  {
   "cell_type": "code",
   "execution_count": null,
   "metadata": {
    "collapsed": true
   },
   "outputs": [],
   "source": [
    "type(varA)"
   ]
  },
  {
   "cell_type": "code",
   "execution_count": 9,
   "metadata": {},
   "outputs": [
    {
     "data": {
      "text/plain": [
       "'1'"
      ]
     },
     "execution_count": 9,
     "metadata": {},
     "output_type": "execute_result"
    }
   ],
   "source": [
    "varA"
   ]
  },
  {
   "cell_type": "code",
   "execution_count": null,
   "metadata": {
    "collapsed": true
   },
   "outputs": [],
   "source": [
    "if var:\n",
    "    print('string involved')\n",
    "elif varA > varB:\n",
    "    print('bigger')\n",
    "elif varA == varB:\n",
    "    print('equal') \n",
    "else:\n",
    "    print('smaller')"
   ]
  },
  {
   "cell_type": "code",
   "execution_count": null,
   "metadata": {
    "collapsed": true
   },
   "outputs": [],
   "source": []
  },
  {
   "cell_type": "code",
   "execution_count": null,
   "metadata": {
    "collapsed": true
   },
   "outputs": [],
   "source": [
    "n = 0\n",
    "while n < 11:\n",
    "    print(n)\n",
    "    n =+ 1\n",
    "print('Goodbye!')\n",
    "    "
   ]
  }
 ],
 "metadata": {
  "kernelspec": {
   "display_name": "Python 3",
   "language": "python",
   "name": "python3"
  },
  "language_info": {
   "codemirror_mode": {
    "name": "ipython",
    "version": 3
   },
   "file_extension": ".py",
   "mimetype": "text/x-python",
   "name": "python",
   "nbconvert_exporter": "python",
   "pygments_lexer": "ipython3",
   "version": "3.5.5"
  }
 },
 "nbformat": 4,
 "nbformat_minor": 2
}
