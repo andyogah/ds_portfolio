{
 "cells": [
  {
   "cell_type": "code",
   "execution_count": 1,
   "id": "17776140",
   "metadata": {},
   "outputs": [],
   "source": [
    "#importing all the various libraries\n",
    "\n",
    "from glob import glob\n",
    "import itertools\n",
    "import os.path\n",
    "import re\n",
    "import tarfile\n",
    "import time\n",
    "import sys\n",
    "\n",
    "import numpy as np\n",
    "import pandas as pd\n",
    "import matplotlib.pyplot as plt\n",
    "from matplotlib import rcParams\n",
    "\n",
    "from html.parser import HTMLParser\n",
    "from urllib.request import urlretrieve\n",
    "from sklearn.datasets import get_data_home\n",
    "from sklearn.feature_extraction.text import HashingVectorizer\n",
    "#from sklearn.feature_extraction.text import TfidfVectorizer\n",
    "from sklearn.preprocessing import MultiLabelBinarizer\n",
    "from sklearn.svm import LinearSVC\n",
    "from sklearn.multiclass import OneVsRestClassifier\n",
    "from sklearn.metrics import f1_score, precision_score, recall_score\n",
    "\n",
    "import warnings\n",
    "warnings.filterwarnings('ignore')\n",
    "\n",
    "%matplotlib inline"
   ]
  },
  {
   "cell_type": "markdown",
   "id": "817b975e",
   "metadata": {},
   "source": []
  },
  {
   "cell_type": "markdown",
   "id": "d16ea8d8",
   "metadata": {},
   "source": [
    "Like the saying goes: good developers copy code, great developers paste; we are not going to be writing all codes from the ground up. My approach here is to refactor code and give credit where due to fasten development.\n",
    "\n",
    "First is HTML parsing code by Eustache Diemert. The code was very well layed out and efficient compared with all other code snippet i found online. Scikit-learn gave his contribution a thumbs up, so i figured i settle. This code basically downloads the files from the URL, unzips it and rebuilds the SGML files into a one file. One can also download the zip file and do the same."
   ]
  },
  {
   "cell_type": "code",
   "execution_count": 2,
   "id": "a81f2557",
   "metadata": {},
   "outputs": [],
   "source": [
    "# Credit goes to Eustache Diemert <eustache@diemert.fr>\n",
    "# @FedericoV <https://github.com/FedericoV/>\n",
    "# @https://scikit-learn.org/stable/auto_examples/applications/plot_out_of_core_classification.html\n",
    "# License: BSD 3 clause\n",
    "# \n",
    "\n",
    "class ReutersParser(HTMLParser):\n",
    "    \"\"\"Utility class to parse a SGML file and yield documents one at a time.\"\"\"\n",
    "\n",
    "    def __init__(self, encoding='latin-1'):\n",
    "        HTMLParser.__init__(self)\n",
    "        self._reset()\n",
    "        self.encoding = encoding\n",
    "\n",
    "    def handle_starttag(self, tag, attrs):\n",
    "        method = 'start_' + tag\n",
    "        getattr(self, method, lambda x: None)(attrs)\n",
    "\n",
    "    def handle_endtag(self, tag):\n",
    "        method = 'end_' + tag\n",
    "        getattr(self, method, lambda: None)()\n",
    "\n",
    "    def _reset(self):\n",
    "        self.in_title = 0\n",
    "        self.in_body = 0\n",
    "        self.in_topics = 0\n",
    "        self.in_topic_d = 0\n",
    "        self.title = \"\"\n",
    "        self.body = \"\"\n",
    "        self.topics = []\n",
    "        self.topic_d = \"\"\n",
    "\n",
    "    def parse(self, fd):\n",
    "        self.docs = []\n",
    "        for chunk in fd:\n",
    "            self.feed(chunk.decode(self.encoding))\n",
    "            for doc in self.docs:\n",
    "                yield doc\n",
    "            self.docs = []\n",
    "        self.close()\n",
    "\n",
    "    def handle_data(self, data):\n",
    "        if self.in_body:\n",
    "            self.body += data\n",
    "        elif self.in_title:\n",
    "            self.title += data\n",
    "        elif self.in_topic_d:\n",
    "            self.topic_d += data\n",
    "\n",
    "    def start_reuters(self, attributes):\n",
    "        self.attributes = dict(attributes) # Attributes is a list of pairs\n",
    "        #pass\n",
    "\n",
    "    def end_reuters(self):\n",
    "        self.body = re.sub(r'\\s+', r' ', self.body)\n",
    "        self.docs.append({'title': self.title,\n",
    "                          'body': self.body,\n",
    "                          'topics': self.topics,\n",
    "                         'new_id': self.attributes[\"newid\"],})\n",
    "        self._reset()\n",
    "\n",
    "    def start_title(self, attributes):\n",
    "        self.in_title = 1\n",
    "\n",
    "    def end_title(self):\n",
    "        self.in_title = 0\n",
    "\n",
    "    def start_body(self, attributes):\n",
    "        self.in_body = 1\n",
    "\n",
    "    def end_body(self):\n",
    "        self.in_body = 0\n",
    "\n",
    "    def start_topics(self, attributes):\n",
    "        self.in_topics = 1\n",
    "\n",
    "    def end_topics(self):\n",
    "        self.in_topics = 0\n",
    "\n",
    "    def start_d(self, attributes):\n",
    "        self.in_topic_d = 1\n",
    "\n",
    "    def end_d(self):\n",
    "        self.in_topic_d = 0\n",
    "        self.topics.append(self.topic_d)\n",
    "        self.topic_d = \"\"\n",
    "\n",
    "\n",
    "def stream_reuters_documents(data_path=None):\n",
    "    \"\"\"Iterate over documents of the Reuters dataset.\n",
    "\n",
    "    The Reuters archive will automatically be downloaded and uncompressed if\n",
    "    the `data_path` directory does not exist.\n",
    "\n",
    "    Documents are represented as dictionaries with 'body' (str),\n",
    "    'title' (str), 'topics' (list(str)) keys.\n",
    "\n",
    "    \"\"\"\n",
    "\n",
    "    DOWNLOAD_URL = ('https://drive.google.com/drive/folders/1k7MNpw_huZTL9opXU9e7u6M8phupPih7')\n",
    "    ARCHIVE_FILENAME = 'reuters21578-20211018T220355Z-001.zip'\n",
    "\n",
    "    if data_path is None:\n",
    "        data_path = os.path.join(get_data_home(), \"reuters\")\n",
    "    if not os.path.exists(data_path):\n",
    "        \"\"\"Download the dataset.\"\"\"\n",
    "        print(\"downloading dataset (once and for all) into %s\" %\n",
    "              data_path)\n",
    "        os.mkdir(data_path)\n",
    "\n",
    "        def progress(blocknum, bs, size):\n",
    "            total_sz_mb = '%.2f MB' % (size / 1e6)\n",
    "            current_sz_mb = '%.2f MB' % ((blocknum * bs) / 1e6)\n",
    "            if _not_in_sphinx():\n",
    "                sys.stdout.write(\n",
    "                    '\\rdownloaded %s / %s' % (current_sz_mb, total_sz_mb))\n",
    "\n",
    "        archive_path = os.path.join(data_path, ARCHIVE_FILENAME)\n",
    "        urlretrieve(DOWNLOAD_URL, filename=archive_path,\n",
    "                    reporthook=progress)\n",
    "        if _not_in_sphinx():\n",
    "            sys.stdout.write('\\r')\n",
    "        print(\"untarring Reuters dataset...\")\n",
    "        tarfile.open(archive_path, 'r:gz').extractall(data_path)\n",
    "        print(\"done.\")\n",
    "\n",
    "    parser = ReutersParser()\n",
    "    for filename in glob(os.path.join(data_path, \"*.sgm\")):\n",
    "        for doc in parser.parse(open(filename, 'rb')):\n",
    "            yield doc           "
   ]
  },
  {
   "cell_type": "code",
   "execution_count": null,
   "id": "1682f773",
   "metadata": {},
   "outputs": [],
   "source": []
  },
  {
   "cell_type": "markdown",
   "id": "0ac8eb35",
   "metadata": {},
   "source": [
    "**GLIMPSE INTO THE DATASET**"
   ]
  },
  {
   "cell_type": "code",
   "execution_count": 3,
   "id": "818c445c",
   "metadata": {},
   "outputs": [
    {
     "data": {
      "text/plain": [
       "[{'title': 'BAHIA COCOA REVIEW',\n",
       "  'body': 'Showers continued throughout the week in the Bahia cocoa zone, alleviating the drought since early January and improving prospects for the coming temporao, although normal humidity levels have not been restored, Comissaria Smith said in its weekly review. The dry period means the temporao will be late this year. Arrivals for the week ended February 22 were 155,221 bags of 60 kilos making a cumulative total for the season of 5.93 mln against 5.81 at the same stage last year. Again it seems that cocoa delivered earlier on consignment was included in the arrivals figures. Comissaria Smith said there is still some doubt as to how much old crop cocoa is still available as harvesting has practically come to an end. With total Bahia crop estimates around 6.4 mln bags and sales standing at almost 6.2 mln there are a few hundred thousand bags still in the hands of farmers, middlemen, exporters and processors. There are doubts as to how much of this cocoa would be fit for export as shippers are now experiencing dificulties in obtaining +Bahia superior+ certificates. In view of the lower quality over recent weeks farmers have sold a good part of their cocoa held on consignment. Comissaria Smith said spot bean prices rose to 340 to 350 cruzados per arroba of 15 kilos. Bean shippers were reluctant to offer nearby shipment and only limited sales were booked for March shipment at 1,750 to 1,780 dlrs per tonne to ports to be named. New crop sales were also light and all to open ports with June/July going at 1,850 and 1,880 dlrs and at 35 and 45 dlrs under New York july, Aug/Sept at 1,870, 1,875 and 1,880 dlrs per tonne FOB. Routine sales of butter were made. March/April sold at 4,340, 4,345 and 4,350 dlrs. April/May butter went at 2.27 times New York May, June/July at 4,400 and 4,415 dlrs, Aug/Sept at 4,351 to 4,450 dlrs and at 2.27 and 2.28 times New York Sept and Oct/Dec at 4,480 dlrs and 2.27 times New York Dec, Comissaria Smith said. Destinations were the U.S., Covertible currency areas, Uruguay and open ports. Cake sales were registered at 785 to 995 dlrs for March/April, 785 dlrs for May, 753 dlrs for Aug and 0.39 times New York Dec for Oct/Dec. Buyers were the U.S., Argentina, Uruguay and convertible currency areas. Liquor sales were limited with March/April selling at 2,325 and 2,380 dlrs, June/July at 2,375 dlrs and at 1.25 times New York July, Aug/Sept at 2,400 dlrs and at 1.25 times New York Sept and Oct/Dec at 1.25 times New York Dec, Comissaria Smith said. Total Bahia sales are currently estimated at 6.13 mln bags against the 1986/87 crop and 1.06 mln bags against the 1987/88 crop. Final figures for the period to February 28 are expected to be published by the Brazilian Cocoa Trade Commission after carnival which ends midday on February 27. Reuter ',\n",
       "  'topics': ['cocoa', 'el-salvador', 'usa', 'uruguay'],\n",
       "  'new_id': '1'},\n",
       " {'title': 'STANDARD OIL <SRD> TO FORM FINANCIAL UNIT',\n",
       "  'body': 'Standard Oil Co and BP North America Inc said they plan to form a venture to manage the money market borrowing and investment activities of both companies. BP North America is a subsidiary of British Petroleum Co Plc <BP>, which also owns a 55 pct interest in Standard Oil. The venture will be called BP/Standard Financial Trading and will be operated by Standard Oil under the oversight of a joint management committee. Reuter ',\n",
       "  'topics': ['usa'],\n",
       "  'new_id': '2'},\n",
       " {'title': 'TEXAS COMMERCE BANCSHARES <TCB> FILES PLAN',\n",
       "  'body': \"Texas Commerce Bancshares Inc's Texas Commerce Bank-Houston said it filed an application with the Comptroller of the Currency in an effort to create the largest banking network in Harris County. The bank said the network would link 31 banks having 13.5 billion dlrs in assets and 7.5 billion dlrs in deposits. Reuter \",\n",
       "  'topics': ['usa'],\n",
       "  'new_id': '3'},\n",
       " {'title': 'TALKING POINT/BANKAMERICA <BAC> EQUITY OFFER',\n",
       "  'body': 'BankAmerica Corp is not under pressure to act quickly on its proposed equity offering and would do well to delay it because of the stock\\'s recent poor performance, banking analysts said. Some analysts said they have recommended BankAmerica delay its up to one-billion-dlr equity offering, which has yet to be approved by the Securities and Exchange Commission. BankAmerica stock fell this week, along with other banking issues, on the news that Brazil has suspended interest payments on a large portion of its foreign debt. The stock traded around 12, down 1/8, this afternoon, after falling to 11-1/2 earlier this week on the news. Banking analysts said that with the immediate threat of the First Interstate Bancorp <I> takeover bid gone, BankAmerica is under no pressure to sell the securities into a market that will be nervous on bank stocks in the near term. BankAmerica filed the offer on January 26. It was seen as one of the major factors leading the First Interstate withdrawing its takeover bid on February 9. A BankAmerica spokesman said SEC approval is taking longer than expected and market conditions must now be re-evaluated. \"The circumstances at the time will determine what we do,\" said Arthur Miller, BankAmerica\\'s Vice President for Financial Communications, when asked if BankAmerica would proceed with the offer immediately after it receives SEC approval. \"I\\'d put it off as long as they conceivably could,\" said Lawrence Cohn, analyst with Merrill Lynch, Pierce, Fenner and Smith. Cohn said the longer BankAmerica waits, the longer they have to show the market an improved financial outlook. Although BankAmerica has yet to specify the types of equities it would offer, most analysts believed a convertible preferred stock would encompass at least part of it. Such an offering at a depressed stock price would mean a lower conversion price and more dilution to BankAmerica stock holders, noted Daniel Williams, analyst with Sutro Group. Several analysts said that while they believe the Brazilian debt problem will continue to hang over the banking industry through the quarter, the initial shock reaction is likely to ease over the coming weeks. Nevertheless, BankAmerica, which holds about 2.70 billion dlrs in Brazilian loans, stands to lose 15-20 mln dlrs if the interest rate is reduced on the debt, and as much as 200 mln dlrs if Brazil pays no interest for a year, said Joseph Arsenio, analyst with Birr, Wilson and Co. He noted, however, that any potential losses would not show up in the current quarter. With other major banks standing to lose even more than BankAmerica if Brazil fails to service its debt, the analysts said they expect the debt will be restructured, similar to way Mexico\\'s debt was, minimizing losses to the creditor banks. Reuter ',\n",
       "  'topics': ['usa', 'brazil'],\n",
       "  'new_id': '4'}]"
      ]
     },
     "execution_count": 3,
     "metadata": {},
     "output_type": "execute_result"
    }
   ],
   "source": [
    "#printing the first 5 documents\n",
    "\n",
    "full_list = list(stream_reuters_documents())\n",
    "full_list[:4]"
   ]
  },
  {
   "cell_type": "code",
   "execution_count": 4,
   "id": "a30eb8d1",
   "metadata": {},
   "outputs": [
    {
     "data": {
      "text/plain": [
       "21578"
      ]
     },
     "execution_count": 4,
     "metadata": {},
     "output_type": "execute_result"
    }
   ],
   "source": [
    "#total number of documents in all files\n",
    "len(full_list)"
   ]
  },
  {
   "cell_type": "code",
   "execution_count": 5,
   "id": "b424461a",
   "metadata": {},
   "outputs": [],
   "source": [
    "#merging the body and topics elements in the documents\n",
    "data_labels = [(x['body'], x['topics']) for x in list(stream_reuters_documents())]"
   ]
  },
  {
   "cell_type": "code",
   "execution_count": 6,
   "id": "abf0991c",
   "metadata": {},
   "outputs": [
    {
     "data": {
      "text/plain": [
       "[('', []),\n",
       " ('', []),\n",
       " ('', []),\n",
       " ('', []),\n",
       " ('', []),\n",
       " ('<Pacific Western Airlines Corp> said it integrated the senior management of Pacific Western and recently acquired Canadian Pacific Air Lines Ltd in preparation for the companies\\' merger this summer. Pacific Western said it appointed president and chief executive Rhys Eaton as chairman and chief executive in the new management structure, and Murray Sigler as president. Sigler was previously president of Pacific Western\\'s airline unit, Pacific Western Airlines Ltd. Pacific Western acquired Canadian Pacific Air Lines for 300 mln dlrs last December from Canadian Pacific Ltd <CP>. Canadian Pacific Air Lines said president and chief executive Donald Carty and four senior vice-presidents resigned last week. Carty said in a company memorandum that he accepted another senior post in commercial aviation and that some of the vice-presidents were taking early retirment and others were resigning for personal reasons. Pacific Western said the new management structure \"will facilitate our objective of proceeding quickly to successfully position ourselves in the marketplace as a single airline network beginning this summer.\" Reuter ',\n",
       "  []),\n",
       " ('Amgen Inc said it signed a letter of intent for an estimated 75 mln dlr research and development limited partnership to fund the clinical investigation of certain pharmaceutical products currently under development. Neither terms of the arrangement nor the products covered by the partnership were disclosed, but Amgen said the limited partnership units will include warrants to purchase Amgen common stock. Reuter ',\n",
       "  [])]"
      ]
     },
     "execution_count": 6,
     "metadata": {},
     "output_type": "execute_result"
    }
   ],
   "source": [
    "#checking for empty topic lists\n",
    "[w for w in data_labels if w[1] == []][:7]"
   ]
  },
  {
   "cell_type": "code",
   "execution_count": 7,
   "id": "3524ca5d",
   "metadata": {},
   "outputs": [
    {
     "name": "stdout",
     "output_type": "stream",
     "text": [
      "total # of documents in the 20 sgml files: 21578\n",
      "# of documents with no missing body & topic values: 18457\n",
      "# of documents with missing topic values: 586\n",
      "# of documents with both body & topics values missing: 1276\n",
      "# of documents that are all null: 1259\n"
     ]
    }
   ],
   "source": [
    "#quick statistics of number of documents \n",
    "new_full_list = [b for b in full_list if not b['body'] == '' and not b['topics'] == []]\n",
    "unseen_list = [b for b in full_list if not b['body'] == '' and b['topics'] == []]\n",
    "empty_body_topic = [x for x in full_list if x['body'] == '' and x['topics'] == []]\n",
    "\n",
    "print('total # of documents in the 20 sgml files:', len(full_list),)\n",
    "print('# of documents with no missing body & topic values:', len(new_full_list),)\n",
    "print('# of documents with missing topic values:', len(unseen_list),)\n",
    "print('# of documents with both body & topics values missing:', len(empty_body_topic),)\n",
    "print('# of documents that are all null:', len(full_list) - (len(new_full_list) + len(unseen_list) + len(empty_body_topic)))"
   ]
  },
  {
   "cell_type": "markdown",
   "id": "2d107b9b",
   "metadata": {},
   "source": [
    "Since this a supervised learning model, we are going to be doing the following: \n",
    "- We are going to be getting the train and test sets from the documents with no missing body & topic values above\n",
    "- Deleting the documents that are all null (i.e., has nothing in the documents)\n",
    "- Deleting the documents that have items in them, but missing the body and topics values. In a way this is questionable, and should be revisted if the overall performance of the model is subpar. It will be interesting to see the effect of filling the data & topics with nulls or some arbitrary string values would have on the overasll model performance\n",
    "- Last, we use the documents with the missing topics to do final prediction after the analysis. We can also add the examples back into the training set after prediction and then run another training on the concatenated training set much like semi-supervised learning to see if this improves the model."
   ]
  },
  {
   "cell_type": "code",
   "execution_count": null,
   "id": "45ac67cf",
   "metadata": {},
   "outputs": [],
   "source": []
  },
  {
   "cell_type": "code",
   "execution_count": 8,
   "id": "7500cf32",
   "metadata": {},
   "outputs": [],
   "source": [
    "#split the body and topics into features and labels respectively\n",
    "labels = [x['topics'] for x in new_full_list]\n",
    "data = [x['body'] for x in new_full_list]"
   ]
  },
  {
   "cell_type": "code",
   "execution_count": 9,
   "id": "adda97fa",
   "metadata": {},
   "outputs": [
    {
     "data": {
      "text/plain": [
       "'Showers continued throughout the week in the Bahia cocoa zone, alleviating the drought since early January and improving prospects for the coming temporao, although normal humidity levels have not been restored, Comissaria Smith said in its weekly review. The dry period means the temporao will be late this year. Arrivals for the week ended February 22 were 155,221 bags of 60 kilos making a cumulative total for the season of 5.93 mln against 5.81 at the same stage last year. Again it seems that cocoa delivered earlier on consignment was included in the arrivals figures. Comissaria Smith said there is still some doubt as to how much old crop cocoa is still available as harvesting has practically come to an end. With total Bahia crop estimates around 6.4 mln bags and sales standing at almost 6.2 mln there are a few hundred thousand bags still in the hands of farmers, middlemen, exporters and processors. There are doubts as to how much of this cocoa would be fit for export as shippers are now experiencing dificulties in obtaining +Bahia superior+ certificates. In view of the lower quality over recent weeks farmers have sold a good part of their cocoa held on consignment. Comissaria Smith said spot bean prices rose to 340 to 350 cruzados per arroba of 15 kilos. Bean shippers were reluctant to offer nearby shipment and only limited sales were booked for March shipment at 1,750 to 1,780 dlrs per tonne to ports to be named. New crop sales were also light and all to open ports with June/July going at 1,850 and 1,880 dlrs and at 35 and 45 dlrs under New York july, Aug/Sept at 1,870, 1,875 and 1,880 dlrs per tonne FOB. Routine sales of butter were made. March/April sold at 4,340, 4,345 and 4,350 dlrs. April/May butter went at 2.27 times New York May, June/July at 4,400 and 4,415 dlrs, Aug/Sept at 4,351 to 4,450 dlrs and at 2.27 and 2.28 times New York Sept and Oct/Dec at 4,480 dlrs and 2.27 times New York Dec, Comissaria Smith said. Destinations were the U.S., Covertible currency areas, Uruguay and open ports. Cake sales were registered at 785 to 995 dlrs for March/April, 785 dlrs for May, 753 dlrs for Aug and 0.39 times New York Dec for Oct/Dec. Buyers were the U.S., Argentina, Uruguay and convertible currency areas. Liquor sales were limited with March/April selling at 2,325 and 2,380 dlrs, June/July at 2,375 dlrs and at 1.25 times New York July, Aug/Sept at 2,400 dlrs and at 1.25 times New York Sept and Oct/Dec at 1.25 times New York Dec, Comissaria Smith said. Total Bahia sales are currently estimated at 6.13 mln bags against the 1986/87 crop and 1.06 mln bags against the 1987/88 crop. Final figures for the period to February 28 are expected to be published by the Brazilian Cocoa Trade Commission after carnival which ends midday on February 27. Reuter '"
      ]
     },
     "execution_count": 9,
     "metadata": {},
     "output_type": "execute_result"
    }
   ],
   "source": [
    "#what the data in a document looks like\n",
    "data[0]"
   ]
  },
  {
   "cell_type": "code",
   "execution_count": 10,
   "id": "aafcba99",
   "metadata": {},
   "outputs": [
    {
     "data": {
      "text/plain": [
       "['cocoa', 'el-salvador', 'usa', 'uruguay']"
      ]
     },
     "execution_count": 10,
     "metadata": {},
     "output_type": "execute_result"
    }
   ],
   "source": [
    "#what the lablels for first document looks like\n",
    "labels[0]"
   ]
  },
  {
   "cell_type": "code",
   "execution_count": null,
   "id": "d3872008",
   "metadata": {},
   "outputs": [],
   "source": []
  },
  {
   "cell_type": "markdown",
   "id": "664d1695",
   "metadata": {},
   "source": [
    "**SPLITTING THE DATASET INTO TRAIN & TEST SETS**"
   ]
  },
  {
   "cell_type": "markdown",
   "id": "4dcf35f5",
   "metadata": {},
   "source": [
    "Now is the time to split the data into train and test sets to prevent data leakage and snopping. I am using an arbitrary split of 80/20, i.e., 80% of the dataset will be in the training set and 20% of the data will be in the test set. This split can actually be a custom hyperparamter one can tune on the dataset to know what proportion of split gets the max performance on the model. However, leaving this as arbitrary for now. "
   ]
  },
  {
   "cell_type": "code",
   "execution_count": 11,
   "id": "1119ace7",
   "metadata": {},
   "outputs": [],
   "source": [
    "#splitting the data into the training and the test set\n",
    "from sklearn.model_selection import train_test_split\n",
    "X_train, X_test, y_train, y_test = train_test_split(data, labels, test_size=0.20, random_state=42)"
   ]
  },
  {
   "cell_type": "markdown",
   "id": "707224d9",
   "metadata": {},
   "source": [
    "NOTE: I would have loved to use the stratified split on this analysis, but for reasons I will mention later. "
   ]
  },
  {
   "cell_type": "code",
   "execution_count": null,
   "id": "cf7dd52b",
   "metadata": {},
   "outputs": [],
   "source": []
  },
  {
   "cell_type": "code",
   "execution_count": 12,
   "id": "1344910a",
   "metadata": {},
   "outputs": [
    {
     "data": {
      "text/plain": [
       "(14765, 14765)"
      ]
     },
     "execution_count": 12,
     "metadata": {},
     "output_type": "execute_result"
    }
   ],
   "source": [
    "len(X_train), len(y_train)"
   ]
  },
  {
   "cell_type": "code",
   "execution_count": 13,
   "id": "0ebefe0e",
   "metadata": {},
   "outputs": [
    {
     "data": {
      "text/plain": [
       "'First Southern Federal Savings and Loan Association said it has agreed in principle to acquire Horizon Financial Corp and Horizon Funding corp from <Victor Federal Savings and Loan Association> of Muskogee, Okla., for undisclosed terms. The company said the purchase is subject to approval of the boards of First Southern and Victor and regulatory agencies. Horizon Financial services mortgage loans and Horizon Funding is a wholesale loan purchasing operation. Horizon services 3.2 billion dlrs in mortgage loans. Reuter '"
      ]
     },
     "execution_count": 13,
     "metadata": {},
     "output_type": "execute_result"
    }
   ],
   "source": [
    "X_train[0]"
   ]
  },
  {
   "cell_type": "code",
   "execution_count": null,
   "id": "e295cf4a",
   "metadata": {},
   "outputs": [],
   "source": []
  },
  {
   "cell_type": "markdown",
   "id": "c07de9f7",
   "metadata": {},
   "source": [
    "**CLEANING OF THE BODY OF THE DOCUMENTS**"
   ]
  },
  {
   "cell_type": "markdown",
   "id": "b13985e3",
   "metadata": {},
   "source": [
    "For cleaning of the data, we are using snippet from Irfan Alghani Khalid as is with a little refactoring "
   ]
  },
  {
   "cell_type": "code",
   "execution_count": 14,
   "id": "7a7605bb",
   "metadata": {},
   "outputs": [],
   "source": [
    "import nltk\n",
    "import string\n",
    "from nltk.corpus import stopwords\n",
    "\n",
    "stop_words = stopwords.words(\"english\")\n",
    "\n",
    "\n",
    "def text_preproc(x):\n",
    "    \"\"\"\n",
    "    credit goes to Irfan Alghani Khalid \n",
    "    @https://towardsdatascience.com/cleaning-text-data-with-python-b69b47b97b76\n",
    "    \"\"\"\n",
    "   \n",
    "    x = x.lower()\n",
    "    x = ' '.join([word for word in x.split(' ') if word not in stop_words])\n",
    "    x = x.encode('ascii', 'ignore').decode()\n",
    "    x = re.sub(r'https*\\S+', ' ', x)\n",
    "    x = re.sub(r'@\\S+', ' ', x)\n",
    "    x = re.sub(r'#\\S+', ' ', x)\n",
    "    x = re.sub(r'\\'\\w+', '', x)\n",
    "    x = re.sub('[%s]' % re.escape(string.punctuation), ' ', x)\n",
    "    x = re.sub(r'\\w*\\d+\\w*', '', x)\n",
    "    x = re.sub(r'\\s{2,}', ' ', x)\n",
    "    return x"
   ]
  },
  {
   "cell_type": "code",
   "execution_count": 15,
   "id": "0e9e552c",
   "metadata": {},
   "outputs": [],
   "source": [
    "X_train = [text_preproc(x) for x in X_train]\n",
    "X_test = [text_preproc(x) for x in X_test]"
   ]
  },
  {
   "cell_type": "code",
   "execution_count": 16,
   "id": "d25bdd03",
   "metadata": {},
   "outputs": [
    {
     "data": {
      "text/plain": [
       "'first southern federal savings loan association said agreed principle acquire horizon financial corp horizon funding corp victor federal savings loan association muskogee okla undisclosed terms company said purchase subject approval boards first southern victor regulatory agencies horizon financial services mortgage loans horizon funding wholesale loan purchasing operation horizon services billion dlrs mortgage loans reuter '"
      ]
     },
     "execution_count": 16,
     "metadata": {},
     "output_type": "execute_result"
    }
   ],
   "source": [
    "X_train[0]"
   ]
  },
  {
   "cell_type": "code",
   "execution_count": 17,
   "id": "bcd989db",
   "metadata": {},
   "outputs": [
    {
     "data": {
      "text/plain": [
       "[['acq', 'usa'],\n",
       " ['sugar', 'mauritius', 'uk'],\n",
       " ['acq', 'usa'],\n",
       " ['usa'],\n",
       " ['usa'],\n",
       " ['usa'],\n",
       " ['grain', 'orange', 'sugar', 'china']]"
      ]
     },
     "execution_count": 17,
     "metadata": {},
     "output_type": "execute_result"
    }
   ],
   "source": [
    "y_train[:7]"
   ]
  },
  {
   "cell_type": "code",
   "execution_count": 18,
   "id": "4061a915",
   "metadata": {},
   "outputs": [
    {
     "data": {
      "text/plain": [
       "14765"
      ]
     },
     "execution_count": 18,
     "metadata": {},
     "output_type": "execute_result"
    }
   ],
   "source": [
    "len(y_train)"
   ]
  },
  {
   "cell_type": "code",
   "execution_count": null,
   "id": "42f53d98",
   "metadata": {},
   "outputs": [],
   "source": []
  },
  {
   "cell_type": "markdown",
   "id": "f374f9b2",
   "metadata": {},
   "source": [
    "**PREPROCESSING OF THE FEATURES AND MULTILABELS**"
   ]
  },
  {
   "cell_type": "code",
   "execution_count": 19,
   "id": "6103f650",
   "metadata": {},
   "outputs": [],
   "source": [
    "from nltk.corpus import stopwords\n",
    "from sklearn.feature_extraction.text import TfidfVectorizer\n",
    "from nltk import word_tokenize\n",
    "stop_words = stopwords.words(\"english\")\n",
    "\n",
    "#tokenization\n",
    "#vectorizer = HashingVectorizer(decode_error='ignore', n_features=2 ** 18, alternate_sign=False)\n",
    "vectorizer = TfidfVectorizer(stop_words=stop_words,)\n",
    "\n",
    "#learn & transform\n",
    "vectorized_train_docu = vectorizer.fit_transform(X_train)\n",
    "vectorized_test_docu = vectorizer.transform(X_test)\n",
    "\n",
    "#transform multilabel labels\n",
    "mlb = MultiLabelBinarizer()\n",
    "train_labels = mlb.fit_transform(y_train) \n",
    "test_labels = mlb.transform(y_test)"
   ]
  },
  {
   "cell_type": "code",
   "execution_count": null,
   "id": "c93a70e4",
   "metadata": {},
   "outputs": [],
   "source": []
  },
  {
   "cell_type": "markdown",
   "id": "109db95f",
   "metadata": {},
   "source": [
    "**PREDICTION AND EVALUATION**"
   ]
  },
  {
   "cell_type": "code",
   "execution_count": 20,
   "id": "05e9500a",
   "metadata": {},
   "outputs": [],
   "source": [
    "#initialize classifer\n",
    "classifier=OneVsRestClassifier(LinearSVC(random_state=42, class_weight='balanced'))"
   ]
  },
  {
   "cell_type": "code",
   "execution_count": 21,
   "id": "1dd0e0d8",
   "metadata": {},
   "outputs": [
    {
     "data": {
      "text/plain": [
       "OneVsRestClassifier(estimator=LinearSVC(class_weight='balanced',\n",
       "                                        random_state=42))"
      ]
     },
     "execution_count": 21,
     "metadata": {},
     "output_type": "execute_result"
    }
   ],
   "source": [
    "#fitting the classier to the data\n",
    "classifier = classifier.fit(vectorized_train_docu, train_labels)\n",
    "classifier"
   ]
  },
  {
   "cell_type": "code",
   "execution_count": 22,
   "id": "6ca73caf",
   "metadata": {},
   "outputs": [],
   "source": [
    "#fitting the classier to the data\n",
    "#classifier = classifier.fit(vectorized_train_docu, train_labels)\n",
    "\n",
    "#prediction\n",
    "predictions = classifier.predict(vectorized_test_docu)\n",
    "\n",
    "#converting predictions back to actual labels\n",
    "all_labels = mlb.inverse_transform(predictions)\n",
    "#all_labels"
   ]
  },
  {
   "cell_type": "code",
   "execution_count": null,
   "id": "aca96781",
   "metadata": {},
   "outputs": [],
   "source": []
  },
  {
   "cell_type": "code",
   "execution_count": 23,
   "id": "4e181890",
   "metadata": {},
   "outputs": [],
   "source": [
    "def pred_eval(classifier, train_data, training_label, test_data, test_labels):\n",
    "    from sklearn.model_selection import KFold, cross_val_score\n",
    "    \n",
    "    kf = KFold(n_splits=5, random_state = 42, shuffle = True)\n",
    "    scores = cross_val_score(classifier, train_data, training_label, cv = kf)\n",
    "    print('Cross-validation scores:', scores)\n",
    "    print('Cross-validation accuracy: {:.4f} (+/- {:.4f})\\n'.format(scores.mean(), scores.std() * 2),)\n",
    "    \n",
    "    predictions = classifier.predict(test_data)\n",
    "\n",
    "    precision = precision_score(test_labels, predictions, average='micro')\n",
    "    recall = recall_score(test_labels, predictions, average='micro')\n",
    "    f1 = f1_score(test_labels, predictions, average='micro')\n",
    " \n",
    "    print(\"Micro-average quality numbers\")\n",
    "    print(\"Precision: {:.4f}, Recall: {:.4f}, F1-measure: {:.4f}\\n\".format(precision, recall, f1))\n",
    " \n",
    "    precision = precision_score(test_labels, predictions, average='macro')\n",
    "    recall = recall_score(test_labels, predictions, average='macro')\n",
    "    f1 = f1_score(test_labels, predictions, average='macro')\n",
    " \n",
    "    print(\"Macro-average quality numbers\")\n",
    "    print(\"Precision: {:.4f}, Recall: {:.4f}, F1-measure: {:.4f}\" .format(precision, recall, f1))\n",
    "    "
   ]
  },
  {
   "cell_type": "code",
   "execution_count": 24,
   "id": "35d6174c",
   "metadata": {},
   "outputs": [
    {
     "name": "stdout",
     "output_type": "stream",
     "text": [
      "Cross-validation scores: [0.61835422 0.61429055 0.61056553 0.61361327 0.59295632]\n",
      "Cross-validation accuracy: 0.6100 (+/- 0.0177)\n",
      "\n",
      "Micro-average quality numbers\n",
      "Precision: 0.8638, Recall: 0.8504, F1-measure: 0.8571\n",
      "\n",
      "Macro-average quality numbers\n",
      "Precision: 0.4723, Recall: 0.4040, F1-measure: 0.4235\n"
     ]
    }
   ],
   "source": [
    "pred_eval(classifier, vectorized_train_docu, train_labels, vectorized_test_docu, test_labels)"
   ]
  },
  {
   "cell_type": "code",
   "execution_count": null,
   "id": "d3028896",
   "metadata": {},
   "outputs": [],
   "source": []
  },
  {
   "cell_type": "markdown",
   "id": "b300d59d",
   "metadata": {},
   "source": [
    "This is a benchmark we will be working with. Few questions we need to address are:\n",
    " - Can we do better than these benchmarks?\n",
    " - Why did this model underperform?\n",
    " - How can we improve this?"
   ]
  },
  {
   "cell_type": "code",
   "execution_count": null,
   "id": "2d24491f",
   "metadata": {},
   "outputs": [],
   "source": []
  },
  {
   "cell_type": "markdown",
   "id": "d80ffac4",
   "metadata": {},
   "source": [
    "**Can we do better than these benchmarks?**\n",
    "\n",
    "Of course yes! The accuracy is barely close to a coin toss, which is somewhat evidenced by averaging the F1-score of both the Micro and Macro average statistics\n",
    "\n",
    "The accuracy score metric is not a good indicator in this analysis because the labels are greatly imbalanced. The model in some way will be biased toward the majority labels and classes. This can be evidenced from the statistics from the Micro-average quality numbers and the Macro-average quality numbers of the precision, recall and F1-scores. Those interested can read more about those statistics @: \n",
    "- https://stats.stackexchange.com/questions/156923/should-i-make-decisions-based-on-micro-averaged-or-macro-averaged-evaluation-mea and \n",
    "- https://stats.stackexchange.com/questions/156923/should-i-make-decisions-based-on-micro-averaged-or-macro-averaged-evaluation-mea\n",
    "\n",
    "General consensus is that for multiclass classification, the Micro-average quality numbers is preferable. However, for a multilabel classification, which is what we are implementing in this analysis, both of the metrics should be about same or comparable to achieve good predictive analysis\n"
   ]
  },
  {
   "cell_type": "code",
   "execution_count": null,
   "id": "6d17e51d",
   "metadata": {},
   "outputs": [],
   "source": []
  },
  {
   "cell_type": "markdown",
   "id": "dcf65561",
   "metadata": {},
   "source": [
    "**Why did this model underperform?**"
   ]
  },
  {
   "cell_type": "markdown",
   "id": "01dec76f",
   "metadata": {},
   "source": [
    "Let us run a few exploratory data analysis on the data to see the patterns"
   ]
  },
  {
   "cell_type": "code",
   "execution_count": 25,
   "id": "0f87fe72",
   "metadata": {},
   "outputs": [],
   "source": [
    "import itertools\n",
    "merged_labels = list(itertools.chain(*labels)) #flattening list of list"
   ]
  },
  {
   "cell_type": "code",
   "execution_count": 26,
   "id": "8c7f0baf",
   "metadata": {},
   "outputs": [
    {
     "data": {
      "text/html": [
       "<div>\n",
       "<style scoped>\n",
       "    .dataframe tbody tr th:only-of-type {\n",
       "        vertical-align: middle;\n",
       "    }\n",
       "\n",
       "    .dataframe tbody tr th {\n",
       "        vertical-align: top;\n",
       "    }\n",
       "\n",
       "    .dataframe thead th {\n",
       "        text-align: right;\n",
       "    }\n",
       "</style>\n",
       "<table border=\"1\" class=\"dataframe\">\n",
       "  <thead>\n",
       "    <tr style=\"text-align: right;\">\n",
       "      <th></th>\n",
       "      <th>labels</th>\n",
       "      <th>counts</th>\n",
       "    </tr>\n",
       "  </thead>\n",
       "  <tbody>\n",
       "    <tr>\n",
       "      <th>2</th>\n",
       "      <td>usa</td>\n",
       "      <td>12322</td>\n",
       "    </tr>\n",
       "    <tr>\n",
       "      <th>20</th>\n",
       "      <td>earn</td>\n",
       "      <td>3776</td>\n",
       "    </tr>\n",
       "    <tr>\n",
       "      <th>21</th>\n",
       "      <td>acq</td>\n",
       "      <td>2210</td>\n",
       "    </tr>\n",
       "    <tr>\n",
       "      <th>29</th>\n",
       "      <td>uk</td>\n",
       "      <td>1451</td>\n",
       "    </tr>\n",
       "    <tr>\n",
       "      <th>64</th>\n",
       "      <td>japan</td>\n",
       "      <td>1104</td>\n",
       "    </tr>\n",
       "    <tr>\n",
       "      <th>27</th>\n",
       "      <td>canada</td>\n",
       "      <td>1063</td>\n",
       "    </tr>\n",
       "    <tr>\n",
       "      <th>69</th>\n",
       "      <td>money-fx</td>\n",
       "      <td>684</td>\n",
       "    </tr>\n",
       "    <tr>\n",
       "      <th>5</th>\n",
       "      <td>grain</td>\n",
       "      <td>574</td>\n",
       "    </tr>\n",
       "    <tr>\n",
       "      <th>52</th>\n",
       "      <td>crude</td>\n",
       "      <td>566</td>\n",
       "    </tr>\n",
       "    <tr>\n",
       "      <th>113</th>\n",
       "      <td>west-germany</td>\n",
       "      <td>558</td>\n",
       "    </tr>\n",
       "    <tr>\n",
       "      <th>34</th>\n",
       "      <td>trade</td>\n",
       "      <td>515</td>\n",
       "    </tr>\n",
       "    <tr>\n",
       "      <th>65</th>\n",
       "      <td>france</td>\n",
       "      <td>447</td>\n",
       "    </tr>\n",
       "    <tr>\n",
       "      <th>70</th>\n",
       "      <td>interest</td>\n",
       "      <td>424</td>\n",
       "    </tr>\n",
       "    <tr>\n",
       "      <th>106</th>\n",
       "      <td>ec</td>\n",
       "      <td>337</td>\n",
       "    </tr>\n",
       "    <tr>\n",
       "      <th>4</th>\n",
       "      <td>brazil</td>\n",
       "      <td>315</td>\n",
       "    </tr>\n",
       "  </tbody>\n",
       "</table>\n",
       "</div>"
      ],
      "text/plain": [
       "           labels  counts\n",
       "2             usa   12322\n",
       "20           earn    3776\n",
       "21            acq    2210\n",
       "29             uk    1451\n",
       "64          japan    1104\n",
       "27         canada    1063\n",
       "69       money-fx     684\n",
       "5           grain     574\n",
       "52          crude     566\n",
       "113  west-germany     558\n",
       "34          trade     515\n",
       "65         france     447\n",
       "70       interest     424\n",
       "106            ec     337\n",
       "4          brazil     315"
      ]
     },
     "execution_count": 26,
     "metadata": {},
     "output_type": "execute_result"
    }
   ],
   "source": [
    "#creating a dataframe sorted by the number of counts of each labels in the documents\n",
    "import collections\n",
    "counter=collections.Counter(merged_labels)\n",
    "df = pd.DataFrame(zip(counter.keys(), counter.values()), columns = ['labels', 'counts'])\n",
    "df2 = df2 = df.sort_values(by='counts', ascending=False)\n",
    "df2.head(15)"
   ]
  },
  {
   "cell_type": "code",
   "execution_count": 27,
   "id": "b2381d9b",
   "metadata": {},
   "outputs": [
    {
     "data": {
      "text/plain": [
       "444"
      ]
     },
     "execution_count": 27,
     "metadata": {},
     "output_type": "execute_result"
    }
   ],
   "source": [
    "len(df2)"
   ]
  },
  {
   "cell_type": "code",
   "execution_count": 28,
   "id": "709d55eb",
   "metadata": {},
   "outputs": [
    {
     "data": {
      "text/plain": [
       "dict_keys(['cocoa', 'el-salvador', 'usa', 'uruguay', 'brazil', 'grain', 'wheat', 'corn', 'barley', 'oat', 'sorghum', 'veg-oil', 'linseed', 'lin-oil', 'soy-oil', 'sun-oil', 'soybean', 'oilseed', 'sunseed', 'argentina', 'earn', 'acq', 'yemen-arab-republic', 'copper', 'venezuela', 'reagan', 'housing', 'canada', 'coffee', 'uk', 'ico-coffee', 'iran', 'ship', 'sugar', 'trade', 'reserves', 'new-zealand', 'panama', 'honduras', 'money-supply', 'wilson', 'meal-feed', 'soy-meal', 'maxwell', 'philippines', 'rye', 'cotton', 'iraq', 'carcass', 'livestock', 'china', 'nyse', 'crude', 'opec', 'nat-gas', 'algeria', 'cpi', 'gnp', 'switzerland', 'oecd', 'ussr', 'lyng', 'volcker', 'south-korea', 'japan', 'france', 'chirac', 'italy', 'russell', 'money-fx', 'interest', 'hong-kong', 'taiwan', 'bop', 'australia', 'keating', 'rice', 'thailand', 'red-bean', 'ongpin', 'colombia', 'rubber', 'copra-cake', 'palm-oil', 'palmkernel', 'tea', 'plywood', 'indonesia', 'kuwait', 'ecuador', 'worldbank', 'india', 'gandhi', 'bahrain', 'saudi-arabia', 'bangladesh', 'qatar', 'oman', 'uae', 'hisham-nazer', 'egypt', 'zambia', 'poland', 'imf', 'congo', 'belgium', 'ec', 'sri-lanka', 'alum', 'singapore', 'sse', 'nasdaq', 'lse', 'west-germany', 'simex', 'netherlands', 'sweden', 'nigeria', 'nakasone', 'gold', 'platinum', 'strategic-metal', 'south-africa', 'tapioca', 'tin', 'malaysia', 'zaire', 'bolivia', 'atpc', 'rapeseed', 'groundnut-oil', 'lebanon', 'syria', 'rape-oil', 'cornglutenfeed', 'citruspulp', 'rape-meal', 'pakistan', 'hungary', 'gatt', 'brodersohn', 'james-baker', 'camdessus', 'sumita', 'balladur', 'spain', 'howard-baker', 'leigh-pemberton', 'conable', 'wool', 'dlr', 'tanzania', 'l-cattle', 'bhutan', 'nepal', 'yemen-demo-republic', 'fao', 'retail', 'turkey', 'ipi', 'lawson', 'silver', 'austria', 'liechtenstein', 'iron-steel', 'cme', 'amex', 'cuba', 'nymex', 'yeutter', 'dauster', 'comex', 'hog', 'lme', 'us-virgin-islands', 'guam', 'propane', 'heat', 'gas', 'portugal', 'greece', 'mose', 'sprinkel', 'cbt', 'jobs', 'lei', 'deng-xiaoping', 'yen', 'subroto', 'libya', 'finland', 'saudriyal', 'mexico', 'aquino', 'de-larosiere', 'ireland', 'kenya', 'zimbabwe', 'czechoslovakia', 'romania', 'zinc', 'israel', 'yugoslavia', 'chile', 'liberia', 'denmark', 'uganda', 'jamaica', 'peru', 'stoltenberg', 'morocco', 'orange', 'cboe', 'nicaragua', 'halikias', 'pet-chem', 'dominican-republic', 'luxembourg', 'costa-rica', 'guatemala', 'languetin', 'fuel', 'aqazadeh', 'de-kock', 'icahn', 'suriname', 'ivory-coast', 'cossiga', 'suharto', 'hawke', 'cayman-islands', 'papua-new-guinea', 'wpi', 'potato', 'adb-africa', 'gabon', 'boesky', 'lead', 'duisenberg', 'ruding', 'pse', 'jordan', 'east-germany', 'afghanistan', 'tunisia', 'sudan', 'somalia', 'groundnut', 'haughey', 'delors', 'can', 'kohl', 'iea', 'goria', 'fishmeal', 'du-plessis', 'income', 'tose', 'norway', 'ghana', 'unctad', 'liffe', 'palladium', 'nickel', 'lumber', 'paraguay', 'un', 'jet', 'imco', 'instal-debt', 'poehl', 'dfl', 'dmk', 'biffex', 'angola', 'stg', 'bis', 'ipe', 'mulroney', 'euratom', 'pickens', 'miyazawa', 'douglas', 'king-fahd', 'murdoch', 'schlueter', 'coconut-oil', 'inro', 'sarney', 'bulgaria', 'corn-oil', 'tse', 'stse', 'james-miller', 'ida', 'tamura', 'kampuchea', 'zse', 'burma', 'inventories', 'haiti', 'sierra-leone', 'aruba', 'ase', 'machinea', 'mnse', 'khomeini', 'icco', 'mohammed-ali-abal-khail', 'lange', 'cyprus', 'itc', 'madagascar', 'cpu', 'peseta', 'nycsce', 'ethiopia', 'babangida', 'alfonsin', 'von-weizsaecker', 'de-clercq', 'austdlr', 'north-korea', 'eib', 'iceland', 'guyana', 'herrington', 'gcc', 'oapec', 'cotton-oil', 'naphtha', 'petricioli', 'trinidad-tobago', 'djibouti', 'iwcc', 'nzdlr', 'siregar', 'rand', 'bermuda', 'isa', 'singhasaneh', 'adb-asia', 'garcia', 'kullberg', 'thatcher', 'chad', 'pork-belly', 'malawi', 'ciampi', 'mikulic', 'ringgit', 'coconut', 'bangemann', 'concepcion', 'martens', 'senegal', 'barbados', 'fernandez', 'okongwu', 'masse', 'vietnam', 'zhao-ziyang', 'mousavi', 'brunei', 'cavaco-silva', 'wang-bingqian', 'iwc-wheat', 'jaruzelski', 'castorseed', 'castor-oil', 'botswana', 'fse', 'papandreou', 'macsharry', 'cameroon', 'togo', 'guinea', 'lit', 'prawiro', 'rupiah', 'comecon', 'ozal', 'nyce', 'ryzhkov', 'mauritius', 'mozambique', 'set', 'hkse', 'asx', 'asean', 'young', 'mauritania', 'vanuatu', 'skr', 'nkr', 'dkr', 'sun-meal', 'lin-meal', 'steeg', 'eyskens', 'bse', 'carlsson', 'efta', 'sourrouille', 'kaufman', 'malta', 'johnston', 'namibia', 'lukman', 'cottonseed', 'bond', 'f-cattle', 'rubio', 'fujioka', 'escap', 'bfr', 'eca', 'del-mazo', 'mancera-aguayo', 'de-la-madrid', 'corrigan', 'ose', 'andriessen', 'hk', 'sfr', 'antigua', 'oeien', 'perez-de-cuellar', 'rwanda', 'fiji', 'greenspan', 'bresser-pereira', 'kiechle', 'benin', 'burkina-faso', 'niger', 'mise', 'lesotho', 'swaziland', 'bahamas', 'mitterrand', 'takeshita', 'stich', 'verity'])"
      ]
     },
     "execution_count": 28,
     "metadata": {},
     "output_type": "execute_result"
    }
   ],
   "source": [
    "counter.keys()"
   ]
  },
  {
   "cell_type": "code",
   "execution_count": null,
   "id": "27c4c61e",
   "metadata": {},
   "outputs": [],
   "source": []
  },
  {
   "cell_type": "code",
   "execution_count": 29,
   "id": "e0fe0ad6",
   "metadata": {},
   "outputs": [
    {
     "data": {
      "text/html": [
       "<div>\n",
       "<style scoped>\n",
       "    .dataframe tbody tr th:only-of-type {\n",
       "        vertical-align: middle;\n",
       "    }\n",
       "\n",
       "    .dataframe tbody tr th {\n",
       "        vertical-align: top;\n",
       "    }\n",
       "\n",
       "    .dataframe thead th {\n",
       "        text-align: right;\n",
       "    }\n",
       "</style>\n",
       "<table border=\"1\" class=\"dataframe\">\n",
       "  <thead>\n",
       "    <tr style=\"text-align: right;\">\n",
       "      <th></th>\n",
       "      <th>labels</th>\n",
       "      <th>counts</th>\n",
       "    </tr>\n",
       "  </thead>\n",
       "  <tbody>\n",
       "    <tr>\n",
       "      <th>398</th>\n",
       "      <td>steeg</td>\n",
       "      <td>1</td>\n",
       "    </tr>\n",
       "    <tr>\n",
       "      <th>397</th>\n",
       "      <td>lin-meal</td>\n",
       "      <td>1</td>\n",
       "    </tr>\n",
       "    <tr>\n",
       "      <th>395</th>\n",
       "      <td>dkr</td>\n",
       "      <td>1</td>\n",
       "    </tr>\n",
       "    <tr>\n",
       "      <th>393</th>\n",
       "      <td>skr</td>\n",
       "      <td>1</td>\n",
       "    </tr>\n",
       "    <tr>\n",
       "      <th>392</th>\n",
       "      <td>vanuatu</td>\n",
       "      <td>1</td>\n",
       "    </tr>\n",
       "    <tr>\n",
       "      <th>391</th>\n",
       "      <td>mauritania</td>\n",
       "      <td>1</td>\n",
       "    </tr>\n",
       "    <tr>\n",
       "      <th>390</th>\n",
       "      <td>young</td>\n",
       "      <td>1</td>\n",
       "    </tr>\n",
       "    <tr>\n",
       "      <th>268</th>\n",
       "      <td>imco</td>\n",
       "      <td>1</td>\n",
       "    </tr>\n",
       "    <tr>\n",
       "      <th>386</th>\n",
       "      <td>set</td>\n",
       "      <td>1</td>\n",
       "    </tr>\n",
       "    <tr>\n",
       "      <th>383</th>\n",
       "      <td>ryzhkov</td>\n",
       "      <td>1</td>\n",
       "    </tr>\n",
       "    <tr>\n",
       "      <th>379</th>\n",
       "      <td>rupiah</td>\n",
       "      <td>1</td>\n",
       "    </tr>\n",
       "    <tr>\n",
       "      <th>378</th>\n",
       "      <td>prawiro</td>\n",
       "      <td>1</td>\n",
       "    </tr>\n",
       "    <tr>\n",
       "      <th>376</th>\n",
       "      <td>guinea</td>\n",
       "      <td>1</td>\n",
       "    </tr>\n",
       "    <tr>\n",
       "      <th>279</th>\n",
       "      <td>euratom</td>\n",
       "      <td>1</td>\n",
       "    </tr>\n",
       "    <tr>\n",
       "      <th>380</th>\n",
       "      <td>comecon</td>\n",
       "      <td>1</td>\n",
       "    </tr>\n",
       "  </tbody>\n",
       "</table>\n",
       "</div>"
      ],
      "text/plain": [
       "         labels  counts\n",
       "398       steeg       1\n",
       "397    lin-meal       1\n",
       "395         dkr       1\n",
       "393         skr       1\n",
       "392     vanuatu       1\n",
       "391  mauritania       1\n",
       "390       young       1\n",
       "268        imco       1\n",
       "386         set       1\n",
       "383     ryzhkov       1\n",
       "379      rupiah       1\n",
       "378     prawiro       1\n",
       "376      guinea       1\n",
       "279     euratom       1\n",
       "380     comecon       1"
      ]
     },
     "execution_count": 29,
     "metadata": {},
     "output_type": "execute_result"
    }
   ],
   "source": [
    "df2.tail(15)"
   ]
  },
  {
   "cell_type": "markdown",
   "id": "14513265",
   "metadata": {},
   "source": [
    "NOTE: The DataFrame above shows why a stratified split would not work as mentioned earlier. This is because the least populated class in labels has only 1 member, which is too few. The minimum number of groups for any class cannot be less than 2."
   ]
  },
  {
   "cell_type": "code",
   "execution_count": null,
   "id": "c1da748f",
   "metadata": {},
   "outputs": [],
   "source": []
  },
  {
   "cell_type": "code",
   "execution_count": null,
   "id": "e4c60576",
   "metadata": {},
   "outputs": [],
   "source": []
  },
  {
   "cell_type": "code",
   "execution_count": 30,
   "id": "8bab8f5c",
   "metadata": {},
   "outputs": [],
   "source": [
    "#function to plot the counts of the occurrences of the labels\n",
    "def df_occr(dataframe, limit=None):\n",
    "    df = dataframe.head(limit)\n",
    "    df.plot(x='labels', y='counts', kind='bar', legend=False, grid=True, figsize=(15, 10))\n",
    "    plt.title(\"Counts of each labels across all documents\")\n",
    "    plt.ylabel('# of Occurrences', fontsize=12)\n",
    "    plt.xlabel('category', fontsize=12)"
   ]
  },
  {
   "cell_type": "code",
   "execution_count": 31,
   "id": "16dda647",
   "metadata": {},
   "outputs": [
    {
     "data": {
      "image/png": "[encoded data removed]",
      "text/plain": [
       "<Figure size 1080x720 with 1 Axes>"
      ]
     },
     "metadata": {
      "needs_background": "light"
     },
     "output_type": "display_data"
    }
   ],
   "source": [
    "df_occr(df2)"
   ]
  },
  {
   "cell_type": "code",
   "execution_count": null,
   "id": "3cd03dd3",
   "metadata": {},
   "outputs": [],
   "source": []
  },
  {
   "cell_type": "markdown",
   "id": "27917692",
   "metadata": {},
   "source": [
    "Since a label cannot appear more than once for a document; the plot above shows the labels aren't evenly distributed across all documents. This means some labels are sparse than others, which will cause a bias to the dominant labels."
   ]
  },
  {
   "cell_type": "code",
   "execution_count": 32,
   "id": "521bbb6c",
   "metadata": {},
   "outputs": [
    {
     "data": {
      "image/png": "[encoded data removed]",
      "text/plain": [
       "<Figure size 1080x720 with 1 Axes>"
      ]
     },
     "metadata": {
      "needs_background": "light"
     },
     "output_type": "display_data"
    }
   ],
   "source": [
    "df_occr(df2, 10)"
   ]
  },
  {
   "cell_type": "markdown",
   "id": "fd033422",
   "metadata": {},
   "source": [
    "Zooming into the plot ..."
   ]
  },
  {
   "cell_type": "code",
   "execution_count": 33,
   "id": "aaba76bb",
   "metadata": {},
   "outputs": [
    {
     "data": {
      "image/png": "[encoded data removed]",
      "text/plain": [
       "<Figure size 1080x720 with 1 Axes>"
      ]
     },
     "metadata": {
      "needs_background": "light"
     },
     "output_type": "display_data"
    }
   ],
   "source": [
    "df_occr(df2, 20)"
   ]
  },
  {
   "cell_type": "markdown",
   "id": "62e8e7e8",
   "metadata": {},
   "source": [
    "Zooming in more ..."
   ]
  },
  {
   "cell_type": "code",
   "execution_count": 34,
   "id": "56e2065e",
   "metadata": {
    "scrolled": false
   },
   "outputs": [
    {
     "data": {
      "image/png": "[encoded data removed]",
      "text/plain": [
       "<Figure size 1080x720 with 1 Axes>"
      ]
     },
     "metadata": {
      "needs_background": "light"
     },
     "output_type": "display_data"
    }
   ],
   "source": [
    "df_occr(df2, 40)"
   ]
  },
  {
   "cell_type": "markdown",
   "id": "9f3f8fa0",
   "metadata": {},
   "source": [
    "Zooming in even more .....\n",
    "\n",
    "So we get the point. A way to solve this is making the classes somewhat evenly distributed by combining classes. This is an art, not a science and will depend on objectives and how effective one needs the predicitive abilities to be from the data. Combining labels maybe also require some domain knowledge to achieve a grouping that makes sense. For the purpose of this work, we will just exemplify this approach to see it's effectiveness.  "
   ]
  },
  {
   "cell_type": "code",
   "execution_count": null,
   "id": "605b5dac",
   "metadata": {},
   "outputs": [],
   "source": []
  },
  {
   "cell_type": "code",
   "execution_count": 35,
   "id": "bf54c95d",
   "metadata": {},
   "outputs": [
    {
     "data": {
      "text/html": [
       "<div>\n",
       "<style scoped>\n",
       "    .dataframe tbody tr th:only-of-type {\n",
       "        vertical-align: middle;\n",
       "    }\n",
       "\n",
       "    .dataframe tbody tr th {\n",
       "        vertical-align: top;\n",
       "    }\n",
       "\n",
       "    .dataframe thead th {\n",
       "        text-align: right;\n",
       "    }\n",
       "</style>\n",
       "<table border=\"1\" class=\"dataframe\">\n",
       "  <thead>\n",
       "    <tr style=\"text-align: right;\">\n",
       "      <th></th>\n",
       "      <th>labels</th>\n",
       "      <th>counts</th>\n",
       "    </tr>\n",
       "  </thead>\n",
       "  <tbody>\n",
       "    <tr>\n",
       "      <th>2</th>\n",
       "      <td>usa</td>\n",
       "      <td>12322</td>\n",
       "    </tr>\n",
       "    <tr>\n",
       "      <th>20</th>\n",
       "      <td>earn</td>\n",
       "      <td>3776</td>\n",
       "    </tr>\n",
       "    <tr>\n",
       "      <th>21</th>\n",
       "      <td>acq</td>\n",
       "      <td>2210</td>\n",
       "    </tr>\n",
       "    <tr>\n",
       "      <th>29</th>\n",
       "      <td>uk</td>\n",
       "      <td>1451</td>\n",
       "    </tr>\n",
       "    <tr>\n",
       "      <th>64</th>\n",
       "      <td>japan</td>\n",
       "      <td>1104</td>\n",
       "    </tr>\n",
       "    <tr>\n",
       "      <th>...</th>\n",
       "      <td>...</td>\n",
       "      <td>...</td>\n",
       "    </tr>\n",
       "    <tr>\n",
       "      <th>379</th>\n",
       "      <td>rupiah</td>\n",
       "      <td>1</td>\n",
       "    </tr>\n",
       "    <tr>\n",
       "      <th>378</th>\n",
       "      <td>prawiro</td>\n",
       "      <td>1</td>\n",
       "    </tr>\n",
       "    <tr>\n",
       "      <th>376</th>\n",
       "      <td>guinea</td>\n",
       "      <td>1</td>\n",
       "    </tr>\n",
       "    <tr>\n",
       "      <th>279</th>\n",
       "      <td>euratom</td>\n",
       "      <td>1</td>\n",
       "    </tr>\n",
       "    <tr>\n",
       "      <th>380</th>\n",
       "      <td>comecon</td>\n",
       "      <td>1</td>\n",
       "    </tr>\n",
       "  </tbody>\n",
       "</table>\n",
       "<p>444 rows × 2 columns</p>\n",
       "</div>"
      ],
      "text/plain": [
       "      labels  counts\n",
       "2        usa   12322\n",
       "20      earn    3776\n",
       "21       acq    2210\n",
       "29        uk    1451\n",
       "64     japan    1104\n",
       "..       ...     ...\n",
       "379   rupiah       1\n",
       "378  prawiro       1\n",
       "376   guinea       1\n",
       "279  euratom       1\n",
       "380  comecon       1\n",
       "\n",
       "[444 rows x 2 columns]"
      ]
     },
     "execution_count": 35,
     "metadata": {},
     "output_type": "execute_result"
    }
   ],
   "source": [
    "df2"
   ]
  },
  {
   "cell_type": "code",
   "execution_count": null,
   "id": "a3c46a79",
   "metadata": {},
   "outputs": [],
   "source": []
  },
  {
   "cell_type": "code",
   "execution_count": 36,
   "id": "12eb55b9",
   "metadata": {},
   "outputs": [
    {
     "data": {
      "text/plain": [
       "['usa', 'earn', 'acq', 'uk', 'japan']"
      ]
     },
     "execution_count": 36,
     "metadata": {},
     "output_type": "execute_result"
    }
   ],
   "source": [
    "new_labels = df2.head().labels.values.tolist()\n",
    "new_labels"
   ]
  },
  {
   "cell_type": "code",
   "execution_count": 37,
   "id": "45d73b8d",
   "metadata": {},
   "outputs": [
    {
     "data": {
      "text/plain": [
       "['usa',\n",
       " 'earn',\n",
       " 'acq',\n",
       " 'uk',\n",
       " 'japan',\n",
       " 'canada',\n",
       " 'money-fx',\n",
       " 'grain',\n",
       " 'crude',\n",
       " 'west-germany',\n",
       " 'trade',\n",
       " 'france',\n",
       " 'interest',\n",
       " 'ec',\n",
       " 'brazil',\n",
       " 'ship',\n",
       " 'wheat',\n",
       " 'australia',\n",
       " 'corn',\n",
       " 'china',\n",
       " 'belgium',\n",
       " 'switzerland',\n",
       " 'ussr',\n",
       " 'netherlands',\n",
       " 'oilseed',\n",
       " 'iran',\n",
       " 'sugar',\n",
       " 'italy',\n",
       " 'dlr',\n",
       " 'gnp',\n",
       " 'coffee',\n",
       " 'hong-kong',\n",
       " 'reagan',\n",
       " 'philippines',\n",
       " 'veg-oil',\n",
       " 'gold',\n",
       " 'james-baker',\n",
       " 'taiwan',\n",
       " 'money-supply',\n",
       " 'nat-gas',\n",
       " 'spain',\n",
       " 'livestock',\n",
       " 'south-africa',\n",
       " 'south-korea',\n",
       " 'soybean',\n",
       " 'new-zealand',\n",
       " 'sweden',\n",
       " 'imf',\n",
       " 'bop',\n",
       " 'cpi',\n",
       " 'indonesia',\n",
       " 'argentina',\n",
       " 'opec',\n",
       " 'worldbank',\n",
       " 'iraq',\n",
       " 'saudi-arabia',\n",
       " 'india',\n",
       " 'thailand',\n",
       " 'nyse',\n",
       " 'mexico',\n",
       " 'gatt',\n",
       " 'malaysia',\n",
       " 'copper',\n",
       " 'carcass',\n",
       " 'venezuela',\n",
       " 'reserves',\n",
       " 'singapore',\n",
       " 'ecuador',\n",
       " 'jobs',\n",
       " 'cocoa',\n",
       " 'nasdaq',\n",
       " 'rice',\n",
       " 'iron-steel',\n",
       " 'volcker',\n",
       " 'turkey',\n",
       " 'cotton',\n",
       " 'yeutter',\n",
       " 'nakasone',\n",
       " 'alum',\n",
       " 'yen',\n",
       " 'amex',\n",
       " 'ipi',\n",
       " 'gas',\n",
       " 'ico-coffee',\n",
       " 'denmark',\n",
       " 'colombia',\n",
       " 'kuwait',\n",
       " 'meal-feed',\n",
       " 'egypt',\n",
       " 'oecd',\n",
       " 'luxembourg',\n",
       " 'rubber',\n",
       " 'barley',\n",
       " 'miyazawa',\n",
       " 'bahrain',\n",
       " 'lawson',\n",
       " 'yugoslavia',\n",
       " 'peru',\n",
       " 'norway',\n",
       " 'zinc',\n",
       " 'palm-oil',\n",
       " 'stoltenberg',\n",
       " 'pet-chem',\n",
       " 'uae',\n",
       " 'lyng',\n",
       " 'finland',\n",
       " 'pakistan',\n",
       " 'portugal',\n",
       " 'icco',\n",
       " 'silver',\n",
       " 'greece',\n",
       " 'rapeseed',\n",
       " 'nigeria',\n",
       " 'lead',\n",
       " 'bangladesh',\n",
       " 'cbt',\n",
       " 'sorghum',\n",
       " 'algeria',\n",
       " 'tin',\n",
       " 'sri-lanka',\n",
       " 'strategic-metal',\n",
       " 'balladur',\n",
       " 'greenspan',\n",
       " 'wpi',\n",
       " 'nicaragua',\n",
       " 'fuel',\n",
       " 'israel',\n",
       " 'austria',\n",
       " 'soy-meal',\n",
       " 'hog',\n",
       " 'cme',\n",
       " 'sumita',\n",
       " 'soy-oil',\n",
       " 'heat',\n",
       " 'ongpin',\n",
       " 'orange',\n",
       " 'retail',\n",
       " 'zambia',\n",
       " 'bolivia',\n",
       " 'tse',\n",
       " 'lse',\n",
       " 'poehl',\n",
       " 'conable',\n",
       " 'cyprus',\n",
       " 'ivory-coast',\n",
       " 'adb-asia',\n",
       " 'hungary',\n",
       " 'thatcher',\n",
       " 'kenya',\n",
       " 'lebanon',\n",
       " 'costa-rica',\n",
       " 'cuba',\n",
       " 'poland',\n",
       " 'ireland',\n",
       " 'morocco',\n",
       " 'housing',\n",
       " 'sunseed',\n",
       " 'lumber',\n",
       " 'stg',\n",
       " 'qatar',\n",
       " 'chile',\n",
       " 'uganda',\n",
       " 'jordan',\n",
       " 'libya',\n",
       " 'tanzania',\n",
       " 'tea',\n",
       " 'zimbabwe',\n",
       " 'wilson',\n",
       " 'subroto',\n",
       " 'herrington',\n",
       " 'james-miller',\n",
       " 'ghana',\n",
       " 'cboe',\n",
       " 'dmk',\n",
       " 'de-clercq',\n",
       " 'lme',\n",
       " 'sarney',\n",
       " 'jamaica',\n",
       " 'oat',\n",
       " 'lei',\n",
       " 'honduras',\n",
       " 'income',\n",
       " 'itc',\n",
       " 'chirac',\n",
       " 'liffe',\n",
       " 'panama',\n",
       " 'nickel',\n",
       " 'platinum',\n",
       " 'el-salvador',\n",
       " 'sprinkel',\n",
       " 'adb-africa',\n",
       " 'un',\n",
       " 'kohl',\n",
       " 'groundnut',\n",
       " 'tunisia',\n",
       " 'syria',\n",
       " 'eyskens',\n",
       " 'nymex',\n",
       " 'guatemala',\n",
       " 'howard-baker',\n",
       " 'zaire',\n",
       " 'ase',\n",
       " 'l-cattle',\n",
       " 'douglas',\n",
       " 'tamura',\n",
       " 'sudan',\n",
       " 'unctad',\n",
       " 'rape-oil',\n",
       " 'sun-oil',\n",
       " 'yemen-arab-republic',\n",
       " 'tose',\n",
       " 'dominican-republic',\n",
       " 'vietnam',\n",
       " 'du-plessis',\n",
       " 'zhao-ziyang',\n",
       " 'chad',\n",
       " 'boesky',\n",
       " 'haiti',\n",
       " 'pse',\n",
       " 'fao',\n",
       " 'dauster',\n",
       " 'jet',\n",
       " 'delors',\n",
       " 'keating',\n",
       " 'hisham-nazer',\n",
       " 'papua-new-guinea',\n",
       " 'hawke',\n",
       " 'mulroney',\n",
       " 'naphtha',\n",
       " 'von-weizsaecker',\n",
       " 'coconut-oil',\n",
       " 'inro',\n",
       " 'simex',\n",
       " 'leigh-pemberton',\n",
       " 'north-korea',\n",
       " 'icahn',\n",
       " 'eib',\n",
       " 'nycsce',\n",
       " 'nyce',\n",
       " 'brunei',\n",
       " 'coconut',\n",
       " 'iea',\n",
       " 'bangemann',\n",
       " 'inventories',\n",
       " 'fernandez',\n",
       " 'aqazadeh',\n",
       " 'oman',\n",
       " 'ruding',\n",
       " 'potato',\n",
       " 'camdessus',\n",
       " 'comex',\n",
       " 'propane',\n",
       " 'mikulic',\n",
       " 'senegal',\n",
       " 'garcia',\n",
       " 'mauritius',\n",
       " 'papandreou',\n",
       " 'mozambique',\n",
       " 'czechoslovakia',\n",
       " 'instal-debt',\n",
       " 'hkse',\n",
       " 'romania',\n",
       " 'asx',\n",
       " 'ethiopia',\n",
       " 'gabon',\n",
       " 'petricioli',\n",
       " 'madagascar',\n",
       " 'suriname',\n",
       " 'uruguay',\n",
       " 'mancera-aguayo',\n",
       " 'sse',\n",
       " 'tapioca',\n",
       " 'concepcion',\n",
       " 'cavaco-silva',\n",
       " 'malawi',\n",
       " 'ida',\n",
       " 'machinea',\n",
       " 'trinidad-tobago',\n",
       " 'nzdlr',\n",
       " 'bermuda',\n",
       " 'plywood',\n",
       " 'austdlr',\n",
       " 'languetin',\n",
       " 'aquino',\n",
       " 'de-kock',\n",
       " 'sourrouille',\n",
       " 'perez-de-cuellar',\n",
       " 'biffex',\n",
       " 'fujioka',\n",
       " 'east-germany',\n",
       " 'takeshita',\n",
       " 'cameroon',\n",
       " 'fiji',\n",
       " 'iceland',\n",
       " 'rand',\n",
       " 'cotton-oil',\n",
       " 'sfr',\n",
       " 'corrigan',\n",
       " 'del-mazo',\n",
       " 'atpc',\n",
       " 'gcc',\n",
       " 'botswana',\n",
       " 'isa',\n",
       " 'mousavi',\n",
       " 'f-cattle',\n",
       " 'gandhi',\n",
       " 'afghanistan',\n",
       " 'pork-belly',\n",
       " 'ozal',\n",
       " 'palmkernel',\n",
       " 'copra-cake',\n",
       " 'lit',\n",
       " 'togo',\n",
       " 'barbados',\n",
       " 'fse',\n",
       " 'somalia',\n",
       " 'verity',\n",
       " 'liberia',\n",
       " 'goria',\n",
       " 'king-fahd',\n",
       " 'bulgaria',\n",
       " 'can',\n",
       " 'deng-xiaoping',\n",
       " 'yemen-demo-republic',\n",
       " 'saudriyal',\n",
       " 'zse',\n",
       " 'nepal',\n",
       " 'dfl',\n",
       " 'suharto',\n",
       " 'sierra-leone',\n",
       " 'palladium',\n",
       " 'brodersohn',\n",
       " 'asean',\n",
       " 'nkr',\n",
       " 'kaufman',\n",
       " 'paraguay',\n",
       " 'mose',\n",
       " 'wang-bingqian',\n",
       " 'iwc-wheat',\n",
       " 'bse',\n",
       " 'linseed',\n",
       " 'jaruzelski',\n",
       " 'castor-oil',\n",
       " 'sun-meal',\n",
       " 'fishmeal',\n",
       " 'macsharry',\n",
       " 'eca',\n",
       " 'ipe',\n",
       " 'bis',\n",
       " 'escap',\n",
       " 'cayman-islands',\n",
       " 'rwanda',\n",
       " 'babangida',\n",
       " 'angola',\n",
       " 'lin-oil',\n",
       " 'de-la-madrid',\n",
       " 'de-larosiere',\n",
       " 'masse',\n",
       " 'rye',\n",
       " 'duisenberg',\n",
       " 'niger',\n",
       " 'alfonsin',\n",
       " 'cornglutenfeed',\n",
       " 'groundnut-oil',\n",
       " 'cpu',\n",
       " 'haughey',\n",
       " 'guyana',\n",
       " 'lange',\n",
       " 'mohammed-ali-abal-khail',\n",
       " 'oapec',\n",
       " 'congo',\n",
       " 'wool',\n",
       " 'djibouti',\n",
       " 'murdoch',\n",
       " 'mise',\n",
       " 'namibia',\n",
       " 'us-virgin-islands',\n",
       " 'bresser-pereira',\n",
       " 'burma',\n",
       " 'schlueter',\n",
       " 'kampuchea',\n",
       " 'martens',\n",
       " 'ciampi',\n",
       " 'guam',\n",
       " 'stse',\n",
       " 'halikias',\n",
       " 'rubio',\n",
       " 'andriessen',\n",
       " 'bond',\n",
       " 'oeien',\n",
       " 'cottonseed',\n",
       " 'lukman',\n",
       " 'johnston',\n",
       " 'stich',\n",
       " 'bfr',\n",
       " 'burkina-faso',\n",
       " 'antigua',\n",
       " 'mitterrand',\n",
       " 'cossiga',\n",
       " 'bahamas',\n",
       " 'kiechle',\n",
       " 'hk',\n",
       " 'lesotho',\n",
       " 'benin',\n",
       " 'ose',\n",
       " 'swaziland',\n",
       " 'citruspulp',\n",
       " 'malta',\n",
       " 'maxwell',\n",
       " 'okongwu',\n",
       " 'red-bean',\n",
       " 'ringgit',\n",
       " 'corn-oil',\n",
       " 'liechtenstein',\n",
       " 'kullberg',\n",
       " 'singhasaneh',\n",
       " 'bhutan',\n",
       " 'siregar',\n",
       " 'aruba',\n",
       " 'iwcc',\n",
       " 'mnse',\n",
       " 'khomeini',\n",
       " 'rape-meal',\n",
       " 'peseta',\n",
       " 'russell',\n",
       " 'castorseed',\n",
       " 'efta',\n",
       " 'pickens',\n",
       " 'carlsson',\n",
       " 'steeg',\n",
       " 'lin-meal',\n",
       " 'dkr',\n",
       " 'skr',\n",
       " 'vanuatu',\n",
       " 'mauritania',\n",
       " 'young',\n",
       " 'imco',\n",
       " 'set',\n",
       " 'ryzhkov',\n",
       " 'rupiah',\n",
       " 'prawiro',\n",
       " 'guinea',\n",
       " 'euratom',\n",
       " 'comecon']"
      ]
     },
     "execution_count": 37,
     "metadata": {},
     "output_type": "execute_result"
    }
   ],
   "source": [
    "new_labels2 = df2.labels.values.tolist()\n",
    "new_labels2"
   ]
  },
  {
   "cell_type": "code",
   "execution_count": 38,
   "id": "0d435dbb",
   "metadata": {},
   "outputs": [
    {
     "data": {
      "text/plain": [
       "[['acq', 'usa'],\n",
       " ['sugar', 'mauritius', 'uk'],\n",
       " ['acq', 'usa'],\n",
       " ['usa'],\n",
       " ['usa'],\n",
       " ['usa'],\n",
       " ['grain', 'orange', 'sugar', 'china']]"
      ]
     },
     "execution_count": 38,
     "metadata": {},
     "output_type": "execute_result"
    }
   ],
   "source": [
    "y_train[:7]"
   ]
  },
  {
   "cell_type": "code",
   "execution_count": null,
   "id": "89953df7",
   "metadata": {},
   "outputs": [],
   "source": []
  },
  {
   "cell_type": "code",
   "execution_count": 39,
   "id": "a952504e",
   "metadata": {},
   "outputs": [],
   "source": [
    "# Created a function that will do this merge or groupings\n",
    "# number of labels ranges from 0 to 90\n",
    "# label type is either y_train or y_test\n",
    "\n",
    "def label_merge(label_type, number_of_label=1, ):\n",
    "    \"\"\"\n",
    "     This function allows one merge or group labels\n",
    "\n",
    "     number_of_positive_labels: where positve label is 1 and all other\\\n",
    "     labels are merged/grouped into the negative label 0. original number\\\n",
    "     of labels ranging from 0 to 90.\n",
    "     \n",
    "     label_type: this either the y_test (labels of the test set) or \\\n",
    "     y_train (labels of the train set)\n",
    "     \n",
    "     \"\"\"\n",
    "    \n",
    "    new_labels = df2.head(number_of_label).labels.values.tolist()\n",
    "    for ele in (label_type):\n",
    "        for i, x in enumerate (ele):\n",
    "            if x in new_labels:\n",
    "                continue\n",
    "            else: \n",
    "                ele[i] = 'merged'"
   ]
  },
  {
   "cell_type": "code",
   "execution_count": null,
   "id": "9b37463d",
   "metadata": {},
   "outputs": [],
   "source": []
  },
  {
   "cell_type": "code",
   "execution_count": 40,
   "id": "fbb8706a",
   "metadata": {},
   "outputs": [
    {
     "data": {
      "text/plain": [
       "[['acq', 'usa'],\n",
       " ['merged', 'merged', 'merged'],\n",
       " ['acq', 'usa'],\n",
       " ['usa'],\n",
       " ['usa']]"
      ]
     },
     "execution_count": 40,
     "metadata": {},
     "output_type": "execute_result"
    }
   ],
   "source": [
    "#applying the merge function to the train and test labels\n",
    "label_merge(y_train, 3)\n",
    "y_train[:5]"
   ]
  },
  {
   "cell_type": "code",
   "execution_count": 41,
   "id": "9438b700",
   "metadata": {},
   "outputs": [
    {
     "data": {
      "text/plain": [
       "[['acq', 'usa'],\n",
       " ['merged', 'merged', 'merged'],\n",
       " ['acq', 'usa'],\n",
       " ['usa'],\n",
       " ['usa'],\n",
       " ['usa'],\n",
       " ['merged', 'merged', 'merged', 'merged'],\n",
       " ['acq', 'usa'],\n",
       " ['usa'],\n",
       " ['merged', 'merged', 'merged', 'merged'],\n",
       " ['earn', 'usa']]"
      ]
     },
     "execution_count": 41,
     "metadata": {},
     "output_type": "execute_result"
    }
   ],
   "source": [
    "y_train[:11]"
   ]
  },
  {
   "cell_type": "code",
   "execution_count": null,
   "id": "b7857bd2",
   "metadata": {},
   "outputs": [],
   "source": []
  },
  {
   "cell_type": "code",
   "execution_count": 42,
   "id": "7c2b94c5",
   "metadata": {},
   "outputs": [],
   "source": [
    "import itertools\n",
    "import collections\n",
    "\n",
    "def df_occr2(labels):\n",
    "    \n",
    "    merged_labels = list(itertools.chain(*labels)) #flattening list of list\n",
    "    \n",
    "    #creating a dataframe sorted by the number of counts of each labels in the documents\n",
    "    counter=collections.Counter(merged_labels)\n",
    "        \n",
    "    df = pd.DataFrame(zip(counter.keys(), counter.values()), columns = ['labels', 'counts'])\n",
    "    df2 = df.sort_values(by='counts', ascending=False)\n",
    "    \n",
    "    #df3= df2.head(limit)\n",
    "    df2.plot(x='labels', y='counts', kind='bar', legend=False, grid=True, figsize=(15, 10))\n",
    "    plt.title(\"Counts of each labels across all documents\")\n",
    "    plt.ylabel('# of Occurrences', fontsize=12)\n",
    "    plt.xlabel('category', fontsize=12)"
   ]
  },
  {
   "cell_type": "code",
   "execution_count": null,
   "id": "2545f0ec",
   "metadata": {},
   "outputs": [],
   "source": []
  },
  {
   "cell_type": "code",
   "execution_count": 43,
   "id": "d0e40089",
   "metadata": {},
   "outputs": [
    {
     "data": {
      "image/png": "[encoded data removed]",
      "text/plain": [
       "<Figure size 1080x720 with 1 Axes>"
      ]
     },
     "metadata": {
      "needs_background": "light"
     },
     "output_type": "display_data"
    }
   ],
   "source": [
    "df_occr2(y_train)"
   ]
  },
  {
   "cell_type": "code",
   "execution_count": null,
   "id": "e341c5a4",
   "metadata": {},
   "outputs": [],
   "source": []
  },
  {
   "cell_type": "code",
   "execution_count": 44,
   "id": "5a1d97b3",
   "metadata": {},
   "outputs": [],
   "source": [
    "label_merge(y_test, 3)"
   ]
  },
  {
   "cell_type": "code",
   "execution_count": null,
   "id": "cdbc26d1",
   "metadata": {},
   "outputs": [],
   "source": []
  },
  {
   "cell_type": "code",
   "execution_count": 45,
   "id": "e2e2e0fa",
   "metadata": {},
   "outputs": [],
   "source": [
    "#transform multilabel labels\n",
    "#mlb = MultiLabelBinarizer()\n",
    "train_labels = mlb.fit_transform(y_train) \n",
    "test_labels = mlb.transform(y_test)"
   ]
  },
  {
   "cell_type": "code",
   "execution_count": 46,
   "id": "5b05954f",
   "metadata": {},
   "outputs": [],
   "source": [
    "classifier = classifier.fit(vectorized_train_docu, train_labels)"
   ]
  },
  {
   "cell_type": "code",
   "execution_count": 47,
   "id": "5c548908",
   "metadata": {},
   "outputs": [
    {
     "name": "stdout",
     "output_type": "stream",
     "text": [
      "Cross-validation scores: [0.82864883 0.82797155 0.82356925 0.83068066 0.81916695]\n",
      "Cross-validation accuracy: 0.8260 (+/- 0.0083)\n",
      "\n",
      "Micro-average quality numbers\n",
      "Precision: 0.9354, Recall: 0.9275, F1-measure: 0.9314\n",
      "\n",
      "Macro-average quality numbers\n",
      "Precision: 0.9090, Recall: 0.9174, F1-measure: 0.9126\n"
     ]
    }
   ],
   "source": [
    "pred_eval(classifier, vectorized_train_docu, train_labels, vectorized_test_docu, test_labels)"
   ]
  },
  {
   "cell_type": "code",
   "execution_count": null,
   "id": "e6fd91a1",
   "metadata": {},
   "outputs": [],
   "source": []
  },
  {
   "cell_type": "code",
   "execution_count": 48,
   "id": "3dcb4640",
   "metadata": {},
   "outputs": [
    {
     "data": {
      "text/plain": [
       "['usa', 'earn', 'acq']"
      ]
     },
     "execution_count": 48,
     "metadata": {},
     "output_type": "execute_result"
    }
   ],
   "source": [
    "new_labels = df2.head(3).labels.values.tolist()\n",
    "new_labels"
   ]
  },
  {
   "cell_type": "code",
   "execution_count": 49,
   "id": "ce27d643",
   "metadata": {},
   "outputs": [],
   "source": [
    "def label_merge_top(label_type,):\n",
    "    \"\"\"\n",
    "     This function allows one merge or group labels\n",
    "\n",
    "     number_of_positive_labels: where positve label is 1 and all other\\\n",
    "     labels are merged/grouped into the negative label 0. original number\\\n",
    "     of labels ranging from 0 to 90.\n",
    "     \n",
    "     label_type: this either the y_test (labels of the test set) or \\\n",
    "     y_train (labels of the train set)\n",
    "     \n",
    "     \"\"\"\n",
    "    \n",
    "    new_labels = df2.head(3).labels.values.tolist()\n",
    "    for ele in (label_type):\n",
    "        for i, x in enumerate (ele):\n",
    "            if x in new_labels:\n",
    "                ele[i] = 'top_three_label'\n",
    "                #continue\n",
    "            else: \n",
    "                ele[i] = 'not_a_top_three_label'"
   ]
  },
  {
   "cell_type": "code",
   "execution_count": null,
   "id": "d43f798c",
   "metadata": {},
   "outputs": [],
   "source": []
  },
  {
   "cell_type": "code",
   "execution_count": 50,
   "id": "a87458a4",
   "metadata": {},
   "outputs": [],
   "source": [
    "label_merge_top(y_train)\n",
    "label_merge_top(y_test)"
   ]
  },
  {
   "cell_type": "code",
   "execution_count": 51,
   "id": "bcb6617b",
   "metadata": {},
   "outputs": [
    {
     "data": {
      "image/png": "[encoded data removed]",
      "text/plain": [
       "<Figure size 1080x720 with 1 Axes>"
      ]
     },
     "metadata": {
      "needs_background": "light"
     },
     "output_type": "display_data"
    }
   ],
   "source": [
    "df_occr2(y_train)"
   ]
  },
  {
   "cell_type": "code",
   "execution_count": null,
   "id": "3bcfe2c4",
   "metadata": {},
   "outputs": [],
   "source": []
  },
  {
   "cell_type": "code",
   "execution_count": 52,
   "id": "0ed1a20a",
   "metadata": {},
   "outputs": [
    {
     "name": "stdout",
     "output_type": "stream",
     "text": [
      "Cross-validation scores: [0.87233322 0.87673552 0.88046055 0.8730105  0.8730105 ]\n",
      "Cross-validation accuracy: 0.8751 (+/- 0.0062)\n",
      "\n",
      "Micro-average quality numbers\n",
      "Precision: 0.9588, Recall: 0.9299, F1-measure: 0.9441\n",
      "\n",
      "Macro-average quality numbers\n",
      "Precision: 0.9575, Recall: 0.9266, F1-measure: 0.9418\n"
     ]
    }
   ],
   "source": [
    "#transform multilabel labels\n",
    "#mlb = MultiLabelBinarizer()\n",
    "train_labels = mlb.fit_transform(y_train) \n",
    "test_labels = mlb.transform(y_test)\n",
    "\n",
    "classifier = classifier.fit(vectorized_train_docu, train_labels)\n",
    "\n",
    "pred_eval(classifier, vectorized_train_docu, train_labels, vectorized_test_docu, test_labels)"
   ]
  },
  {
   "cell_type": "code",
   "execution_count": null,
   "id": "f23d7b70",
   "metadata": {},
   "outputs": [],
   "source": []
  },
  {
   "cell_type": "code",
   "execution_count": 53,
   "id": "b89f8dc8",
   "metadata": {},
   "outputs": [
    {
     "data": {
      "image/png": "[encoded data removed]",
      "text/plain": [
       "<Figure size 864x576 with 1 Axes>"
      ]
     },
     "metadata": {
      "needs_background": "light"
     },
     "output_type": "display_data"
    }
   ],
   "source": [
    "# Create CV training and test scores for various training set sizes\n",
    "\n",
    "#@ credit goes to \n",
    "\n",
    "from sklearn.model_selection import learning_curve\n",
    "import matplotlib\n",
    "import matplotlib.pyplot as plt\n",
    "from matplotlib import rcParams \n",
    "train_sizes, train_scores, valid_scores = learning_curve(classifier, vectorized_train_docu, train_labels, cv=20, \n",
    "                                                                     scoring='accuracy', n_jobs=-1,\n",
    "                                                                     train_sizes=[500, 1000, 2000, 4000, 8000, 11747])\n",
    "\n",
    "# Create means and standard deviations of training set scores\n",
    "train_mean = np.mean(train_scores, axis=1)\n",
    "train_std = np.std(train_scores, axis=1)\n",
    "\n",
    "# Create means and standard deviations of test set scores\n",
    "valid_mean = np.mean(valid_scores, axis=1)\n",
    "valid_std = np.std(valid_scores, axis=1)\n",
    "fig = matplotlib.pyplot.gcf()\n",
    "fig.set_size_inches(12, 8)\n",
    "\n",
    "# Draw lines\n",
    "plt.plot(train_sizes, train_mean, '--', color=\"#111111\", label=\"Training score\")\n",
    "plt.plot(train_sizes, valid_mean, color=\"#111111\", label=\"Cross-validation score\")\n",
    "\n",
    "# Draw bands\n",
    "plt.fill_between(train_sizes, train_mean - train_std, train_mean + train_std, color=\"#DDDDDD\")\n",
    "plt.fill_between(train_sizes, valid_mean - valid_std, valid_mean + valid_std, color=\"#DDDDDD\")\n",
    "\n",
    "# Create plot\n",
    "plt.title(\"Model Learning Curve\")\n",
    "plt.xlabel(\"Training Set Size\"), plt.ylabel(\"Accuracy Score\"), plt.legend(loc=\"best\")\n",
    "plt.tight_layout()\n",
    "plt.show()"
   ]
  },
  {
   "cell_type": "markdown",
   "id": "06fe6275",
   "metadata": {},
   "source": [
    "The learning curve above shows how much improvement a model makes with an increase in the training set size. We need to see in the plot that the cross-validated solid line gets close to the training score dashed line as much as possible.\n",
    "\n",
    "The training dataset we have here is shy of about 12000 examples, after train-test split and treatment of null documents, which is small in this case. So, care was taken not to unnecessarily drop data points without thoroughly understanding and investigating its effects.\n",
    "\n",
    "The learning curve above shows our model performs better with increasingly additional examples, so dropping data points is not advisable. \n"
   ]
  },
  {
   "cell_type": "code",
   "execution_count": null,
   "id": "115824e0",
   "metadata": {},
   "outputs": [],
   "source": []
  },
  {
   "cell_type": "code",
   "execution_count": null,
   "id": "b4ea8379",
   "metadata": {},
   "outputs": [],
   "source": []
  },
  {
   "cell_type": "code",
   "execution_count": 54,
   "id": "79512901",
   "metadata": {},
   "outputs": [
    {
     "data": {
      "text/plain": [
       "dict_keys(['estimator__C', 'estimator__class_weight', 'estimator__dual', 'estimator__fit_intercept', 'estimator__intercept_scaling', 'estimator__loss', 'estimator__max_iter', 'estimator__multi_class', 'estimator__penalty', 'estimator__random_state', 'estimator__tol', 'estimator__verbose', 'estimator', 'n_jobs'])"
      ]
     },
     "execution_count": 54,
     "metadata": {},
     "output_type": "execute_result"
    }
   ],
   "source": [
    "classifier.get_params().keys()"
   ]
  },
  {
   "cell_type": "code",
   "execution_count": 55,
   "id": "4bcccf37",
   "metadata": {},
   "outputs": [
    {
     "data": {
      "image/png": "[encoded data removed]",
      "text/plain": [
       "<Figure size 864x576 with 1 Axes>"
      ]
     },
     "metadata": {
      "needs_background": "light"
     },
     "output_type": "display_data"
    }
   ],
   "source": [
    "#@ credit goes to https://scikit-learn.org/stable/modules/generated/sklearn.model_selection.validation_curve.html\\\n",
    "          #sklearn.model_selection.validation_curve\n",
    "\n",
    "\n",
    "from sklearn.model_selection import validation_curve\n",
    "np.random.seed(0)\n",
    "\n",
    "#indices = y.shape[0]\n",
    "#np.random.shuffle(indices)\n",
    "\n",
    "X, y = vectorized_train_docu, train_labels\n",
    "param_range = np.linspace(-1, 10, num=50)\n",
    "train_scores, valid_scores = validation_curve(classifier, X, y, param_name='estimator__C', param_range=param_range, cv=5,\n",
    "                                              scoring=\"accuracy\", n_jobs=-1)\n",
    "\n",
    "train_scores_mean = np.mean(train_scores, axis=1)\n",
    "train_scores_std = np.std(train_scores, axis=1)\n",
    "\n",
    "valid_scores_mean = np.mean(valid_scores, axis=1)\n",
    "valid_scores_std = np.std(valid_scores, axis=1)\n",
    "\n",
    "fig = matplotlib.pyplot.gcf()\n",
    "fig.set_size_inches(12, 8)\n",
    "\n",
    "plt.title(\"Validation Curve of the Classifier\")\n",
    "plt.xlabel(r\"Maximum Depth\")\n",
    "plt.ylabel(\"Accuracy Score\")\n",
    "plt.ylim(0.0, 1.1)\n",
    "lw = 2\n",
    "plt.semilogx(param_range, train_scores_mean, label=\"Training score\",\n",
    " color=\"darkorange\", lw=lw)\n",
    "plt.fill_between(param_range, train_scores_mean - train_scores_std,\n",
    " train_scores_mean + train_scores_std, alpha=0.2,\n",
    " color=\"darkorange\", lw=lw)\n",
    "plt.semilogx(param_range, valid_scores_mean, label=\"Cross-validation score\",\n",
    " color=\"navy\", lw=lw)\n",
    "plt.fill_between(param_range, valid_scores_mean - valid_scores_std,\n",
    " valid_scores_mean + valid_scores_std, alpha=0.2,\n",
    " color=\"navy\", lw=lw)\n",
    "plt.legend(loc=\"best\")\n",
    "plt.show()"
   ]
  },
  {
   "cell_type": "code",
   "execution_count": null,
   "id": "a9d9fc6c",
   "metadata": {},
   "outputs": [],
   "source": []
  },
  {
   "cell_type": "code",
   "execution_count": null,
   "id": "61f2f9a8",
   "metadata": {},
   "outputs": [],
   "source": []
  },
  {
   "cell_type": "code",
   "execution_count": null,
   "id": "49d690ba",
   "metadata": {},
   "outputs": [],
   "source": []
  }
 ],
 "metadata": {
  "kernelspec": {
   "display_name": "Python 3",
   "language": "python",
   "name": "python3"
  },
  "language_info": {
   "codemirror_mode": {
    "name": "ipython",
    "version": 3
   },
   "file_extension": ".py",
   "mimetype": "text/x-python",
   "name": "python",
   "nbconvert_exporter": "python",
   "pygments_lexer": "ipython3",
   "version": "3.7.4"
  }
 },
 "nbformat": 4,
 "nbformat_minor": 5
}
