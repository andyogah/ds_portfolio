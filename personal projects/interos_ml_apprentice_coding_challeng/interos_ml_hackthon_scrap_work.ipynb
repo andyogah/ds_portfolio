{
 "cells": [
  {
   "cell_type": "code",
   "execution_count": 1,
   "id": "17776140",
   "metadata": {},
   "outputs": [],
   "source": [
    "#importing all the various libraries\n",
    "\n",
    "from glob import glob\n",
    "import itertools\n",
    "import os.path\n",
    "import re\n",
    "import tarfile\n",
    "import time\n",
    "import sys\n",
    "\n",
    "import numpy as np\n",
    "import pandas as pd\n",
    "import matplotlib\n",
    "import matplotlib.pyplot as plt\n",
    "from matplotlib import rcParams\n",
    "\n",
    "from html.parser import HTMLParser\n",
    "from urllib.request import urlretrieve\n",
    "from sklearn.datasets import get_data_home\n",
    "from sklearn.feature_extraction.text import HashingVectorizer\n",
    "#from sklearn.feature_extraction.text import TfidfVectorizer\n",
    "from sklearn.preprocessing import MultiLabelBinarizer\n",
    "from sklearn.svm import LinearSVC\n",
    "from sklearn.multiclass import OneVsRestClassifier\n",
    "from sklearn.metrics import f1_score, precision_score, recall_score\n",
    "\n",
    "import warnings\n",
    "warnings.filterwarnings('ignore')\n",
    "\n",
    "%matplotlib inline"
   ]
  },
  {
   "cell_type": "code",
   "execution_count": null,
   "id": "03e24cfa",
   "metadata": {},
   "outputs": [],
   "source": []
  },
  {
   "cell_type": "markdown",
   "id": "f4a31339",
   "metadata": {},
   "source": [
    "Like the saying goes: good developers copy code, great developers paste; we are not going to be writing all codes from the ground up. My approach here is to refactor code and give credit where due to fasten development.\n",
    "\n",
    "First is HTML parsing code by Eustache Diemert. The code was very well layed out and efficient compared with all other code snippet i found online. Scikit-learn gave his contribution a thumbs up, so i figured i settle. This code basically downloads the files from the URL, unzips it and rebuilds the SGML files into a one file. One can also download the zip file and do the same."
   ]
  },
  {
   "cell_type": "code",
   "execution_count": 2,
   "id": "a81f2557",
   "metadata": {},
   "outputs": [],
   "source": [
    "# Credit goes to Eustache Diemert <eustache@diemert.fr>\n",
    "# @FedericoV <https://github.com/FedericoV/>\n",
    "# @https://scikit-learn.org/stable/auto_examples/applications/plot_out_of_core_classification.html\n",
    "# License: BSD 3 clause\n",
    "# \n",
    "\n",
    "class ReutersParser(HTMLParser):\n",
    "    \"\"\"Utility class to parse a SGML file and yield documents one at a time.\"\"\"\n",
    "\n",
    "    def __init__(self, encoding='latin-1'):\n",
    "        HTMLParser.__init__(self)\n",
    "        self._reset()\n",
    "        self.encoding = encoding\n",
    "\n",
    "    def handle_starttag(self, tag, attrs):\n",
    "        method = 'start_' + tag\n",
    "        getattr(self, method, lambda x: None)(attrs)\n",
    "\n",
    "    def handle_endtag(self, tag):\n",
    "        method = 'end_' + tag\n",
    "        getattr(self, method, lambda: None)()\n",
    "\n",
    "    def _reset(self):\n",
    "        self.in_title = 0\n",
    "        self.in_body = 0\n",
    "        self.in_topics = 0\n",
    "        self.in_topic_d = 0\n",
    "        self.title = \"\"\n",
    "        self.body = \"\"\n",
    "        self.topics = []\n",
    "        self.topic_d = \"\"\n",
    "\n",
    "    def parse(self, fd):\n",
    "        self.docs = []\n",
    "        for chunk in fd:\n",
    "            self.feed(chunk.decode(self.encoding))\n",
    "            for doc in self.docs:\n",
    "                yield doc\n",
    "            self.docs = []\n",
    "        self.close()\n",
    "\n",
    "    def handle_data(self, data):\n",
    "        if self.in_body:\n",
    "            self.body += data\n",
    "        elif self.in_title:\n",
    "            self.title += data\n",
    "        elif self.in_topic_d:\n",
    "            self.topic_d += data\n",
    "\n",
    "    def start_reuters(self, attributes):\n",
    "        self.attributes = dict(attributes) # Attributes is a list of pairs\n",
    "        #pass\n",
    "\n",
    "    def end_reuters(self):\n",
    "        self.body = re.sub(r'\\s+', r' ', self.body)\n",
    "        self.docs.append({'title': self.title,\n",
    "                          'body': self.body,\n",
    "                          'topics': self.topics,\n",
    "                         'new_id': self.attributes[\"newid\"],})\n",
    "        self._reset()\n",
    "\n",
    "    def start_title(self, attributes):\n",
    "        self.in_title = 1\n",
    "\n",
    "    def end_title(self):\n",
    "        self.in_title = 0\n",
    "\n",
    "    def start_body(self, attributes):\n",
    "        self.in_body = 1\n",
    "\n",
    "    def end_body(self):\n",
    "        self.in_body = 0\n",
    "\n",
    "    def start_topics(self, attributes):\n",
    "        self.in_topics = 1\n",
    "\n",
    "    def end_topics(self):\n",
    "        self.in_topics = 0\n",
    "\n",
    "    def start_d(self, attributes):\n",
    "        self.in_topic_d = 1\n",
    "\n",
    "    def end_d(self):\n",
    "        self.in_topic_d = 0\n",
    "        self.topics.append(self.topic_d)\n",
    "        self.topic_d = \"\"\n",
    "\n",
    "\n",
    "def stream_reuters_documents(data_path=None):\n",
    "    \"\"\"Iterate over documents of the Reuters dataset.\n",
    "\n",
    "    The Reuters archive will automatically be downloaded and uncompressed if\n",
    "    the `data_path` directory does not exist.\n",
    "\n",
    "    Documents are represented as dictionaries with 'body' (str),\n",
    "    'title' (str), 'topics' (list(str)) keys.\n",
    "\n",
    "    \"\"\"\n",
    "\n",
    "    DOWNLOAD_URL = ('https://drive.google.com/drive/folders/1k7MNpw_huZTL9opXU9e7u6M8phupPih7')\n",
    "    ARCHIVE_FILENAME = 'reuters21578-20211018T220355Z-001.zip'\n",
    "\n",
    "    if data_path is None:\n",
    "        data_path = os.path.join(get_data_home(), \"reuters\")\n",
    "    if not os.path.exists(data_path):\n",
    "        os.mkdir(data_path)\n",
    "        archive_path = os.path.join(data_path, ARCHIVE_FILENAME)\n",
    "        urlretrieve(DOWNLOAD_URL, filename=archive_path, reporthook=progress)\n",
    "        \n",
    "        tarfile.open(archive_path, 'r:gz').extractall(data_path)\n",
    "\n",
    "    parser = ReutersParser()\n",
    "    for filename in glob(os.path.join(data_path, \"*.sgm\")):\n",
    "        for doc in parser.parse(open(filename, 'rb')):\n",
    "            yield doc           "
   ]
  },
  {
   "cell_type": "code",
   "execution_count": null,
   "id": "1682f773",
   "metadata": {},
   "outputs": [],
   "source": []
  },
  {
   "cell_type": "markdown",
   "id": "0ac8eb35",
   "metadata": {},
   "source": [
    "**GLIMPSE INTO THE DATASET**"
   ]
  },
  {
   "cell_type": "code",
   "execution_count": 3,
   "id": "818c445c",
   "metadata": {},
   "outputs": [
    {
     "data": {
      "text/plain": [
       "[{'title': 'BAHIA COCOA REVIEW',\n",
       "  'body': 'Showers continued throughout the week in the Bahia cocoa zone, alleviating the drought since early January and improving prospects for the coming temporao, although normal humidity levels have not been restored, Comissaria Smith said in its weekly review. The dry period means the temporao will be late this year. Arrivals for the week ended February 22 were 155,221 bags of 60 kilos making a cumulative total for the season of 5.93 mln against 5.81 at the same stage last year. Again it seems that cocoa delivered earlier on consignment was included in the arrivals figures. Comissaria Smith said there is still some doubt as to how much old crop cocoa is still available as harvesting has practically come to an end. With total Bahia crop estimates around 6.4 mln bags and sales standing at almost 6.2 mln there are a few hundred thousand bags still in the hands of farmers, middlemen, exporters and processors. There are doubts as to how much of this cocoa would be fit for export as shippers are now experiencing dificulties in obtaining +Bahia superior+ certificates. In view of the lower quality over recent weeks farmers have sold a good part of their cocoa held on consignment. Comissaria Smith said spot bean prices rose to 340 to 350 cruzados per arroba of 15 kilos. Bean shippers were reluctant to offer nearby shipment and only limited sales were booked for March shipment at 1,750 to 1,780 dlrs per tonne to ports to be named. New crop sales were also light and all to open ports with June/July going at 1,850 and 1,880 dlrs and at 35 and 45 dlrs under New York july, Aug/Sept at 1,870, 1,875 and 1,880 dlrs per tonne FOB. Routine sales of butter were made. March/April sold at 4,340, 4,345 and 4,350 dlrs. April/May butter went at 2.27 times New York May, June/July at 4,400 and 4,415 dlrs, Aug/Sept at 4,351 to 4,450 dlrs and at 2.27 and 2.28 times New York Sept and Oct/Dec at 4,480 dlrs and 2.27 times New York Dec, Comissaria Smith said. Destinations were the U.S., Covertible currency areas, Uruguay and open ports. Cake sales were registered at 785 to 995 dlrs for March/April, 785 dlrs for May, 753 dlrs for Aug and 0.39 times New York Dec for Oct/Dec. Buyers were the U.S., Argentina, Uruguay and convertible currency areas. Liquor sales were limited with March/April selling at 2,325 and 2,380 dlrs, June/July at 2,375 dlrs and at 1.25 times New York July, Aug/Sept at 2,400 dlrs and at 1.25 times New York Sept and Oct/Dec at 1.25 times New York Dec, Comissaria Smith said. Total Bahia sales are currently estimated at 6.13 mln bags against the 1986/87 crop and 1.06 mln bags against the 1987/88 crop. Final figures for the period to February 28 are expected to be published by the Brazilian Cocoa Trade Commission after carnival which ends midday on February 27. Reuter ',\n",
       "  'topics': ['cocoa', 'el-salvador', 'usa', 'uruguay'],\n",
       "  'new_id': '1'},\n",
       " {'title': 'STANDARD OIL <SRD> TO FORM FINANCIAL UNIT',\n",
       "  'body': 'Standard Oil Co and BP North America Inc said they plan to form a venture to manage the money market borrowing and investment activities of both companies. BP North America is a subsidiary of British Petroleum Co Plc <BP>, which also owns a 55 pct interest in Standard Oil. The venture will be called BP/Standard Financial Trading and will be operated by Standard Oil under the oversight of a joint management committee. Reuter ',\n",
       "  'topics': ['usa'],\n",
       "  'new_id': '2'},\n",
       " {'title': 'TEXAS COMMERCE BANCSHARES <TCB> FILES PLAN',\n",
       "  'body': \"Texas Commerce Bancshares Inc's Texas Commerce Bank-Houston said it filed an application with the Comptroller of the Currency in an effort to create the largest banking network in Harris County. The bank said the network would link 31 banks having 13.5 billion dlrs in assets and 7.5 billion dlrs in deposits. Reuter \",\n",
       "  'topics': ['usa'],\n",
       "  'new_id': '3'}]"
      ]
     },
     "execution_count": 3,
     "metadata": {},
     "output_type": "execute_result"
    }
   ],
   "source": [
    "#printing the first 5 documents\n",
    "\n",
    "full_list = list(stream_reuters_documents())\n",
    "full_list[:3]"
   ]
  },
  {
   "cell_type": "code",
   "execution_count": 4,
   "id": "a30eb8d1",
   "metadata": {},
   "outputs": [
    {
     "data": {
      "text/plain": [
       "21578"
      ]
     },
     "execution_count": 4,
     "metadata": {},
     "output_type": "execute_result"
    }
   ],
   "source": [
    "#total number of documents in all files\n",
    "len(full_list)"
   ]
  },
  {
   "cell_type": "code",
   "execution_count": 5,
   "id": "b424461a",
   "metadata": {},
   "outputs": [],
   "source": [
    "#merging the body and topics elements in the documents\n",
    "data_labels = [(x['body'], x['topics']) for x in list(stream_reuters_documents())]"
   ]
  },
  {
   "cell_type": "code",
   "execution_count": 6,
   "id": "abf0991c",
   "metadata": {},
   "outputs": [
    {
     "data": {
      "text/plain": [
       "[('', []),\n",
       " ('', []),\n",
       " ('', []),\n",
       " ('', []),\n",
       " ('', []),\n",
       " ('<Pacific Western Airlines Corp> said it integrated the senior management of Pacific Western and recently acquired Canadian Pacific Air Lines Ltd in preparation for the companies\\' merger this summer. Pacific Western said it appointed president and chief executive Rhys Eaton as chairman and chief executive in the new management structure, and Murray Sigler as president. Sigler was previously president of Pacific Western\\'s airline unit, Pacific Western Airlines Ltd. Pacific Western acquired Canadian Pacific Air Lines for 300 mln dlrs last December from Canadian Pacific Ltd <CP>. Canadian Pacific Air Lines said president and chief executive Donald Carty and four senior vice-presidents resigned last week. Carty said in a company memorandum that he accepted another senior post in commercial aviation and that some of the vice-presidents were taking early retirment and others were resigning for personal reasons. Pacific Western said the new management structure \"will facilitate our objective of proceeding quickly to successfully position ourselves in the marketplace as a single airline network beginning this summer.\" Reuter ',\n",
       "  []),\n",
       " ('Amgen Inc said it signed a letter of intent for an estimated 75 mln dlr research and development limited partnership to fund the clinical investigation of certain pharmaceutical products currently under development. Neither terms of the arrangement nor the products covered by the partnership were disclosed, but Amgen said the limited partnership units will include warrants to purchase Amgen common stock. Reuter ',\n",
       "  [])]"
      ]
     },
     "execution_count": 6,
     "metadata": {},
     "output_type": "execute_result"
    }
   ],
   "source": [
    "#checking for empty topic lists\n",
    "[w for w in data_labels if w[1] == []][:7]"
   ]
  },
  {
   "cell_type": "code",
   "execution_count": 7,
   "id": "3524ca5d",
   "metadata": {},
   "outputs": [
    {
     "name": "stdout",
     "output_type": "stream",
     "text": [
      "total # of documents in the 20 sgml files: 21578\n",
      "# of documents with no missing body & topic values: 18457\n",
      "# of documents with missing topic values: 586\n",
      "# of documents with both body & topics values missing: 1276\n",
      "# of documents that are all null: 1259\n"
     ]
    }
   ],
   "source": [
    "#quick statistics of number of documents \n",
    "new_full_list = [b for b in full_list if not b['body'] == '' and not b['topics'] == []]\n",
    "unseen_list = [b for b in full_list if not b['body'] == '' and b['topics'] == []]\n",
    "empty_body_topic = [x for x in full_list if x['body'] == '' and x['topics'] == []]\n",
    "\n",
    "print('total # of documents in the 20 sgml files:', len(full_list),)\n",
    "print('# of documents with no missing body & topic values:', len(new_full_list),)\n",
    "print('# of documents with missing topic values:', len(unseen_list),)\n",
    "print('# of documents with both body & topics values missing:', len(empty_body_topic),)\n",
    "print('# of documents that are all null:', len(full_list) - (len(new_full_list) + len(unseen_list) + len(empty_body_topic)))"
   ]
  },
  {
   "cell_type": "markdown",
   "id": "287e3eed",
   "metadata": {},
   "source": [
    "Since this a supervised learning model, we are going to be doing the following: \n",
    "- We are going to be getting the train and test sets from the documents with no missing body & topic values above\n",
    "- Deleting the documents that are all null (i.e., has nothing in the documents)\n",
    "- Deleting the documents that have items in them, but missing the body and topics values. In a way this is questionable, and should be revisted if the overall performance of the model is subpar. It will be interesting to see the effect of filling the data & topics with nulls or some arbitrary string values would have on the overasll model performance\n",
    "- Last, we use the documents with the missing topics to do final prediction after the analysis. We can also add the examples back into the training set after prediction and then run another training on the concatenated training set much like semi-supervised learning to see if this improves the model."
   ]
  },
  {
   "cell_type": "code",
   "execution_count": null,
   "id": "e3b8e9c9",
   "metadata": {},
   "outputs": [],
   "source": []
  },
  {
   "cell_type": "code",
   "execution_count": 8,
   "id": "7500cf32",
   "metadata": {},
   "outputs": [],
   "source": [
    "#split the body and topics into features and labels respectively\n",
    "labels = [x['topics'] for x in new_full_list]\n",
    "data = [x['body'] for x in new_full_list]"
   ]
  },
  {
   "cell_type": "code",
   "execution_count": 9,
   "id": "adda97fa",
   "metadata": {},
   "outputs": [
    {
     "data": {
      "text/plain": [
       "'Showers continued throughout the week in the Bahia cocoa zone, alleviating the drought since early January and improving prospects for the coming temporao, although normal humidity levels have not been restored, Comissaria Smith said in its weekly review. The dry period means the temporao will be late this year. Arrivals for the week ended February 22 were 155,221 bags of 60 kilos making a cumulative total for the season of 5.93 mln against 5.81 at the same stage last year. Again it seems that cocoa delivered earlier on consignment was included in the arrivals figures. Comissaria Smith said there is still some doubt as to how much old crop cocoa is still available as harvesting has practically come to an end. With total Bahia crop estimates around 6.4 mln bags and sales standing at almost 6.2 mln there are a few hundred thousand bags still in the hands of farmers, middlemen, exporters and processors. There are doubts as to how much of this cocoa would be fit for export as shippers are now experiencing dificulties in obtaining +Bahia superior+ certificates. In view of the lower quality over recent weeks farmers have sold a good part of their cocoa held on consignment. Comissaria Smith said spot bean prices rose to 340 to 350 cruzados per arroba of 15 kilos. Bean shippers were reluctant to offer nearby shipment and only limited sales were booked for March shipment at 1,750 to 1,780 dlrs per tonne to ports to be named. New crop sales were also light and all to open ports with June/July going at 1,850 and 1,880 dlrs and at 35 and 45 dlrs under New York july, Aug/Sept at 1,870, 1,875 and 1,880 dlrs per tonne FOB. Routine sales of butter were made. March/April sold at 4,340, 4,345 and 4,350 dlrs. April/May butter went at 2.27 times New York May, June/July at 4,400 and 4,415 dlrs, Aug/Sept at 4,351 to 4,450 dlrs and at 2.27 and 2.28 times New York Sept and Oct/Dec at 4,480 dlrs and 2.27 times New York Dec, Comissaria Smith said. Destinations were the U.S., Covertible currency areas, Uruguay and open ports. Cake sales were registered at 785 to 995 dlrs for March/April, 785 dlrs for May, 753 dlrs for Aug and 0.39 times New York Dec for Oct/Dec. Buyers were the U.S., Argentina, Uruguay and convertible currency areas. Liquor sales were limited with March/April selling at 2,325 and 2,380 dlrs, June/July at 2,375 dlrs and at 1.25 times New York July, Aug/Sept at 2,400 dlrs and at 1.25 times New York Sept and Oct/Dec at 1.25 times New York Dec, Comissaria Smith said. Total Bahia sales are currently estimated at 6.13 mln bags against the 1986/87 crop and 1.06 mln bags against the 1987/88 crop. Final figures for the period to February 28 are expected to be published by the Brazilian Cocoa Trade Commission after carnival which ends midday on February 27. Reuter '"
      ]
     },
     "execution_count": 9,
     "metadata": {},
     "output_type": "execute_result"
    }
   ],
   "source": [
    "#what the data in a document looks like\n",
    "data[0]"
   ]
  },
  {
   "cell_type": "code",
   "execution_count": 10,
   "id": "aafcba99",
   "metadata": {},
   "outputs": [
    {
     "data": {
      "text/plain": [
       "['cocoa', 'el-salvador', 'usa', 'uruguay']"
      ]
     },
     "execution_count": 10,
     "metadata": {},
     "output_type": "execute_result"
    }
   ],
   "source": [
    "#what the lablels for first document looks like\n",
    "labels[0]"
   ]
  },
  {
   "cell_type": "code",
   "execution_count": null,
   "id": "d3872008",
   "metadata": {},
   "outputs": [],
   "source": []
  },
  {
   "cell_type": "markdown",
   "id": "664d1695",
   "metadata": {},
   "source": [
    "**SPLITTING THE DATASET INTO TRAIN & TEST SETS**"
   ]
  },
  {
   "cell_type": "markdown",
   "id": "903dfd0b",
   "metadata": {},
   "source": [
    "Now is the time to split the data into train and test sets to prevent data leakage and snopping. I am using an arbitrary split of 80/20, i.e., 80% of the dataset will be in the training set and 20% of the data will be in the test set. This split can actually be a custom hyperparamter one can tune on the dataset to know what proportion of split gets the max performance on the model. However, leaving this as arbitrary for now. "
   ]
  },
  {
   "cell_type": "code",
   "execution_count": 11,
   "id": "1119ace7",
   "metadata": {},
   "outputs": [],
   "source": [
    "#splitting the data into the training and the test set\n",
    "from sklearn.model_selection import train_test_split\n",
    "X_train, X_test, y_train, y_test = train_test_split(data, labels, test_size=0.20, random_state=42)"
   ]
  },
  {
   "cell_type": "markdown",
   "id": "707224d9",
   "metadata": {},
   "source": [
    "NOTE: I would have loved to use the stratified split on this analysis, but for reasons I will mention later. "
   ]
  },
  {
   "cell_type": "code",
   "execution_count": null,
   "id": "8dac0ca1",
   "metadata": {},
   "outputs": [],
   "source": []
  },
  {
   "cell_type": "code",
   "execution_count": 12,
   "id": "1344910a",
   "metadata": {},
   "outputs": [
    {
     "data": {
      "text/plain": [
       "(14765, 14765)"
      ]
     },
     "execution_count": 12,
     "metadata": {},
     "output_type": "execute_result"
    }
   ],
   "source": [
    "len(X_train), len(y_train)"
   ]
  },
  {
   "cell_type": "code",
   "execution_count": 13,
   "id": "0ebefe0e",
   "metadata": {},
   "outputs": [
    {
     "data": {
      "text/plain": [
       "'First Southern Federal Savings and Loan Association said it has agreed in principle to acquire Horizon Financial Corp and Horizon Funding corp from <Victor Federal Savings and Loan Association> of Muskogee, Okla., for undisclosed terms. The company said the purchase is subject to approval of the boards of First Southern and Victor and regulatory agencies. Horizon Financial services mortgage loans and Horizon Funding is a wholesale loan purchasing operation. Horizon services 3.2 billion dlrs in mortgage loans. Reuter '"
      ]
     },
     "execution_count": 13,
     "metadata": {},
     "output_type": "execute_result"
    }
   ],
   "source": [
    "X_train[0]"
   ]
  },
  {
   "cell_type": "code",
   "execution_count": null,
   "id": "e295cf4a",
   "metadata": {},
   "outputs": [],
   "source": []
  },
  {
   "cell_type": "markdown",
   "id": "c07de9f7",
   "metadata": {},
   "source": [
    "**CLEANING OF THE BODY OF THE DOCUMENTS**"
   ]
  },
  {
   "cell_type": "markdown",
   "id": "13a3c720",
   "metadata": {},
   "source": [
    "For cleaning of the data, we are using snippet from Irfan Alghani Khalid as is with a little refactoring "
   ]
  },
  {
   "cell_type": "code",
   "execution_count": 14,
   "id": "7a7605bb",
   "metadata": {},
   "outputs": [],
   "source": [
    "import nltk\n",
    "import string\n",
    "from nltk.corpus import stopwords\n",
    "\n",
    "stop_words = stopwords.words(\"english\")\n",
    "\n",
    "\n",
    "def text_preproc(x):\n",
    "    \"\"\"\n",
    "    credit goes to Irfan Alghani Khalid \n",
    "    @https://towardsdatascience.com/cleaning-text-data-with-python-b69b47b97b76\n",
    "    \"\"\"\n",
    "   \n",
    "    x = x.lower()\n",
    "    x = ' '.join([word for word in x.split(' ') if word not in stop_words])\n",
    "    x = x.encode('ascii', 'ignore').decode()\n",
    "    x = re.sub(r'https*\\S+', ' ', x)\n",
    "    x = re.sub(r'@\\S+', ' ', x)\n",
    "    x = re.sub(r'#\\S+', ' ', x)\n",
    "    x = re.sub(r'\\'\\w+', '', x)\n",
    "    x = re.sub('[%s]' % re.escape(string.punctuation), ' ', x)\n",
    "    x = re.sub(r'\\w*\\d+\\w*', '', x)\n",
    "    x = re.sub(r'\\s{2,}', ' ', x)\n",
    "    return x"
   ]
  },
  {
   "cell_type": "code",
   "execution_count": 15,
   "id": "0e9e552c",
   "metadata": {},
   "outputs": [],
   "source": [
    "X_train = [text_preproc(x) for x in X_train]\n",
    "X_test = [text_preproc(x) for x in X_test]"
   ]
  },
  {
   "cell_type": "code",
   "execution_count": 16,
   "id": "d25bdd03",
   "metadata": {},
   "outputs": [
    {
     "data": {
      "text/plain": [
       "'first southern federal savings loan association said agreed principle acquire horizon financial corp horizon funding corp victor federal savings loan association muskogee okla undisclosed terms company said purchase subject approval boards first southern victor regulatory agencies horizon financial services mortgage loans horizon funding wholesale loan purchasing operation horizon services billion dlrs mortgage loans reuter '"
      ]
     },
     "execution_count": 16,
     "metadata": {},
     "output_type": "execute_result"
    }
   ],
   "source": [
    "X_train[0]"
   ]
  },
  {
   "cell_type": "code",
   "execution_count": 17,
   "id": "bcd989db",
   "metadata": {},
   "outputs": [
    {
     "data": {
      "text/plain": [
       "[['acq', 'usa'],\n",
       " ['sugar', 'mauritius', 'uk'],\n",
       " ['acq', 'usa'],\n",
       " ['usa'],\n",
       " ['usa'],\n",
       " ['usa'],\n",
       " ['grain', 'orange', 'sugar', 'china']]"
      ]
     },
     "execution_count": 17,
     "metadata": {},
     "output_type": "execute_result"
    }
   ],
   "source": [
    "y_train[:7]"
   ]
  },
  {
   "cell_type": "code",
   "execution_count": 18,
   "id": "4061a915",
   "metadata": {},
   "outputs": [
    {
     "data": {
      "text/plain": [
       "14765"
      ]
     },
     "execution_count": 18,
     "metadata": {},
     "output_type": "execute_result"
    }
   ],
   "source": [
    "len(y_train)"
   ]
  },
  {
   "cell_type": "code",
   "execution_count": null,
   "id": "42f53d98",
   "metadata": {},
   "outputs": [],
   "source": []
  },
  {
   "cell_type": "markdown",
   "id": "f374f9b2",
   "metadata": {},
   "source": [
    "**PREPROCESSING OF THE FEATURES AND MULTILABELS**"
   ]
  },
  {
   "cell_type": "code",
   "execution_count": 19,
   "id": "6103f650",
   "metadata": {},
   "outputs": [],
   "source": [
    "from nltk.corpus import stopwords\n",
    "from sklearn.feature_extraction.text import TfidfVectorizer\n",
    "from nltk import word_tokenize\n",
    "stop_words = stopwords.words(\"english\")\n",
    "\n",
    "#tokenization\n",
    "vectorizer = HashingVectorizer(decode_error='ignore', n_features=2 ** 18, alternate_sign=False)\n",
    "#vectorizer = TfidfVectorizer(stop_words=stop_words,)\n",
    "\n",
    "#learn & transform\n",
    "vectorized_train_docu = vectorizer.fit_transform(X_train)\n",
    "vectorized_test_docu = vectorizer.transform(X_test)\n",
    "\n",
    "#transform multilabel labels\n",
    "mlb = MultiLabelBinarizer()\n",
    "train_labels = mlb.fit_transform(y_train) \n",
    "test_labels = mlb.transform(y_test)"
   ]
  },
  {
   "cell_type": "code",
   "execution_count": null,
   "id": "c93a70e4",
   "metadata": {},
   "outputs": [],
   "source": []
  },
  {
   "cell_type": "markdown",
   "id": "109db95f",
   "metadata": {},
   "source": [
    "**PREDICTION AND EVALUATION**"
   ]
  },
  {
   "cell_type": "code",
   "execution_count": 20,
   "id": "05e9500a",
   "metadata": {},
   "outputs": [],
   "source": [
    "#initialize classifer\n",
    "classifier=OneVsRestClassifier(LinearSVC(random_state=42, class_weight='balanced'))"
   ]
  },
  {
   "cell_type": "markdown",
   "id": "4a8e2d16",
   "metadata": {},
   "source": [
    "Balancing the class weight here helps to increase emphasis on the labels with lower occurrences and vice versa for ones with higher ones. "
   ]
  },
  {
   "cell_type": "code",
   "execution_count": 21,
   "id": "6ca73caf",
   "metadata": {},
   "outputs": [],
   "source": [
    "#fitting the classier to the data\n",
    "classifier = classifier.fit(vectorized_train_docu, train_labels)\n",
    "\n",
    "#prediction\n",
    "predictions = classifier.predict(vectorized_test_docu)\n",
    "\n",
    "#converting predictions back to actual labels\n",
    "all_labels = mlb.inverse_transform(predictions)"
   ]
  },
  {
   "cell_type": "code",
   "execution_count": 22,
   "id": "cc3f86e9",
   "metadata": {},
   "outputs": [],
   "source": [
    "def pred_eval(classifier, train_data, training_label, test_data, test_labels):\n",
    "    from sklearn.model_selection import KFold, cross_val_score\n",
    "    \n",
    "    kf = KFold(n_splits=5, random_state = 42, shuffle = True)\n",
    "    scores = cross_val_score(classifier, train_data, training_label, cv = kf)\n",
    "    \n",
    "    predictions = classifier.predict(test_data)\n",
    "\n",
    "    micro_precision = precision_score(test_labels, predictions, average='micro')\n",
    "    micro_recall = recall_score(test_labels, predictions, average='micro')\n",
    "    micro_f1 = f1_score(test_labels, predictions, average='micro')\n",
    " \n",
    "    macro_precision = precision_score(test_labels, predictions, average='macro')\n",
    "    macro_recall = recall_score(test_labels, predictions, average='macro')\n",
    "    macro_f1 = f1_score(test_labels, predictions, average='macro')\n",
    "    return scores.mean(),  micro_precision, micro_recall, micro_f1, macro_precision, macro_recall, macro_f1"
   ]
  },
  {
   "cell_type": "code",
   "execution_count": 23,
   "id": "209203a1",
   "metadata": {},
   "outputs": [],
   "source": [
    "accuracy, micro_precision, micro_recall, micro_f1, macro_precision, macro_recall, macro_f1 = pred_eval(classifier, \n",
    "                                                    vectorized_train_docu, train_labels, vectorized_test_docu, test_labels)"
   ]
  },
  {
   "cell_type": "code",
   "execution_count": 24,
   "id": "88b1dc02",
   "metadata": {},
   "outputs": [],
   "source": [
    "compare_df = pd.DataFrame({'benchmark': [accuracy, micro_precision, micro_recall, micro_f1, macro_precision, macro_recall, \n",
    "                                         macro_f1],},\n",
    "                            index = ['Accuracy', 'Micro_precision', 'Micro_recall', 'Micro_f1', 'Macro_precision', \n",
    "                                    'Macro_recall', 'Macro_f1'])"
   ]
  },
  {
   "cell_type": "code",
   "execution_count": 25,
   "id": "3e839351",
   "metadata": {},
   "outputs": [
    {
     "data": {
      "text/html": [
       "<div>\n",
       "<style scoped>\n",
       "    .dataframe tbody tr th:only-of-type {\n",
       "        vertical-align: middle;\n",
       "    }\n",
       "\n",
       "    .dataframe tbody tr th {\n",
       "        vertical-align: top;\n",
       "    }\n",
       "\n",
       "    .dataframe thead th {\n",
       "        text-align: right;\n",
       "    }\n",
       "</style>\n",
       "<table border=\"1\" class=\"dataframe\">\n",
       "  <thead>\n",
       "    <tr style=\"text-align: right;\">\n",
       "      <th></th>\n",
       "      <th>benchmark</th>\n",
       "    </tr>\n",
       "  </thead>\n",
       "  <tbody>\n",
       "    <tr>\n",
       "      <th>Accuracy</th>\n",
       "      <td>0.587674</td>\n",
       "    </tr>\n",
       "    <tr>\n",
       "      <th>Micro_precision</th>\n",
       "      <td>0.842428</td>\n",
       "    </tr>\n",
       "    <tr>\n",
       "      <th>Micro_recall</th>\n",
       "      <td>0.846628</td>\n",
       "    </tr>\n",
       "    <tr>\n",
       "      <th>Micro_f1</th>\n",
       "      <td>0.844523</td>\n",
       "    </tr>\n",
       "    <tr>\n",
       "      <th>Macro_precision</th>\n",
       "      <td>0.432634</td>\n",
       "    </tr>\n",
       "    <tr>\n",
       "      <th>Macro_recall</th>\n",
       "      <td>0.369155</td>\n",
       "    </tr>\n",
       "    <tr>\n",
       "      <th>Macro_f1</th>\n",
       "      <td>0.385330</td>\n",
       "    </tr>\n",
       "  </tbody>\n",
       "</table>\n",
       "</div>"
      ],
      "text/plain": [
       "                 benchmark\n",
       "Accuracy          0.587674\n",
       "Micro_precision   0.842428\n",
       "Micro_recall      0.846628\n",
       "Micro_f1          0.844523\n",
       "Macro_precision   0.432634\n",
       "Macro_recall      0.369155\n",
       "Macro_f1          0.385330"
      ]
     },
     "execution_count": 25,
     "metadata": {},
     "output_type": "execute_result"
    }
   ],
   "source": [
    "compare_df"
   ]
  },
  {
   "cell_type": "markdown",
   "id": "b300d59d",
   "metadata": {},
   "source": [
    "This is a benchmark we will be working with. Few questions we need to address are:\n",
    " - Can we do better than these benchmarks?\n",
    " - Why did this model underperform?\n",
    " - How can we improve this?"
   ]
  },
  {
   "cell_type": "markdown",
   "id": "d80ffac4",
   "metadata": {},
   "source": [
    "**Can we do better than these benchmarks?**\n",
    "\n",
    "Of course yes! The accuracy is barely close to a coin toss, which is somewhat evidenced by averaging the F1-score of both the Micro and Macro average statistics\n",
    "\n",
    "The accuracy score metric is not a good indicator in this analysis because the labels are greatly imbalanced. The model in some way will be biased toward the majority labels and classes. This can be evidenced from the statistics from the Micro-average quality numbers and the Macro-average quality numbers of the precision, recall and F1-scores. Those interested can read more about those statistics @: \n",
    "- https://stats.stackexchange.com/questions/156923/should-i-make-decisions-based-on-micro-averaged-or-macro-averaged-evaluation-mea and \n",
    "- https://stats.stackexchange.com/questions/156923/should-i-make-decisions-based-on-micro-averaged-or-macro-averaged-evaluation-mea\n",
    "\n",
    "General consensus is that for multiclass classification, the Micro-average quality numbers is preferable. However, for a multilabel classification, which is what we are implementing in this analysis, both of the metrics should be about same or comparable to achieve good predictive analysis\n"
   ]
  },
  {
   "cell_type": "code",
   "execution_count": null,
   "id": "6d17e51d",
   "metadata": {},
   "outputs": [],
   "source": []
  },
  {
   "cell_type": "markdown",
   "id": "dcf65561",
   "metadata": {},
   "source": [
    "**Why did this model underperform?**"
   ]
  },
  {
   "cell_type": "markdown",
   "id": "01dec76f",
   "metadata": {},
   "source": [
    "Let us run a few exploratory data analysis on the data to see the patterns"
   ]
  },
  {
   "cell_type": "code",
   "execution_count": 26,
   "id": "0f87fe72",
   "metadata": {},
   "outputs": [],
   "source": [
    "import itertools\n",
    "merged_labels = list(itertools.chain(*labels)) #flattening list of list"
   ]
  },
  {
   "cell_type": "code",
   "execution_count": 27,
   "id": "8c7f0baf",
   "metadata": {},
   "outputs": [
    {
     "data": {
      "text/html": [
       "<div>\n",
       "<style scoped>\n",
       "    .dataframe tbody tr th:only-of-type {\n",
       "        vertical-align: middle;\n",
       "    }\n",
       "\n",
       "    .dataframe tbody tr th {\n",
       "        vertical-align: top;\n",
       "    }\n",
       "\n",
       "    .dataframe thead th {\n",
       "        text-align: right;\n",
       "    }\n",
       "</style>\n",
       "<table border=\"1\" class=\"dataframe\">\n",
       "  <thead>\n",
       "    <tr style=\"text-align: right;\">\n",
       "      <th></th>\n",
       "      <th>labels</th>\n",
       "      <th>counts</th>\n",
       "    </tr>\n",
       "  </thead>\n",
       "  <tbody>\n",
       "    <tr>\n",
       "      <th>2</th>\n",
       "      <td>usa</td>\n",
       "      <td>12322</td>\n",
       "    </tr>\n",
       "    <tr>\n",
       "      <th>20</th>\n",
       "      <td>earn</td>\n",
       "      <td>3776</td>\n",
       "    </tr>\n",
       "    <tr>\n",
       "      <th>21</th>\n",
       "      <td>acq</td>\n",
       "      <td>2210</td>\n",
       "    </tr>\n",
       "    <tr>\n",
       "      <th>29</th>\n",
       "      <td>uk</td>\n",
       "      <td>1451</td>\n",
       "    </tr>\n",
       "    <tr>\n",
       "      <th>64</th>\n",
       "      <td>japan</td>\n",
       "      <td>1104</td>\n",
       "    </tr>\n",
       "    <tr>\n",
       "      <th>27</th>\n",
       "      <td>canada</td>\n",
       "      <td>1063</td>\n",
       "    </tr>\n",
       "    <tr>\n",
       "      <th>69</th>\n",
       "      <td>money-fx</td>\n",
       "      <td>684</td>\n",
       "    </tr>\n",
       "    <tr>\n",
       "      <th>5</th>\n",
       "      <td>grain</td>\n",
       "      <td>574</td>\n",
       "    </tr>\n",
       "    <tr>\n",
       "      <th>52</th>\n",
       "      <td>crude</td>\n",
       "      <td>566</td>\n",
       "    </tr>\n",
       "    <tr>\n",
       "      <th>113</th>\n",
       "      <td>west-germany</td>\n",
       "      <td>558</td>\n",
       "    </tr>\n",
       "    <tr>\n",
       "      <th>34</th>\n",
       "      <td>trade</td>\n",
       "      <td>515</td>\n",
       "    </tr>\n",
       "    <tr>\n",
       "      <th>65</th>\n",
       "      <td>france</td>\n",
       "      <td>447</td>\n",
       "    </tr>\n",
       "    <tr>\n",
       "      <th>70</th>\n",
       "      <td>interest</td>\n",
       "      <td>424</td>\n",
       "    </tr>\n",
       "    <tr>\n",
       "      <th>106</th>\n",
       "      <td>ec</td>\n",
       "      <td>337</td>\n",
       "    </tr>\n",
       "    <tr>\n",
       "      <th>4</th>\n",
       "      <td>brazil</td>\n",
       "      <td>315</td>\n",
       "    </tr>\n",
       "  </tbody>\n",
       "</table>\n",
       "</div>"
      ],
      "text/plain": [
       "           labels  counts\n",
       "2             usa   12322\n",
       "20           earn    3776\n",
       "21            acq    2210\n",
       "29             uk    1451\n",
       "64          japan    1104\n",
       "27         canada    1063\n",
       "69       money-fx     684\n",
       "5           grain     574\n",
       "52          crude     566\n",
       "113  west-germany     558\n",
       "34          trade     515\n",
       "65         france     447\n",
       "70       interest     424\n",
       "106            ec     337\n",
       "4          brazil     315"
      ]
     },
     "execution_count": 27,
     "metadata": {},
     "output_type": "execute_result"
    }
   ],
   "source": [
    "#creating a dataframe sorted by the number of counts of each labels in the documents and printing top 15 examples\n",
    "import collections\n",
    "counter=collections.Counter(merged_labels)\n",
    "df = pd.DataFrame(zip(counter.keys(), counter.values()), columns = ['labels', 'counts'])\n",
    "df2 = df2 = df.sort_values(by='counts', ascending=False)\n",
    "df2.head(15)"
   ]
  },
  {
   "cell_type": "code",
   "execution_count": 28,
   "id": "8e955077",
   "metadata": {},
   "outputs": [
    {
     "data": {
      "text/html": [
       "<div>\n",
       "<style scoped>\n",
       "    .dataframe tbody tr th:only-of-type {\n",
       "        vertical-align: middle;\n",
       "    }\n",
       "\n",
       "    .dataframe tbody tr th {\n",
       "        vertical-align: top;\n",
       "    }\n",
       "\n",
       "    .dataframe thead th {\n",
       "        text-align: right;\n",
       "    }\n",
       "</style>\n",
       "<table border=\"1\" class=\"dataframe\">\n",
       "  <thead>\n",
       "    <tr style=\"text-align: right;\">\n",
       "      <th></th>\n",
       "      <th>labels</th>\n",
       "      <th>counts</th>\n",
       "    </tr>\n",
       "  </thead>\n",
       "  <tbody>\n",
       "    <tr>\n",
       "      <th>398</th>\n",
       "      <td>steeg</td>\n",
       "      <td>1</td>\n",
       "    </tr>\n",
       "    <tr>\n",
       "      <th>397</th>\n",
       "      <td>lin-meal</td>\n",
       "      <td>1</td>\n",
       "    </tr>\n",
       "    <tr>\n",
       "      <th>395</th>\n",
       "      <td>dkr</td>\n",
       "      <td>1</td>\n",
       "    </tr>\n",
       "    <tr>\n",
       "      <th>393</th>\n",
       "      <td>skr</td>\n",
       "      <td>1</td>\n",
       "    </tr>\n",
       "    <tr>\n",
       "      <th>392</th>\n",
       "      <td>vanuatu</td>\n",
       "      <td>1</td>\n",
       "    </tr>\n",
       "    <tr>\n",
       "      <th>391</th>\n",
       "      <td>mauritania</td>\n",
       "      <td>1</td>\n",
       "    </tr>\n",
       "    <tr>\n",
       "      <th>390</th>\n",
       "      <td>young</td>\n",
       "      <td>1</td>\n",
       "    </tr>\n",
       "    <tr>\n",
       "      <th>268</th>\n",
       "      <td>imco</td>\n",
       "      <td>1</td>\n",
       "    </tr>\n",
       "    <tr>\n",
       "      <th>386</th>\n",
       "      <td>set</td>\n",
       "      <td>1</td>\n",
       "    </tr>\n",
       "    <tr>\n",
       "      <th>383</th>\n",
       "      <td>ryzhkov</td>\n",
       "      <td>1</td>\n",
       "    </tr>\n",
       "    <tr>\n",
       "      <th>379</th>\n",
       "      <td>rupiah</td>\n",
       "      <td>1</td>\n",
       "    </tr>\n",
       "    <tr>\n",
       "      <th>378</th>\n",
       "      <td>prawiro</td>\n",
       "      <td>1</td>\n",
       "    </tr>\n",
       "    <tr>\n",
       "      <th>376</th>\n",
       "      <td>guinea</td>\n",
       "      <td>1</td>\n",
       "    </tr>\n",
       "    <tr>\n",
       "      <th>279</th>\n",
       "      <td>euratom</td>\n",
       "      <td>1</td>\n",
       "    </tr>\n",
       "    <tr>\n",
       "      <th>380</th>\n",
       "      <td>comecon</td>\n",
       "      <td>1</td>\n",
       "    </tr>\n",
       "  </tbody>\n",
       "</table>\n",
       "</div>"
      ],
      "text/plain": [
       "         labels  counts\n",
       "398       steeg       1\n",
       "397    lin-meal       1\n",
       "395         dkr       1\n",
       "393         skr       1\n",
       "392     vanuatu       1\n",
       "391  mauritania       1\n",
       "390       young       1\n",
       "268        imco       1\n",
       "386         set       1\n",
       "383     ryzhkov       1\n",
       "379      rupiah       1\n",
       "378     prawiro       1\n",
       "376      guinea       1\n",
       "279     euratom       1\n",
       "380     comecon       1"
      ]
     },
     "execution_count": 28,
     "metadata": {},
     "output_type": "execute_result"
    }
   ],
   "source": [
    "#printing the bottom three examples\n",
    "df2.tail(15)"
   ]
  },
  {
   "cell_type": "markdown",
   "id": "dfbdb7a5",
   "metadata": {},
   "source": [
    "NOTE: The DataFrame above shows why a stratified split would not work as mentioned earlier. This is because the least populated class in labels has only 1 member, which is too few. The minimum number of groups for any class cannot be less than 2."
   ]
  },
  {
   "cell_type": "code",
   "execution_count": 29,
   "id": "b2381d9b",
   "metadata": {},
   "outputs": [
    {
     "data": {
      "text/plain": [
       "444"
      ]
     },
     "execution_count": 29,
     "metadata": {},
     "output_type": "execute_result"
    }
   ],
   "source": [
    "#total number of unique labels in the training set \n",
    "len(df2)"
   ]
  },
  {
   "cell_type": "code",
   "execution_count": 30,
   "id": "709d55eb",
   "metadata": {},
   "outputs": [
    {
     "data": {
      "text/plain": [
       "dict_keys(['cocoa', 'el-salvador', 'usa', 'uruguay', 'brazil', 'grain', 'wheat', 'corn', 'barley', 'oat', 'sorghum', 'veg-oil', 'linseed', 'lin-oil', 'soy-oil', 'sun-oil', 'soybean', 'oilseed', 'sunseed', 'argentina', 'earn', 'acq', 'yemen-arab-republic', 'copper', 'venezuela', 'reagan', 'housing', 'canada', 'coffee', 'uk', 'ico-coffee', 'iran', 'ship', 'sugar', 'trade', 'reserves', 'new-zealand', 'panama', 'honduras', 'money-supply', 'wilson', 'meal-feed', 'soy-meal', 'maxwell', 'philippines', 'rye', 'cotton', 'iraq', 'carcass', 'livestock', 'china', 'nyse', 'crude', 'opec', 'nat-gas', 'algeria', 'cpi', 'gnp', 'switzerland', 'oecd', 'ussr', 'lyng', 'volcker', 'south-korea', 'japan', 'france', 'chirac', 'italy', 'russell', 'money-fx', 'interest', 'hong-kong', 'taiwan', 'bop', 'australia', 'keating', 'rice', 'thailand', 'red-bean', 'ongpin', 'colombia', 'rubber', 'copra-cake', 'palm-oil', 'palmkernel', 'tea', 'plywood', 'indonesia', 'kuwait', 'ecuador', 'worldbank', 'india', 'gandhi', 'bahrain', 'saudi-arabia', 'bangladesh', 'qatar', 'oman', 'uae', 'hisham-nazer', 'egypt', 'zambia', 'poland', 'imf', 'congo', 'belgium', 'ec', 'sri-lanka', 'alum', 'singapore', 'sse', 'nasdaq', 'lse', 'west-germany', 'simex', 'netherlands', 'sweden', 'nigeria', 'nakasone', 'gold', 'platinum', 'strategic-metal', 'south-africa', 'tapioca', 'tin', 'malaysia', 'zaire', 'bolivia', 'atpc', 'rapeseed', 'groundnut-oil', 'lebanon', 'syria', 'rape-oil', 'cornglutenfeed', 'citruspulp', 'rape-meal', 'pakistan', 'hungary', 'gatt', 'brodersohn', 'james-baker', 'camdessus', 'sumita', 'balladur', 'spain', 'howard-baker', 'leigh-pemberton', 'conable', 'wool', 'dlr', 'tanzania', 'l-cattle', 'bhutan', 'nepal', 'yemen-demo-republic', 'fao', 'retail', 'turkey', 'ipi', 'lawson', 'silver', 'austria', 'liechtenstein', 'iron-steel', 'cme', 'amex', 'cuba', 'nymex', 'yeutter', 'dauster', 'comex', 'hog', 'lme', 'us-virgin-islands', 'guam', 'propane', 'heat', 'gas', 'portugal', 'greece', 'mose', 'sprinkel', 'cbt', 'jobs', 'lei', 'deng-xiaoping', 'yen', 'subroto', 'libya', 'finland', 'saudriyal', 'mexico', 'aquino', 'de-larosiere', 'ireland', 'kenya', 'zimbabwe', 'czechoslovakia', 'romania', 'zinc', 'israel', 'yugoslavia', 'chile', 'liberia', 'denmark', 'uganda', 'jamaica', 'peru', 'stoltenberg', 'morocco', 'orange', 'cboe', 'nicaragua', 'halikias', 'pet-chem', 'dominican-republic', 'luxembourg', 'costa-rica', 'guatemala', 'languetin', 'fuel', 'aqazadeh', 'de-kock', 'icahn', 'suriname', 'ivory-coast', 'cossiga', 'suharto', 'hawke', 'cayman-islands', 'papua-new-guinea', 'wpi', 'potato', 'adb-africa', 'gabon', 'boesky', 'lead', 'duisenberg', 'ruding', 'pse', 'jordan', 'east-germany', 'afghanistan', 'tunisia', 'sudan', 'somalia', 'groundnut', 'haughey', 'delors', 'can', 'kohl', 'iea', 'goria', 'fishmeal', 'du-plessis', 'income', 'tose', 'norway', 'ghana', 'unctad', 'liffe', 'palladium', 'nickel', 'lumber', 'paraguay', 'un', 'jet', 'imco', 'instal-debt', 'poehl', 'dfl', 'dmk', 'biffex', 'angola', 'stg', 'bis', 'ipe', 'mulroney', 'euratom', 'pickens', 'miyazawa', 'douglas', 'king-fahd', 'murdoch', 'schlueter', 'coconut-oil', 'inro', 'sarney', 'bulgaria', 'corn-oil', 'tse', 'stse', 'james-miller', 'ida', 'tamura', 'kampuchea', 'zse', 'burma', 'inventories', 'haiti', 'sierra-leone', 'aruba', 'ase', 'machinea', 'mnse', 'khomeini', 'icco', 'mohammed-ali-abal-khail', 'lange', 'cyprus', 'itc', 'madagascar', 'cpu', 'peseta', 'nycsce', 'ethiopia', 'babangida', 'alfonsin', 'von-weizsaecker', 'de-clercq', 'austdlr', 'north-korea', 'eib', 'iceland', 'guyana', 'herrington', 'gcc', 'oapec', 'cotton-oil', 'naphtha', 'petricioli', 'trinidad-tobago', 'djibouti', 'iwcc', 'nzdlr', 'siregar', 'rand', 'bermuda', 'isa', 'singhasaneh', 'adb-asia', 'garcia', 'kullberg', 'thatcher', 'chad', 'pork-belly', 'malawi', 'ciampi', 'mikulic', 'ringgit', 'coconut', 'bangemann', 'concepcion', 'martens', 'senegal', 'barbados', 'fernandez', 'okongwu', 'masse', 'vietnam', 'zhao-ziyang', 'mousavi', 'brunei', 'cavaco-silva', 'wang-bingqian', 'iwc-wheat', 'jaruzelski', 'castorseed', 'castor-oil', 'botswana', 'fse', 'papandreou', 'macsharry', 'cameroon', 'togo', 'guinea', 'lit', 'prawiro', 'rupiah', 'comecon', 'ozal', 'nyce', 'ryzhkov', 'mauritius', 'mozambique', 'set', 'hkse', 'asx', 'asean', 'young', 'mauritania', 'vanuatu', 'skr', 'nkr', 'dkr', 'sun-meal', 'lin-meal', 'steeg', 'eyskens', 'bse', 'carlsson', 'efta', 'sourrouille', 'kaufman', 'malta', 'johnston', 'namibia', 'lukman', 'cottonseed', 'bond', 'f-cattle', 'rubio', 'fujioka', 'escap', 'bfr', 'eca', 'del-mazo', 'mancera-aguayo', 'de-la-madrid', 'corrigan', 'ose', 'andriessen', 'hk', 'sfr', 'antigua', 'oeien', 'perez-de-cuellar', 'rwanda', 'fiji', 'greenspan', 'bresser-pereira', 'kiechle', 'benin', 'burkina-faso', 'niger', 'mise', 'lesotho', 'swaziland', 'bahamas', 'mitterrand', 'takeshita', 'stich', 'verity'])"
      ]
     },
     "execution_count": 30,
     "metadata": {},
     "output_type": "execute_result"
    }
   ],
   "source": [
    "# all unique labels in the train set\n",
    "counter.keys()"
   ]
  },
  {
   "cell_type": "code",
   "execution_count": null,
   "id": "27c4c61e",
   "metadata": {},
   "outputs": [],
   "source": []
  },
  {
   "cell_type": "markdown",
   "id": "a544e8cf",
   "metadata": {},
   "source": [
    "**SOME EXPLORATORY DATA ANALYSIS**"
   ]
  },
  {
   "cell_type": "code",
   "execution_count": 31,
   "id": "8bab8f5c",
   "metadata": {},
   "outputs": [],
   "source": [
    "#function to plot the counts of the occurrences of the labels\n",
    "def df_occr(dataframe, limit=None):\n",
    "    df = dataframe.head(limit)\n",
    "    df.plot(x='labels', y='counts', kind='bar', legend=False, grid=True, figsize=(15, 10))\n",
    "    plt.title(\"Counts of each labels across all documents\")\n",
    "    plt.ylabel('# of Occurrences', fontsize=12)\n",
    "    plt.xlabel('category', fontsize=12)"
   ]
  },
  {
   "cell_type": "code",
   "execution_count": 32,
   "id": "16dda647",
   "metadata": {},
   "outputs": [
    {
     "data": {
      "image/png": "[encoded data removed]",
      "text/plain": [
       "<Figure size 1080x720 with 1 Axes>"
      ]
     },
     "metadata": {
      "needs_background": "light"
     },
     "output_type": "display_data"
    }
   ],
   "source": [
    "df_occr(df2)"
   ]
  },
  {
   "cell_type": "markdown",
   "id": "27917692",
   "metadata": {},
   "source": [
    "Since a label cannot appear more than once for a document; the plot above shows the labels aren't evenly distributed across all documents. This means some labels are sparser than others, which will cause a bias towards the dominant labels."
   ]
  },
  {
   "cell_type": "code",
   "execution_count": null,
   "id": "82bab3b8",
   "metadata": {},
   "outputs": [],
   "source": []
  },
  {
   "cell_type": "markdown",
   "id": "4e5e3cf5",
   "metadata": {},
   "source": [
    "Zooming into the plot ..."
   ]
  },
  {
   "cell_type": "code",
   "execution_count": 33,
   "id": "521bbb6c",
   "metadata": {},
   "outputs": [
    {
     "data": {
      "image/png": "[encoded data removed]",
      "text/plain": [
       "<Figure size 1080x720 with 1 Axes>"
      ]
     },
     "metadata": {
      "needs_background": "light"
     },
     "output_type": "display_data"
    }
   ],
   "source": [
    "df_occr(df2, 10)"
   ]
  },
  {
   "cell_type": "markdown",
   "id": "fd033422",
   "metadata": {},
   "source": []
  },
  {
   "cell_type": "markdown",
   "id": "8c4e253b",
   "metadata": {},
   "source": [
    "Zooming out ..."
   ]
  },
  {
   "cell_type": "code",
   "execution_count": 34,
   "id": "aaba76bb",
   "metadata": {},
   "outputs": [
    {
     "data": {
      "image/png": "[encoded data removed]",
      "text/plain": [
       "<Figure size 1080x720 with 1 Axes>"
      ]
     },
     "metadata": {
      "needs_background": "light"
     },
     "output_type": "display_data"
    }
   ],
   "source": [
    "df_occr(df2, 20)"
   ]
  },
  {
   "cell_type": "code",
   "execution_count": null,
   "id": "aaf03d54",
   "metadata": {},
   "outputs": [],
   "source": []
  },
  {
   "cell_type": "markdown",
   "id": "7016f0af",
   "metadata": {},
   "source": [
    "Zooming out even more ....."
   ]
  },
  {
   "cell_type": "code",
   "execution_count": 35,
   "id": "56e2065e",
   "metadata": {
    "scrolled": false
   },
   "outputs": [
    {
     "data": {
      "image/png": "[encoded data removed]",
      "text/plain": [
       "<Figure size 1080x720 with 1 Axes>"
      ]
     },
     "metadata": {
      "needs_background": "light"
     },
     "output_type": "display_data"
    }
   ],
   "source": [
    "df_occr(df2, 40)"
   ]
  },
  {
   "cell_type": "markdown",
   "id": "9f3f8fa0",
   "metadata": {},
   "source": [
    "So we get the point. \n",
    "\n",
    "We see that beyond money-fx and grain, the count of the labels are about the same. Occurrences of labels before that basically dominates.\n",
    "\n",
    "A way to solve this is making the classes somewhat evenly distributed by combining classes. This is an art, not a science and will depend on objectives and how effective one needs the predicitive abilities from the data. Combining labels maybe also require some domain knowledge to achieve a grouping that makes sense. For the purpose of this work, we will just exemplify this approach to see it's effectiveness.  \n",
    "\n",
    "I will hypothetically use the first three dominant labels, i.e.; usa, earn and acq, as the positive classes and everything else the negative classes. So, when we binarize the labels, we get a 1, where we see usa, earn and acq respectively and zero otherwise. Which is a total of 4 labels.\n",
    "\n",
    "Let's give it a shot!\n"
   ]
  },
  {
   "cell_type": "code",
   "execution_count": null,
   "id": "605b5dac",
   "metadata": {},
   "outputs": [],
   "source": []
  },
  {
   "cell_type": "markdown",
   "id": "c217ead8",
   "metadata": {},
   "source": [
    "**SOME PREPROCESSING OF THE DATASET**"
   ]
  },
  {
   "cell_type": "code",
   "execution_count": 36,
   "id": "a952504e",
   "metadata": {},
   "outputs": [],
   "source": [
    "# Created a function that will do this merge or groupings\n",
    "# number of labels ranges from 0 to 90\n",
    "# label type is either y_train or y_test\n",
    "\n",
    "def label_merge(label_type, number_of_label=1, ):\n",
    "    \"\"\"\n",
    "     This function allows one merge or group labels\n",
    "\n",
    "     number_of_positive_labels: where positve label is 1 and all other\\\n",
    "     labels are merged/grouped into the negative label 0. original number\\\n",
    "     of labels ranging from 0 to 90.\n",
    "     \n",
    "     label_type: this either the y_test (labels of the test set) or \\\n",
    "     y_train (labels of the train set)\n",
    "     \n",
    "     \"\"\"\n",
    "    \n",
    "    new_labels = df2.head(number_of_label).labels.values.tolist()\n",
    "    for ele in (label_type):\n",
    "        for i, x in enumerate (ele):\n",
    "            if x in new_labels:\n",
    "                continue\n",
    "            else: \n",
    "                ele[i] = 'merged'"
   ]
  },
  {
   "cell_type": "code",
   "execution_count": null,
   "id": "9b37463d",
   "metadata": {},
   "outputs": [],
   "source": []
  },
  {
   "cell_type": "code",
   "execution_count": 37,
   "id": "fbb8706a",
   "metadata": {},
   "outputs": [
    {
     "data": {
      "text/plain": [
       "[['acq', 'usa'],\n",
       " ['merged', 'merged', 'merged'],\n",
       " ['acq', 'usa'],\n",
       " ['usa'],\n",
       " ['usa']]"
      ]
     },
     "execution_count": 37,
     "metadata": {},
     "output_type": "execute_result"
    }
   ],
   "source": [
    "#applying the merge function to the train and test labels\n",
    "label_merge(y_train, 3)\n",
    "y_train[:5]"
   ]
  },
  {
   "cell_type": "code",
   "execution_count": 38,
   "id": "9438b700",
   "metadata": {},
   "outputs": [
    {
     "data": {
      "text/plain": [
       "[['acq', 'usa'],\n",
       " ['merged', 'merged', 'merged'],\n",
       " ['acq', 'usa'],\n",
       " ['usa'],\n",
       " ['usa'],\n",
       " ['usa'],\n",
       " ['merged', 'merged', 'merged', 'merged'],\n",
       " ['acq', 'usa'],\n",
       " ['usa'],\n",
       " ['merged', 'merged', 'merged', 'merged'],\n",
       " ['earn', 'usa']]"
      ]
     },
     "execution_count": 38,
     "metadata": {},
     "output_type": "execute_result"
    }
   ],
   "source": [
    "y_train[:11]"
   ]
  },
  {
   "cell_type": "code",
   "execution_count": null,
   "id": "b7857bd2",
   "metadata": {},
   "outputs": [],
   "source": []
  },
  {
   "cell_type": "code",
   "execution_count": 39,
   "id": "7c2b94c5",
   "metadata": {},
   "outputs": [],
   "source": [
    "import itertools\n",
    "import collections\n",
    "\n",
    "def df_occr2(labels):\n",
    "    \n",
    "    merged_labels = list(itertools.chain(*labels)) #flattening list of list\n",
    "    \n",
    "    #creating a dataframe sorted by the number of counts of each labels in the documents\n",
    "    counter=collections.Counter(merged_labels)\n",
    "        \n",
    "    df = pd.DataFrame(zip(counter.keys(), counter.values()), columns = ['labels', 'counts'])\n",
    "    df2 = df.sort_values(by='counts', ascending=False)\n",
    "    \n",
    "    #df3= df2.head(limit)\n",
    "    df2.plot(x='labels', y='counts', kind='bar', legend=False, grid=True, figsize=(15, 10))\n",
    "    plt.title(\"Counts of each labels across all documents\")\n",
    "    plt.ylabel('# of Occurrences', fontsize=12)\n",
    "    plt.xlabel('category', fontsize=12)"
   ]
  },
  {
   "cell_type": "code",
   "execution_count": 40,
   "id": "d0e40089",
   "metadata": {},
   "outputs": [
    {
     "data": {
      "image/png": "[encoded data removed]",
      "text/plain": [
       "<Figure size 1080x720 with 1 Axes>"
      ]
     },
     "metadata": {
      "needs_background": "light"
     },
     "output_type": "display_data"
    }
   ],
   "source": [
    "#calling the function for the plot\n",
    "df_occr2(y_train)"
   ]
  },
  {
   "cell_type": "markdown",
   "id": "a559941a",
   "metadata": {},
   "source": [
    "The plot above after merging the labels is much better and has less bias in the training set. The distribution looks much better across all documents, but then it's not the best. The labels in the merged group still trumps all the other labels."
   ]
  },
  {
   "cell_type": "code",
   "execution_count": null,
   "id": "b12ed61a",
   "metadata": {},
   "outputs": [],
   "source": []
  },
  {
   "cell_type": "code",
   "execution_count": 41,
   "id": "5a1d97b3",
   "metadata": {},
   "outputs": [],
   "source": [
    "#running the same merge fucntion on the test set\n",
    "label_merge(y_test, 3)"
   ]
  },
  {
   "cell_type": "code",
   "execution_count": 42,
   "id": "e2e2e0fa",
   "metadata": {},
   "outputs": [],
   "source": [
    "#transform multilabel labels\n",
    "train_labels = mlb.fit_transform(y_train) \n",
    "test_labels = mlb.transform(y_test)"
   ]
  },
  {
   "cell_type": "code",
   "execution_count": 43,
   "id": "5c548908",
   "metadata": {},
   "outputs": [],
   "source": [
    "#fit the model on the new merged labels\n",
    "classifier = classifier.fit(vectorized_train_docu, train_labels)\n",
    "\n",
    "#prediction and evaluation on the new merged labels\n",
    "accuracy, micro_precision, micro_recall, micro_f1, macro_precision, macro_recall, macro_f1 = pred_eval(classifier, \n",
    "                                                    vectorized_train_docu, train_labels, vectorized_test_docu, test_labels)"
   ]
  },
  {
   "cell_type": "code",
   "execution_count": 44,
   "id": "8f4d6780",
   "metadata": {},
   "outputs": [],
   "source": [
    "#comparing the improved model and the benchmark\n",
    "compare_df['3_+ve_class'] =  [accuracy, micro_precision, micro_recall, micro_f1, macro_precision, \n",
    "                                             macro_recall, macro_f1]                            "
   ]
  },
  {
   "cell_type": "code",
   "execution_count": 45,
   "id": "a1525861",
   "metadata": {},
   "outputs": [
    {
     "data": {
      "text/html": [
       "<div>\n",
       "<style scoped>\n",
       "    .dataframe tbody tr th:only-of-type {\n",
       "        vertical-align: middle;\n",
       "    }\n",
       "\n",
       "    .dataframe tbody tr th {\n",
       "        vertical-align: top;\n",
       "    }\n",
       "\n",
       "    .dataframe thead th {\n",
       "        text-align: right;\n",
       "    }\n",
       "</style>\n",
       "<table border=\"1\" class=\"dataframe\">\n",
       "  <thead>\n",
       "    <tr style=\"text-align: right;\">\n",
       "      <th></th>\n",
       "      <th>benchmark</th>\n",
       "      <th>3_+ve_class</th>\n",
       "    </tr>\n",
       "  </thead>\n",
       "  <tbody>\n",
       "    <tr>\n",
       "      <th>Accuracy</th>\n",
       "      <td>0.587674</td>\n",
       "      <td>0.823163</td>\n",
       "    </tr>\n",
       "    <tr>\n",
       "      <th>Micro_precision</th>\n",
       "      <td>0.842428</td>\n",
       "      <td>0.933212</td>\n",
       "    </tr>\n",
       "    <tr>\n",
       "      <th>Micro_recall</th>\n",
       "      <td>0.846628</td>\n",
       "      <td>0.927306</td>\n",
       "    </tr>\n",
       "    <tr>\n",
       "      <th>Micro_f1</th>\n",
       "      <td>0.844523</td>\n",
       "      <td>0.930249</td>\n",
       "    </tr>\n",
       "    <tr>\n",
       "      <th>Macro_precision</th>\n",
       "      <td>0.432634</td>\n",
       "      <td>0.905656</td>\n",
       "    </tr>\n",
       "    <tr>\n",
       "      <th>Macro_recall</th>\n",
       "      <td>0.369155</td>\n",
       "      <td>0.921369</td>\n",
       "    </tr>\n",
       "    <tr>\n",
       "      <th>Macro_f1</th>\n",
       "      <td>0.385330</td>\n",
       "      <td>0.912667</td>\n",
       "    </tr>\n",
       "  </tbody>\n",
       "</table>\n",
       "</div>"
      ],
      "text/plain": [
       "                 benchmark  3_+ve_class\n",
       "Accuracy          0.587674     0.823163\n",
       "Micro_precision   0.842428     0.933212\n",
       "Micro_recall      0.846628     0.927306\n",
       "Micro_f1          0.844523     0.930249\n",
       "Macro_precision   0.432634     0.905656\n",
       "Macro_recall      0.369155     0.921369\n",
       "Macro_f1          0.385330     0.912667"
      ]
     },
     "execution_count": 45,
     "metadata": {},
     "output_type": "execute_result"
    }
   ],
   "source": [
    "compare_df"
   ]
  },
  {
   "cell_type": "code",
   "execution_count": null,
   "id": "0582164d",
   "metadata": {},
   "outputs": [],
   "source": []
  },
  {
   "cell_type": "code",
   "execution_count": 46,
   "id": "51fa46d1",
   "metadata": {},
   "outputs": [],
   "source": [
    "def plots(item, title=None):\n",
    "\n",
    "    '''\n",
    "     This function allows one quickly plot bar charts of \\\n",
    "     different subset variants of the performance metrics dataframe \\\n",
    "\n",
    "     item: either a list of DataFrame names i.e., ['a', 'b', ..] or \\\n",
    "     or just a single name i.e., 'a.'\n",
    "     title: title of the plot. should be string data type\n",
    "\n",
    "     return value is the reuired plots\n",
    "\n",
    "     '''\n",
    "\n",
    "    compare_df[item].plot(kind=\"bar\")\n",
    "    fig = matplotlib.pyplot.gcf()\n",
    "    fig.set_size_inches(12, 8)\n",
    "    \n",
    "    plt.title(title)\n",
    "    plt.xlabel(\"metrics\")\n",
    "    plt.ylabel(\"quantity\")\n",
    "    plt.xticks(rotation=360) # Rotate x-labels\n",
    "    plt.legend(loc=\"lower right\")\n",
    "    plt.show()\n",
    "    return plt.show()\n"
   ]
  },
  {
   "cell_type": "code",
   "execution_count": 47,
   "id": "48bd8abd",
   "metadata": {},
   "outputs": [
    {
     "data": {
      "image/png": "[encoded data removed]",
      "text/plain": [
       "<Figure size 864x576 with 1 Axes>"
      ]
     },
     "metadata": {
      "needs_background": "light"
     },
     "output_type": "display_data"
    }
   ],
   "source": [
    "#plotting improvement in the RF model after hyperparameter tuning\n",
    "plots(['benchmark', '3_+ve_class'], 'Improvement in the Model after merging classes')\n"
   ]
  },
  {
   "cell_type": "markdown",
   "id": "7c4958ef",
   "metadata": {},
   "source": [
    "The above shows the improvement in the distribution of the labels across the documents by merging the labels greatly improved the macro-average statistics, which was what we were trying to achieve."
   ]
  },
  {
   "cell_type": "markdown",
   "id": "b7716e21",
   "metadata": {},
   "source": [
    "However, what we just did here may not make business or domain sense. One can't combine labels just to achieve a good predictive ability without taking cognizant of business objectives. There are better ways to combine labels in the preprocessing steps. One is using much better groupings that aligns with the domain or process at hand. This can't be carried out here because some grouping labels like the country label groupings will dominate, creating bias towards those labels. "
   ]
  },
  {
   "cell_type": "code",
   "execution_count": 48,
   "id": "a1aa758f",
   "metadata": {},
   "outputs": [
    {
     "data": {
      "image/png": "[encoded data removed]",
      "text/plain": [
       "<Figure size 1080x720 with 1 Axes>"
      ]
     },
     "metadata": {
      "needs_background": "light"
     },
     "output_type": "display_data"
    }
   ],
   "source": [
    "df_occr(df2, 40)"
   ]
  },
  {
   "cell_type": "markdown",
   "id": "64c2945a",
   "metadata": {},
   "source": [
    "We see that the usa, uk, japan and canada labels make up more than 80% of all labels in the document."
   ]
  },
  {
   "cell_type": "markdown",
   "id": "4a7debda",
   "metadata": {},
   "source": [
    "A much better groupings of the labels that makes sense, and still achieves good predictive ability can be \"top three label\" vs \"not a top three label.\" From the below plot as seen earlier ...."
   ]
  },
  {
   "cell_type": "code",
   "execution_count": 49,
   "id": "89fa9fe2",
   "metadata": {},
   "outputs": [
    {
     "data": {
      "image/png": "[encoded data removed]",
      "text/plain": [
       "<Figure size 1080x720 with 1 Axes>"
      ]
     },
     "metadata": {
      "needs_background": "light"
     },
     "output_type": "display_data"
    }
   ],
   "source": [
    "#calling the function for the plot\n",
    "df_occr2(y_train)"
   ]
  },
  {
   "cell_type": "markdown",
   "id": "5ddc1d3a",
   "metadata": {},
   "source": [
    "From the above, we see that when we stack the usa, earn and acq labels, the occurrences and distribution of the merged output positive label evens out with the negative one. Let's try that. "
   ]
  },
  {
   "cell_type": "code",
   "execution_count": null,
   "id": "3dcb4640",
   "metadata": {},
   "outputs": [],
   "source": []
  },
  {
   "cell_type": "code",
   "execution_count": 50,
   "id": "ce27d643",
   "metadata": {},
   "outputs": [],
   "source": [
    "def label_merge_top(label_type,):\n",
    "    \"\"\"\n",
    "     This function is a variant of the label_merge function with\\\n",
    "     the top three labels: ['usa', 'earn', 'acq'] hardcoded, and \\\n",
    "     merged into one label. \n",
    "     \n",
    "     \"\"\"\n",
    "    \n",
    "    new_labels = df2.head(3).labels.values.tolist()\n",
    "    for ele in (label_type):\n",
    "        for i, x in enumerate (ele):\n",
    "            if x in new_labels:\n",
    "                ele[i] = 'top_three_label'\n",
    "                #continue\n",
    "            else: \n",
    "                ele[i] = 'not_a_top_three_label'"
   ]
  },
  {
   "cell_type": "code",
   "execution_count": null,
   "id": "d43f798c",
   "metadata": {},
   "outputs": [],
   "source": []
  },
  {
   "cell_type": "code",
   "execution_count": 51,
   "id": "a87458a4",
   "metadata": {},
   "outputs": [],
   "source": [
    "label_merge_top(y_train)\n",
    "label_merge_top(y_test)"
   ]
  },
  {
   "cell_type": "code",
   "execution_count": 52,
   "id": "bcb6617b",
   "metadata": {},
   "outputs": [
    {
     "data": {
      "image/png": "[encoded data removed]",
      "text/plain": [
       "<Figure size 1080x720 with 1 Axes>"
      ]
     },
     "metadata": {
      "needs_background": "light"
     },
     "output_type": "display_data"
    }
   ],
   "source": [
    "df_occr2(y_train)"
   ]
  },
  {
   "cell_type": "markdown",
   "id": "cf4027d7",
   "metadata": {},
   "source": [
    "There we go! This further reduces the bias towards a label groupings in the dataset\n",
    "\n",
    "Let us check the predictive ability ..."
   ]
  },
  {
   "cell_type": "code",
   "execution_count": 53,
   "id": "0ed1a20a",
   "metadata": {},
   "outputs": [],
   "source": [
    "#transform multilabel labels\n",
    "train_labels = mlb.fit_transform(y_train) \n",
    "test_labels = mlb.transform(y_test)\n",
    "\n",
    "#fit the model on the new merged labels\n",
    "classifier = classifier.fit(vectorized_train_docu, train_labels)\n",
    "\n",
    "#prediction and evaluation on the new merged labels\n",
    "accuracy, micro_precision, micro_recall, micro_f1, macro_precision, macro_recall, macro_f1 = pred_eval(classifier, \n",
    "                                                    vectorized_train_docu, train_labels, vectorized_test_docu, test_labels)\n",
    "\n",
    "#comparing the binary model with ;ast two models\n",
    "compare_df['binary_model'] =  [accuracy, micro_precision, micro_recall, micro_f1, macro_precision, \n",
    "                                             macro_recall, macro_f1]                            "
   ]
  },
  {
   "cell_type": "code",
   "execution_count": 54,
   "id": "bfa766a9",
   "metadata": {},
   "outputs": [
    {
     "data": {
      "text/html": [
       "<div>\n",
       "<style scoped>\n",
       "    .dataframe tbody tr th:only-of-type {\n",
       "        vertical-align: middle;\n",
       "    }\n",
       "\n",
       "    .dataframe tbody tr th {\n",
       "        vertical-align: top;\n",
       "    }\n",
       "\n",
       "    .dataframe thead th {\n",
       "        text-align: right;\n",
       "    }\n",
       "</style>\n",
       "<table border=\"1\" class=\"dataframe\">\n",
       "  <thead>\n",
       "    <tr style=\"text-align: right;\">\n",
       "      <th></th>\n",
       "      <th>benchmark</th>\n",
       "      <th>3_+ve_class</th>\n",
       "      <th>binary_model</th>\n",
       "    </tr>\n",
       "  </thead>\n",
       "  <tbody>\n",
       "    <tr>\n",
       "      <th>Accuracy</th>\n",
       "      <td>0.587674</td>\n",
       "      <td>0.823163</td>\n",
       "      <td>0.870843</td>\n",
       "    </tr>\n",
       "    <tr>\n",
       "      <th>Micro_precision</th>\n",
       "      <td>0.842428</td>\n",
       "      <td>0.933212</td>\n",
       "      <td>0.958829</td>\n",
       "    </tr>\n",
       "    <tr>\n",
       "      <th>Micro_recall</th>\n",
       "      <td>0.846628</td>\n",
       "      <td>0.927306</td>\n",
       "      <td>0.926614</td>\n",
       "    </tr>\n",
       "    <tr>\n",
       "      <th>Micro_f1</th>\n",
       "      <td>0.844523</td>\n",
       "      <td>0.930249</td>\n",
       "      <td>0.942446</td>\n",
       "    </tr>\n",
       "    <tr>\n",
       "      <th>Macro_precision</th>\n",
       "      <td>0.432634</td>\n",
       "      <td>0.905656</td>\n",
       "      <td>0.957391</td>\n",
       "    </tr>\n",
       "    <tr>\n",
       "      <th>Macro_recall</th>\n",
       "      <td>0.369155</td>\n",
       "      <td>0.921369</td>\n",
       "      <td>0.923959</td>\n",
       "    </tr>\n",
       "    <tr>\n",
       "      <th>Macro_f1</th>\n",
       "      <td>0.385330</td>\n",
       "      <td>0.912667</td>\n",
       "      <td>0.940361</td>\n",
       "    </tr>\n",
       "  </tbody>\n",
       "</table>\n",
       "</div>"
      ],
      "text/plain": [
       "                 benchmark  3_+ve_class  binary_model\n",
       "Accuracy          0.587674     0.823163      0.870843\n",
       "Micro_precision   0.842428     0.933212      0.958829\n",
       "Micro_recall      0.846628     0.927306      0.926614\n",
       "Micro_f1          0.844523     0.930249      0.942446\n",
       "Macro_precision   0.432634     0.905656      0.957391\n",
       "Macro_recall      0.369155     0.921369      0.923959\n",
       "Macro_f1          0.385330     0.912667      0.940361"
      ]
     },
     "execution_count": 54,
     "metadata": {},
     "output_type": "execute_result"
    }
   ],
   "source": [
    "compare_df"
   ]
  },
  {
   "cell_type": "code",
   "execution_count": 55,
   "id": "f2b92d65",
   "metadata": {},
   "outputs": [
    {
     "data": {
      "image/png": "[encoded data removed]",
      "text/plain": [
       "<Figure size 864x576 with 1 Axes>"
      ]
     },
     "metadata": {
      "needs_background": "light"
     },
     "output_type": "display_data"
    }
   ],
   "source": [
    "#plotting improvement in the model across all models\n",
    "plots(['benchmark', '3_+ve_class', 'binary_model'], 'Comparison across all three models')\n"
   ]
  },
  {
   "cell_type": "markdown",
   "id": "d5b2ce45",
   "metadata": {},
   "source": [
    "The above shows the binary model performs better than the previous two models. We could have just used a Logistic Regression model for the binary model scenario, but didn't try it in this instance."
   ]
  },
  {
   "cell_type": "markdown",
   "id": "453eff35",
   "metadata": {},
   "source": [
    "Usually an approach like this works for cases where there is an uneven distribution in observations across all classes. One sure will achieve a much better solution. \n",
    "\n",
    "According to Google machine learning best practices, it is better to start simple like this, and then scale out. Also, breaking tasks down, then modeling each task and combining overall effect may improve performance of the model. That is much like a cascaded modeling approach where output of one model acts as input of another. That is, after using a binary model of say \"top three label\" vs \"not a top three label,\" one will now drill down with another model to predict actual label in the grouping. Which is a model of a models, where one is a function of the other. Much like gradient boosting.\n",
    "\n",
    "I'd probably try that if i have time."
   ]
  },
  {
   "cell_type": "code",
   "execution_count": null,
   "id": "75a73d0f",
   "metadata": {},
   "outputs": [],
   "source": []
  },
  {
   "cell_type": "markdown",
   "id": "bb91362c",
   "metadata": {},
   "source": [
    "**BIAS & VARIANCE CHECKS**"
   ]
  },
  {
   "cell_type": "markdown",
   "id": "28958995",
   "metadata": {},
   "source": [
    "Would additional \"good examples\" improve the model? Let us see ...."
   ]
  },
  {
   "cell_type": "code",
   "execution_count": 56,
   "id": "b89f8dc8",
   "metadata": {},
   "outputs": [
    {
     "data": {
      "image/png": "[encoded data removed]",
      "text/plain": [
       "<Figure size 864x576 with 1 Axes>"
      ]
     },
     "metadata": {
      "needs_background": "light"
     },
     "output_type": "display_data"
    }
   ],
   "source": [
    "# plot credit goes to Chris Albon\n",
    "# @https://chrisalbon.com/code/machine_learning/model_evaluation/plot_the_learning_curve/\n",
    "\n",
    "from sklearn.model_selection import learning_curve\n",
    "train_sizes, train_scores, valid_scores = learning_curve(classifier, vectorized_train_docu, train_labels, cv=20, \n",
    "                                                                     scoring='accuracy', n_jobs=-1,\n",
    "                                                                     train_sizes=[500, 1000, 2000, 4000, 8000, 11747])\n",
    "\n",
    "# Create means and standard deviations of training set scores\n",
    "train_mean = np.mean(train_scores, axis=1)\n",
    "train_std = np.std(train_scores, axis=1)\n",
    "\n",
    "# Create means and standard deviations of test set scores\n",
    "valid_mean = np.mean(valid_scores, axis=1)\n",
    "valid_std = np.std(valid_scores, axis=1)\n",
    "fig = matplotlib.pyplot.gcf()\n",
    "fig.set_size_inches(12, 8)\n",
    "\n",
    "# Draw lines\n",
    "plt.plot(train_sizes, train_mean, '--', color=\"#111111\", label=\"Training score\")\n",
    "plt.plot(train_sizes, valid_mean, color=\"#111111\", label=\"Cross-validation score\")\n",
    "\n",
    "# Draw bands\n",
    "plt.fill_between(train_sizes, train_mean - train_std, train_mean + train_std, color=\"#DDDDDD\")\n",
    "plt.fill_between(train_sizes, valid_mean - valid_std, valid_mean + valid_std, color=\"#DDDDDD\")\n",
    "\n",
    "# Create plot\n",
    "plt.title(\"Model Learning Curve\")\n",
    "plt.xlabel(\"Training Set Size\"), plt.ylabel(\"Accuracy Score\"), plt.legend(loc=\"best\")\n",
    "plt.tight_layout()\n",
    "plt.show()"
   ]
  },
  {
   "cell_type": "markdown",
   "id": "06fe6275",
   "metadata": {},
   "source": [
    "The learning curve above shows how much improvement a model makes with an increase in the training set size. We need to see in the plot that the cross-validated solid line gets close to the training score dashed line as much as possible.\n",
    "\n",
    "The training dataset we have here is shy of about 12000 examples, after train-test split and treatment of null documents, which is small in this case. So, care was taken not to unnecessarily drop data points without thoroughly understanding and investigating its effects.\n",
    "\n",
    "The learning curve above shows our model performs better with increasingly additional examples. So, another way one can reduce bias, and increase model performance and accuracy is getting more quality data in this case."
   ]
  },
  {
   "cell_type": "code",
   "execution_count": null,
   "id": "115824e0",
   "metadata": {},
   "outputs": [],
   "source": []
  },
  {
   "cell_type": "markdown",
   "id": "812bfadf",
   "metadata": {},
   "source": [
    "**Is the model underfitting, overfitting or just right?**\n",
    "\n",
    "That was probably already obvious from the initial cross-validation metrics, but one may still need some confirmation.\n",
    "To do that, we compare some hyperparameter values for both the training set and the cross-validated set. Overfitting the training set means the hyperparameter value score is very different for both. That means the hyperparameter score for the training set is high and one for the cross-validation score low. If the scores are about the same and low, then that indicates underfitting. In both cases, the model will not generalize well to out of sample dataset."
   ]
  },
  {
   "cell_type": "markdown",
   "id": "25c1b2e3",
   "metadata": {},
   "source": [
    "Let us print out the hyperparameters for our base algorithm - LinearSVC"
   ]
  },
  {
   "cell_type": "code",
   "execution_count": 57,
   "id": "79512901",
   "metadata": {},
   "outputs": [
    {
     "data": {
      "text/plain": [
       "dict_keys(['estimator__C', 'estimator__class_weight', 'estimator__dual', 'estimator__fit_intercept', 'estimator__intercept_scaling', 'estimator__loss', 'estimator__max_iter', 'estimator__multi_class', 'estimator__penalty', 'estimator__random_state', 'estimator__tol', 'estimator__verbose', 'estimator', 'n_jobs'])"
      ]
     },
     "execution_count": 57,
     "metadata": {},
     "output_type": "execute_result"
    }
   ],
   "source": [
    "classifier.get_params().keys()"
   ]
  },
  {
   "cell_type": "markdown",
   "id": "a1f2fa1b",
   "metadata": {},
   "source": [
    "To investigate this, we can use one or two hyperparameters. "
   ]
  },
  {
   "cell_type": "markdown",
   "id": "168d81f9",
   "metadata": {},
   "source": [
    "Let us try the 'estimator__C.' That is the regularization parameter. The strength of the regularization is inversely proportional to C. Must be strictly positive.The default for that hyperparameter is 1. But we will try values between 0 and 10"
   ]
  },
  {
   "cell_type": "code",
   "execution_count": 58,
   "id": "4bcccf37",
   "metadata": {},
   "outputs": [
    {
     "data": {
      "image/png": "[encoded data removed]",
      "text/plain": [
       "<Figure size 864x576 with 1 Axes>"
      ]
     },
     "metadata": {
      "needs_background": "light"
     },
     "output_type": "display_data"
    }
   ],
   "source": [
    "#@ credit goes to https://scikit-learn.org/stable/modules/generated/sklearn.model_selection.validation_curve.html\\\n",
    "#sklearn.model_selection.validation_curve\n",
    "\n",
    "\n",
    "from sklearn.model_selection import validation_curve\n",
    "np.random.seed(0)\n",
    "\n",
    "X, y = vectorized_train_docu, train_labels\n",
    "param_range = np.linspace(0, 10, num=50)\n",
    "train_scores, valid_scores = validation_curve(classifier, X, y, param_name='estimator__C', param_range=param_range, cv=5,\n",
    "                                              scoring=\"accuracy\", n_jobs=-1)\n",
    "\n",
    "train_scores_mean = np.mean(train_scores, axis=1)\n",
    "train_scores_std = np.std(train_scores, axis=1)\n",
    "\n",
    "valid_scores_mean = np.mean(valid_scores, axis=1)\n",
    "valid_scores_std = np.std(valid_scores, axis=1)\n",
    "\n",
    "fig = matplotlib.pyplot.gcf()\n",
    "fig.set_size_inches(12, 8)\n",
    "\n",
    "plt.title(\"Validation Curve of the Classifier\")\n",
    "plt.xlabel(r\"Regularization Parameter (C)\")\n",
    "plt.ylabel(\"Accuracy Score\")\n",
    "plt.ylim(0.0, 1.1)\n",
    "lw = 2\n",
    "plt.semilogx(param_range, train_scores_mean, label=\"Training score\",\n",
    " color=\"darkorange\", lw=lw)\n",
    "plt.fill_between(param_range, train_scores_mean - train_scores_std,\n",
    " train_scores_mean + train_scores_std, alpha=0.2,\n",
    " color=\"darkorange\", lw=lw)\n",
    "plt.semilogx(param_range, valid_scores_mean, label=\"Cross-validation score\",\n",
    " color=\"navy\", lw=lw)\n",
    "plt.fill_between(param_range, valid_scores_mean - valid_scores_std,\n",
    " valid_scores_mean + valid_scores_std, alpha=0.2,\n",
    " color=\"navy\", lw=lw)\n",
    "plt.legend(loc=\"best\")\n",
    "plt.show()"
   ]
  },
  {
   "cell_type": "markdown",
   "id": "544a83f0",
   "metadata": {},
   "source": [
    "We see that the hyperparameter value is very close for both the training and validation set from the above. Both curves are just starting to diverge. If we instead see the orange line going up and the blue line score retreating or declining, that should be a sign of overfitting. It is also not underfitting since we don't see both the curves either falling or with a\n",
    "low score.\n",
    "\n",
    "We see from the above that the variance of the model increases as C does, and the sweet spot is closer to 0 than the default we used. Meaning a value of C right around 0.2 should be ideal. The more the variance, the more the model overfits. However, the model is not overly overfitting so leaving it as is. One can set the value of C to 0.2 when retraining the model though."
   ]
  },
  {
   "cell_type": "code",
   "execution_count": null,
   "id": "61f2f9a8",
   "metadata": {},
   "outputs": [],
   "source": []
  },
  {
   "cell_type": "markdown",
   "id": "a6204b0a",
   "metadata": {},
   "source": [
    "Always good to check another hyperparameter to confirm we are not overfitting. Let us also try the 'estimator__max_iter' hyperparameters, which is maximum number of interations run across all classes. We could have written the previous plot code as a function and just pass the hyperparemeter as an argument. But i'd just copy and paste code below because i am lazy..."
   ]
  },
  {
   "cell_type": "code",
   "execution_count": 59,
   "id": "d94a3066",
   "metadata": {},
   "outputs": [
    {
     "data": {
      "image/png": "[encoded data removed]",
      "text/plain": [
       "<Figure size 864x576 with 1 Axes>"
      ]
     },
     "metadata": {
      "needs_background": "light"
     },
     "output_type": "display_data"
    }
   ],
   "source": [
    "# credit goes to https://scikit-learn.org/stable/modules/generated/sklearn.model_selection.validation_curve.html\\\n",
    "#sklearn.model_selection.validation_curve\n",
    "\n",
    "\n",
    "from sklearn.model_selection import validation_curve\n",
    "np.random.seed(0)\n",
    "\n",
    "X, y = vectorized_train_docu, train_labels\n",
    "param_range = np.linspace(0, 1000, num=50)\n",
    "train_scores, valid_scores = validation_curve(classifier, X, y, param_name='estimator__max_iter', param_range=param_range, cv=5,\n",
    "                                              scoring=\"accuracy\", n_jobs=-1)\n",
    "\n",
    "train_scores_mean = np.mean(train_scores, axis=1)\n",
    "train_scores_std = np.std(train_scores, axis=1)\n",
    "\n",
    "valid_scores_mean = np.mean(valid_scores, axis=1)\n",
    "valid_scores_std = np.std(valid_scores, axis=1)\n",
    "\n",
    "fig = matplotlib.pyplot.gcf()\n",
    "fig.set_size_inches(12, 8)\n",
    "\n",
    "plt.title(\"Validation Curve of the Classifier\")\n",
    "plt.xlabel(r\"Number of Interation\")\n",
    "plt.ylabel(\"Accuracy Score\")\n",
    "plt.ylim(0.0, 1.1)\n",
    "lw = 2\n",
    "plt.semilogx(param_range, train_scores_mean, label=\"Training score\",\n",
    " color=\"darkorange\", lw=lw)\n",
    "plt.fill_between(param_range, train_scores_mean - train_scores_std,\n",
    " train_scores_mean + train_scores_std, alpha=0.2,\n",
    " color=\"darkorange\", lw=lw)\n",
    "plt.semilogx(param_range, valid_scores_mean, label=\"Cross-validation score\",\n",
    " color=\"navy\", lw=lw)\n",
    "plt.fill_between(param_range, valid_scores_mean - valid_scores_std,\n",
    " valid_scores_mean + valid_scores_std, alpha=0.2,\n",
    " color=\"navy\", lw=lw)\n",
    "plt.legend(loc=\"best\")\n",
    "plt.show()"
   ]
  },
  {
   "cell_type": "markdown",
   "id": "bcfaef4a",
   "metadata": {},
   "source": [
    "The number of iterations also have constant variance, which means we should be ok. "
   ]
  },
  {
   "cell_type": "code",
   "execution_count": null,
   "id": "49d690ba",
   "metadata": {},
   "outputs": [],
   "source": []
  },
  {
   "cell_type": "code",
   "execution_count": null,
   "id": "74ceaff9",
   "metadata": {},
   "outputs": [],
   "source": []
  },
  {
   "cell_type": "markdown",
   "id": "3117df0d",
   "metadata": {},
   "source": [
    "**FINAL PREDICTION**"
   ]
  },
  {
   "cell_type": "markdown",
   "id": "0b4e59d9",
   "metadata": {},
   "source": [
    "Remember the \"unseen_list\" we isolated at the beginning of the analysis? That is the documents with missing topics. Let us now revisit it, run it through same preprocessing steps like we did with train and test sets and predict the labels for those."
   ]
  },
  {
   "cell_type": "code",
   "execution_count": 60,
   "id": "459c708b",
   "metadata": {},
   "outputs": [
    {
     "data": {
      "text/plain": [
       "[{'title': 'PACIFIC WESTERN FUSES MANAGEMENT WITH CP AIR',\n",
       "  'body': '<Pacific Western Airlines Corp> said it integrated the senior management of Pacific Western and recently acquired Canadian Pacific Air Lines Ltd in preparation for the companies\\' merger this summer. Pacific Western said it appointed president and chief executive Rhys Eaton as chairman and chief executive in the new management structure, and Murray Sigler as president. Sigler was previously president of Pacific Western\\'s airline unit, Pacific Western Airlines Ltd. Pacific Western acquired Canadian Pacific Air Lines for 300 mln dlrs last December from Canadian Pacific Ltd <CP>. Canadian Pacific Air Lines said president and chief executive Donald Carty and four senior vice-presidents resigned last week. Carty said in a company memorandum that he accepted another senior post in commercial aviation and that some of the vice-presidents were taking early retirment and others were resigning for personal reasons. Pacific Western said the new management structure \"will facilitate our objective of proceeding quickly to successfully position ourselves in the marketplace as a single airline network beginning this summer.\" Reuter ',\n",
       "  'topics': [],\n",
       "  'new_id': '564'},\n",
       " {'title': 'AMGEN <AMGN> TO FORM PARTNERSHIP',\n",
       "  'body': 'Amgen Inc said it signed a letter of intent for an estimated 75 mln dlr research and development limited partnership to fund the clinical investigation of certain pharmaceutical products currently under development. Neither terms of the arrangement nor the products covered by the partnership were disclosed, but Amgen said the limited partnership units will include warrants to purchase Amgen common stock. Reuter ',\n",
       "  'topics': [],\n",
       "  'new_id': '565'}]"
      ]
     },
     "execution_count": 60,
     "metadata": {},
     "output_type": "execute_result"
    }
   ],
   "source": [
    "#print the first three elements in the list for the out of sample dataset\n",
    "unseen_list[:2]"
   ]
  },
  {
   "cell_type": "code",
   "execution_count": null,
   "id": "25a79840",
   "metadata": {},
   "outputs": [],
   "source": []
  },
  {
   "cell_type": "markdown",
   "id": "3dc09b5e",
   "metadata": {},
   "source": [
    "**We extract the body tags in those documents**"
   ]
  },
  {
   "cell_type": "code",
   "execution_count": 61,
   "id": "de3f14f7",
   "metadata": {},
   "outputs": [
    {
     "data": {
      "text/plain": [
       "'<Pacific Western Airlines Corp> said it integrated the senior management of Pacific Western and recently acquired Canadian Pacific Air Lines Ltd in preparation for the companies\\' merger this summer. Pacific Western said it appointed president and chief executive Rhys Eaton as chairman and chief executive in the new management structure, and Murray Sigler as president. Sigler was previously president of Pacific Western\\'s airline unit, Pacific Western Airlines Ltd. Pacific Western acquired Canadian Pacific Air Lines for 300 mln dlrs last December from Canadian Pacific Ltd <CP>. Canadian Pacific Air Lines said president and chief executive Donald Carty and four senior vice-presidents resigned last week. Carty said in a company memorandum that he accepted another senior post in commercial aviation and that some of the vice-presidents were taking early retirment and others were resigning for personal reasons. Pacific Western said the new management structure \"will facilitate our objective of proceeding quickly to successfully position ourselves in the marketplace as a single airline network beginning this summer.\" Reuter '"
      ]
     },
     "execution_count": 61,
     "metadata": {},
     "output_type": "execute_result"
    }
   ],
   "source": [
    "data2 = [x['body'] for x in unseen_list]\n",
    "data2[0]"
   ]
  },
  {
   "cell_type": "code",
   "execution_count": null,
   "id": "7e5a1731",
   "metadata": {},
   "outputs": [],
   "source": []
  },
  {
   "cell_type": "markdown",
   "id": "3deadd63",
   "metadata": {},
   "source": [
    "**Clean the body text just like we did before**"
   ]
  },
  {
   "cell_type": "code",
   "execution_count": 62,
   "id": "1ec46b2c",
   "metadata": {},
   "outputs": [
    {
     "data": {
      "text/plain": [
       "' pacific western airlines corp said integrated senior management pacific western recently acquired canadian pacific air lines ltd preparation companies merger summer pacific western said appointed president chief executive rhys eaton chairman chief executive new management structure murray sigler president sigler previously president pacific western airline unit pacific western airlines ltd pacific western acquired canadian pacific air lines mln dlrs last december canadian pacific ltd cp canadian pacific air lines said president chief executive donald carty four senior vice presidents resigned last week carty said company memorandum accepted another senior post commercial aviation vice presidents taking early retirment others resigning personal reasons pacific western said new management structure will facilitate objective proceeding quickly successfully position marketplace single airline network beginning summer reuter '"
      ]
     },
     "execution_count": 62,
     "metadata": {},
     "output_type": "execute_result"
    }
   ],
   "source": [
    "X_unseen = [text_preproc(x) for x in data2]\n",
    "X_unseen[0]"
   ]
  },
  {
   "cell_type": "code",
   "execution_count": null,
   "id": "d7040815",
   "metadata": {},
   "outputs": [],
   "source": []
  },
  {
   "cell_type": "markdown",
   "id": "78a0b0b5",
   "metadata": {},
   "source": [
    "**Vectorize the unseen dataset**"
   ]
  },
  {
   "cell_type": "code",
   "execution_count": 63,
   "id": "5f18dcc3",
   "metadata": {},
   "outputs": [],
   "source": [
    "vectorized_unseen_docu = vectorizer.transform(X_unseen)"
   ]
  },
  {
   "cell_type": "code",
   "execution_count": 64,
   "id": "0f26cf3f",
   "metadata": {},
   "outputs": [
    {
     "data": {
      "text/plain": [
       "[['top_three_label'],\n",
       " ['top_three_label'],\n",
       " ['not_a_top_three_label'],\n",
       " ['not_a_top_three_label', 'top_three_label'],\n",
       " ['top_three_label']]"
      ]
     },
     "execution_count": 64,
     "metadata": {},
     "output_type": "execute_result"
    }
   ],
   "source": [
    "#prediction of labels for unseen data\n",
    "predictions = classifier.predict(vectorized_unseen_docu)\n",
    "\n",
    "#converting predictions back to actual labels and printing top 10\n",
    "labels_unseen = mlb.inverse_transform(predictions)\n",
    "labels_unseen =  [list(x) for x in labels_unseen] #converting the list of tuples to list of lists\n",
    "labels_unseen[:5]"
   ]
  },
  {
   "cell_type": "code",
   "execution_count": 65,
   "id": "e222ab46",
   "metadata": {},
   "outputs": [],
   "source": [
    "def merge(list1, list2):\n",
    "      \n",
    "    merged_list = [(list1[i], list2[i]) for i in range(0, len(list1))]\n",
    "    return merged_list"
   ]
  },
  {
   "cell_type": "code",
   "execution_count": 66,
   "id": "bc550f77",
   "metadata": {},
   "outputs": [],
   "source": [
    "new = merge(X_unseen, labels_unseen)\n",
    "old = merge(X_train, y_train)"
   ]
  },
  {
   "cell_type": "code",
   "execution_count": 67,
   "id": "e3ef0ec3",
   "metadata": {},
   "outputs": [
    {
     "data": {
      "text/plain": [
       "(586, 14765)"
      ]
     },
     "execution_count": 67,
     "metadata": {},
     "output_type": "execute_result"
    }
   ],
   "source": [
    "len(new), len(old)"
   ]
  },
  {
   "cell_type": "code",
   "execution_count": 68,
   "id": "ddb67f98",
   "metadata": {},
   "outputs": [
    {
     "data": {
      "text/plain": [
       "15351"
      ]
     },
     "execution_count": 68,
     "metadata": {},
     "output_type": "execute_result"
    }
   ],
   "source": [
    "new_old = old + new\n",
    "len(new_old)"
   ]
  },
  {
   "cell_type": "code",
   "execution_count": 69,
   "id": "dd979d0a",
   "metadata": {},
   "outputs": [],
   "source": [
    "res = list(zip(*new_old))\n",
    "X_train2, y_train2 = res"
   ]
  },
  {
   "cell_type": "code",
   "execution_count": 70,
   "id": "450e0650",
   "metadata": {},
   "outputs": [
    {
     "data": {
      "text/plain": [
       "(15351, 15351)"
      ]
     },
     "execution_count": 70,
     "metadata": {},
     "output_type": "execute_result"
    }
   ],
   "source": [
    "len(X_train2), len(y_train2)"
   ]
  },
  {
   "cell_type": "code",
   "execution_count": null,
   "id": "821cd9cd",
   "metadata": {},
   "outputs": [],
   "source": []
  },
  {
   "cell_type": "code",
   "execution_count": 71,
   "id": "fb3844d0",
   "metadata": {},
   "outputs": [],
   "source": [
    "#learn & transform\n",
    "vectorized_train_docu = vectorizer.fit_transform(X_train2)\n",
    "vectorized_test_docu = vectorizer.transform(X_test)\n",
    "\n",
    "train_labels = mlb.fit_transform(y_train2) \n",
    "test_labels = mlb.transform(y_test)\n",
    "\n",
    "classifier = classifier.fit(vectorized_train_docu, train_labels)\n",
    "\n",
    "#prediction and evaluation on the new merged labels\n",
    "accuracy, micro_precision, micro_recall, micro_f1, macro_precision, macro_recall, macro_f1 = pred_eval(classifier, \n",
    "                                                    vectorized_train_docu, train_labels, vectorized_test_docu, test_labels)\n",
    "\n",
    "#comparing the binary model with ;ast two models\n",
    "compare_df['model_with_added_example'] =  [accuracy, micro_precision, micro_recall, micro_f1, macro_precision, \n",
    "                                             macro_recall, macro_f1]           "
   ]
  },
  {
   "cell_type": "code",
   "execution_count": 72,
   "id": "a0dfdcc1",
   "metadata": {},
   "outputs": [
    {
     "data": {
      "text/html": [
       "<div>\n",
       "<style scoped>\n",
       "    .dataframe tbody tr th:only-of-type {\n",
       "        vertical-align: middle;\n",
       "    }\n",
       "\n",
       "    .dataframe tbody tr th {\n",
       "        vertical-align: top;\n",
       "    }\n",
       "\n",
       "    .dataframe thead th {\n",
       "        text-align: right;\n",
       "    }\n",
       "</style>\n",
       "<table border=\"1\" class=\"dataframe\">\n",
       "  <thead>\n",
       "    <tr style=\"text-align: right;\">\n",
       "      <th></th>\n",
       "      <th>benchmark</th>\n",
       "      <th>3_+ve_class</th>\n",
       "      <th>binary_model</th>\n",
       "      <th>model_with_added_example</th>\n",
       "    </tr>\n",
       "  </thead>\n",
       "  <tbody>\n",
       "    <tr>\n",
       "      <th>Accuracy</th>\n",
       "      <td>0.587674</td>\n",
       "      <td>0.823163</td>\n",
       "      <td>0.870843</td>\n",
       "      <td>0.871148</td>\n",
       "    </tr>\n",
       "    <tr>\n",
       "      <th>Micro_precision</th>\n",
       "      <td>0.842428</td>\n",
       "      <td>0.933212</td>\n",
       "      <td>0.958829</td>\n",
       "      <td>0.959450</td>\n",
       "    </tr>\n",
       "    <tr>\n",
       "      <th>Micro_recall</th>\n",
       "      <td>0.846628</td>\n",
       "      <td>0.927306</td>\n",
       "      <td>0.926614</td>\n",
       "      <td>0.925729</td>\n",
       "    </tr>\n",
       "    <tr>\n",
       "      <th>Micro_f1</th>\n",
       "      <td>0.844523</td>\n",
       "      <td>0.930249</td>\n",
       "      <td>0.942446</td>\n",
       "      <td>0.942288</td>\n",
       "    </tr>\n",
       "    <tr>\n",
       "      <th>Macro_precision</th>\n",
       "      <td>0.432634</td>\n",
       "      <td>0.905656</td>\n",
       "      <td>0.957391</td>\n",
       "      <td>0.957813</td>\n",
       "    </tr>\n",
       "    <tr>\n",
       "      <th>Macro_recall</th>\n",
       "      <td>0.369155</td>\n",
       "      <td>0.921369</td>\n",
       "      <td>0.923959</td>\n",
       "      <td>0.922816</td>\n",
       "    </tr>\n",
       "    <tr>\n",
       "      <th>Macro_f1</th>\n",
       "      <td>0.385330</td>\n",
       "      <td>0.912667</td>\n",
       "      <td>0.940361</td>\n",
       "      <td>0.939970</td>\n",
       "    </tr>\n",
       "  </tbody>\n",
       "</table>\n",
       "</div>"
      ],
      "text/plain": [
       "                 benchmark  3_+ve_class  binary_model  \\\n",
       "Accuracy          0.587674     0.823163      0.870843   \n",
       "Micro_precision   0.842428     0.933212      0.958829   \n",
       "Micro_recall      0.846628     0.927306      0.926614   \n",
       "Micro_f1          0.844523     0.930249      0.942446   \n",
       "Macro_precision   0.432634     0.905656      0.957391   \n",
       "Macro_recall      0.369155     0.921369      0.923959   \n",
       "Macro_f1          0.385330     0.912667      0.940361   \n",
       "\n",
       "                 model_with_added_example  \n",
       "Accuracy                         0.871148  \n",
       "Micro_precision                  0.959450  \n",
       "Micro_recall                     0.925729  \n",
       "Micro_f1                         0.942288  \n",
       "Macro_precision                  0.957813  \n",
       "Macro_recall                     0.922816  \n",
       "Macro_f1                         0.939970  "
      ]
     },
     "execution_count": 72,
     "metadata": {},
     "output_type": "execute_result"
    }
   ],
   "source": [
    "compare_df"
   ]
  },
  {
   "cell_type": "code",
   "execution_count": 73,
   "id": "010528df",
   "metadata": {},
   "outputs": [
    {
     "data": {
      "image/png": "[encoded data removed]",
      "text/plain": [
       "<Figure size 864x576 with 1 Axes>"
      ]
     },
     "metadata": {
      "needs_background": "light"
     },
     "output_type": "display_data"
    }
   ],
   "source": [
    "#plotting improvement in the model across all models\n",
    "plots(['benchmark', '3_+ve_class', 'binary_model', 'model_with_added_example'], 'Comparison across all four models')"
   ]
  },
  {
   "cell_type": "markdown",
   "id": "d7ba1ac7",
   "metadata": {},
   "source": [
    "Finally, I tried adding some examples I isolated at the start of the analysis to see if they’d improve the model when readded at the end. The above shows there is no noticeable difference. It looks like we’d need a sizeable additional training data to improve the model."
   ]
  },
  {
   "cell_type": "code",
   "execution_count": null,
   "id": "1fa1a361",
   "metadata": {},
   "outputs": [],
   "source": []
  },
  {
   "cell_type": "markdown",
   "id": "0e1a276e",
   "metadata": {},
   "source": [
    "TO BE CONTINUED\n",
    "\n",
    "- need to write function to join new trainind data and automatically classify out of sample dataset. function will be using \n",
    "some of the snippets i have above.\n",
    "- include a confusion matrix in the evaluation process\n",
    "- see the effect of reducing C to value of 0.2 or 0.3 or tuning for any other hyperparameters of the model\n",
    "- see if i can run the code on COLAB, Google AI Platform, Google NLP API, and Google AutoML\n",
    "- also check if i develop same model considering time and space complexity"
   ]
  },
  {
   "cell_type": "code",
   "execution_count": null,
   "id": "b71e041d",
   "metadata": {},
   "outputs": [],
   "source": []
  }
 ],
 "metadata": {
  "kernelspec": {
   "display_name": "Python 3",
   "language": "python",
   "name": "python3"
  },
  "language_info": {
   "codemirror_mode": {
    "name": "ipython",
    "version": 3
   },
   "file_extension": ".py",
   "mimetype": "text/x-python",
   "name": "python",
   "nbconvert_exporter": "python",
   "pygments_lexer": "ipython3",
   "version": "3.7.4"
  }
 },
 "nbformat": 4,
 "nbformat_minor": 5
}
